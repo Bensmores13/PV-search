{
 "cells": [
  {
   "cell_type": "markdown",
   "metadata": {},
   "source": [
    "# Ingest MODIS Land Cover Data"
   ]
  },
  {
   "cell_type": "markdown",
   "metadata": {},
   "source": [
    "This notebook will ingest MODIS land cover data onto the DL platform. The MODIS land cover dats product is released yearly at a maximum resolution of 500m. The product features five different land cover classification bands. They are quite similar - we'll use the first one, the _Annual International Geosphere-Biosphere Programme (IGBP) classification_. The data are available from a number of US government data services, see https://lpdaac.usgs.gov/products/mcd12q1v006/."
   ]
  },
  {
   "cell_type": "markdown",
   "metadata": {},
   "source": [
    "The land cover data is available in tiles that follow the MODIS Sinusoidal Grid, a special project system for MODIS products, see Figure. We'll need to use GDAL to convert the hdf tiles to GeoTiffs. The tiles will be downloaded from NASA's Earthdata, for which a registered account is required. A free account can be created [here](https://urs.earthdata.nasa.gov/home). User credentials should then be stored as a dict in json: `{username:<username>, password:<password>}`."
   ]
  },
  {
   "cell_type": "markdown",
   "metadata": {},
   "source": [
    "**Figure: MODIS Sinusoidal Grid**\n",
    "\n",
    "![img](MODIS_sinusoidal_grid1.gif)"
   ]
  },
  {
   "cell_type": "code",
   "execution_count": 6,
   "metadata": {},
   "outputs": [],
   "source": [
    "import logging, os, sys, json, requests, glob, pickle\n",
    "from requests.auth import HTTPBasicAuth\n",
    "\n",
    "import descarteslabs as dl\n",
    "from descarteslabs.catalog import Product\n",
    "from descarteslabs.catalog import Image as dl_Image\n",
    "from descarteslabs.catalog import ClassBand, DataType, Resolution, ResolutionUnit\n",
    "from bs4 import BeautifulSoup"
   ]
  },
  {
   "cell_type": "markdown",
   "metadata": {},
   "source": [
    "### Approach\n",
    "**Fetch the Data**\n",
    "- Create and store login credentials\n",
    "- For each year of the land cover product:\n",
    "  - Parse the website and extract the hdf files\n",
    "  - Retrieve the hdf files\n",
    "  \n",
    "**Push to DL**\n",
    "- Create the DL product and land cover band\n",
    "- Convert the hdf files to GeoTiff\n",
    "- Upload the GeoTiffs to the DL product"
   ]
  },
  {
   "cell_type": "code",
   "execution_count": 3,
   "metadata": {},
   "outputs": [],
   "source": [
    "params = {}\n",
    "params['modis_path'] = '/home/jovyan/solar-pv-global-inventory/data/MODIS'  # path to the geodatabase\n",
    "params['credentials_path'] = os.path.join(params['modis_path'], 'earthdata.cred')\n",
    "params['product_params'] = {'_id':'modis-land-cover',\n",
    "                            'name':'MODIS land cover product for uploaded MODIS land cover tiles'}\n",
    "params['year'] = '2014'\n",
    "params['band_params'] = {'name':'IGBP_class',\n",
    "                         'data_range':(0,255),\n",
    "                         'display_range':(0,20),\n",
    "                         'resolution':500, \n",
    "                         'index':0}"
   ]
  },
  {
   "cell_type": "markdown",
   "metadata": {},
   "source": [
    "### Download the Data"
   ]
  },
  {
   "cell_type": "code",
   "execution_count": null,
   "metadata": {},
   "outputs": [],
   "source": [
    "credentials = json.load(open(params['credentials_path'],'r'))"
   ]
  },
  {
   "cell_type": "code",
   "execution_count": null,
   "metadata": {},
   "outputs": [],
   "source": [
    "def get_url_paths(url, ext='', params={}):\n",
    "    response = requests.get(url, params=params)\n",
    "    if response.ok:\n",
    "        response_text = response.text\n",
    "    else:\n",
    "        return response.raise_for_status()\n",
    "    soup = BeautifulSoup(response_text, 'html.parser')\n",
    "    parent = [url + node.get('href') for node in soup.find_all('a') if node.get('href').endswith(ext)]\n",
    "    return parent"
   ]
  },
  {
   "cell_type": "code",
   "execution_count": null,
   "metadata": {},
   "outputs": [],
   "source": [
    "url = 'https://e4ftl01.cr.usgs.gov/MOTA/MCD12Q1.006/'+params['year']+'.01.01/'\n",
    "ext = 'hdf'"
   ]
  },
  {
   "cell_type": "code",
   "execution_count": null,
   "metadata": {},
   "outputs": [],
   "source": [
    "hdf_urls = get_url_paths(url, ext)"
   ]
  },
  {
   "cell_type": "code",
   "execution_count": null,
   "metadata": {},
   "outputs": [],
   "source": [
    "print (len(hdf_urls), hdf_urls[0])"
   ]
  },
  {
   "cell_type": "code",
   "execution_count": null,
   "metadata": {},
   "outputs": [],
   "source": [
    "with open(os.path.join(params['modis_path'], 'list.txt'),'w') as f:\n",
    "    f.write('\\n'.join(hdf_urls))"
   ]
  },
  {
   "cell_type": "code",
   "execution_count": null,
   "metadata": {},
   "outputs": [],
   "source": [
    "!wget --user={credentials[\"username\"]} --password={credentials[\"password\"]} -i {os.path.join(params['modis_path'],'list.txt')} -P {params['modis_path']+'/tmp'} -q "
   ]
  },
  {
   "cell_type": "markdown",
   "metadata": {},
   "source": [
    "### Get Class Labels"
   ]
  },
  {
   "cell_type": "code",
   "execution_count": 4,
   "metadata": {},
   "outputs": [],
   "source": [
    "class_labels = {\n",
    "    1 : 'Evergreen Needleleaf Forests: dominated by evergreen conifer trees (canopy >2m). Tree cover >60%.',\n",
    "    2 : 'Evergreen Broadleaf Forests: dominated by evergreen broadleaf and palmate trees (canopy >2m). Tree cover >60%.',\n",
    "    3 : 'Deciduous Needleleaf Forests: dominated by deciduous needleleaf (larch) trees (canopy >2m). Tree cover >60%.',\n",
    "    4 : 'Deciduous Broadleaf Forests: dominated by deciduous broadleaf trees (canopy >2m). Tree cover >60%.',\n",
    "    5 : 'Mixed Forests: dominated by neither deciduous nor evergreen (40-60% of each) tree type (canopy >2m). Tree cover >60%.',\n",
    "    6 : 'Closed Shrublands: dominated by woody perennials (1-2m height) >60% cover.',\n",
    "    7 : 'Open Shrublands: dominated by woody perennials (1-2m height) 10-60% cover.',\n",
    "    8 : 'Woody Savannas: tree cover 30-60% (canopy >2m).',\n",
    "    9 : 'Savannas: tree cover 10-30% (canopy >2m).',\n",
    "    10: 'Grasslands: dominated by herbaceous annuals (<2m).',\n",
    "    11: 'Permanent Wetlands: permanently inundated lands with 30-60% water cover and >10% vegetated cover.',\n",
    "    12: 'Croplands: at least 60% of area is cultivated cropland.',\n",
    "    13: 'Urban and Built-up Lands: at least 30% impervious surface area including building materials, asphalt and vehicles.',\n",
    "    14: 'Cropland/Natural Vegetation Mosaics: mosaics of small-scale cultivation 40-60% with natural tree, shrub, or herbaceous vegetation.',\n",
    "    15: 'Permanent Snow and Ice: at least 60% of area is covered by snow and ice for at least 10 months of the year.',\n",
    "    16: 'Barren: at least 60% of area is non-vegetated barren (sand, rock, soil) areas with less than 10% vegetation.',\n",
    "    17: 'Water Bodies: at least 60% of area is covered by permanent water bodies.',\n",
    "}"
   ]
  },
  {
   "cell_type": "code",
   "execution_count": 7,
   "metadata": {},
   "outputs": [],
   "source": [
    "pickle.dump(class_labels, open('./class_labels_MODIS.pkl','wb'))"
   ]
  },
  {
   "cell_type": "code",
   "execution_count": null,
   "metadata": {},
   "outputs": [],
   "source": [
    "class_labels = [': '.join([str(kk),vv.split(':')[0]]) for kk,vv in class_labels.items()]"
   ]
  },
  {
   "cell_type": "code",
   "execution_count": null,
   "metadata": {},
   "outputs": [],
   "source": [
    "class_labels"
   ]
  },
  {
   "cell_type": "markdown",
   "metadata": {},
   "source": [
    "### Convert MODIS to GeoTiff"
   ]
  },
  {
   "cell_type": "code",
   "execution_count": null,
   "metadata": {},
   "outputs": [],
   "source": [
    "hdf_files = glob.glob(params['modis_path']+'/tmp'+'/*.hdf')"
   ]
  },
  {
   "cell_type": "code",
   "execution_count": null,
   "metadata": {},
   "outputs": [],
   "source": [
    "print (len(hdf_files), hdf_files[0])"
   ]
  },
  {
   "cell_type": "code",
   "execution_count": null,
   "metadata": {},
   "outputs": [],
   "source": [
    "for f in hdf_files:\n",
    "    fname = f.split('/')[-1]\n",
    "    \n",
    "    #gdal_translate HDF4_EOS:EOS_GRID:\"MCD12Q1.A2018001.h22v04.006.2019200003144.hdf\":MCD12Q1:LC_Type1 test.ti\n",
    "    tifname = f.split('/')[-1].split('.')[2]+'.tif'\n",
    "    subprocess.call(['gdal_translate',\n",
    "                     'HDF4_EOS:EOS_GRID:\"{}\":MCD12Q1:LC_Type1'.format(f),\n",
    "                     os.path.join(params['modis_path'],params['year'],tifname)])"
   ]
  },
  {
   "cell_type": "markdown",
   "metadata": {},
   "source": [
    "### Prep DL Product and Bands"
   ]
  },
  {
   "cell_type": "code",
   "execution_count": null,
   "metadata": {},
   "outputs": [],
   "source": [
    "product = Product.get('oxford-university:modis-land-cover')#(params['product_params']['_id'])"
   ]
  },
  {
   "cell_type": "code",
   "execution_count": null,
   "metadata": {},
   "outputs": [],
   "source": [
    "if not product:\n",
    "    product = Product(id=params['product_params']['_id'], \n",
    "                      name=params['product_params']['name'])\n",
    "    product.save()"
   ]
  },
  {
   "cell_type": "code",
   "execution_count": null,
   "metadata": {},
   "outputs": [],
   "source": [
    "bands = [bb for bb in product.bands().limit(2)]"
   ]
  },
  {
   "cell_type": "code",
   "execution_count": null,
   "metadata": {},
   "outputs": [],
   "source": [
    "if not bands:\n",
    "    band = ClassBand(name=params['band_params']['name'], product=product)\n",
    "    band.data_type = DataType.BYTE\n",
    "    band.data_range = params['band_params']['data_range']\n",
    "    band.display_range = params['band_params']['display_range']\n",
    "    band.resolution = Resolution(unit=ResolutionUnit.METERS, value=params['band_params']['resolution'])\n",
    "    band.band_index = params['band_params']['index']\n",
    "    band.class_labels = class_labels\n",
    "    band.save()"
   ]
  },
  {
   "cell_type": "code",
   "execution_count": null,
   "metadata": {},
   "outputs": [],
   "source": [
    "### delete the product if it needs to be remade\n",
    "# status = product.delete_related_objects()"
   ]
  },
  {
   "cell_type": "code",
   "execution_count": null,
   "metadata": {},
   "outputs": [],
   "source": [
    "# status"
   ]
  },
  {
   "cell_type": "code",
   "execution_count": null,
   "metadata": {},
   "outputs": [],
   "source": [
    "# product.delete()"
   ]
  },
  {
   "cell_type": "code",
   "execution_count": null,
   "metadata": {},
   "outputs": [],
   "source": [
    "### add readers\n",
    "# product.readers = [\"email:kyle@descarteslabs.com\", \"email:krishna@descarteslabs.com\", \"email:jeremy@descarteslabs.com\"]\n",
    "# product.save()"
   ]
  },
  {
   "cell_type": "markdown",
   "metadata": {},
   "source": [
    "### Upload Images"
   ]
  },
  {
   "cell_type": "code",
   "execution_count": null,
   "metadata": {},
   "outputs": [],
   "source": [
    "image_files = glob.glob(os.path.join(params['modis_path'],params['year'],'*.tif'))"
   ]
  },
  {
   "cell_type": "code",
   "execution_count": null,
   "metadata": {},
   "outputs": [],
   "source": [
    "print (len(image_files), image_files[0])"
   ]
  },
  {
   "cell_type": "code",
   "execution_count": null,
   "metadata": {},
   "outputs": [],
   "source": [
    "uploads = []\n",
    "for f in image_files:\n",
    "    image = dl_Image(product=product, name=params['year']+'.'+f.split('/')[-1])\n",
    "    image.acquired = params['year']+\"-01-01\"\n",
    "    image_path = f\n",
    "    uploads.append(image.upload(image_path))"
   ]
  },
  {
   "cell_type": "code",
   "execution_count": null,
   "metadata": {},
   "outputs": [],
   "source": [
    "for u in uploads:\n",
    "    print (u.status)"
   ]
  }
 ],
 "metadata": {
  "kernelspec": {
   "display_name": "Python 3",
   "language": "python",
   "name": "python3"
  },
  "language_info": {
   "codemirror_mode": {
    "name": "ipython",
    "version": 3
   },
   "file_extension": ".py",
   "mimetype": "text/x-python",
   "name": "python",
   "nbconvert_exporter": "python",
   "pygments_lexer": "ipython3",
   "version": "3.7.6"
  }
 },
 "nbformat": 4,
 "nbformat_minor": 4
}
