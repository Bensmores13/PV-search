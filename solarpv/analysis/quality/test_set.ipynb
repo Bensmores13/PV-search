{
 "cells": [
  {
   "cell_type": "code",
   "execution_count": 1,
   "metadata": {},
   "outputs": [],
   "source": [
    "import os, sys"
   ]
  },
  {
   "cell_type": "code",
   "execution_count": 2,
   "metadata": {},
   "outputs": [],
   "source": [
    "root = os.path.abspath(os.path.join(os.getcwd(),'..','..','..'))\n",
    "sys.path.append(root)"
   ]
  },
  {
   "cell_type": "markdown",
   "metadata": {},
   "source": [
    "# Building a test set"
   ]
  },
  {
   "cell_type": "markdown",
   "metadata": {},
   "source": [
    "- want to try a few different sampling patterns\n",
    "- rand deploy-area, pop-dens, actual, (NTLs?)\n",
    "- 2km tiles - 10k tiles for rand-area, 10k pop-dens, 15k actual at various gauss kernels"
   ]
  },
  {
   "cell_type": "code",
   "execution_count": 3,
   "metadata": {},
   "outputs": [],
   "source": [
    "import rasterio\n",
    "from rasterio import features"
   ]
  },
  {
   "cell_type": "code",
   "execution_count": 4,
   "metadata": {},
   "outputs": [],
   "source": [
    "import geopandas as gpd\n",
    "from shapely import geometry"
   ]
  },
  {
   "cell_type": "code",
   "execution_count": 5,
   "metadata": {},
   "outputs": [],
   "source": [
    "import json\n",
    "import numpy as np"
   ]
  },
  {
   "cell_type": "code",
   "execution_count": 6,
   "metadata": {},
   "outputs": [],
   "source": [
    "import matplotlib.pyplot as plt"
   ]
  },
  {
   "cell_type": "code",
   "execution_count": 7,
   "metadata": {},
   "outputs": [],
   "source": [
    "import pandas as pd"
   ]
  },
  {
   "cell_type": "code",
   "execution_count": null,
   "metadata": {},
   "outputs": [],
   "source": [
    "## so, for each concept, get the np array / image of the deployment area, then generate a few 1000 tiles, then hand-label object-level recall"
   ]
  },
  {
   "cell_type": "markdown",
   "metadata": {},
   "source": [
    "### pop-dens - get shape and transform"
   ]
  },
  {
   "cell_type": "code",
   "execution_count": null,
   "metadata": {},
   "outputs": [],
   "source": [
    "with rasterio.open(os.path.join(root,'data','GHSL','GHS_POP_E2015_GLOBE_R2019A_4326_30ss_V1_0.tif'),'r') as rst:\n",
    "    transform = rst.transform\n",
    "    crs = rst.crs\n",
    "    shp = rst.shape\n",
    "    #popdens_arr = rst.read([1])"
   ]
  },
  {
   "cell_type": "code",
   "execution_count": null,
   "metadata": {},
   "outputs": [],
   "source": [
    "popdens_arr.shape"
   ]
  },
  {
   "cell_type": "code",
   "execution_count": null,
   "metadata": {},
   "outputs": [],
   "source": [
    "shp"
   ]
  },
  {
   "cell_type": "code",
   "execution_count": null,
   "metadata": {},
   "outputs": [],
   "source": [
    "crs"
   ]
  },
  {
   "cell_type": "markdown",
   "metadata": {},
   "source": [
    "### use Softmax"
   ]
  },
  {
   "cell_type": "code",
   "execution_count": null,
   "metadata": {},
   "outputs": [],
   "source": [
    "def softmax(x):\n",
    "    \"\"\"Compute softmax values for each sets of scores in x.\"\"\"\n",
    "    e_x = np.exp(x - np.max(x))\n",
    "    return e_x / e_x.sum(axis=0) # only difference"
   ]
  },
  {
   "cell_type": "markdown",
   "metadata": {},
   "source": [
    "#### random demo"
   ]
  },
  {
   "cell_type": "code",
   "execution_count": null,
   "metadata": {},
   "outputs": [],
   "source": [
    "a = np.zeros((10,10))\n",
    "for _ in range(10):\n",
    "    coords = (np.random.rand(2)*10).astype(int).tolist()\n",
    "    a[coords[0],coords[1]] = 1"
   ]
  },
  {
   "cell_type": "code",
   "execution_count": null,
   "metadata": {},
   "outputs": [],
   "source": [
    "coords = list(zip(*np.where(a)))"
   ]
  },
  {
   "cell_type": "code",
   "execution_count": null,
   "metadata": {},
   "outputs": [],
   "source": [
    "a[np.where(a)]"
   ]
  },
  {
   "cell_type": "code",
   "execution_count": null,
   "metadata": {},
   "outputs": [],
   "source": [
    "# get the coords\n",
    "\n",
    "# get the softmax values\n",
    "\n",
    "# do the random choice"
   ]
  },
  {
   "cell_type": "code",
   "execution_count": null,
   "metadata": {},
   "outputs": [],
   "source": [
    "P = softmax(np.arange(20))"
   ]
  },
  {
   "cell_type": "code",
   "execution_count": null,
   "metadata": {},
   "outputs": [],
   "source": [
    "np.random.choice(20,5,replace=False, p=P) # from 20, choose 5"
   ]
  },
  {
   "cell_type": "markdown",
   "metadata": {},
   "source": [
    "### deployment area - uniform sample"
   ]
  },
  {
   "cell_type": "code",
   "execution_count": null,
   "metadata": {},
   "outputs": [],
   "source": [
    "ne = gpd.read_file(os.path.join(root,'data','ne_10m_countries.gpkg'))\n",
    "popshp = gpd.read_file(os.path.join(root,'data','popshp_gt1_d7k.geojson'))\n",
    "dnr = gpd.read_file(os.path.join(root,'data','do_not_run.geojson'))\n",
    "dnr_mp = dnr.unary_union\n",
    "popshp = popshp[~popshp.geometry.isna()]\n",
    "# clip Russia\n",
    "RU = ne.loc[ne['ISO_A2']=='RU','geometry']\n",
    "RU_clip = geometry.Polygon([[-180,60],[-180,89],[180,89],[180,60]])\n",
    "RU_elim = RU.geometry.intersection(RU_clip)\n",
    "RU_elim = RU_elim.geometry.unary_union\n",
    "#clip North America\n",
    "NA_poly = geometry.Polygon([[-169,60],[-169,89],[-30,89],[-30,60]])\n",
    "# clip all geometries\n",
    "popshp.geometry = popshp.geometry.apply(lambda geom: geom.difference(dnr_mp))\n",
    "popshp.geometry = popshp.geometry.apply(lambda geom: geom.difference(NA_poly))\n",
    "popshp.geometry = popshp.geometry.apply(lambda geom: geom.difference(RU_elim))\n",
    "popshp = popshp[~popshp.geometry.is_empty]"
   ]
  },
  {
   "cell_type": "code",
   "execution_count": null,
   "metadata": {},
   "outputs": [],
   "source": [
    "popshp_features = json.loads(popshp.to_json())"
   ]
  },
  {
   "cell_type": "code",
   "execution_count": null,
   "metadata": {},
   "outputs": [],
   "source": [
    "len(popshp_features['features'])"
   ]
  },
  {
   "cell_type": "code",
   "execution_count": null,
   "metadata": {},
   "outputs": [],
   "source": [
    "geoms = [ft['geometry'] for ft in popshp_features['features']]"
   ]
  },
  {
   "cell_type": "code",
   "execution_count": null,
   "metadata": {},
   "outputs": [],
   "source": [
    "popshp_arr = features.rasterize(\n",
    "        geoms,\n",
    "        out_shape=shp,\n",
    "        transform=transform,\n",
    "        all_touched=False)"
   ]
  },
  {
   "cell_type": "code",
   "execution_count": null,
   "metadata": {},
   "outputs": [],
   "source": [
    "fig, ax = plt.subplots(1,1,figsize=(16,8))\n",
    "ax.imshow(popshp_arr)\n",
    "ax.axis('off')\n",
    "fig.savefig(os.path.join(root,'data','test_data','deployarea_uniform_density.png'))\n",
    "plt.show()"
   ]
  },
  {
   "cell_type": "code",
   "execution_count": null,
   "metadata": {},
   "outputs": [],
   "source": [
    "coords = np.where(popshp_arr>0)"
   ]
  },
  {
   "cell_type": "code",
   "execution_count": null,
   "metadata": {},
   "outputs": [],
   "source": [
    "popshp_arr[coords[0][0],coords[1][0]]"
   ]
  },
  {
   "cell_type": "code",
   "execution_count": null,
   "metadata": {},
   "outputs": [],
   "source": [
    "vals = popshp_arr[np.where(popshp_arr>0)]"
   ]
  },
  {
   "cell_type": "code",
   "execution_count": null,
   "metadata": {},
   "outputs": [],
   "source": [
    "vals = softmax(vals)"
   ]
  },
  {
   "cell_type": "code",
   "execution_count": null,
   "metadata": {},
   "outputs": [],
   "source": [
    "select_idx = np.random.choice(len(coords[0]),11000,replace=False) # from 20, choose 5"
   ]
  },
  {
   "cell_type": "code",
   "execution_count": null,
   "metadata": {},
   "outputs": [],
   "source": [
    "x,y = rasterio.transform.xy(transform, coords[0][select_idx], coords[1][select_idx], offset='center')\n",
    "x = np.array(x)\n",
    "y = np.array(y)"
   ]
  },
  {
   "cell_type": "code",
   "execution_count": null,
   "metadata": {},
   "outputs": [],
   "source": [
    "# jitter by +- 30arcsec\n",
    "x = x+np.random.rand(x.shape[0])*30/360 - 15/360\n",
    "y = y+np.random.rand(y.shape[0])*30/360 - 15/360"
   ]
  },
  {
   "cell_type": "code",
   "execution_count": null,
   "metadata": {},
   "outputs": [],
   "source": [
    "### check that they're far away enough from the cv tiles\n",
    "from shapely import ops"
   ]
  },
  {
   "cell_type": "code",
   "execution_count": null,
   "metadata": {},
   "outputs": [],
   "source": [
    "from solarpv.utils import V_inv"
   ]
  },
  {
   "cell_type": "code",
   "execution_count": null,
   "metadata": {},
   "outputs": [],
   "source": [
    "cv_tiles = gpd.read_file(os.path.join(root,'data','cv_all_tiles.geojson'))\n",
    "trn_tiles = gpd.read_file(os.path.join(root,'data','all_trn_dltiles.geojson'))"
   ]
  },
  {
   "cell_type": "code",
   "execution_count": null,
   "metadata": {},
   "outputs": [],
   "source": [
    "all_tiles = cv_tiles.append(trn_tiles)"
   ]
  },
  {
   "cell_type": "code",
   "execution_count": null,
   "metadata": {},
   "outputs": [],
   "source": [
    "all_tiles['x'] = all_tiles['geometry'].centroid.x\n",
    "all_tiles['y'] = all_tiles['geometry'].centroid.y"
   ]
  },
  {
   "cell_type": "code",
   "execution_count": null,
   "metadata": {},
   "outputs": [],
   "source": [
    "def _too_close(x,y):\n",
    "    all_tiles['ll_dist'] = np.sqrt((all_tiles['x']-x)**2 + (all_tiles['y']-y)**2)\n",
    "    idxmin = all_tiles['ll_dist'].idxmin()\n",
    "    dist,_,_ = V_inv((y,x), (all_tiles.iloc[idxmin]['y'], all_tiles.iloc[idxmin]['x'])) # dist in km\n",
    "    return dist<4."
   ]
  },
  {
   "cell_type": "code",
   "execution_count": null,
   "metadata": {},
   "outputs": [],
   "source": [
    "new_pts = pd.DataFrame(np.stack([x,y]).T, columns=['x','y'])"
   ]
  },
  {
   "cell_type": "code",
   "execution_count": null,
   "metadata": {},
   "outputs": [],
   "source": [
    "new_pts['too_close'] = new_pts.apply(lambda row: _too_close(row['x'],row['y']), axis=1)"
   ]
  },
  {
   "cell_type": "code",
   "execution_count": null,
   "metadata": {},
   "outputs": [],
   "source": [
    "new_pts['too_close'].sum()"
   ]
  },
  {
   "cell_type": "code",
   "execution_count": null,
   "metadata": {},
   "outputs": [],
   "source": [
    "new_pts = new_pts[new_pts['too_close']==False].iloc[0:10000]"
   ]
  },
  {
   "cell_type": "code",
   "execution_count": null,
   "metadata": {},
   "outputs": [],
   "source": [
    "fig, ax = plt.subplots(1,1,figsize=(16,8))\n",
    "ax.scatter(new_pts['x'],new_pts['y'])\n",
    "ax.axis('off')\n",
    "fig.savefig(os.path.join(root,'data','test_data','deployarea_uniform_pts.png'))\n",
    "plt.show()"
   ]
  },
  {
   "cell_type": "code",
   "execution_count": null,
   "metadata": {},
   "outputs": [],
   "source": [
    "new_pts['geometry'] = new_pts.apply(lambda row: geometry.Point(row['x'],row['y']), axis=1)"
   ]
  },
  {
   "cell_type": "code",
   "execution_count": null,
   "metadata": {},
   "outputs": [],
   "source": [
    "new_pts = gpd.GeoDataFrame(new_pts, geometry='geometry')"
   ]
  },
  {
   "cell_type": "code",
   "execution_count": null,
   "metadata": {},
   "outputs": [],
   "source": [
    "mp = new_pts.unary_union"
   ]
  },
  {
   "cell_type": "code",
   "execution_count": null,
   "metadata": {},
   "outputs": [],
   "source": [
    "import descarteslabs as dl"
   ]
  },
  {
   "cell_type": "code",
   "execution_count": null,
   "metadata": {},
   "outputs": [],
   "source": [
    "rc = dl.Raster()"
   ]
  },
  {
   "cell_type": "code",
   "execution_count": null,
   "metadata": {},
   "outputs": [],
   "source": [
    "tile_fc = rc.dltiles_from_shape(resolution=10, tilesize=200, pad=0, shape=mp)"
   ]
  },
  {
   "cell_type": "code",
   "execution_count": null,
   "metadata": {},
   "outputs": [],
   "source": [
    "json.dump(tile_fc, open(os.path.join(root,'data','test_data','deployarea_uniform_tiles_10k.geojson'),'w'))"
   ]
  },
  {
   "cell_type": "code",
   "execution_count": null,
   "metadata": {},
   "outputs": [],
   "source": [
    "tile_gdf = gpd.read_file(os.path.join(root,'data','test_data','deployarea_uniform_tiles_10k.geojson'))"
   ]
  },
  {
   "cell_type": "code",
   "execution_count": null,
   "metadata": {},
   "outputs": [],
   "source": [
    "tile_gdf.iloc[0:5000].to_file(os.path.join(root,'data','test_data','deployarea_uniform_tiles_5kA.shp'))\n",
    "tile_gdf.iloc[5000:].to_file(os.path.join(root,'data','test_data','deployarea_uniform_tiles_5kB.shp'))"
   ]
  },
  {
   "cell_type": "markdown",
   "metadata": {},
   "source": [
    "### Sample using pop-dens"
   ]
  },
  {
   "cell_type": "code",
   "execution_count": 8,
   "metadata": {},
   "outputs": [],
   "source": [
    "from scipy.ndimage import gaussian_filter\n",
    "from skimage.measure import block_reduce"
   ]
  },
  {
   "cell_type": "code",
   "execution_count": 9,
   "metadata": {},
   "outputs": [],
   "source": [
    "with rasterio.open(os.path.join(root,'data','GHSL','GHS_POP_E2015_GLOBE_R2019A_4326_30ss_V1_0.tif'),'r') as rst:\n",
    "    transform = rst.transform\n",
    "    crs = rst.crs\n",
    "    shp = rst.shape\n",
    "    popdens_arr = rst.read([1])"
   ]
  },
  {
   "cell_type": "code",
   "execution_count": 10,
   "metadata": {},
   "outputs": [],
   "source": [
    "popdens_arr = np.squeeze(popdens_arr)"
   ]
  },
  {
   "cell_type": "code",
   "execution_count": null,
   "metadata": {},
   "outputs": [],
   "source": [
    "popdens_arr = gaussian_filter(popdens_arr, sigma=7/3)"
   ]
  },
  {
   "cell_type": "code",
   "execution_count": null,
   "metadata": {},
   "outputs": [],
   "source": [
    "popdens_arr = block_reduce(popdens_arr,(12,12),np.mean)"
   ]
  },
  {
   "cell_type": "code",
   "execution_count": null,
   "metadata": {},
   "outputs": [],
   "source": [
    "fig, ax = plt.subplots(1,1,figsize=(32,16))\n",
    "ax.imshow(block_reduce(popdens_arr,(4,4),np.mean), vmax=10000)\n",
    "ax.axis('off')\n",
    "fig.savefig(os.path.join(root,'data','test_data','popdens_density_sigma_0.png'))\n",
    "plt.show()"
   ]
  },
  {
   "cell_type": "code",
   "execution_count": null,
   "metadata": {},
   "outputs": [],
   "source": [
    "popdens_arr = gaussian_filter(popdens_arr, sigma=7/3)"
   ]
  }
 ],
 "metadata": {
  "kernelspec": {
   "display_name": "Python 3",
   "language": "python",
   "name": "python3"
  },
  "language_info": {
   "codemirror_mode": {
    "name": "ipython",
    "version": 3
   },
   "file_extension": ".py",
   "mimetype": "text/x-python",
   "name": "python",
   "nbconvert_exporter": "python",
   "pygments_lexer": "ipython3",
   "version": "3.8.5"
  }
 },
 "nbformat": 4,
 "nbformat_minor": 4
}
