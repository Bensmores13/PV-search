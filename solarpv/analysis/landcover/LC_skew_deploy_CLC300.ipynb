{
 "cells": [
  {
   "cell_type": "code",
   "execution_count": 4,
   "metadata": {},
   "outputs": [],
   "source": [
    "import os, sys\n",
    "import numpy as np\n",
    "from skimage.measure import block_reduce\n",
    "import matplotlib.pyplot as plt\n",
    "from shapely import geometry\n",
    "import geopandas as gpd\n",
    "gpd.options.use_pygeos=False\n",
    "\n",
    "import descarteslabs as dl"
   ]
  },
  {
   "cell_type": "code",
   "execution_count": 34,
   "metadata": {},
   "outputs": [],
   "source": [
    "import pandas as pd"
   ]
  },
  {
   "cell_type": "code",
   "execution_count": 5,
   "metadata": {},
   "outputs": [],
   "source": [
    "from area import area\n",
    "import pickle, json"
   ]
  },
  {
   "cell_type": "code",
   "execution_count": 6,
   "metadata": {},
   "outputs": [],
   "source": [
    "root = '/home/lucas/repos/solar-pv-global-inventory'"
   ]
  },
  {
   "cell_type": "markdown",
   "metadata": {},
   "source": [
    "### Load Data"
   ]
  },
  {
   "cell_type": "code",
   "execution_count": null,
   "metadata": {},
   "outputs": [],
   "source": [
    "a = np.load(os.path.join(root,'data','land_cover_arr.npz'))"
   ]
  },
  {
   "cell_type": "code",
   "execution_count": null,
   "metadata": {},
   "outputs": [],
   "source": [
    "arr = block_reduce(a['arr'], (5,5,1), np.sum)"
   ]
  },
  {
   "cell_type": "code",
   "execution_count": null,
   "metadata": {},
   "outputs": [],
   "source": [
    "arr.shape"
   ]
  },
  {
   "cell_type": "code",
   "execution_count": null,
   "metadata": {},
   "outputs": [],
   "source": [
    "draw_arr = np.argmax(block_reduce(a['arr'], (5,5,1), np.sum), axis=-1).astype(float)\n",
    "\n",
    "mask = block_reduce(a['arr'], (5,5,1), np.sum).sum(axis=-1)==0"
   ]
  },
  {
   "cell_type": "code",
   "execution_count": null,
   "metadata": {},
   "outputs": [],
   "source": [
    "fig, ax = plt.subplots(1,1,figsize=(18,9))\n",
    "#ax.imshow(mask.T, origin='lower')\n",
    "ax.imshow(draw_arr.T, origin='lower')"
   ]
  },
  {
   "cell_type": "code",
   "execution_count": null,
   "metadata": {},
   "outputs": [],
   "source": [
    "x,y = np.where(mask==0)"
   ]
  },
  {
   "cell_type": "code",
   "execution_count": null,
   "metadata": {},
   "outputs": [],
   "source": [
    "def px2ll(pix_x, pix_y):\n",
    "    lon = (pix_x-360)/2.\n",
    "    lat = (pix_y-180)/2.\n",
    "    return lon, lat\n",
    "\n",
    "def px2bbox(pix_x, pix_y):\n",
    "    lon,lat = px2ll(pix_x, pix_y)\n",
    "    return geometry.box(lon, lat, lon+0.5, lat+0.5)"
   ]
  },
  {
   "cell_type": "code",
   "execution_count": null,
   "metadata": {},
   "outputs": [],
   "source": [
    "coords = list(zip(x,y))"
   ]
  },
  {
   "cell_type": "code",
   "execution_count": null,
   "metadata": {},
   "outputs": [],
   "source": [
    "px_x, px_y = coords[5]"
   ]
  },
  {
   "cell_type": "code",
   "execution_count": null,
   "metadata": {},
   "outputs": [],
   "source": [
    "_geom = px2bbox(px_x, px_y)"
   ]
  },
  {
   "cell_type": "code",
   "execution_count": 23,
   "metadata": {},
   "outputs": [],
   "source": [
    "ne = gpd.read_file(os.path.join(root,'data','ne_10m_countries.gpkg'))"
   ]
  },
  {
   "cell_type": "code",
   "execution_count": 24,
   "metadata": {},
   "outputs": [],
   "source": [
    "ne = ne[~ne.geometry.isna()]"
   ]
  },
  {
   "cell_type": "code",
   "execution_count": null,
   "metadata": {},
   "outputs": [],
   "source": [
    "corine_countries = ['AL', 'AT', 'BE', 'BA', 'BG', 'HR', 'CY', 'CZ', 'DK', 'EE', 'FI', 'FR', 'DE', 'GR', 'HU', 'IS', 'IE', 'IT', 'XK', 'LV', 'LI', 'LT', 'LU', 'MK', 'MT', 'ME', 'NL', 'NO', 'PL', 'PT', 'RO', 'RS', 'SK', 'SI', 'ES', 'SE', 'CH', 'TR', 'GB']"
   ]
  },
  {
   "cell_type": "code",
   "execution_count": null,
   "metadata": {},
   "outputs": [],
   "source": [
    "for ii,(pix_x, pix_y) in enumerate(coords):\n",
    "    _geom = px2bbox(pix_x, pix_y)\n",
    "    aa = area(geometry.mapping(_geom))\n",
    "    isostr = ne.loc[ne.intersects(_geom),'ISO_A2'].values[0]\n",
    "    if isostr=='US':\n",
    "        prodstr='CDL'\n",
    "    elif isostr in corine_countries:\n",
    "        prodstr='CORINE'\n",
    "    else:\n",
    "        prodstr='MODIS'\n",
    "    print (ii,np.sqrt(aa)/10, aa/100, isostr, prodstr)"
   ]
  },
  {
   "cell_type": "code",
   "execution_count": null,
   "metadata": {},
   "outputs": [],
   "source": [
    "storage_client = dl.Storage()"
   ]
  },
  {
   "cell_type": "code",
   "execution_count": null,
   "metadata": {},
   "outputs": [],
   "source": [
    "os.path.abspath(os.path.join(os.getcwd(),'..','..','..','clc_legend.json'))"
   ]
  },
  {
   "cell_type": "code",
   "execution_count": null,
   "metadata": {},
   "outputs": [],
   "source": [
    "jj = json.load(open(os.path.abspath(os.path.join(os.getcwd(),'..','..','..','clc_legend.json')),'r'))"
   ]
  },
  {
   "cell_type": "code",
   "execution_count": null,
   "metadata": {},
   "outputs": [],
   "source": [
    "storage_client.set('CLC_300',json.dumps(jj))"
   ]
  },
  {
   "cell_type": "markdown",
   "metadata": {},
   "source": [
    "### Cloud reduce landcover"
   ]
  },
  {
   "cell_type": "code",
   "execution_count": null,
   "metadata": {},
   "outputs": [],
   "source": [
    "import matplotlib.pyplot as plt"
   ]
  },
  {
   "cell_type": "code",
   "execution_count": null,
   "metadata": {},
   "outputs": [],
   "source": [
    "def cloud_ll_lc(_geom,prodstr, lonlat):\n",
    "    \n",
    "    import json\n",
    "    \n",
    "    import descarteslabs as dl\n",
    "    \n",
    "    from shapely import geometry\n",
    "    import numpy as np\n",
    "    \n",
    "    raster_client = dl.Raster()\n",
    "    metadata_client = dl.Metadata()\n",
    "    storage_client = dl.Storage()\n",
    "    \n",
    "    \n",
    "    \n",
    "    def reduce_tile(tile,prodstr):\n",
    "    \n",
    "        #['#ed8540', '#2f9149','#b6eb7f','#d000ff','cyan','b']) # cropland, forest, grassland, developed, wetlands, barren/other\n",
    "\n",
    "\n",
    "        scenes_lc = metadata_client.search(products['CLC']['name'], \n",
    "                                                    geom=tile['geometry'], \n",
    "                                                    start_datetime=products['CLC']['sdate'],  \n",
    "                                                    end_datetime=products['CLC']['edate'])\n",
    "        \n",
    "        scenes_ai = metadata_client.search(products['AI']['name'], \n",
    "                                                    geom=tile['geometry'], \n",
    "                                                    start_datetime='1990-01-01',  \n",
    "                                                    end_datetime='2019-01-03')\n",
    "        \n",
    "        print (f'len scenes_lc: {len(scenes_lc[\"features\"])}, len scenes_ai: {len(scenes_ai[\"features\"])}')\n",
    "\n",
    "\n",
    "        if len(scenes_lc['features'])<1:\n",
    "            res_dict = {kk:0 for kk in ind_dict.keys()}\n",
    "            res_dict['all']=0\n",
    "        else:\n",
    "\n",
    "            arr_lc, meta = raster_client.ndarray(scenes_lc['features'][0].id, \n",
    "                                              bands=products['CLC']['bands'], \n",
    "                                              scales=[[0,255]], \n",
    "                                              ot='Byte', \n",
    "                                              dltile=tile['properties']['key'])\n",
    "            \n",
    "            arr_ai, meta = raster_client.stack([s.id for s in scenes_ai['features']], \n",
    "                                              bands=products['AI']['bands'], \n",
    "                                              scales=[[0,1]], \n",
    "                                              ot='Byte', \n",
    "                                              dltile=tile['properties']['key'])\n",
    "            \n",
    "            \n",
    "            desert_mask = np.squeeze(arr_ai.mean(axis=0))\n",
    "            print('mask',desert_mask)\n",
    "            desert_mask = desert_mask / 255\n",
    "            \n",
    "            print (geometry.shape(tile['geometry']).representative_point())\n",
    "            \n",
    "            desert_mask = (desert_mask>=0.05) & (desert_mask<0.2)\n",
    "            \n",
    "            #print ('mask', desert_mask)\n",
    "            \n",
    "            \"\"\"\n",
    "            fig, axs = plt.subplots(1,2,figsize=(8,4))\n",
    "            axs[0].imshow(arr_lc, vmin=0, vmax=255)\n",
    "            axs[1].imshow(desert_mask, vmin=0, vmax=1)\n",
    "            plt.show()\n",
    "            \"\"\"\n",
    "\n",
    "            res_dict = {}\n",
    "\n",
    "            for ii_k, kk in enumerate(class_labels.keys()):\n",
    "                res_dict[kk]=np.isin(arr_lc[~desert_mask],int(kk)).sum()\n",
    "                res_dict[kk+'_arid']=np.isin(arr_lc[desert_mask],int(kk)).sum()\n",
    "\n",
    "            res_dict['all'] = arr_lc.shape[0]*arr_lc.shape[1]\n",
    "        print (res_dict)\n",
    "\n",
    "        return res_dict\n",
    "    \n",
    "    ll_geom = geometry.shape(_geom)\n",
    "    class_labels = json.loads(storage_client.get('CLC_300'))\n",
    "    \n",
    "    products = {'CLC':{\n",
    "                    'name':'oxfordeo:clc_300m_landcover',\n",
    "                    'bands':['discrete_classification'],\n",
    "                    'sdate':'2006-12-29',\n",
    "                    'edate':'2007-01-03',\n",
    "                    'resolution':300,\n",
    "                    'tilesize':50\n",
    "               },\n",
    "               'AI':{\n",
    "                   'name':'oxford-university:era5_aridity',\n",
    "                    'bands':['ai'],\n",
    "                    'sdate':'2006-12-29',\n",
    "                    'edate':'2007-01-03',\n",
    "                    'resolution':300,\n",
    "                    'tilesize':50\n",
    "               }\n",
    "              \n",
    "              \n",
    "              }\n",
    "    \n",
    "                \n",
    "    tiles = raster_client.dltiles_from_shape(products['CLC']['resolution'], \n",
    "                                             products['CLC']['tilesize'], \n",
    "                                             0, \n",
    "                                             ll_geom)\n",
    "    \n",
    "    print (f'len tiles: {len(tiles[\"features\"])}')\n",
    "    \n",
    "    tile_res = {}\n",
    "    for tile in tiles['features']:\n",
    "        tile_res[tile['properties']['key']] = reduce_tile(tile,prodstr)\n",
    "        \n",
    "    reduction = {}\n",
    "    for kk in class_labels.keys():\n",
    "        reduction[kk] = int(np.nansum([tile_res[kk2][kk] for kk2 in tile_res.keys()]))\n",
    "        reduction[kk+'_arid'] = int(np.nansum([tile_res[kk2][kk+'_arid'] for kk2 in tile_res.keys()]))\n",
    "        \n",
    "    print ('RESULT:',reduction)\n",
    "        \n",
    "    result = {'pixx':lonlat,'reduction':reduction}\n",
    "        \n",
    "    return result"
   ]
  },
  {
   "cell_type": "code",
   "execution_count": null,
   "metadata": {},
   "outputs": [],
   "source": [
    "cloud_ll_lc(_geom,None, None)"
   ]
  },
  {
   "cell_type": "code",
   "execution_count": null,
   "metadata": {},
   "outputs": [],
   "source": []
  },
  {
   "cell_type": "code",
   "execution_count": 7,
   "metadata": {},
   "outputs": [],
   "source": [
    "tasks = dl.Tasks()"
   ]
  },
  {
   "cell_type": "code",
   "execution_count": null,
   "metadata": {},
   "outputs": [],
   "source": [
    "storage = dl.Storage()"
   ]
  },
  {
   "cell_type": "code",
   "execution_count": null,
   "metadata": {},
   "outputs": [],
   "source": [
    "fn = tasks.create_function(\n",
    "            cloud_ll_lc,\n",
    "            image='us.gcr.io/dl-ci-cd/images/tasks/public/py3.7:v1.1.1',\n",
    "            name='ll_landcover_v6',\n",
    "            requirements=[],\n",
    "            maximum_concurrency=60,\n",
    "            memory='3.5Gi',\n",
    "            retry_count=0,\n",
    "            task_timeout=10800,\n",
    "            )"
   ]
  },
  {
   "cell_type": "markdown",
   "metadata": {},
   "source": [
    "### Deploy"
   ]
  },
  {
   "cell_type": "code",
   "execution_count": null,
   "metadata": {},
   "outputs": [],
   "source": [
    "for ii,(pix_x, pix_y) in enumerate(coords):\n",
    "    _geom = px2bbox(pix_x, pix_y)\n",
    "    aa = area(geometry.mapping(_geom))\n",
    "    fn(geometry.mapping(_geom),None,(float(pix_x),float(pix_y)))\n",
    "    print (ii,np.sqrt(aa)/10, aa/100, 'N/A', 'N/A')\n"
   ]
  },
  {
   "cell_type": "markdown",
   "metadata": {},
   "source": [
    "### Collect"
   ]
  },
  {
   "cell_type": "code",
   "execution_count": null,
   "metadata": {},
   "outputs": [],
   "source": [
    "group = tasks.get_group('25292ad3')"
   ]
  },
  {
   "cell_type": "code",
   "execution_count": null,
   "metadata": {},
   "outputs": [],
   "source": [
    "tasks.rerun_failed_tasks('25292ad3')"
   ]
  },
  {
   "cell_type": "code",
   "execution_count": 5,
   "metadata": {},
   "outputs": [
    {
     "name": "stdout",
     "output_type": "stream",
     "text": [
      "0\n",
      "1\n",
      "2\n",
      "3\n",
      "4\n"
     ]
    }
   ],
   "source": [
    "q = tasks.get_task_results('25292ad3',limit=1000, include=['result_url'])\n",
    "token=q['continuation_token']\n",
    "urls = q['results']\n",
    "counter = 0\n",
    "\n",
    "while token:\n",
    "    print (counter)\n",
    "    counter+=1\n",
    "    q = tasks.get_task_results('25292ad3',limit=1000, include=['result_url'], continuation_token=token)\n",
    "    token=q['continuation_token']\n",
    "    urls +=q['results']"
   ]
  },
  {
   "cell_type": "code",
   "execution_count": 6,
   "metadata": {},
   "outputs": [
    {
     "data": {
      "text/plain": [
       "5628"
      ]
     },
     "execution_count": 6,
     "metadata": {},
     "output_type": "execute_result"
    }
   ],
   "source": [
    "len(urls)"
   ]
  },
  {
   "cell_type": "code",
   "execution_count": 7,
   "metadata": {},
   "outputs": [],
   "source": [
    "import requests"
   ]
  },
  {
   "cell_type": "code",
   "execution_count": 26,
   "metadata": {},
   "outputs": [],
   "source": [
    "def mp_rejoin(ii,urls):\n",
    "    results = []\n",
    "    for ii_u, url in enumerate(urls):\n",
    "        if ii_u %100==0:\n",
    "            print (f'Logging: {ii}, {ii_u}')\n",
    "        try:\n",
    "            r = requests.get(url)\n",
    "            results.append(json.loads(r.text))\n",
    "        except Exception as e:\n",
    "            print ('ERROR!',e)\n",
    "            \n",
    "    return results"
   ]
  },
  {
   "cell_type": "code",
   "execution_count": 27,
   "metadata": {},
   "outputs": [],
   "source": [
    "pool_size=4\n",
    "chunk = len(urls)//pool_size +1\n",
    "all_urls = [r['result_url'] for r in urls]\n",
    "urls_reshape = [all_urls[ii*chunk:(ii+1)*chunk] for ii in range(pool_size)]"
   ]
  },
  {
   "cell_type": "code",
   "execution_count": 28,
   "metadata": {},
   "outputs": [],
   "source": [
    "import multiprocessing as mp"
   ]
  },
  {
   "cell_type": "code",
   "execution_count": 29,
   "metadata": {
    "scrolled": true
   },
   "outputs": [
    {
     "name": "stdout",
     "output_type": "stream",
     "text": [
      "Logging: 1, 0Logging: 3, 0Logging: 0, 0Logging: 2, 0\n",
      "\n",
      "\n",
      "\n"
     ]
    }
   ],
   "source": [
    "pool = mp.Pool(pool_size)"
   ]
  },
  {
   "cell_type": "code",
   "execution_count": null,
   "metadata": {},
   "outputs": [],
   "source": [
    "a"
   ]
  },
  {
   "cell_type": "code",
   "execution_count": 30,
   "metadata": {},
   "outputs": [],
   "source": [
    "all_results = pool.starmap(mp_rejoin, list(zip(range(pool_size), urls_reshape)))"
   ]
  },
  {
   "cell_type": "code",
   "execution_count": 31,
   "metadata": {},
   "outputs": [
    {
     "name": "stdout",
     "output_type": "stream",
     "text": [
      "61\n",
      "61\n",
      "61\n",
      "57\n"
     ]
    }
   ],
   "source": [
    "new_results = []\n",
    "for bunch in all_results:\n",
    "    print (len(bunch))\n",
    "    new_results +=bunch"
   ]
  },
  {
   "cell_type": "code",
   "execution_count": 14,
   "metadata": {},
   "outputs": [],
   "source": [
    "import pandas as pd"
   ]
  },
  {
   "cell_type": "code",
   "execution_count": 15,
   "metadata": {},
   "outputs": [],
   "source": [
    "df = pd.DataFrame.from_dict({tuple(r['pixx']):r['reduction'] for r in new_results}).T"
   ]
  },
  {
   "cell_type": "code",
   "execution_count": 16,
   "metadata": {},
   "outputs": [],
   "source": [
    "df.to_csv(os.path.join(root,'data','LC300_latlonpix.csv'))"
   ]
  },
  {
   "cell_type": "code",
   "execution_count": 21,
   "metadata": {},
   "outputs": [
    {
     "data": {
      "text/plain": [
       "113.0  258.0    35629\n",
       "358.0  281.0     8557\n",
       "113.0  267.0    27728\n",
       "16.0   152.0    12508\n",
       "113.0  269.0    34577\n",
       "                ...  \n",
       "692.0  136.0    37463\n",
       "117.0  252.0    34081\n",
       "114.0  260.0    36387\n",
       "112.0  263.0    47143\n",
       "114.0  256.0    20893\n",
       "Length: 5628, dtype: int64"
      ]
     },
     "execution_count": 21,
     "metadata": {},
     "output_type": "execute_result"
    }
   ],
   "source": [
    "df.sum(axis=1)"
   ]
  },
  {
   "cell_type": "markdown",
   "metadata": {},
   "source": [
    "### prototype skew"
   ]
  },
  {
   "cell_type": "code",
   "execution_count": null,
   "metadata": {},
   "outputs": [],
   "source": [
    "x,y = np.where(mask==0)"
   ]
  },
  {
   "cell_type": "code",
   "execution_count": null,
   "metadata": {},
   "outputs": [],
   "source": [
    "records = {}\n",
    "for pix_x, pix_y in list(zip(x,y)):\n",
    "    records[(pix_x,pix_y)]= dict(zip(['cropland', 'forestshrub', 'grassy', 'human','wetlands', 'barren','other'],arr[pix_x,pix_y,:].tolist()))"
   ]
  },
  {
   "cell_type": "code",
   "execution_count": null,
   "metadata": {},
   "outputs": [],
   "source": [
    "df_arr = pd.DataFrame.from_dict(records).T"
   ]
  },
  {
   "cell_type": "code",
   "execution_count": null,
   "metadata": {},
   "outputs": [],
   "source": [
    "(df_arr.sum(axis=1)>10000).sum()"
   ]
  },
  {
   "cell_type": "code",
   "execution_count": null,
   "metadata": {},
   "outputs": [],
   "source": [
    "total_pv = df_arr.drop(columns=['other']).sum().sum()"
   ]
  },
  {
   "cell_type": "code",
   "execution_count": null,
   "metadata": {},
   "outputs": [],
   "source": [
    "df_arr.drop(columns=['other']).sum()/total_pv"
   ]
  },
  {
   "cell_type": "code",
   "execution_count": null,
   "metadata": {},
   "outputs": [],
   "source": [
    "df_arr.to_csv(os.path.join(root,'data','landcover_pvpix.csv'))"
   ]
  },
  {
   "cell_type": "code",
   "execution_count": null,
   "metadata": {},
   "outputs": [],
   "source": [
    "df = df.reset_index().rename(columns={'level_0':'pix_x','level_1':'pix_y'})\n",
    "df.pix_x = df.pix_x.astype(int)\n",
    "df.pix_y = df.pix_y.astype(int)"
   ]
  },
  {
   "cell_type": "code",
   "execution_count": null,
   "metadata": {},
   "outputs": [],
   "source": [
    "df = df.set_index(['pix_x','pix_y'])"
   ]
  },
  {
   "cell_type": "code",
   "execution_count": null,
   "metadata": {},
   "outputs": [],
   "source": [
    "df = df.drop(columns=['all'])"
   ]
  },
  {
   "cell_type": "code",
   "execution_count": null,
   "metadata": {},
   "outputs": [],
   "source": [
    "total_lc = df.drop(columns=['other']).sum().sum()"
   ]
  },
  {
   "cell_type": "code",
   "execution_count": null,
   "metadata": {},
   "outputs": [],
   "source": [
    "df.drop(columns=['other']).sum()/total_lc"
   ]
  },
  {
   "cell_type": "code",
   "execution_count": null,
   "metadata": {},
   "outputs": [],
   "source": [
    "# skewing away from cropland, forest, dev't; toward barren, wetlands, grassy"
   ]
  },
  {
   "cell_type": "markdown",
   "metadata": {},
   "source": [
    "### Do landcover for all countries"
   ]
  },
  {
   "cell_type": "code",
   "execution_count": 1,
   "metadata": {},
   "outputs": [],
   "source": [
    "def cloud_country_lc(prodstr, iso2):\n",
    "    \n",
    "    import json\n",
    "    \n",
    "    import descarteslabs as dl\n",
    "    \n",
    "    from shapely import geometry\n",
    "    import numpy as np\n",
    "    \n",
    "    raster_client = dl.Raster()\n",
    "    metadata_client = dl.Metadata()\n",
    "    storage_client = dl.Storage()\n",
    "    \n",
    "    _geom = geometry.shape(json.loads(storage_client.get('ne_'+iso2)))\n",
    "    \n",
    "    \n",
    "    \n",
    "    \n",
    "    def reduce_tile(tile,prodstr):\n",
    "    \n",
    "        scenes_lc = metadata_client.search(products['CLC']['name'], \n",
    "                                                    geom=tile['geometry'], \n",
    "                                                    start_datetime=products['CLC']['sdate'],  \n",
    "                                                    end_datetime=products['CLC']['edate'])\n",
    "        \n",
    "        scenes_ai = metadata_client.search(products['AI']['name'], \n",
    "                                                    geom=tile['geometry'], \n",
    "                                                    start_datetime='1990-01-01',  \n",
    "                                                    end_datetime='2019-01-03')\n",
    "        \n",
    "        print (f'len scenes_lc: {len(scenes_lc[\"features\"])}, len scenes_ai: {len(scenes_ai[\"features\"])}')\n",
    "\n",
    "\n",
    "        if len(scenes_lc['features'])<1:\n",
    "            res_dict = {kk:0 for kk in ind_dict.keys()}\n",
    "            res_dict['all']=0\n",
    "        else:\n",
    "\n",
    "            arr_lc, meta = raster_client.ndarray(scenes_lc['features'][0].id, \n",
    "                                              bands=products['CLC']['bands'], \n",
    "                                              scales=[[0,255]], \n",
    "                                              ot='Byte', \n",
    "                                              dltile=tile['properties']['key'])\n",
    "            \n",
    "            arr_ai, meta = raster_client.stack([s.id for s in scenes_ai['features']], \n",
    "                                              bands=products['AI']['bands'], \n",
    "                                              scales=[[0,1]], \n",
    "                                              ot='Byte', \n",
    "                                              dltile=tile['properties']['key'])\n",
    "            \n",
    "            \n",
    "            desert_mask = np.squeeze(arr_ai.mean(axis=0))\n",
    "            print('mask',desert_mask)\n",
    "            desert_mask = desert_mask / 255\n",
    "            \n",
    "            print (geometry.shape(tile['geometry']).representative_point())\n",
    "            \n",
    "            desert_mask = (desert_mask>=0.05) & (desert_mask<0.2)\n",
    "            \n",
    "            #print ('mask', desert_mask)\n",
    "            \n",
    "            \"\"\"\n",
    "            fig, axs = plt.subplots(1,2,figsize=(8,4))\n",
    "            axs[0].imshow(arr_lc, vmin=0, vmax=255)\n",
    "            axs[1].imshow(desert_mask, vmin=0, vmax=1)\n",
    "            plt.show()\n",
    "            \"\"\"\n",
    "\n",
    "            res_dict = {}\n",
    "\n",
    "            for ii_k, kk in enumerate(class_labels.keys()):\n",
    "                res_dict[kk]=np.isin(arr_lc[~desert_mask],int(kk)).sum()\n",
    "                res_dict[kk+'_arid']=np.isin(arr_lc[desert_mask],int(kk)).sum()\n",
    "\n",
    "            res_dict['all'] = arr_lc.shape[0]*arr_lc.shape[1]\n",
    "        print (res_dict)\n",
    "\n",
    "        return res_dict\n",
    "    \n",
    "    ll_geom = geometry.shape(_geom)\n",
    "    class_labels = json.loads(storage_client.get('CLC_300'))\n",
    "    \n",
    "    products = {'CLC':{\n",
    "                    'name':'oxfordeo:clc_300m_landcover',\n",
    "                    'bands':['discrete_classification'],\n",
    "                    'sdate':'2006-12-29',\n",
    "                    'edate':'2007-01-03',\n",
    "                    'resolution':300,\n",
    "                    'tilesize':500\n",
    "               },\n",
    "               'AI':{\n",
    "                   'name':'oxford-university:era5_aridity',\n",
    "                    'bands':['ai'],\n",
    "                    'sdate':'2006-12-29',\n",
    "                    'edate':'2007-01-03',\n",
    "                    'resolution':300,\n",
    "                    'tilesize':500\n",
    "               }\n",
    "              \n",
    "              \n",
    "              }\n",
    "    \n",
    "                \n",
    "    tiles = raster_client.dltiles_from_shape(products['CLC']['resolution'], \n",
    "                                             products['CLC']['tilesize'], \n",
    "                                             0, \n",
    "                                             ll_geom)\n",
    "    \n",
    "    print (f'len tiles: {len(tiles[\"features\"])}')\n",
    "    \n",
    "    tile_res = {}\n",
    "    for tile in tiles['features']:\n",
    "        tile_res[tile['properties']['key']] = reduce_tile(tile,prodstr)\n",
    "        \n",
    "    reduction = {}\n",
    "    for kk in class_labels.keys():\n",
    "        reduction[kk] = int(np.nansum([tile_res[kk2][kk] for kk2 in tile_res.keys()]))\n",
    "        reduction[kk+'_arid'] = int(np.nansum([tile_res[kk2][kk+'_arid'] for kk2 in tile_res.keys()]))\n",
    "        \n",
    "    print ('RESULT:',reduction)\n",
    "        \n",
    "    result = {'iso2':iso2,'reduction':reduction}\n",
    "        \n",
    "    return result"
   ]
  },
  {
   "cell_type": "code",
   "execution_count": 8,
   "metadata": {},
   "outputs": [],
   "source": [
    "fn = tasks.create_function(\n",
    "            cloud_country_lc,\n",
    "            image='us.gcr.io/dl-ci-cd/images/tasks/public/py3.7:v1.1.1',\n",
    "            name='country_landcover_v6',\n",
    "            requirements=[],\n",
    "            maximum_concurrency=50,\n",
    "            memory='7.0Gi',\n",
    "            retry_count=0,\n",
    "            task_timeout=21600,\n",
    "            )"
   ]
  },
  {
   "cell_type": "code",
   "execution_count": null,
   "metadata": {},
   "outputs": [],
   "source": [
    "fn  = tasks.get_function('country_landcover_v4')"
   ]
  },
  {
   "cell_type": "markdown",
   "metadata": {},
   "source": [
    "#### test on GB"
   ]
  },
  {
   "cell_type": "code",
   "execution_count": 29,
   "metadata": {},
   "outputs": [
    {
     "data": {
      "text/plain": [
       "Task\n",
       "\tStatus: Pending"
      ]
     },
     "execution_count": 29,
     "metadata": {},
     "output_type": "execute_result"
    }
   ],
   "source": [
    "fn('n/a','GB')"
   ]
  },
  {
   "cell_type": "code",
   "execution_count": 26,
   "metadata": {},
   "outputs": [
    {
     "data": {
      "text/html": [
       "<div>\n",
       "<style scoped>\n",
       "    .dataframe tbody tr th:only-of-type {\n",
       "        vertical-align: middle;\n",
       "    }\n",
       "\n",
       "    .dataframe tbody tr th {\n",
       "        vertical-align: top;\n",
       "    }\n",
       "\n",
       "    .dataframe thead th {\n",
       "        text-align: right;\n",
       "    }\n",
       "</style>\n",
       "<table border=\"1\" class=\"dataframe\">\n",
       "  <thead>\n",
       "    <tr style=\"text-align: right;\">\n",
       "      <th></th>\n",
       "      <th>index</th>\n",
       "      <th>featurecla</th>\n",
       "      <th>scalerank</th>\n",
       "      <th>LABELRANK</th>\n",
       "      <th>SOVEREIGNT</th>\n",
       "      <th>SOV_A3</th>\n",
       "      <th>ADM0_DIF</th>\n",
       "      <th>LEVEL</th>\n",
       "      <th>TYPE</th>\n",
       "      <th>ADMIN</th>\n",
       "      <th>...</th>\n",
       "      <th>NAME_KO</th>\n",
       "      <th>NAME_NL</th>\n",
       "      <th>NAME_PL</th>\n",
       "      <th>NAME_PT</th>\n",
       "      <th>NAME_RU</th>\n",
       "      <th>NAME_SV</th>\n",
       "      <th>NAME_TR</th>\n",
       "      <th>NAME_VI</th>\n",
       "      <th>NAME_ZH</th>\n",
       "      <th>geometry</th>\n",
       "    </tr>\n",
       "  </thead>\n",
       "  <tbody>\n",
       "    <tr>\n",
       "      <th>79</th>\n",
       "      <td>79</td>\n",
       "      <td>Admin-0 country</td>\n",
       "      <td>0.0</td>\n",
       "      <td>2.0</td>\n",
       "      <td>United Kingdom</td>\n",
       "      <td>GB1</td>\n",
       "      <td>1.0</td>\n",
       "      <td>2.0</td>\n",
       "      <td>Country</td>\n",
       "      <td>United Kingdom</td>\n",
       "      <td>...</td>\n",
       "      <td>영국</td>\n",
       "      <td>Verenigd Koninkrijk</td>\n",
       "      <td>Wielka Brytania</td>\n",
       "      <td>Reino Unido</td>\n",
       "      <td>Великобритания</td>\n",
       "      <td>Storbritannien</td>\n",
       "      <td>Birleşik Krallık</td>\n",
       "      <td>Vương quốc Liên hiệp Anh và Bắc Ireland</td>\n",
       "      <td>英国</td>\n",
       "      <td>MULTIPOLYGON (((-7.24710 55.06932, -7.25674 55...</td>\n",
       "    </tr>\n",
       "  </tbody>\n",
       "</table>\n",
       "<p>1 rows × 96 columns</p>\n",
       "</div>"
      ],
      "text/plain": [
       "   index       featurecla  scalerank  LABELRANK      SOVEREIGNT SOV_A3  \\\n",
       "79    79  Admin-0 country        0.0        2.0  United Kingdom    GB1   \n",
       "\n",
       "    ADM0_DIF  LEVEL     TYPE           ADMIN  ... NAME_KO  \\\n",
       "79       1.0    2.0  Country  United Kingdom  ...      영국   \n",
       "\n",
       "                NAME_NL          NAME_PL      NAME_PT         NAME_RU  \\\n",
       "79  Verenigd Koninkrijk  Wielka Brytania  Reino Unido  Великобритания   \n",
       "\n",
       "           NAME_SV           NAME_TR                                  NAME_VI  \\\n",
       "79  Storbritannien  Birleşik Krallık  Vương quốc Liên hiệp Anh và Bắc Ireland   \n",
       "\n",
       "   NAME_ZH                                           geometry  \n",
       "79      英国  MULTIPOLYGON (((-7.24710 55.06932, -7.25674 55...  \n",
       "\n",
       "[1 rows x 96 columns]"
      ]
     },
     "execution_count": 26,
     "metadata": {},
     "output_type": "execute_result"
    }
   ],
   "source": [
    "ne.loc[ne['ISO_A2']=='GB']"
   ]
  },
  {
   "cell_type": "code",
   "execution_count": null,
   "metadata": {},
   "outputs": [],
   "source": [
    "ne.groupby('ISO_A2').size().sort_values()"
   ]
  },
  {
   "cell_type": "code",
   "execution_count": null,
   "metadata": {},
   "outputs": [],
   "source": []
  },
  {
   "cell_type": "code",
   "execution_count": null,
   "metadata": {},
   "outputs": [],
   "source": []
  },
  {
   "cell_type": "code",
   "execution_count": null,
   "metadata": {},
   "outputs": [],
   "source": [
    "_geom = ne.loc[ne.ISO_A2=='FR'].geometry.unary_union"
   ]
  },
  {
   "cell_type": "code",
   "execution_count": 27,
   "metadata": {
    "collapsed": true,
    "jupyter": {
     "outputs_hidden": true
    }
   },
   "outputs": [
    {
     "name": "stdout",
     "output_type": "stream",
     "text": [
      "len tiles: 1453\n",
      "len scenes_lc: 1, len scenes_ai: 28\n",
      "mask [[0. 0. 0. ... 0. 0. 0.]\n",
      " [0. 0. 0. ... 0. 0. 0.]\n",
      " [0. 0. 0. ... 0. 0. 0.]\n",
      " ...\n",
      " [0. 0. 0. ... 0. 0. 0.]\n",
      " [0. 0. 0. ... 0. 0. 0.]\n",
      " [0. 0. 0. ... 0. 0. 0.]]\n",
      "POINT (-13.62043186915798 57.57732649390562)\n",
      "{'0': 0, '0_arid': 0, '10': 0, '10_arid': 0, '11': 0, '11_arid': 0, '12': 0, '12_arid': 0, '20': 0, '20_arid': 0, '30': 0, '30_arid': 0, '40': 0, '40_arid': 0, '50': 0, '50_arid': 0, '60': 0, '60_arid': 0, '61': 0, '61_arid': 0, '62': 0, '62_arid': 0, '70': 0, '70_arid': 0, '71': 0, '71_arid': 0, '72': 0, '72_arid': 0, '80': 0, '80_arid': 0, '81': 0, '81_arid': 0, '82': 0, '82_arid': 0, '90': 0, '90_arid': 0, '100': 0, '100_arid': 0, '110': 0, '110_arid': 0, '120': 0, '120_arid': 0, '121': 0, '121_arid': 0, '122': 0, '122_arid': 0, '130': 0, '130_arid': 0, '140': 0, '140_arid': 0, '150': 0, '150_arid': 0, '151': 0, '151_arid': 0, '152': 0, '152_arid': 0, '153': 0, '153_arid': 0, '160': 0, '160_arid': 0, '170': 0, '170_arid': 0, '180': 0, '180_arid': 0, '190': 0, '190_arid': 0, '200': 0, '200_arid': 0, '201': 0, '201_arid': 0, '202': 0, '202_arid': 0, '210': 0, '210_arid': 0, '220': 0, '220_arid': 0, 'all': 2500}\n",
      "len scenes_lc: 1, len scenes_ai: 28\n",
      "mask [[0. 0. 0. ... 0. 0. 0.]\n",
      " [0. 0. 0. ... 0. 0. 0.]\n",
      " [0. 0. 0. ... 0. 0. 0.]\n",
      " ...\n",
      " [0. 0. 0. ... 0. 0. 0.]\n",
      " [0. 0. 0. ... 0. 0. 0.]\n",
      " [0. 0. 0. ... 0. 0. 0.]]\n",
      "POINT (-8.62088972976132 57.8537674221087)\n",
      "{'0': 0, '0_arid': 0, '10': 0, '10_arid': 0, '11': 10, '11_arid': 0, '12': 0, '12_arid': 0, '20': 0, '20_arid': 0, '30': 0, '30_arid': 0, '40': 0, '40_arid': 0, '50': 0, '50_arid': 0, '60': 0, '60_arid': 0, '61': 0, '61_arid': 0, '62': 0, '62_arid': 0, '70': 0, '70_arid': 0, '71': 0, '71_arid': 0, '72': 0, '72_arid': 0, '80': 0, '80_arid': 0, '81': 0, '81_arid': 0, '82': 0, '82_arid': 0, '90': 0, '90_arid': 0, '100': 4, '100_arid': 0, '110': 3, '110_arid': 0, '120': 0, '120_arid': 0, '121': 0, '121_arid': 0, '122': 0, '122_arid': 0, '130': 0, '130_arid': 0, '140': 0, '140_arid': 0, '150': 0, '150_arid': 0, '151': 1, '151_arid': 0, '152': 0, '152_arid': 0, '153': 0, '153_arid': 0, '160': 0, '160_arid': 0, '170': 0, '170_arid': 0, '180': 0, '180_arid': 0, '190': 0, '190_arid': 0, '200': 0, '200_arid': 0, '201': 1, '201_arid': 0, '202': 0, '202_arid': 0, '210': 0, '210_arid': 0, '220': 0, '220_arid': 0, 'all': 2500}\n",
      "len scenes_lc: 1, len scenes_ai: 28\n",
      "mask [[ 99.10714286 150.         150.         ... 251.5        251.5\n",
      "  251.5       ]\n",
      " [ 99.10714286 150.         150.         ... 251.5        251.5\n",
      "  251.5       ]\n",
      " [ 99.10714286 150.         150.         ... 251.5        251.5\n",
      "  251.5       ]\n",
      " ...\n",
      " [249.71428571 249.71428571 250.14285714 ... 252.10714286 252.10714286\n",
      "  252.10714286]\n",
      " [249.71428571 249.71428571 250.14285714 ... 252.10714286 252.10714286\n",
      "  252.10714286]\n",
      " [249.71428571 249.71428571 250.14285714 ... 252.10714286 252.10714286\n",
      "  252.10714286]]\n",
      "POINT (-8.192324527124853 54.34756399742645)\n",
      "{'0': 0, '0_arid': 0, '10': 1, '10_arid': 0, '11': 0, '11_arid': 0, '12': 0, '12_arid': 0, '20': 0, '20_arid': 0, '30': 434, '30_arid': 0, '40': 8, '40_arid': 0, '50': 0, '50_arid': 0, '60': 0, '60_arid': 0, '61': 0, '61_arid': 0, '62': 0, '62_arid': 0, '70': 144, '70_arid': 0, '71': 0, '71_arid': 0, '72': 0, '72_arid': 0, '80': 0, '80_arid': 0, '81': 0, '81_arid': 0, '82': 0, '82_arid': 0, '90': 0, '90_arid': 0, '100': 170, '100_arid': 0, '110': 147, '110_arid': 0, '120': 0, '120_arid': 0, '121': 0, '121_arid': 0, '122': 0, '122_arid': 0, '130': 0, '130_arid': 0, '140': 0, '140_arid': 0, '150': 0, '150_arid': 0, '151': 0, '151_arid': 0, '152': 0, '152_arid': 0, '153': 0, '153_arid': 0, '160': 0, '160_arid': 0, '170': 0, '170_arid': 0, '180': 0, '180_arid': 0, '190': 0, '190_arid': 0, '200': 0, '200_arid': 0, '201': 0, '201_arid': 0, '202': 0, '202_arid': 0, '210': 0, '210_arid': 0, '220': 0, '220_arid': 0, 'all': 2500}\n",
      "len scenes_lc: 1, len scenes_ai: 28\n",
      "mask [[101.03571429 151.57142857 151.57142857 ... 253.89285714 253.89285714\n",
      "  253.89285714]\n",
      " [101.03571429 151.57142857 151.57142857 ... 253.89285714 253.89285714\n",
      "  253.89285714]\n",
      " [101.03571429 151.57142857 151.57142857 ... 253.89285714 253.89285714\n",
      "  253.89285714]\n",
      " ...\n",
      " [ 99.10714286 150.         150.         ... 251.5        251.5\n",
      "  251.5       ]\n",
      " [ 99.10714286 150.         150.         ... 251.5        251.5\n",
      "  251.5       ]\n",
      " [ 99.10714286 150.         150.         ... 251.5        251.5\n",
      "  251.5       ]]\n",
      "POINT (-8.189670429282472 54.48235967868474)\n",
      "{'0': 0, '0_arid': 0, '10': 0, '10_arid': 0, '11': 2, '11_arid': 0, '12': 0, '12_arid': 0, '20': 0, '20_arid': 0, '30': 397, '30_arid': 0, '40': 8, '40_arid': 0, '50': 0, '50_arid': 0, '60': 0, '60_arid': 0, '61': 0, '61_arid': 0, '62': 0, '62_arid': 0, '70': 155, '70_arid': 0, '71': 0, '71_arid': 0, '72': 0, '72_arid': 0, '80': 0, '80_arid': 0, '81': 0, '81_arid': 0, '82': 0, '82_arid': 0, '90': 0, '90_arid': 0, '100': 185, '100_arid': 0, '110': 67, '110_arid': 0, '120': 0, '120_arid': 0, '121': 0, '121_arid': 0, '122': 0, '122_arid': 0, '130': 0, '130_arid': 0, '140': 0, '140_arid': 0, '150': 0, '150_arid': 0, '151': 0, '151_arid': 0, '152': 0, '152_arid': 0, '153': 0, '153_arid': 0, '160': 0, '160_arid': 0, '170': 0, '170_arid': 0, '180': 0, '180_arid': 0, '190': 0, '190_arid': 0, '200': 0, '200_arid': 0, '201': 31, '201_arid': 0, '202': 0, '202_arid': 0, '210': 0, '210_arid': 0, '220': 0, '220_arid': 0, 'all': 2500}\n",
      "len scenes_lc: 1, len scenes_ai: 28\n",
      "mask [[252.10714286 252.10714286 252.10714286 ... 253.64285714 253.64285714\n",
      "  253.64285714]\n",
      " [252.10714286 252.10714286 252.10714286 ... 253.64285714 253.64285714\n",
      "  253.64285714]\n",
      " [252.10714286 252.10714286 252.10714286 ... 253.64285714 253.64285714\n",
      "  253.64285714]\n",
      " ...\n",
      " [252.71428571 252.71428571 252.71428571 ... 254.42857143 254.42857143\n",
      "  254.42857143]\n",
      " [252.71428571 252.71428571 252.71428571 ... 254.42857143 254.42857143\n",
      "  254.42857143]\n",
      " [252.71428571 252.71428571 252.71428571 ... 254.42857143 254.42857143\n",
      "  254.42857143]]\n",
      "POINT (-7.964981446123987 54.21100869679947)\n",
      "{'0': 0, '0_arid': 0, '10': 0, '10_arid': 0, '11': 0, '11_arid': 0, '12': 0, '12_arid': 0, '20': 0, '20_arid': 0, '30': 737, '30_arid': 0, '40': 2, '40_arid': 0, '50': 0, '50_arid': 0, '60': 0, '60_arid': 0, '61': 0, '61_arid': 0, '62': 0, '62_arid': 0, '70': 191, '70_arid': 0, '71': 0, '71_arid': 0, '72': 0, '72_arid': 0, '80': 0, '80_arid': 0, '81': 0, '81_arid': 0, '82': 0, '82_arid': 0, '90': 0, '90_arid': 0, '100': 296, '100_arid': 0, '110': 357, '110_arid': 0, '120': 0, '120_arid': 0, '121': 0, '121_arid': 0, '122': 0, '122_arid': 0, '130': 0, '130_arid': 0, '140': 0, '140_arid': 0, '150': 0, '150_arid': 0, '151': 0, '151_arid': 0, '152': 0, '152_arid': 0, '153': 0, '153_arid': 0, '160': 0, '160_arid': 0, '170': 0, '170_arid': 0, '180': 0, '180_arid': 0, '190': 0, '190_arid': 0, '200': 0, '200_arid': 0, '201': 0, '201_arid': 0, '202': 0, '202_arid': 0, '210': 0, '210_arid': 0, '220': 0, '220_arid': 0, 'all': 2500}\n",
      "len scenes_lc: 1, len scenes_ai: 28\n"
     ]
    },
    {
     "ename": "KeyboardInterrupt",
     "evalue": "",
     "output_type": "error",
     "traceback": [
      "\u001b[0;31m---------------------------------------------------------------------------\u001b[0m",
      "\u001b[0;31mKeyboardInterrupt\u001b[0m                         Traceback (most recent call last)",
      "\u001b[0;32m<ipython-input-27-7455bd371ede>\u001b[0m in \u001b[0;36m<module>\u001b[0;34m()\u001b[0m\n\u001b[0;32m----> 1\u001b[0;31m \u001b[0mcloud_country_lc\u001b[0m\u001b[0;34m(\u001b[0m\u001b[0;34m'na'\u001b[0m\u001b[0;34m,\u001b[0m \u001b[0;34m'GB'\u001b[0m\u001b[0;34m)\u001b[0m\u001b[0;34m\u001b[0m\u001b[0;34m\u001b[0m\u001b[0m\n\u001b[0m",
      "\u001b[0;32m<ipython-input-22-2c326e8a1562>\u001b[0m in \u001b[0;36mcloud_country_lc\u001b[0;34m(prodstr, iso2)\u001b[0m\n\u001b[1;32m    111\u001b[0m     \u001b[0mtile_res\u001b[0m \u001b[0;34m=\u001b[0m \u001b[0;34m{\u001b[0m\u001b[0;34m}\u001b[0m\u001b[0;34m\u001b[0m\u001b[0;34m\u001b[0m\u001b[0m\n\u001b[1;32m    112\u001b[0m     \u001b[0;32mfor\u001b[0m \u001b[0mtile\u001b[0m \u001b[0;32min\u001b[0m \u001b[0mtiles\u001b[0m\u001b[0;34m[\u001b[0m\u001b[0;34m'features'\u001b[0m\u001b[0;34m]\u001b[0m\u001b[0;34m:\u001b[0m\u001b[0;34m\u001b[0m\u001b[0;34m\u001b[0m\u001b[0m\n\u001b[0;32m--> 113\u001b[0;31m         \u001b[0mtile_res\u001b[0m\u001b[0;34m[\u001b[0m\u001b[0mtile\u001b[0m\u001b[0;34m[\u001b[0m\u001b[0;34m'properties'\u001b[0m\u001b[0;34m]\u001b[0m\u001b[0;34m[\u001b[0m\u001b[0;34m'key'\u001b[0m\u001b[0;34m]\u001b[0m\u001b[0;34m]\u001b[0m \u001b[0;34m=\u001b[0m \u001b[0mreduce_tile\u001b[0m\u001b[0;34m(\u001b[0m\u001b[0mtile\u001b[0m\u001b[0;34m,\u001b[0m\u001b[0mprodstr\u001b[0m\u001b[0;34m)\u001b[0m\u001b[0;34m\u001b[0m\u001b[0;34m\u001b[0m\u001b[0m\n\u001b[0m\u001b[1;32m    114\u001b[0m \u001b[0;34m\u001b[0m\u001b[0m\n\u001b[1;32m    115\u001b[0m     \u001b[0mreduction\u001b[0m \u001b[0;34m=\u001b[0m \u001b[0;34m{\u001b[0m\u001b[0;34m}\u001b[0m\u001b[0;34m\u001b[0m\u001b[0;34m\u001b[0m\u001b[0m\n",
      "\u001b[0;32m<ipython-input-22-2c326e8a1562>\u001b[0m in \u001b[0;36mreduce_tile\u001b[0;34m(tile, prodstr)\u001b[0m\n\u001b[1;32m     41\u001b[0m                                               \u001b[0mscales\u001b[0m\u001b[0;34m=\u001b[0m\u001b[0;34m[\u001b[0m\u001b[0;34m[\u001b[0m\u001b[0;36m0\u001b[0m\u001b[0;34m,\u001b[0m\u001b[0;36m255\u001b[0m\u001b[0;34m]\u001b[0m\u001b[0;34m]\u001b[0m\u001b[0;34m,\u001b[0m\u001b[0;34m\u001b[0m\u001b[0;34m\u001b[0m\u001b[0m\n\u001b[1;32m     42\u001b[0m                                               \u001b[0mot\u001b[0m\u001b[0;34m=\u001b[0m\u001b[0;34m'Byte'\u001b[0m\u001b[0;34m,\u001b[0m\u001b[0;34m\u001b[0m\u001b[0;34m\u001b[0m\u001b[0m\n\u001b[0;32m---> 43\u001b[0;31m                                               dltile=tile['properties']['key'])\n\u001b[0m\u001b[1;32m     44\u001b[0m \u001b[0;34m\u001b[0m\u001b[0m\n\u001b[1;32m     45\u001b[0m             arr_ai, meta = raster_client.stack([s.id for s in scenes_ai['features']], \n",
      "\u001b[0;32m/home/lucas/miniconda3/envs/p36/lib/python3.6/site-packages/descarteslabs/client/services/raster/raster.py\u001b[0m in \u001b[0;36mndarray\u001b[0;34m(self, inputs, bands, scales, data_type, srs, resolution, dimensions, cutline, place, bounds, bounds_srs, align_pixels, resampler, order, dltile, processing_level, **pass_through_params)\u001b[0m\n\u001b[1;32m    681\u001b[0m             \u001b[0mparams\u001b[0m\u001b[0;34m[\u001b[0m\u001b[0;34m\"of\"\u001b[0m\u001b[0;34m]\u001b[0m \u001b[0;34m=\u001b[0m \u001b[0;34m\"npz\"\u001b[0m\u001b[0;34m\u001b[0m\u001b[0;34m\u001b[0m\u001b[0m\n\u001b[1;32m    682\u001b[0m \u001b[0;34m\u001b[0m\u001b[0m\n\u001b[0;32m--> 683\u001b[0;31m         \u001b[0mr\u001b[0m \u001b[0;34m=\u001b[0m \u001b[0mself\u001b[0m\u001b[0;34m.\u001b[0m\u001b[0msession\u001b[0m\u001b[0;34m.\u001b[0m\u001b[0mpost\u001b[0m\u001b[0;34m(\u001b[0m\u001b[0;34m\"/npz\"\u001b[0m\u001b[0;34m,\u001b[0m \u001b[0mjson\u001b[0m\u001b[0;34m=\u001b[0m\u001b[0mparams\u001b[0m\u001b[0;34m,\u001b[0m \u001b[0mstream\u001b[0m\u001b[0;34m=\u001b[0m\u001b[0;32mTrue\u001b[0m\u001b[0;34m)\u001b[0m\u001b[0;34m\u001b[0m\u001b[0;34m\u001b[0m\u001b[0m\n\u001b[0m\u001b[1;32m    684\u001b[0m \u001b[0;34m\u001b[0m\u001b[0m\n\u001b[1;32m    685\u001b[0m         \u001b[0;32mif\u001b[0m \u001b[0mcan_blosc\u001b[0m\u001b[0;34m:\u001b[0m\u001b[0;34m\u001b[0m\u001b[0;34m\u001b[0m\u001b[0m\n",
      "\u001b[0;32m/home/lucas/miniconda3/envs/p36/lib/python3.6/site-packages/requests/sessions.py\u001b[0m in \u001b[0;36mpost\u001b[0;34m(self, url, data, json, **kwargs)\u001b[0m\n\u001b[1;32m    576\u001b[0m         \"\"\"\n\u001b[1;32m    577\u001b[0m \u001b[0;34m\u001b[0m\u001b[0m\n\u001b[0;32m--> 578\u001b[0;31m         \u001b[0;32mreturn\u001b[0m \u001b[0mself\u001b[0m\u001b[0;34m.\u001b[0m\u001b[0mrequest\u001b[0m\u001b[0;34m(\u001b[0m\u001b[0;34m'POST'\u001b[0m\u001b[0;34m,\u001b[0m \u001b[0murl\u001b[0m\u001b[0;34m,\u001b[0m \u001b[0mdata\u001b[0m\u001b[0;34m=\u001b[0m\u001b[0mdata\u001b[0m\u001b[0;34m,\u001b[0m \u001b[0mjson\u001b[0m\u001b[0;34m=\u001b[0m\u001b[0mjson\u001b[0m\u001b[0;34m,\u001b[0m \u001b[0;34m**\u001b[0m\u001b[0mkwargs\u001b[0m\u001b[0;34m)\u001b[0m\u001b[0;34m\u001b[0m\u001b[0;34m\u001b[0m\u001b[0m\n\u001b[0m\u001b[1;32m    579\u001b[0m \u001b[0;34m\u001b[0m\u001b[0m\n\u001b[1;32m    580\u001b[0m     \u001b[0;32mdef\u001b[0m \u001b[0mput\u001b[0m\u001b[0;34m(\u001b[0m\u001b[0mself\u001b[0m\u001b[0;34m,\u001b[0m \u001b[0murl\u001b[0m\u001b[0;34m,\u001b[0m \u001b[0mdata\u001b[0m\u001b[0;34m=\u001b[0m\u001b[0;32mNone\u001b[0m\u001b[0;34m,\u001b[0m \u001b[0;34m**\u001b[0m\u001b[0mkwargs\u001b[0m\u001b[0;34m)\u001b[0m\u001b[0;34m:\u001b[0m\u001b[0;34m\u001b[0m\u001b[0;34m\u001b[0m\u001b[0m\n",
      "\u001b[0;32m/home/lucas/miniconda3/envs/p36/lib/python3.6/site-packages/descarteslabs/client/services/service/service.py\u001b[0m in \u001b[0;36mrequest\u001b[0;34m(self, method, url, **kwargs)\u001b[0m\n\u001b[1;32m    189\u001b[0m         \u001b[0mkwargs\u001b[0m\u001b[0;34m[\u001b[0m\u001b[0mself\u001b[0m\u001b[0;34m.\u001b[0m\u001b[0mATTR_HEADERS\u001b[0m\u001b[0;34m]\u001b[0m\u001b[0;34m[\u001b[0m\u001b[0mHttpHeaderKeys\u001b[0m\u001b[0;34m.\u001b[0m\u001b[0mRequestGroup\u001b[0m\u001b[0;34m]\u001b[0m \u001b[0;34m=\u001b[0m \u001b[0muuid\u001b[0m\u001b[0;34m.\u001b[0m\u001b[0muuid4\u001b[0m\u001b[0;34m(\u001b[0m\u001b[0;34m)\u001b[0m\u001b[0;34m.\u001b[0m\u001b[0mhex\u001b[0m\u001b[0;34m\u001b[0m\u001b[0;34m\u001b[0m\u001b[0m\n\u001b[1;32m    190\u001b[0m \u001b[0;34m\u001b[0m\u001b[0m\n\u001b[0;32m--> 191\u001b[0;31m         \u001b[0mresp\u001b[0m \u001b[0;34m=\u001b[0m \u001b[0msuper\u001b[0m\u001b[0;34m(\u001b[0m\u001b[0mSession\u001b[0m\u001b[0;34m,\u001b[0m \u001b[0mself\u001b[0m\u001b[0;34m)\u001b[0m\u001b[0;34m.\u001b[0m\u001b[0mrequest\u001b[0m\u001b[0;34m(\u001b[0m\u001b[0mmethod\u001b[0m\u001b[0;34m,\u001b[0m \u001b[0mself\u001b[0m\u001b[0;34m.\u001b[0m\u001b[0mbase_url\u001b[0m \u001b[0;34m+\u001b[0m \u001b[0murl\u001b[0m\u001b[0;34m,\u001b[0m \u001b[0;34m**\u001b[0m\u001b[0mkwargs\u001b[0m\u001b[0;34m)\u001b[0m\u001b[0;34m\u001b[0m\u001b[0;34m\u001b[0m\u001b[0m\n\u001b[0m\u001b[1;32m    192\u001b[0m \u001b[0;34m\u001b[0m\u001b[0m\n\u001b[1;32m    193\u001b[0m         if (\n",
      "\u001b[0;32m/home/lucas/miniconda3/envs/p36/lib/python3.6/site-packages/requests/sessions.py\u001b[0m in \u001b[0;36mrequest\u001b[0;34m(self, method, url, params, data, headers, cookies, files, auth, timeout, allow_redirects, proxies, hooks, stream, verify, cert, json)\u001b[0m\n\u001b[1;32m    528\u001b[0m         }\n\u001b[1;32m    529\u001b[0m         \u001b[0msend_kwargs\u001b[0m\u001b[0;34m.\u001b[0m\u001b[0mupdate\u001b[0m\u001b[0;34m(\u001b[0m\u001b[0msettings\u001b[0m\u001b[0;34m)\u001b[0m\u001b[0;34m\u001b[0m\u001b[0;34m\u001b[0m\u001b[0m\n\u001b[0;32m--> 530\u001b[0;31m         \u001b[0mresp\u001b[0m \u001b[0;34m=\u001b[0m \u001b[0mself\u001b[0m\u001b[0;34m.\u001b[0m\u001b[0msend\u001b[0m\u001b[0;34m(\u001b[0m\u001b[0mprep\u001b[0m\u001b[0;34m,\u001b[0m \u001b[0;34m**\u001b[0m\u001b[0msend_kwargs\u001b[0m\u001b[0;34m)\u001b[0m\u001b[0;34m\u001b[0m\u001b[0;34m\u001b[0m\u001b[0m\n\u001b[0m\u001b[1;32m    531\u001b[0m \u001b[0;34m\u001b[0m\u001b[0m\n\u001b[1;32m    532\u001b[0m         \u001b[0;32mreturn\u001b[0m \u001b[0mresp\u001b[0m\u001b[0;34m\u001b[0m\u001b[0;34m\u001b[0m\u001b[0m\n",
      "\u001b[0;32m/home/lucas/miniconda3/envs/p36/lib/python3.6/site-packages/requests/sessions.py\u001b[0m in \u001b[0;36msend\u001b[0;34m(self, request, **kwargs)\u001b[0m\n\u001b[1;32m    641\u001b[0m \u001b[0;34m\u001b[0m\u001b[0m\n\u001b[1;32m    642\u001b[0m         \u001b[0;31m# Send the request\u001b[0m\u001b[0;34m\u001b[0m\u001b[0;34m\u001b[0m\u001b[0;34m\u001b[0m\u001b[0m\n\u001b[0;32m--> 643\u001b[0;31m         \u001b[0mr\u001b[0m \u001b[0;34m=\u001b[0m \u001b[0madapter\u001b[0m\u001b[0;34m.\u001b[0m\u001b[0msend\u001b[0m\u001b[0;34m(\u001b[0m\u001b[0mrequest\u001b[0m\u001b[0;34m,\u001b[0m \u001b[0;34m**\u001b[0m\u001b[0mkwargs\u001b[0m\u001b[0;34m)\u001b[0m\u001b[0;34m\u001b[0m\u001b[0;34m\u001b[0m\u001b[0m\n\u001b[0m\u001b[1;32m    644\u001b[0m \u001b[0;34m\u001b[0m\u001b[0m\n\u001b[1;32m    645\u001b[0m         \u001b[0;31m# Total elapsed time of the request (approximately)\u001b[0m\u001b[0;34m\u001b[0m\u001b[0;34m\u001b[0m\u001b[0;34m\u001b[0m\u001b[0m\n",
      "\u001b[0;32m/home/lucas/miniconda3/envs/p36/lib/python3.6/site-packages/requests/adapters.py\u001b[0m in \u001b[0;36msend\u001b[0;34m(self, request, stream, timeout, verify, cert, proxies)\u001b[0m\n\u001b[1;32m    447\u001b[0m                     \u001b[0mdecode_content\u001b[0m\u001b[0;34m=\u001b[0m\u001b[0;32mFalse\u001b[0m\u001b[0;34m,\u001b[0m\u001b[0;34m\u001b[0m\u001b[0;34m\u001b[0m\u001b[0m\n\u001b[1;32m    448\u001b[0m                     \u001b[0mretries\u001b[0m\u001b[0;34m=\u001b[0m\u001b[0mself\u001b[0m\u001b[0;34m.\u001b[0m\u001b[0mmax_retries\u001b[0m\u001b[0;34m,\u001b[0m\u001b[0;34m\u001b[0m\u001b[0;34m\u001b[0m\u001b[0m\n\u001b[0;32m--> 449\u001b[0;31m                     \u001b[0mtimeout\u001b[0m\u001b[0;34m=\u001b[0m\u001b[0mtimeout\u001b[0m\u001b[0;34m\u001b[0m\u001b[0;34m\u001b[0m\u001b[0m\n\u001b[0m\u001b[1;32m    450\u001b[0m                 )\n\u001b[1;32m    451\u001b[0m \u001b[0;34m\u001b[0m\u001b[0m\n",
      "\u001b[0;32m/home/lucas/miniconda3/envs/p36/lib/python3.6/site-packages/urllib3/connectionpool.py\u001b[0m in \u001b[0;36murlopen\u001b[0;34m(self, method, url, body, headers, retries, redirect, assert_same_host, timeout, pool_timeout, release_conn, chunked, body_pos, **response_kw)\u001b[0m\n\u001b[1;32m    675\u001b[0m                 \u001b[0mbody\u001b[0m\u001b[0;34m=\u001b[0m\u001b[0mbody\u001b[0m\u001b[0;34m,\u001b[0m\u001b[0;34m\u001b[0m\u001b[0;34m\u001b[0m\u001b[0m\n\u001b[1;32m    676\u001b[0m                 \u001b[0mheaders\u001b[0m\u001b[0;34m=\u001b[0m\u001b[0mheaders\u001b[0m\u001b[0;34m,\u001b[0m\u001b[0;34m\u001b[0m\u001b[0;34m\u001b[0m\u001b[0m\n\u001b[0;32m--> 677\u001b[0;31m                 \u001b[0mchunked\u001b[0m\u001b[0;34m=\u001b[0m\u001b[0mchunked\u001b[0m\u001b[0;34m,\u001b[0m\u001b[0;34m\u001b[0m\u001b[0;34m\u001b[0m\u001b[0m\n\u001b[0m\u001b[1;32m    678\u001b[0m             )\n\u001b[1;32m    679\u001b[0m \u001b[0;34m\u001b[0m\u001b[0m\n",
      "\u001b[0;32m/home/lucas/miniconda3/envs/p36/lib/python3.6/site-packages/urllib3/connectionpool.py\u001b[0m in \u001b[0;36m_make_request\u001b[0;34m(self, conn, method, url, timeout, chunked, **httplib_request_kw)\u001b[0m\n\u001b[1;32m    424\u001b[0m                     \u001b[0;31m# Python 3 (including for exceptions like SystemExit).\u001b[0m\u001b[0;34m\u001b[0m\u001b[0;34m\u001b[0m\u001b[0;34m\u001b[0m\u001b[0m\n\u001b[1;32m    425\u001b[0m                     \u001b[0;31m# Otherwise it looks like a bug in the code.\u001b[0m\u001b[0;34m\u001b[0m\u001b[0;34m\u001b[0m\u001b[0;34m\u001b[0m\u001b[0m\n\u001b[0;32m--> 426\u001b[0;31m                     \u001b[0msix\u001b[0m\u001b[0;34m.\u001b[0m\u001b[0mraise_from\u001b[0m\u001b[0;34m(\u001b[0m\u001b[0me\u001b[0m\u001b[0;34m,\u001b[0m \u001b[0;32mNone\u001b[0m\u001b[0;34m)\u001b[0m\u001b[0;34m\u001b[0m\u001b[0;34m\u001b[0m\u001b[0m\n\u001b[0m\u001b[1;32m    427\u001b[0m         \u001b[0;32mexcept\u001b[0m \u001b[0;34m(\u001b[0m\u001b[0mSocketTimeout\u001b[0m\u001b[0;34m,\u001b[0m \u001b[0mBaseSSLError\u001b[0m\u001b[0;34m,\u001b[0m \u001b[0mSocketError\u001b[0m\u001b[0;34m)\u001b[0m \u001b[0;32mas\u001b[0m \u001b[0me\u001b[0m\u001b[0;34m:\u001b[0m\u001b[0;34m\u001b[0m\u001b[0;34m\u001b[0m\u001b[0m\n\u001b[1;32m    428\u001b[0m             \u001b[0mself\u001b[0m\u001b[0;34m.\u001b[0m\u001b[0m_raise_timeout\u001b[0m\u001b[0;34m(\u001b[0m\u001b[0merr\u001b[0m\u001b[0;34m=\u001b[0m\u001b[0me\u001b[0m\u001b[0;34m,\u001b[0m \u001b[0murl\u001b[0m\u001b[0;34m=\u001b[0m\u001b[0murl\u001b[0m\u001b[0;34m,\u001b[0m \u001b[0mtimeout_value\u001b[0m\u001b[0;34m=\u001b[0m\u001b[0mread_timeout\u001b[0m\u001b[0;34m)\u001b[0m\u001b[0;34m\u001b[0m\u001b[0;34m\u001b[0m\u001b[0m\n",
      "\u001b[0;32m/home/lucas/miniconda3/envs/p36/lib/python3.6/site-packages/urllib3/packages/six.py\u001b[0m in \u001b[0;36mraise_from\u001b[0;34m(value, from_value)\u001b[0m\n",
      "\u001b[0;32m/home/lucas/miniconda3/envs/p36/lib/python3.6/site-packages/urllib3/connectionpool.py\u001b[0m in \u001b[0;36m_make_request\u001b[0;34m(self, conn, method, url, timeout, chunked, **httplib_request_kw)\u001b[0m\n\u001b[1;32m    419\u001b[0m                 \u001b[0;31m# Python 3\u001b[0m\u001b[0;34m\u001b[0m\u001b[0;34m\u001b[0m\u001b[0;34m\u001b[0m\u001b[0m\n\u001b[1;32m    420\u001b[0m                 \u001b[0;32mtry\u001b[0m\u001b[0;34m:\u001b[0m\u001b[0;34m\u001b[0m\u001b[0;34m\u001b[0m\u001b[0m\n\u001b[0;32m--> 421\u001b[0;31m                     \u001b[0mhttplib_response\u001b[0m \u001b[0;34m=\u001b[0m \u001b[0mconn\u001b[0m\u001b[0;34m.\u001b[0m\u001b[0mgetresponse\u001b[0m\u001b[0;34m(\u001b[0m\u001b[0;34m)\u001b[0m\u001b[0;34m\u001b[0m\u001b[0;34m\u001b[0m\u001b[0m\n\u001b[0m\u001b[1;32m    422\u001b[0m                 \u001b[0;32mexcept\u001b[0m \u001b[0mBaseException\u001b[0m \u001b[0;32mas\u001b[0m \u001b[0me\u001b[0m\u001b[0;34m:\u001b[0m\u001b[0;34m\u001b[0m\u001b[0;34m\u001b[0m\u001b[0m\n\u001b[1;32m    423\u001b[0m                     \u001b[0;31m# Remove the TypeError from the exception chain in\u001b[0m\u001b[0;34m\u001b[0m\u001b[0;34m\u001b[0m\u001b[0;34m\u001b[0m\u001b[0m\n",
      "\u001b[0;32m/home/lucas/miniconda3/envs/p36/lib/python3.6/http/client.py\u001b[0m in \u001b[0;36mgetresponse\u001b[0;34m(self)\u001b[0m\n\u001b[1;32m   1352\u001b[0m         \u001b[0;32mtry\u001b[0m\u001b[0;34m:\u001b[0m\u001b[0;34m\u001b[0m\u001b[0;34m\u001b[0m\u001b[0m\n\u001b[1;32m   1353\u001b[0m             \u001b[0;32mtry\u001b[0m\u001b[0;34m:\u001b[0m\u001b[0;34m\u001b[0m\u001b[0;34m\u001b[0m\u001b[0m\n\u001b[0;32m-> 1354\u001b[0;31m                 \u001b[0mresponse\u001b[0m\u001b[0;34m.\u001b[0m\u001b[0mbegin\u001b[0m\u001b[0;34m(\u001b[0m\u001b[0;34m)\u001b[0m\u001b[0;34m\u001b[0m\u001b[0;34m\u001b[0m\u001b[0m\n\u001b[0m\u001b[1;32m   1355\u001b[0m             \u001b[0;32mexcept\u001b[0m \u001b[0mConnectionError\u001b[0m\u001b[0;34m:\u001b[0m\u001b[0;34m\u001b[0m\u001b[0;34m\u001b[0m\u001b[0m\n\u001b[1;32m   1356\u001b[0m                 \u001b[0mself\u001b[0m\u001b[0;34m.\u001b[0m\u001b[0mclose\u001b[0m\u001b[0;34m(\u001b[0m\u001b[0;34m)\u001b[0m\u001b[0;34m\u001b[0m\u001b[0;34m\u001b[0m\u001b[0m\n",
      "\u001b[0;32m/home/lucas/miniconda3/envs/p36/lib/python3.6/http/client.py\u001b[0m in \u001b[0;36mbegin\u001b[0;34m(self)\u001b[0m\n\u001b[1;32m    305\u001b[0m         \u001b[0;31m# read until we get a non-100 response\u001b[0m\u001b[0;34m\u001b[0m\u001b[0;34m\u001b[0m\u001b[0;34m\u001b[0m\u001b[0m\n\u001b[1;32m    306\u001b[0m         \u001b[0;32mwhile\u001b[0m \u001b[0;32mTrue\u001b[0m\u001b[0;34m:\u001b[0m\u001b[0;34m\u001b[0m\u001b[0;34m\u001b[0m\u001b[0m\n\u001b[0;32m--> 307\u001b[0;31m             \u001b[0mversion\u001b[0m\u001b[0;34m,\u001b[0m \u001b[0mstatus\u001b[0m\u001b[0;34m,\u001b[0m \u001b[0mreason\u001b[0m \u001b[0;34m=\u001b[0m \u001b[0mself\u001b[0m\u001b[0;34m.\u001b[0m\u001b[0m_read_status\u001b[0m\u001b[0;34m(\u001b[0m\u001b[0;34m)\u001b[0m\u001b[0;34m\u001b[0m\u001b[0;34m\u001b[0m\u001b[0m\n\u001b[0m\u001b[1;32m    308\u001b[0m             \u001b[0;32mif\u001b[0m \u001b[0mstatus\u001b[0m \u001b[0;34m!=\u001b[0m \u001b[0mCONTINUE\u001b[0m\u001b[0;34m:\u001b[0m\u001b[0;34m\u001b[0m\u001b[0;34m\u001b[0m\u001b[0m\n\u001b[1;32m    309\u001b[0m                 \u001b[0;32mbreak\u001b[0m\u001b[0;34m\u001b[0m\u001b[0;34m\u001b[0m\u001b[0m\n",
      "\u001b[0;32m/home/lucas/miniconda3/envs/p36/lib/python3.6/http/client.py\u001b[0m in \u001b[0;36m_read_status\u001b[0;34m(self)\u001b[0m\n\u001b[1;32m    266\u001b[0m \u001b[0;34m\u001b[0m\u001b[0m\n\u001b[1;32m    267\u001b[0m     \u001b[0;32mdef\u001b[0m \u001b[0m_read_status\u001b[0m\u001b[0;34m(\u001b[0m\u001b[0mself\u001b[0m\u001b[0;34m)\u001b[0m\u001b[0;34m:\u001b[0m\u001b[0;34m\u001b[0m\u001b[0;34m\u001b[0m\u001b[0m\n\u001b[0;32m--> 268\u001b[0;31m         \u001b[0mline\u001b[0m \u001b[0;34m=\u001b[0m \u001b[0mstr\u001b[0m\u001b[0;34m(\u001b[0m\u001b[0mself\u001b[0m\u001b[0;34m.\u001b[0m\u001b[0mfp\u001b[0m\u001b[0;34m.\u001b[0m\u001b[0mreadline\u001b[0m\u001b[0;34m(\u001b[0m\u001b[0m_MAXLINE\u001b[0m \u001b[0;34m+\u001b[0m \u001b[0;36m1\u001b[0m\u001b[0;34m)\u001b[0m\u001b[0;34m,\u001b[0m \u001b[0;34m\"iso-8859-1\"\u001b[0m\u001b[0;34m)\u001b[0m\u001b[0;34m\u001b[0m\u001b[0;34m\u001b[0m\u001b[0m\n\u001b[0m\u001b[1;32m    269\u001b[0m         \u001b[0;32mif\u001b[0m \u001b[0mlen\u001b[0m\u001b[0;34m(\u001b[0m\u001b[0mline\u001b[0m\u001b[0;34m)\u001b[0m \u001b[0;34m>\u001b[0m \u001b[0m_MAXLINE\u001b[0m\u001b[0;34m:\u001b[0m\u001b[0;34m\u001b[0m\u001b[0;34m\u001b[0m\u001b[0m\n\u001b[1;32m    270\u001b[0m             \u001b[0;32mraise\u001b[0m \u001b[0mLineTooLong\u001b[0m\u001b[0;34m(\u001b[0m\u001b[0;34m\"status line\"\u001b[0m\u001b[0;34m)\u001b[0m\u001b[0;34m\u001b[0m\u001b[0;34m\u001b[0m\u001b[0m\n",
      "\u001b[0;32m/home/lucas/miniconda3/envs/p36/lib/python3.6/socket.py\u001b[0m in \u001b[0;36mreadinto\u001b[0;34m(self, b)\u001b[0m\n\u001b[1;32m    584\u001b[0m         \u001b[0;32mwhile\u001b[0m \u001b[0;32mTrue\u001b[0m\u001b[0;34m:\u001b[0m\u001b[0;34m\u001b[0m\u001b[0;34m\u001b[0m\u001b[0m\n\u001b[1;32m    585\u001b[0m             \u001b[0;32mtry\u001b[0m\u001b[0;34m:\u001b[0m\u001b[0;34m\u001b[0m\u001b[0;34m\u001b[0m\u001b[0m\n\u001b[0;32m--> 586\u001b[0;31m                 \u001b[0;32mreturn\u001b[0m \u001b[0mself\u001b[0m\u001b[0;34m.\u001b[0m\u001b[0m_sock\u001b[0m\u001b[0;34m.\u001b[0m\u001b[0mrecv_into\u001b[0m\u001b[0;34m(\u001b[0m\u001b[0mb\u001b[0m\u001b[0;34m)\u001b[0m\u001b[0;34m\u001b[0m\u001b[0;34m\u001b[0m\u001b[0m\n\u001b[0m\u001b[1;32m    587\u001b[0m             \u001b[0;32mexcept\u001b[0m \u001b[0mtimeout\u001b[0m\u001b[0;34m:\u001b[0m\u001b[0;34m\u001b[0m\u001b[0;34m\u001b[0m\u001b[0m\n\u001b[1;32m    588\u001b[0m                 \u001b[0mself\u001b[0m\u001b[0;34m.\u001b[0m\u001b[0m_timeout_occurred\u001b[0m \u001b[0;34m=\u001b[0m \u001b[0;32mTrue\u001b[0m\u001b[0;34m\u001b[0m\u001b[0;34m\u001b[0m\u001b[0m\n",
      "\u001b[0;32m/home/lucas/miniconda3/envs/p36/lib/python3.6/ssl.py\u001b[0m in \u001b[0;36mrecv_into\u001b[0;34m(self, buffer, nbytes, flags)\u001b[0m\n\u001b[1;32m   1010\u001b[0m                   \u001b[0;34m\"non-zero flags not allowed in calls to recv_into() on %s\"\u001b[0m \u001b[0;34m%\u001b[0m\u001b[0;34m\u001b[0m\u001b[0;34m\u001b[0m\u001b[0m\n\u001b[1;32m   1011\u001b[0m                   self.__class__)\n\u001b[0;32m-> 1012\u001b[0;31m             \u001b[0;32mreturn\u001b[0m \u001b[0mself\u001b[0m\u001b[0;34m.\u001b[0m\u001b[0mread\u001b[0m\u001b[0;34m(\u001b[0m\u001b[0mnbytes\u001b[0m\u001b[0;34m,\u001b[0m \u001b[0mbuffer\u001b[0m\u001b[0;34m)\u001b[0m\u001b[0;34m\u001b[0m\u001b[0;34m\u001b[0m\u001b[0m\n\u001b[0m\u001b[1;32m   1013\u001b[0m         \u001b[0;32melse\u001b[0m\u001b[0;34m:\u001b[0m\u001b[0;34m\u001b[0m\u001b[0;34m\u001b[0m\u001b[0m\n\u001b[1;32m   1014\u001b[0m             \u001b[0;32mreturn\u001b[0m \u001b[0msocket\u001b[0m\u001b[0;34m.\u001b[0m\u001b[0mrecv_into\u001b[0m\u001b[0;34m(\u001b[0m\u001b[0mself\u001b[0m\u001b[0;34m,\u001b[0m \u001b[0mbuffer\u001b[0m\u001b[0;34m,\u001b[0m \u001b[0mnbytes\u001b[0m\u001b[0;34m,\u001b[0m \u001b[0mflags\u001b[0m\u001b[0;34m)\u001b[0m\u001b[0;34m\u001b[0m\u001b[0;34m\u001b[0m\u001b[0m\n",
      "\u001b[0;32m/home/lucas/miniconda3/envs/p36/lib/python3.6/ssl.py\u001b[0m in \u001b[0;36mread\u001b[0;34m(self, len, buffer)\u001b[0m\n\u001b[1;32m    872\u001b[0m             \u001b[0;32mraise\u001b[0m \u001b[0mValueError\u001b[0m\u001b[0;34m(\u001b[0m\u001b[0;34m\"Read on closed or unwrapped SSL socket.\"\u001b[0m\u001b[0;34m)\u001b[0m\u001b[0;34m\u001b[0m\u001b[0;34m\u001b[0m\u001b[0m\n\u001b[1;32m    873\u001b[0m         \u001b[0;32mtry\u001b[0m\u001b[0;34m:\u001b[0m\u001b[0;34m\u001b[0m\u001b[0;34m\u001b[0m\u001b[0m\n\u001b[0;32m--> 874\u001b[0;31m             \u001b[0;32mreturn\u001b[0m \u001b[0mself\u001b[0m\u001b[0;34m.\u001b[0m\u001b[0m_sslobj\u001b[0m\u001b[0;34m.\u001b[0m\u001b[0mread\u001b[0m\u001b[0;34m(\u001b[0m\u001b[0mlen\u001b[0m\u001b[0;34m,\u001b[0m \u001b[0mbuffer\u001b[0m\u001b[0;34m)\u001b[0m\u001b[0;34m\u001b[0m\u001b[0;34m\u001b[0m\u001b[0m\n\u001b[0m\u001b[1;32m    875\u001b[0m         \u001b[0;32mexcept\u001b[0m \u001b[0mSSLError\u001b[0m \u001b[0;32mas\u001b[0m \u001b[0mx\u001b[0m\u001b[0;34m:\u001b[0m\u001b[0;34m\u001b[0m\u001b[0;34m\u001b[0m\u001b[0m\n\u001b[1;32m    876\u001b[0m             \u001b[0;32mif\u001b[0m \u001b[0mx\u001b[0m\u001b[0;34m.\u001b[0m\u001b[0margs\u001b[0m\u001b[0;34m[\u001b[0m\u001b[0;36m0\u001b[0m\u001b[0;34m]\u001b[0m \u001b[0;34m==\u001b[0m \u001b[0mSSL_ERROR_EOF\u001b[0m \u001b[0;32mand\u001b[0m \u001b[0mself\u001b[0m\u001b[0;34m.\u001b[0m\u001b[0msuppress_ragged_eofs\u001b[0m\u001b[0;34m:\u001b[0m\u001b[0;34m\u001b[0m\u001b[0;34m\u001b[0m\u001b[0m\n",
      "\u001b[0;32m/home/lucas/miniconda3/envs/p36/lib/python3.6/ssl.py\u001b[0m in \u001b[0;36mread\u001b[0;34m(self, len, buffer)\u001b[0m\n\u001b[1;32m    629\u001b[0m         \"\"\"\n\u001b[1;32m    630\u001b[0m         \u001b[0;32mif\u001b[0m \u001b[0mbuffer\u001b[0m \u001b[0;32mis\u001b[0m \u001b[0;32mnot\u001b[0m \u001b[0;32mNone\u001b[0m\u001b[0;34m:\u001b[0m\u001b[0;34m\u001b[0m\u001b[0;34m\u001b[0m\u001b[0m\n\u001b[0;32m--> 631\u001b[0;31m             \u001b[0mv\u001b[0m \u001b[0;34m=\u001b[0m \u001b[0mself\u001b[0m\u001b[0;34m.\u001b[0m\u001b[0m_sslobj\u001b[0m\u001b[0;34m.\u001b[0m\u001b[0mread\u001b[0m\u001b[0;34m(\u001b[0m\u001b[0mlen\u001b[0m\u001b[0;34m,\u001b[0m \u001b[0mbuffer\u001b[0m\u001b[0;34m)\u001b[0m\u001b[0;34m\u001b[0m\u001b[0;34m\u001b[0m\u001b[0m\n\u001b[0m\u001b[1;32m    632\u001b[0m         \u001b[0;32melse\u001b[0m\u001b[0;34m:\u001b[0m\u001b[0;34m\u001b[0m\u001b[0;34m\u001b[0m\u001b[0m\n\u001b[1;32m    633\u001b[0m             \u001b[0mv\u001b[0m \u001b[0;34m=\u001b[0m \u001b[0mself\u001b[0m\u001b[0;34m.\u001b[0m\u001b[0m_sslobj\u001b[0m\u001b[0;34m.\u001b[0m\u001b[0mread\u001b[0m\u001b[0;34m(\u001b[0m\u001b[0mlen\u001b[0m\u001b[0;34m)\u001b[0m\u001b[0;34m\u001b[0m\u001b[0;34m\u001b[0m\u001b[0m\n",
      "\u001b[0;31mKeyboardInterrupt\u001b[0m: "
     ]
    }
   ],
   "source": [
    "cloud_country_lc('na', 'GB')"
   ]
  },
  {
   "cell_type": "code",
   "execution_count": null,
   "metadata": {},
   "outputs": [],
   "source": [
    "len(tiles['features'])"
   ]
  },
  {
   "cell_type": "code",
   "execution_count": null,
   "metadata": {},
   "outputs": [],
   "source": [
    "storage.set('ne_FR', json.dumps(geometry.mapping(_geom)))"
   ]
  },
  {
   "cell_type": "code",
   "execution_count": null,
   "metadata": {},
   "outputs": [],
   "source": [
    "fn('CORINE','FR')"
   ]
  },
  {
   "cell_type": "markdown",
   "metadata": {},
   "source": [
    "### Collect Failures"
   ]
  },
  {
   "cell_type": "code",
   "execution_count": 10,
   "metadata": {},
   "outputs": [],
   "source": [
    "q = tasks.get_task_results('11ba261f',limit=1000, status='FAILURE', include=['arguments'])\n",
    "token=q['continuation_token']\n",
    "results = q['results']\n",
    "counter = 0\n",
    "\n",
    "while token:\n",
    "    print (counter)\n",
    "    counter+=1\n",
    "    q = tasks.get_task_results('11ba261f',limit=1000, status='FAILURE', include=['arguments'], continuation_token=token)\n",
    "    token=q['continuation_token']\n",
    "    results +=q['results']"
   ]
  },
  {
   "cell_type": "code",
   "execution_count": 13,
   "metadata": {},
   "outputs": [],
   "source": [
    "failed_countries = [json.loads(r['arguments'])['args'][1] for r in results]"
   ]
  },
  {
   "cell_type": "code",
   "execution_count": 15,
   "metadata": {},
   "outputs": [],
   "source": [
    "for iso2 in failed_countries:\n",
    "    fn('n/a',iso2)"
   ]
  },
  {
   "cell_type": "markdown",
   "metadata": {},
   "source": [
    "#### Deploy"
   ]
  },
  {
   "cell_type": "code",
   "execution_count": 30,
   "metadata": {
    "collapsed": true,
    "jupyter": {
     "outputs_hidden": true
    }
   },
   "outputs": [
    {
     "name": "stdout",
     "output_type": "stream",
     "text": [
      "ID\n",
      "MY\n",
      "CL\n",
      "BO\n",
      "PE\n",
      "AR\n",
      "CY\n",
      "IN\n",
      "CN\n",
      "IL\n",
      "PS\n",
      "LB\n",
      "ET\n",
      "SS\n",
      "SO\n",
      "KE\n",
      "PK\n",
      "MW\n",
      "TZ\n",
      "SY\n",
      "FR\n",
      "SR\n",
      "GY\n",
      "KR\n",
      "KP\n",
      "MA\n",
      "EH\n",
      "CR\n",
      "NI\n",
      "CG\n",
      "CD\n",
      "BT\n",
      "UA\n",
      "BY\n",
      "NA\n",
      "ZA\n",
      "MF\n",
      "SX\n",
      "OM\n",
      "UZ\n",
      "KZ\n",
      "TJ\n",
      "LT\n",
      "BR\n",
      "UY\n",
      "MN\n",
      "RU\n",
      "CZ\n",
      "DE\n",
      "EE\n",
      "LV\n",
      "NO\n",
      "SE\n",
      "FI\n",
      "VN\n",
      "KH\n",
      "LU\n",
      "AE\n",
      "BE\n",
      "GE\n",
      "MK\n",
      "AL\n",
      "AZ\n",
      "XK\n",
      "TR\n",
      "ES\n",
      "LA\n",
      "KG\n",
      "AM\n",
      "DK\n",
      "LY\n",
      "TN\n",
      "RO\n",
      "HU\n",
      "SK\n",
      "PL\n",
      "IE\n",
      "GB\n",
      "GR\n",
      "ZM\n",
      "SL\n",
      "GN\n",
      "LR\n",
      "CF\n",
      "SD\n",
      "DJ\n",
      "ER\n",
      "AT\n",
      "IQ\n",
      "IT\n",
      "CH\n",
      "IR\n",
      "NL\n",
      "LI\n",
      "CI\n",
      "RS\n",
      "ML\n",
      "SN\n",
      "NG\n",
      "BJ\n",
      "AO\n",
      "HR\n",
      "SI\n",
      "QA\n",
      "SA\n",
      "BW\n",
      "ZW\n",
      "BG\n",
      "TH\n",
      "SM\n",
      "HT\n",
      "DO\n",
      "TD\n",
      "KW\n",
      "SV\n",
      "GT\n",
      "TL\n",
      "BN\n",
      "MC\n",
      "DZ\n",
      "MZ\n",
      "SZ\n",
      "BI\n",
      "RW\n",
      "MM\n",
      "BD\n",
      "AD\n",
      "AF\n",
      "ME\n",
      "BA\n",
      "UG\n",
      "CU\n",
      "HN\n",
      "EC\n",
      "CO\n",
      "PY\n",
      "PT\n",
      "MD\n",
      "TM\n",
      "JO\n",
      "NP\n",
      "LS\n",
      "CM\n",
      "GA\n",
      "NE\n",
      "BF\n",
      "TG\n",
      "GH\n",
      "GW\n",
      "GI\n",
      "US\n",
      "CA\n",
      "MX\n",
      "BZ\n",
      "PA\n",
      "VE\n",
      "PG\n",
      "EG\n",
      "YE\n",
      "MR\n",
      "GQ\n",
      "GM\n",
      "HK\n",
      "VA\n",
      "AQ\n",
      "AU\n",
      "GL\n",
      "FJ\n",
      "NZ\n",
      "NC\n",
      "MG\n",
      "PH\n",
      "LK\n",
      "CW\n",
      "AW\n",
      "BS\n",
      "TC\n",
      "TW\n",
      "JP\n",
      "PM\n",
      "IS\n",
      "PN\n",
      "PF\n",
      "TF\n",
      "SC\n",
      "KI\n",
      "MH\n",
      "TT\n",
      "GD\n",
      "VC\n",
      "BB\n",
      "LC\n",
      "DM\n",
      "UM\n",
      "MS\n",
      "AG\n",
      "KN\n",
      "VI\n",
      "BL\n",
      "PR\n",
      "AI\n",
      "VG\n",
      "JM\n",
      "KY\n",
      "BM\n",
      "HM\n",
      "SH\n",
      "MU\n",
      "KM\n",
      "ST\n",
      "CV\n",
      "MT\n",
      "JE\n",
      "GG\n",
      "IM\n",
      "AX\n",
      "FO\n",
      "IO\n",
      "SG\n",
      "NF\n",
      "CK\n",
      "TO\n",
      "WF\n",
      "WS\n",
      "SB\n",
      "TV\n",
      "MV\n",
      "NR\n",
      "FM\n",
      "GS\n",
      "FK\n",
      "VU\n",
      "NU\n",
      "AS\n",
      "PW\n",
      "GU\n",
      "MP\n",
      "BH\n",
      "FR\n",
      "MO\n"
     ]
    }
   ],
   "source": [
    "for row in ne.iterrows():\n",
    "    iso2 = row[1]['ISO_A2']\n",
    "    if iso2!='-99':\n",
    "        _geom = row[1]['geometry']\n",
    "        #storage.set('ne_'+iso2, json.dumps(geometry.mapping(_geom)))\n",
    "        fn('n/a',iso2)\n",
    "        print (iso2)"
   ]
  },
  {
   "cell_type": "code",
   "execution_count": null,
   "metadata": {},
   "outputs": [],
   "source": [
    "redo = ['MF', 'IL', 'DJ', 'PS', 'LB', 'KR', 'KP', 'BT', 'SX', 'TJ', 'MN', 'KH',\n",
    "       'AE', 'LA', 'KG', 'BJ', 'SM', 'HT', 'KW', 'DO', 'SZ', 'BI', 'AD', 'RW',\n",
    "       'BD', 'UG', 'EC', 'GA', 'GW', 'TG', 'NP', 'VA', 'GQ', 'HK', 'LS', 'AW',\n",
    "       'CW', 'LK', 'PM', 'NC', 'TC', 'TT', 'VC', 'GD', 'BB', 'FJ', 'LC', 'AG',\n",
    "       'MS', 'DM', 'KN', 'VG', 'HM', 'BL', 'VI', 'KM', 'ST', 'KY', 'JE', 'MU',\n",
    "       'SG', 'NF', 'FO', 'NR', 'GG', 'FR', 'WS', 'AX', 'NU', 'TO', 'WF', 'MP',\n",
    "       'GU', 'FK', 'MO']"
   ]
  },
  {
   "cell_type": "code",
   "execution_count": null,
   "metadata": {},
   "outputs": [],
   "source": [
    "for iso2 in redo:\n",
    "    if iso2!='-99':\n",
    "        _geom = ne.loc[ne.ISO_A2==iso2,'geometry'].values[0]\n",
    "        #storage.set('ne_'+iso2, json.dumps(geometry.mapping(_geom)))\n",
    "        print (iso2)\n",
    "        if iso2=='US':\n",
    "            fn('CDL',iso2)\n",
    "        elif (iso2 in corine_countries) and (iso2!='GB'):\n",
    "            fn('CORINE',iso2)\n",
    "        else:\n",
    "            fn('MODIS',iso2)"
   ]
  },
  {
   "cell_type": "code",
   "execution_count": null,
   "metadata": {},
   "outputs": [],
   "source": [
    "# redo all modis\n",
    "for row in ne.iterrows():\n",
    "    iso2 = row[1]['ISO_A2']\n",
    "    if iso2!='-99':\n",
    "        #_geom = row[1]['geometry']\n",
    "        #storage.set('ne_'+iso2, json.dumps(geometry.mapping(_geom)))\n",
    "        print (iso2)\n",
    "        if iso2=='US':\n",
    "            pass #fn('CDL',iso2)\n",
    "        elif (iso2 in corine_countries) and (iso2!='GB'):\n",
    "            pass #fn('CORINE',iso2)\n",
    "        else:\n",
    "            fn('MODIS',iso2)"
   ]
  },
  {
   "cell_type": "markdown",
   "metadata": {},
   "source": [
    "### Collect Countries"
   ]
  },
  {
   "cell_type": "code",
   "execution_count": 16,
   "metadata": {},
   "outputs": [],
   "source": [
    "urls = []"
   ]
  },
  {
   "cell_type": "code",
   "execution_count": 18,
   "metadata": {},
   "outputs": [],
   "source": [
    "q = tasks.get_task_results('11ba261f',limit=1000, status='SUCCESS', include=['result_url'])\n",
    "token=q['continuation_token']\n",
    "urls += q['results']\n",
    "counter = 0\n",
    "\n",
    "while token:\n",
    "    print (counter)\n",
    "    counter+=1\n",
    "    q = tasks.get_task_results('11ba261f',limit=1000, status='SUCCESS', include=['result_url'], continuation_token=token)\n",
    "    token=q['continuation_token']\n",
    "    urls +=q['results']"
   ]
  },
  {
   "cell_type": "code",
   "execution_count": 20,
   "metadata": {},
   "outputs": [],
   "source": [
    "q = tasks.get_task_results('4a5fe7e3',limit=1000, status='SUCCESS', include=['result_url'])\n",
    "token=q['continuation_token']\n",
    "urls += q['results']\n",
    "counter = 0\n",
    "\n",
    "while token:\n",
    "    print (counter)\n",
    "    counter+=1\n",
    "    q = tasks.get_task_results('4a5fe7e3',limit=1000, status='SUCCESS', include=['result_url'], continuation_token=token)\n",
    "    token=q['continuation_token']\n",
    "    urls +=q['results']"
   ]
  },
  {
   "cell_type": "code",
   "execution_count": 21,
   "metadata": {},
   "outputs": [
    {
     "data": {
      "text/plain": [
       "240"
      ]
     },
     "execution_count": 21,
     "metadata": {},
     "output_type": "execute_result"
    }
   ],
   "source": [
    "len(urls)"
   ]
  },
  {
   "cell_type": "code",
   "execution_count": 24,
   "metadata": {},
   "outputs": [],
   "source": [
    "import requests"
   ]
  },
  {
   "cell_type": "code",
   "execution_count": 40,
   "metadata": {},
   "outputs": [],
   "source": [
    "pd.DataFrame.from_records([r['reduction'] for r in new_results], index=[r['iso2'] for r in new_results]).to_csv(os.path.join(root,'data','LC300_world.csv'))"
   ]
  },
  {
   "cell_type": "markdown",
   "metadata": {},
   "source": [
    "### Wrangle labels"
   ]
  },
  {
   "cell_type": "code",
   "execution_count": null,
   "metadata": {},
   "outputs": [],
   "source": [
    "labels = {}\n",
    "labels['CORINE'] = pickle.load(open(os.path.join(root,'data','class_labels_CORINE.pkl'),'rb'))\n",
    "labels['MODIS'] = pickle.load(open(os.path.join(root,'data','class_labels_MODIS.pkl'),'rb'))\n",
    "labels['CDL'] = pickle.load(open(os.path.join(root,'data','class_labels_cdl.pkl'),'rb'))"
   ]
  },
  {
   "cell_type": "code",
   "execution_count": null,
   "metadata": {},
   "outputs": [],
   "source": [
    "labels_agg = {}"
   ]
  },
  {
   "cell_type": "code",
   "execution_count": null,
   "metadata": {},
   "outputs": [],
   "source": [
    "labels_agg['CORINE'] = {\n",
    "    'forestshrub':[23,24,25,29],\n",
    "    'wetlands':[35,36,37,38],\n",
    "    'human':[1,2,3,4,5,6,7,8,9,10,11],\n",
    "    'cropland':[12,13,14,15,16,17,18,19,20,21,22],\n",
    "    'grassy':[26,27,28,],\n",
    "    'barren':[30,31,32,33,34],\n",
    "    'other':[39,40,41,42,43,44,45,46,47],\n",
    "}\n",
    "labels_agg['MODIS'] = {    \n",
    "    'forestshrub':[1,2,3,4,5,6,7,8],\n",
    "    'wetlands':[11],\n",
    "    'human':[13],\n",
    "    'cropland':[12,14],\n",
    "    'grassy':[9,10],\n",
    "    'barren':[15,16],\n",
    "    'other':[17,0],\n",
    "}\n",
    "labels_agg['CDL'] = {    \n",
    "    'forestshrub':[63,64, 141, 142, 143, 152],\n",
    "    'wetlands':[87, 190, 195],\n",
    "    'human':[82, 121, 122, 123, 124],\n",
    "    'cropland':[], # else\n",
    "    'grassy':[59,60,61,62, 176],\n",
    "    'barren':[65,112,131],\n",
    "    'other':[0, 81, 83, 88, 111], #''\n",
    "}\n",
    "existing_labels = [el for kk,vv in labels_agg['CDL'].items() for el in vv]\n",
    "\n",
    "for kk, vv in labels['CDL'].items():\n",
    "    if kk not in existing_labels:\n",
    "        if vv=='':\n",
    "            labels_agg['CDL']['other'].append(kk)\n",
    "        else:\n",
    "            labels_agg['CDL']['cropland'].append(kk)"
   ]
  },
  {
   "cell_type": "code",
   "execution_count": null,
   "metadata": {},
   "outputs": [],
   "source": [
    "labels_agg"
   ]
  },
  {
   "cell_type": "code",
   "execution_count": null,
   "metadata": {},
   "outputs": [],
   "source": [
    "json.dump(labels_agg, open(os.path.join(root,'data','all_labels.json'),'w'))"
   ]
  },
  {
   "cell_type": "markdown",
   "metadata": {},
   "source": [
    "#### Set to storage"
   ]
  },
  {
   "cell_type": "code",
   "execution_count": null,
   "metadata": {},
   "outputs": [],
   "source": [
    "storage_client = dl.Storage()"
   ]
  },
  {
   "cell_type": "code",
   "execution_count": null,
   "metadata": {},
   "outputs": [],
   "source": [
    "storage_client.set('land_cover_labels',json.dumps(labels_agg))"
   ]
  },
  {
   "cell_type": "code",
   "execution_count": null,
   "metadata": {},
   "outputs": [],
   "source": []
  },
  {
   "cell_type": "markdown",
   "metadata": {},
   "source": [
    "### Prototype"
   ]
  },
  {
   "cell_type": "code",
   "execution_count": null,
   "metadata": {},
   "outputs": [],
   "source": [
    "raster_client = dl.Raster()\n",
    "metadata_client = dl.Metadata()"
   ]
  },
  {
   "cell_type": "code",
   "execution_count": null,
   "metadata": {},
   "outputs": [],
   "source": [
    "aa = area(geometry.mapping(px2bbox(coords[10][0], coords[10][1]))) # m^2\n",
    "np.sqrt(aa) #m \n",
    "np.sqrt(aa)/10 # px"
   ]
  },
  {
   "cell_type": "code",
   "execution_count": null,
   "metadata": {},
   "outputs": [],
   "source": [
    "DE = ne.loc[ne['ISO_A2']=='DE','geometry']"
   ]
  },
  {
   "cell_type": "code",
   "execution_count": null,
   "metadata": {},
   "outputs": [],
   "source": [
    "US.geometry.values[0]"
   ]
  },
  {
   "cell_type": "code",
   "execution_count": null,
   "metadata": {},
   "outputs": [],
   "source": [
    "RU.geometry.values[0]"
   ]
  },
  {
   "cell_type": "code",
   "execution_count": null,
   "metadata": {},
   "outputs": [],
   "source": [
    "_geom = px2bbox(coords[10][0], coords[10][1])"
   ]
  },
  {
   "cell_type": "code",
   "execution_count": null,
   "metadata": {},
   "outputs": [],
   "source": [
    "tiles = raster_client.dltiles_from_shape(10, 10000, 0, DE.geometry.values[0])"
   ]
  },
  {
   "cell_type": "code",
   "execution_count": null,
   "metadata": {},
   "outputs": [],
   "source": [
    "len(tiles['features'])"
   ]
  },
  {
   "cell_type": "code",
   "execution_count": null,
   "metadata": {},
   "outputs": [],
   "source": [
    "tiles = raster_client.dltiles_from_shape(500, 50, 0, _geom)\n"
   ]
  },
  {
   "cell_type": "code",
   "execution_count": null,
   "metadata": {},
   "outputs": [],
   "source": [
    "tiles = raster_client.dltiles_from_shape(1.5, 5000, 0, _geom)"
   ]
  },
  {
   "cell_type": "code",
   "execution_count": null,
   "metadata": {},
   "outputs": [],
   "source": [
    "len(tiles['features'])"
   ]
  },
  {
   "cell_type": "code",
   "execution_count": null,
   "metadata": {},
   "outputs": [],
   "source": [
    "labels_all = json.load(open(os.path.join(root,'data','all_labels.json'),'r'))"
   ]
  },
  {
   "cell_type": "code",
   "execution_count": null,
   "metadata": {},
   "outputs": [],
   "source": [
    "labels_all['CORINE']"
   ]
  },
  {
   "cell_type": "code",
   "execution_count": null,
   "metadata": {},
   "outputs": [],
   "source": [
    "products = {\n",
    "    'CORINE':{'product':'oxford-university:corine-land-cover',\n",
    "             'bands':['CLC_class'],\n",
    "             'sdate':'2006-12-29',\n",
    "             'edate':'2007-01-03',\n",
    "             'resolution':10,\n",
    "             'tilesize':1000},\n",
    "    'MODIS':{'product':\"modis:mcd12q1:051\",\n",
    "            'bands':['Land_Cover_Type_1'],\n",
    "            'sdate':'2006-12-29', \n",
    "            'edate':'2007-01-03',\n",
    "            'resolution':500,\n",
    "            'tilesize':50},\n",
    "    'CDL':{'product':\"usda:cdl:v1\",\n",
    "          'bands':['class'],\n",
    "          'sdate':'2009-12-29',  # first year with full lower 48\n",
    "          'edate':'2010-01-03',\n",
    "          'resolution':30,\n",
    "          'tilesize':250}\n",
    "}"
   ]
  },
  {
   "cell_type": "code",
   "execution_count": null,
   "metadata": {},
   "outputs": [],
   "source": [
    "def do_ll(ll_geom,prodstr):\n",
    "    \n",
    "    \n",
    "    classes = ['cropland', 'forestshrub', 'grassy', 'human', 'wetlands', 'barren','other','all']\n",
    "    \n",
    "    tiles = raster_client.dltiles_from_shape(products[prodstr]['resolution'], \n",
    "                                             products[prodstr]['tilesize'], \n",
    "                                             0, \n",
    "                                             ll_geom)\n",
    "    \n",
    "    print (f'len tiles: {len(tiles[\"features\"])}')\n",
    "    \n",
    "    tile_res = {}\n",
    "    for tile in tiles['features']:\n",
    "        tile_res[tile['properties']['key']] = reduce_tile(tile,prodstr)\n",
    "        \n",
    "    reduction = {}\n",
    "    for kk in classes:\n",
    "        reduction[kk] = sum(tile_res[kk2][kk] for kk2 in tile_res.keys())\n",
    "        \n",
    "    return reduction"
   ]
  },
  {
   "cell_type": "code",
   "execution_count": null,
   "metadata": {},
   "outputs": [],
   "source": [
    "def reduce_tile(tile,prodstr):\n",
    "    \n",
    "    #['#ed8540', '#2f9149','#b6eb7f','#d000ff','cyan','b']) # cropland, forest, grassland, developed, wetlands, barren/other\n",
    "    \n",
    "    ind_dict = dict(zip(['cropland', 'forestshrub', 'grassy', 'human', 'wetlands', 'barren','other'],range(7)))\n",
    "    \n",
    "    scenes = metadata_client.search(products[prodstr]['product'], \n",
    "                                                geom=tile['geometry'], \n",
    "                                                start_datetime=products[prodstr]['sdate'],  \n",
    "                                                end_datetime=products[prodstr]['edate'])\n",
    "    print (f'len scenes: {len(scenes[\"features\"])}')\n",
    "    #print (scenes['features'][0])\n",
    "    \n",
    "    if len(scenes['features'])<1:\n",
    "        res_dict = {kk:0 for kk in ind_dict.keys()}\n",
    "        res_dict['all']=0\n",
    "    else:\n",
    "    \n",
    "        arr, meta = raster_client.ndarray(scenes['features'][0].id, \n",
    "                                          bands=products[prodstr]['bands'], \n",
    "                                          scales=[[0,255]], \n",
    "                                          ot='Byte', \n",
    "                                          dltile=tile['properties']['key'])\n",
    "\n",
    "        #print (np.unique(arr))\n",
    "        #for vv in np.unique(arr):\n",
    "        #    print (vv, labels['CDL'][vv],np.isin(arr, [vv]).sum())\n",
    "        #print (arr.shape)\n",
    "        res_dict = {}\n",
    "\n",
    "        for kk in ind_dict.keys():\n",
    "            res_dict[kk]=np.isin(arr,labels_all[prodstr][kk]).sum()\n",
    "\n",
    "        res_dict['all'] = arr.shape[0]*arr.shape[1]\n",
    "    print (res_dict)\n",
    "    #plt.imshow(arr)\n",
    "    return res_dict"
   ]
  },
  {
   "cell_type": "code",
   "execution_count": null,
   "metadata": {
    "scrolled": true
   },
   "outputs": [],
   "source": [
    "for pix_x, pix_y in coords[1123:1124]:\n",
    "    _geom = px2bbox(pix_x, pix_y)\n",
    "    print (list(_geom.exterior.coords))\n",
    "    aa = area(geometry.mapping(_geom))\n",
    "    isostr = ne.loc[ne.intersects(_geom),'ISO_A2'].values[0]\n",
    "    if isostr=='US':\n",
    "        prodstr='CDL'\n",
    "    elif isostr in corine_countries:\n",
    "        prodstr='CORINE'\n",
    "    else:\n",
    "        prodstr='MODIS'\n",
    "    print (np.sqrt(aa)/10, aa/100, isostr, prodstr)\n",
    "    \n",
    "    GOTRESULT = do_ll(_geom,prodstr)\n",
    "    print ('GOTRESULT',GOTRESULT)"
   ]
  },
  {
   "cell_type": "code",
   "execution_count": null,
   "metadata": {},
   "outputs": [],
   "source": []
  }
 ],
 "metadata": {
  "kernelspec": {
   "display_name": "Python 3",
   "language": "python",
   "name": "python3"
  },
  "language_info": {
   "codemirror_mode": {
    "name": "ipython",
    "version": 3
   },
   "file_extension": ".py",
   "mimetype": "text/x-python",
   "name": "python",
   "nbconvert_exporter": "python",
   "pygments_lexer": "ipython3",
   "version": "3.6.10"
  }
 },
 "nbformat": 4,
 "nbformat_minor": 4
}
