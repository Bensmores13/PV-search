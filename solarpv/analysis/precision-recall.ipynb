{
 "cells": [
  {
   "cell_type": "code",
   "execution_count": 1,
   "metadata": {},
   "outputs": [],
   "source": [
    "import geojson\n",
    "import geopandas as gpd\n",
    "import descarteslabs as dl\n",
    "import pandas as pd\n",
    "from shapely import geometry\n",
    "import numpy as np\n",
    "import json\n",
    "import yaml\n",
    "import pickle\n",
    "import matplotlib.pyplot as plt"
   ]
  },
  {
   "cell_type": "markdown",
   "metadata": {},
   "source": [
    "- Combine airbus and cv polygons\n",
    "- get S2-shaped tiles for all polygons\n",
    "- filter those tiles for only those within airbus tiles"
   ]
  },
  {
   "cell_type": "code",
   "execution_count": 2,
   "metadata": {},
   "outputs": [],
   "source": [
    "cv_tiles = gpd.read_file('../data/cv_all_tiles.geojson')\n",
    "cv_polys = gpd.read_file('../data/cv_all_polys.geojson')"
   ]
  },
  {
   "cell_type": "code",
   "execution_count": 19,
   "metadata": {},
   "outputs": [],
   "source": [
    "cv_polys_mp = geometry.MultiPolygon([geom for geom in cv_polys.unary_union.geoms])"
   ]
  },
  {
   "cell_type": "code",
   "execution_count": 49,
   "metadata": {},
   "outputs": [],
   "source": [
    "cv_tiles_mp =geometry.MultiPolygon([geom for geom in cv_tiles.unary_union.geoms])"
   ]
  },
  {
   "cell_type": "markdown",
   "metadata": {},
   "source": [
    "### Download pipeline interim features"
   ]
  },
  {
   "cell_type": "code",
   "execution_count": 2,
   "metadata": {},
   "outputs": [],
   "source": [
    "config = yaml.safe_load(open('../cloud_products_exec.yaml','r'))"
   ]
  },
  {
   "cell_type": "code",
   "execution_count": 12,
   "metadata": {},
   "outputs": [
    {
     "name": "stdout",
     "output_type": "stream",
     "text": [
      "ba611607613832ad7bb8fa9dc2bafb71f693bd6a:v1-solar-pv-20190521-combined-final\n",
      "ba611607613832ad7bb8fa9dc2bafb71f693bd6a:solar_pv_S2_v3_20190306_primary\n",
      "ba611607613832ad7bb8fa9dc2bafb71f693bd6a:solar_pv:s2:v3_20190327:secondary\n",
      "ba611607613832ad7bb8fa9dc2bafb71f693bd6a:V1-solar_pv-S2-20190308-primary_pass\n",
      "ba611607613832ad7bb8fa9dc2bafb71f693bd6a:V2-solar_pv-S2-20190327-secondary_filter\n",
      "ba611607613832ad7bb8fa9dc2bafb71f693bd6a:V3-solar_pv-S2-20190328-deepstack\n",
      "ba611607613832ad7bb8fa9dc2bafb71f693bd6a:v4-solar_pv-s2-20190322_final\n",
      "8514dad6c277e007cedb6fb8e829a23c8975fca4:solar_pv:airbus:spot:v5_0111\n",
      "ba611607613832ad7bb8fa9dc2bafb71f693bd6a:v1b-solar-pv-spot\n",
      "ba611607613832ad7bb8fa9dc2bafb71f693bd6a:v1-solar_pv-spot-20200317-postfilter\n"
     ]
    }
   ],
   "source": [
    "for kk in config.keys():\n",
    "    print (config[kk]['cloud_id'])"
   ]
  },
  {
   "cell_type": "code",
   "execution_count": 3,
   "metadata": {},
   "outputs": [],
   "source": [
    "vector_keys = [kk for kk in config.keys() if kk.split('-')[1][0]=='V']"
   ]
  },
  {
   "cell_type": "code",
   "execution_count": 4,
   "metadata": {},
   "outputs": [],
   "source": [
    "vector_keys=vector_keys[1:]"
   ]
  },
  {
   "cell_type": "code",
   "execution_count": 5,
   "metadata": {},
   "outputs": [
    {
     "data": {
      "text/plain": [
       "['S2-V1-Primary',\n",
       " 'S2-V2-Secondary',\n",
       " 'S2-V3-Deepstack',\n",
       " 'S2-V4-Final',\n",
       " 'SPOT-V1-Vectorised',\n",
       " 'SPOT-V2-Filtered']"
      ]
     },
     "execution_count": 5,
     "metadata": {},
     "output_type": "execute_result"
    }
   ],
   "source": [
    "vector_keys"
   ]
  },
  {
   "cell_type": "code",
   "execution_count": 55,
   "metadata": {},
   "outputs": [
    {
     "name": "stdout",
     "output_type": "stream",
     "text": [
      "S2-V1-Primary 2365\n",
      "S2-V2-Secondary 2311\n",
      "S2-V3-Deepstack 882\n",
      "S2-V4-Final 449\n",
      "SPOT-V1-Vectorised 1095\n",
      "SPOT-V2-Filtered 398\n"
     ]
    }
   ],
   "source": [
    "for kk in vector_keys:\n",
    "    fc = dl.vectors.FeatureCollection(config[kk]['cloud_id'])\n",
    "    fts = [geojson.Feature(geometry=f.geometry, properties=f.properties) for f in fc.filter(cv_tiles_mp).features()]\n",
    "    print (kk, len(fts))\n",
    "    json.dump(geojson.FeatureCollection(fts),open('../data/crossvalidation/'+kk+'.geojson','w'))"
   ]
  },
  {
   "cell_type": "markdown",
   "metadata": {},
   "source": [
    "### Get final product"
   ]
  },
  {
   "cell_type": "code",
   "execution_count": 5,
   "metadata": {},
   "outputs": [],
   "source": [
    "final_polys=gpd.read_file('../data/ABCD_simplified.geojson')"
   ]
  },
  {
   "cell_type": "code",
   "execution_count": 7,
   "metadata": {},
   "outputs": [],
   "source": [
    "final_polys = final_polys[final_polys.intersects(cv_mp)]"
   ]
  },
  {
   "cell_type": "code",
   "execution_count": 45,
   "metadata": {},
   "outputs": [],
   "source": [
    "final_polys.to_file('../data/crossvalidation/compile_final.geojson',driver='GeoJSON')"
   ]
  },
  {
   "cell_type": "markdown",
   "metadata": {},
   "source": [
    "### Load downloaded features"
   ]
  },
  {
   "cell_type": "code",
   "execution_count": 6,
   "metadata": {},
   "outputs": [],
   "source": [
    "gdfs = {}\n",
    "for kk in vector_keys:\n",
    "    gdfs[kk] = gpd.read_file('../data/crossvalidation/'+kk+'.geojson')\n",
    "gdfs['compiled_final']=gpd.read_file('../data/crossvalidation/compile_final.geojson')"
   ]
  },
  {
   "cell_type": "code",
   "execution_count": 62,
   "metadata": {},
   "outputs": [
    {
     "name": "stderr",
     "output_type": "stream",
     "text": [
      "/home/lucas/miniconda3/envs/geoml/lib/python3.7/site-packages/pyproj/crs/crs.py:55: FutureWarning: '+init=<authority>:<code>' syntax is deprecated. '<authority>:<code>' is the preferred initialization method. When making the change, be mindful of axis order changes: https://pyproj4.github.io/pyproj/stable/gotchas.html#axis-order-changes-in-proj-6\n",
      "  return _prepare_from_string(\" \".join(pjargs))\n"
     ]
    }
   ],
   "source": [
    "cv_polys['geoarea'] = cv_polys.to_crs({'init': 'epsg:3857'}).area"
   ]
  },
  {
   "cell_type": "code",
   "execution_count": 57,
   "metadata": {},
   "outputs": [
    {
     "name": "stderr",
     "output_type": "stream",
     "text": [
      "/home/lucas/miniconda3/envs/geoml/lib/python3.7/site-packages/pyproj/crs/crs.py:55: FutureWarning: '+init=<authority>:<code>' syntax is deprecated. '<authority>:<code>' is the preferred initialization method. When making the change, be mindful of axis order changes: https://pyproj4.github.io/pyproj/stable/gotchas.html#axis-order-changes-in-proj-6\n",
      "  return _prepare_from_string(\" \".join(pjargs))\n",
      "/home/lucas/miniconda3/envs/geoml/lib/python3.7/site-packages/pyproj/crs/crs.py:55: FutureWarning: '+init=<authority>:<code>' syntax is deprecated. '<authority>:<code>' is the preferred initialization method. When making the change, be mindful of axis order changes: https://pyproj4.github.io/pyproj/stable/gotchas.html#axis-order-changes-in-proj-6\n",
      "  return _prepare_from_string(\" \".join(pjargs))\n",
      "/home/lucas/miniconda3/envs/geoml/lib/python3.7/site-packages/pyproj/crs/crs.py:55: FutureWarning: '+init=<authority>:<code>' syntax is deprecated. '<authority>:<code>' is the preferred initialization method. When making the change, be mindful of axis order changes: https://pyproj4.github.io/pyproj/stable/gotchas.html#axis-order-changes-in-proj-6\n",
      "  return _prepare_from_string(\" \".join(pjargs))\n",
      "/home/lucas/miniconda3/envs/geoml/lib/python3.7/site-packages/pyproj/crs/crs.py:55: FutureWarning: '+init=<authority>:<code>' syntax is deprecated. '<authority>:<code>' is the preferred initialization method. When making the change, be mindful of axis order changes: https://pyproj4.github.io/pyproj/stable/gotchas.html#axis-order-changes-in-proj-6\n",
      "  return _prepare_from_string(\" \".join(pjargs))\n",
      "/home/lucas/miniconda3/envs/geoml/lib/python3.7/site-packages/pyproj/crs/crs.py:55: FutureWarning: '+init=<authority>:<code>' syntax is deprecated. '<authority>:<code>' is the preferred initialization method. When making the change, be mindful of axis order changes: https://pyproj4.github.io/pyproj/stable/gotchas.html#axis-order-changes-in-proj-6\n",
      "  return _prepare_from_string(\" \".join(pjargs))\n",
      "/home/lucas/miniconda3/envs/geoml/lib/python3.7/site-packages/pyproj/crs/crs.py:55: FutureWarning: '+init=<authority>:<code>' syntax is deprecated. '<authority>:<code>' is the preferred initialization method. When making the change, be mindful of axis order changes: https://pyproj4.github.io/pyproj/stable/gotchas.html#axis-order-changes-in-proj-6\n",
      "  return _prepare_from_string(\" \".join(pjargs))\n",
      "/home/lucas/miniconda3/envs/geoml/lib/python3.7/site-packages/pyproj/crs/crs.py:55: FutureWarning: '+init=<authority>:<code>' syntax is deprecated. '<authority>:<code>' is the preferred initialization method. When making the change, be mindful of axis order changes: https://pyproj4.github.io/pyproj/stable/gotchas.html#axis-order-changes-in-proj-6\n",
      "  return _prepare_from_string(\" \".join(pjargs))\n"
     ]
    }
   ],
   "source": [
    "for kk in gdfs.keys():\n",
    "    gdfs[kk]['geoarea'] = gdfs[kk].to_crs({'init': 'epsg:3857'}).area"
   ]
  },
  {
   "cell_type": "code",
   "execution_count": 62,
   "metadata": {},
   "outputs": [
    {
     "data": {
      "text/plain": [
       "<matplotlib.axes._subplots.AxesSubplot at 0x7f8d0f8d14d0>"
      ]
     },
     "execution_count": 62,
     "metadata": {},
     "output_type": "execute_result"
    },
    {
     "data": {
      "image/png": "[encoded data removed]",
      "text/plain": [
       "<Figure size 432x288 with 1 Axes>"
      ]
     },
     "metadata": {
      "needs_background": "light"
     },
     "output_type": "display_data"
    }
   ],
   "source": [
    "np.log10(gdfs['S2-V1-Primary']['geoarea']).hist(bins=50)"
   ]
  },
  {
   "cell_type": "markdown",
   "metadata": {},
   "source": [
    "### precision / recall"
   ]
  },
  {
   "cell_type": "code",
   "execution_count": 7,
   "metadata": {},
   "outputs": [],
   "source": [
    "area_bins = [0,1e2,1e3,1e4,1e5,1e6,1e10]"
   ]
  },
  {
   "cell_type": "code",
   "execution_count": null,
   "metadata": {},
   "outputs": [],
   "source": [
    "res_dict= {}"
   ]
  },
  {
   "cell_type": "code",
   "execution_count": 63,
   "metadata": {},
   "outputs": [
    {
     "name": "stdout",
     "output_type": "stream",
     "text": [
      "S2-V1-Primary 0 {'P': 0.10443864229765012, 'P_TP': 80, 'P_FP': 686, 'R': 0.0462046204620462, 'R_TP': 112, 'R_FN': 2312}\n",
      "S2-V1-Primary 100.0 {'P': 0.17724867724867724, 'P_TP': 134, 'P_FP': 622, 'R': 0.25051334702258726, 'R_TP': 488, 'R_FN': 1460}\n",
      "S2-V1-Primary 1000.0 {'P': 0.3116883116883117, 'P_TP': 96, 'P_FP': 212, 'R': 0.34903381642512077, 'R_TP': 289, 'R_FN': 539}\n",
      "S2-V1-Primary 10000.0 {'P': 0.7539936102236422, 'P_TP': 236, 'P_FP': 77, 'R': 0.9115191986644408, 'R_TP': 546, 'R_FN': 53}\n",
      "S2-V1-Primary 100000.0 {'P': 0.8817204301075269, 'P_TP': 164, 'P_FP': 22, 'R': 0.9814385150812065, 'R_TP': 423, 'R_FN': 8}\n",
      "S2-V1-Primary 1000000.0 {'P': 0.9444444444444444, 'P_TP': 34, 'P_FP': 2, 'R': 1.0, 'R_TP': 51, 'R_FN': 0}\n",
      "S2-V2-Secondary 0 {'P': 0.13865546218487396, 'P_TP': 132, 'P_FP': 820, 'R': 0.04537953795379538, 'R_TP': 110, 'R_FN': 2314}\n",
      "S2-V2-Secondary 100.0 {'P': 0.2108843537414966, 'P_TP': 62, 'P_FP': 232, 'R': 0.2464065708418891, 'R_TP': 480, 'R_FN': 1468}\n",
      "S2-V2-Secondary 1000.0 {'P': 0.2851985559566787, 'P_TP': 79, 'P_FP': 198, 'R': 0.3442028985507246, 'R_TP': 285, 'R_FN': 543}\n",
      "S2-V2-Secondary 10000.0 {'P': 0.6902439024390243, 'P_TP': 283, 'P_FP': 127, 'R': 0.9048414023372288, 'R_TP': 542, 'R_FN': 57}\n",
      "S2-V2-Secondary 100000.0 {'P': 0.877742946708464, 'P_TP': 280, 'P_FP': 39, 'R': 0.9814385150812065, 'R_TP': 423, 'R_FN': 8}\n",
      "S2-V2-Secondary 1000000.0 {'P': 0.9491525423728814, 'P_TP': 56, 'P_FP': 3, 'R': 1.0, 'R_TP': 51, 'R_FN': 0}\n",
      "S2-V3-Deepstack 0 {'P': 0.22072072072072071, 'P_TP': 49, 'P_FP': 173, 'R': 0.04537953795379538, 'R_TP': 110, 'R_FN': 2314}\n",
      "S2-V3-Deepstack 100.0 {'P': 0.3488372093023256, 'P_TP': 15, 'P_FP': 28, 'R': 0.23049281314168377, 'R_TP': 449, 'R_FN': 1499}\n",
      "S2-V3-Deepstack 1000.0 {'P': 0.3968253968253968, 'P_TP': 25, 'P_FP': 38, 'R': 0.2632850241545894, 'R_TP': 218, 'R_FN': 610}\n",
      "S2-V3-Deepstack 10000.0 {'P': 0.7768924302788844, 'P_TP': 195, 'P_FP': 56, 'R': 0.8397328881469115, 'R_TP': 503, 'R_FN': 96}\n",
      "S2-V3-Deepstack 100000.0 {'P': 0.8846153846153846, 'P_TP': 230, 'P_FP': 30, 'R': 0.9419953596287703, 'R_TP': 406, 'R_FN': 25}\n",
      "S2-V3-Deepstack 1000000.0 {'P': 0.9302325581395349, 'P_TP': 40, 'P_FP': 3, 'R': 1.0, 'R_TP': 51, 'R_FN': 0}\n",
      "S2-V4-Final 0 {'P': 0.75, 'P_TP': 18, 'P_FP': 6, 'R': 0.0008250825082508251, 'R_TP': 2, 'R_FN': 2422}\n",
      "S2-V4-Final 100.0 {'P': 0.8, 'P_TP': 4, 'P_FP': 1, 'R': 0.12833675564681724, 'R_TP': 250, 'R_FN': 1698}\n",
      "S2-V4-Final 1000.0 {'P': 1.0, 'P_TP': 8, 'P_FP': 0, 'R': 0.1497584541062802, 'R_TP': 124, 'R_FN': 704}\n",
      "S2-V4-Final 10000.0 {'P': 0.8986486486486487, 'P_TP': 133, 'P_FP': 15, 'R': 0.6978297161936561, 'R_TP': 418, 'R_FN': 181}\n",
      "S2-V4-Final 100000.0 {'P': 0.96875, 'P_TP': 217, 'P_FP': 7, 'R': 0.888631090487239, 'R_TP': 383, 'R_FN': 48}\n",
      "S2-V4-Final 1000000.0 {'P': 0.975, 'P_TP': 39, 'P_FP': 1, 'R': 0.8823529411764706, 'R_TP': 45, 'R_FN': 6}\n"
     ]
    },
    {
     "name": "stderr",
     "output_type": "stream",
     "text": [
      "/home/lucas/miniconda3/envs/geoml/lib/python3.7/site-packages/ipykernel_launcher.py:12: RuntimeWarning: invalid value encountered in long_scalars\n",
      "  if sys.path[0] == '':\n"
     ]
    },
    {
     "name": "stdout",
     "output_type": "stream",
     "text": [
      "SPOT-V1-Vectorised 0 {'P': nan, 'P_TP': 0, 'P_FP': 0, 'R': 0.033003300330033, 'R_TP': 80, 'R_FN': 2344}\n",
      "SPOT-V1-Vectorised 100.0 {'P': 0.38461538461538464, 'P_TP': 20, 'P_FP': 32, 'R': 0.17813141683778233, 'R_TP': 347, 'R_FN': 1601}\n",
      "SPOT-V1-Vectorised 1000.0 {'P': 0.49015748031496065, 'P_TP': 249, 'P_FP': 259, 'R': 0.36835748792270534, 'R_TP': 305, 'R_FN': 523}\n",
      "SPOT-V1-Vectorised 10000.0 {'P': 0.7549857549857549, 'P_TP': 265, 'P_FP': 86, 'R': 0.6477462437395659, 'R_TP': 388, 'R_FN': 211}\n",
      "SPOT-V1-Vectorised 100000.0 {'P': 0.8819875776397516, 'P_TP': 142, 'P_FP': 19, 'R': 0.6890951276102089, 'R_TP': 297, 'R_FN': 134}\n",
      "SPOT-V1-Vectorised 1000000.0 {'P': 0.8260869565217391, 'P_TP': 19, 'P_FP': 4, 'R': 0.6078431372549019, 'R_TP': 31, 'R_FN': 20}\n",
      "SPOT-V2-Filtered 0 {'P': nan, 'P_TP': 0, 'P_FP': 0, 'R': 0.010726072607260726, 'R_TP': 26, 'R_FN': 2398}\n",
      "SPOT-V2-Filtered 100.0 {'P': 0.5625, 'P_TP': 9, 'P_FP': 7, 'R': 0.09034907597535935, 'R_TP': 176, 'R_FN': 1772}\n",
      "SPOT-V2-Filtered 1000.0 {'P': 0.7653061224489796, 'P_TP': 150, 'P_FP': 46, 'R': 0.2560386473429952, 'R_TP': 212, 'R_FN': 616}\n",
      "SPOT-V2-Filtered 10000.0 {'P': 0.8740740740740741, 'P_TP': 118, 'P_FP': 17, 'R': 0.2988313856427379, 'R_TP': 179, 'R_FN': 420}\n",
      "SPOT-V2-Filtered 100000.0 {'P': 0.9148936170212766, 'P_TP': 43, 'P_FP': 4, 'R': 0.2900232018561485, 'R_TP': 125, 'R_FN': 306}\n",
      "SPOT-V2-Filtered 1000000.0 {'P': 0.75, 'P_TP': 3, 'P_FP': 1, 'R': 0.1568627450980392, 'R_TP': 8, 'R_FN': 43}\n",
      "compiled_final 0 {'P': nan, 'P_TP': 0, 'P_FP': 0, 'R': 0.010726072607260726, 'R_TP': 26, 'R_FN': 2398}\n",
      "compiled_final 100.0 {'P': 1.0, 'P_TP': 7, 'P_FP': 0, 'R': 0.18326488706365504, 'R_TP': 357, 'R_FN': 1591}\n",
      "compiled_final 1000.0 {'P': 0.9, 'P_TP': 90, 'P_FP': 10, 'R': 0.2536231884057971, 'R_TP': 210, 'R_FN': 618}\n",
      "compiled_final 10000.0 {'P': 0.9354838709677419, 'P_TP': 232, 'P_FP': 16, 'R': 0.7145242070116862, 'R_TP': 428, 'R_FN': 171}\n",
      "compiled_final 100000.0 {'P': 0.9344262295081968, 'P_TP': 171, 'P_FP': 12, 'R': 0.8190255220417634, 'R_TP': 353, 'R_FN': 78}\n",
      "compiled_final 1000000.0 {'P': 0.9629629629629629, 'P_TP': 26, 'P_FP': 1, 'R': 0.8823529411764706, 'R_TP': 45, 'R_FN': 6}\n"
     ]
    }
   ],
   "source": [
    "\n",
    "for kk,gdf in gdfs.items():\n",
    "    res_dict[kk] = {}\n",
    "    pipe_mp = geometry.MultiPolygon([geom for geom in gdf.unary_union.geoms])\n",
    "    for ii_a in range(len(area_bins)-1):\n",
    "        res_dict[kk][ii_a] = {}\n",
    "        # precision = TP/(TP+FP)\n",
    "        bin_slice = gdf[(gdf.geoarea>=area_bins[ii_a]) & (gdf.geoarea<area_bins[ii_a+1])]\n",
    "        intersects = bin_slice.intersects(cv_polys_mp)\n",
    "        TP = np.sum(intersects)\n",
    "        FP = np.sum(~intersects)\n",
    "        res_dict[kk][ii_a]['P']=TP/(TP+FP)\n",
    "        res_dict[kk][ii_a]['P_TP'] = TP\n",
    "        res_dict[kk][ii_a]['P_FP'] = FP\n",
    "        \n",
    "        # recall = TP / (TP+FN)\n",
    "        cv_slice = cv_polys[(cv_polys.geoarea>=area_bins[ii_a])&(cv_polys.geoarea<area_bins[ii_a+1])]\n",
    "        intersects = cv_slice.intersects(pipe_mp)\n",
    "        TP = np.sum(intersects)\n",
    "        FN = np.sum(~intersects)\n",
    "        res_dict[kk][ii_a]['R']=TP/(TP+FN)\n",
    "        res_dict[kk][ii_a]['R_TP'] = TP\n",
    "        res_dict[kk][ii_a]['R_FN'] = FN\n",
    "        \n",
    "        \n",
    "        print (kk,area_bins[ii_a],res_dict[kk][ii_a])\n"
   ]
  },
  {
   "cell_type": "code",
   "execution_count": 86,
   "metadata": {},
   "outputs": [],
   "source": [
    "crs = CRS(\"EPSG:4326\")"
   ]
  },
  {
   "cell_type": "code",
   "execution_count": 93,
   "metadata": {},
   "outputs": [
    {
     "name": "stdout",
     "output_type": "stream",
     "text": [
      "S2-V1-Primary 0 {'iou': 0}\n"
     ]
    },
    {
     "name": "stderr",
     "output_type": "stream",
     "text": [
      "/home/lucas/miniconda3/envs/geoml/lib/python3.7/site-packages/pyproj/crs/crs.py:55: FutureWarning: '+init=<authority>:<code>' syntax is deprecated. '<authority>:<code>' is the preferred initialization method. When making the change, be mindful of axis order changes: https://pyproj4.github.io/pyproj/stable/gotchas.html#axis-order-changes-in-proj-6\n",
      "  return _prepare_from_string(\" \".join(pjargs))\n",
      "/home/lucas/miniconda3/envs/geoml/lib/python3.7/site-packages/pyproj/crs/crs.py:55: FutureWarning: '+init=<authority>:<code>' syntax is deprecated. '<authority>:<code>' is the preferred initialization method. When making the change, be mindful of axis order changes: https://pyproj4.github.io/pyproj/stable/gotchas.html#axis-order-changes-in-proj-6\n",
      "  return _prepare_from_string(\" \".join(pjargs))\n"
     ]
    },
    {
     "name": "stdout",
     "output_type": "stream",
     "text": [
      "S2-V1-Primary 100.0 {'iou': 0.000575957496241044}\n"
     ]
    },
    {
     "name": "stderr",
     "output_type": "stream",
     "text": [
      "/home/lucas/miniconda3/envs/geoml/lib/python3.7/site-packages/pyproj/crs/crs.py:55: FutureWarning: '+init=<authority>:<code>' syntax is deprecated. '<authority>:<code>' is the preferred initialization method. When making the change, be mindful of axis order changes: https://pyproj4.github.io/pyproj/stable/gotchas.html#axis-order-changes-in-proj-6\n",
      "  return _prepare_from_string(\" \".join(pjargs))\n",
      "/home/lucas/miniconda3/envs/geoml/lib/python3.7/site-packages/pyproj/crs/crs.py:55: FutureWarning: '+init=<authority>:<code>' syntax is deprecated. '<authority>:<code>' is the preferred initialization method. When making the change, be mindful of axis order changes: https://pyproj4.github.io/pyproj/stable/gotchas.html#axis-order-changes-in-proj-6\n",
      "  return _prepare_from_string(\" \".join(pjargs))\n"
     ]
    },
    {
     "name": "stdout",
     "output_type": "stream",
     "text": [
      "S2-V1-Primary 1000.0 {'iou': 0.04458308022227081}\n"
     ]
    },
    {
     "name": "stderr",
     "output_type": "stream",
     "text": [
      "/home/lucas/miniconda3/envs/geoml/lib/python3.7/site-packages/pyproj/crs/crs.py:55: FutureWarning: '+init=<authority>:<code>' syntax is deprecated. '<authority>:<code>' is the preferred initialization method. When making the change, be mindful of axis order changes: https://pyproj4.github.io/pyproj/stable/gotchas.html#axis-order-changes-in-proj-6\n",
      "  return _prepare_from_string(\" \".join(pjargs))\n",
      "/home/lucas/miniconda3/envs/geoml/lib/python3.7/site-packages/pyproj/crs/crs.py:55: FutureWarning: '+init=<authority>:<code>' syntax is deprecated. '<authority>:<code>' is the preferred initialization method. When making the change, be mindful of axis order changes: https://pyproj4.github.io/pyproj/stable/gotchas.html#axis-order-changes-in-proj-6\n",
      "  return _prepare_from_string(\" \".join(pjargs))\n"
     ]
    },
    {
     "name": "stdout",
     "output_type": "stream",
     "text": [
      "S2-V1-Primary 10000.0 {'iou': 0.25633016597675484}\n"
     ]
    },
    {
     "name": "stderr",
     "output_type": "stream",
     "text": [
      "/home/lucas/miniconda3/envs/geoml/lib/python3.7/site-packages/pyproj/crs/crs.py:55: FutureWarning: '+init=<authority>:<code>' syntax is deprecated. '<authority>:<code>' is the preferred initialization method. When making the change, be mindful of axis order changes: https://pyproj4.github.io/pyproj/stable/gotchas.html#axis-order-changes-in-proj-6\n",
      "  return _prepare_from_string(\" \".join(pjargs))\n",
      "/home/lucas/miniconda3/envs/geoml/lib/python3.7/site-packages/pyproj/crs/crs.py:55: FutureWarning: '+init=<authority>:<code>' syntax is deprecated. '<authority>:<code>' is the preferred initialization method. When making the change, be mindful of axis order changes: https://pyproj4.github.io/pyproj/stable/gotchas.html#axis-order-changes-in-proj-6\n",
      "  return _prepare_from_string(\" \".join(pjargs))\n"
     ]
    },
    {
     "name": "stdout",
     "output_type": "stream",
     "text": [
      "S2-V1-Primary 100000.0 {'iou': 0.34174840993048716}\n"
     ]
    },
    {
     "name": "stderr",
     "output_type": "stream",
     "text": [
      "/home/lucas/miniconda3/envs/geoml/lib/python3.7/site-packages/pyproj/crs/crs.py:55: FutureWarning: '+init=<authority>:<code>' syntax is deprecated. '<authority>:<code>' is the preferred initialization method. When making the change, be mindful of axis order changes: https://pyproj4.github.io/pyproj/stable/gotchas.html#axis-order-changes-in-proj-6\n",
      "  return _prepare_from_string(\" \".join(pjargs))\n",
      "/home/lucas/miniconda3/envs/geoml/lib/python3.7/site-packages/pyproj/crs/crs.py:55: FutureWarning: '+init=<authority>:<code>' syntax is deprecated. '<authority>:<code>' is the preferred initialization method. When making the change, be mindful of axis order changes: https://pyproj4.github.io/pyproj/stable/gotchas.html#axis-order-changes-in-proj-6\n",
      "  return _prepare_from_string(\" \".join(pjargs))\n"
     ]
    },
    {
     "name": "stdout",
     "output_type": "stream",
     "text": [
      "S2-V1-Primary 1000000.0 {'iou': 0.33652392593238295}\n",
      "S2-V2-Secondary 0 {'iou': 0}\n"
     ]
    },
    {
     "name": "stderr",
     "output_type": "stream",
     "text": [
      "/home/lucas/miniconda3/envs/geoml/lib/python3.7/site-packages/pyproj/crs/crs.py:55: FutureWarning: '+init=<authority>:<code>' syntax is deprecated. '<authority>:<code>' is the preferred initialization method. When making the change, be mindful of axis order changes: https://pyproj4.github.io/pyproj/stable/gotchas.html#axis-order-changes-in-proj-6\n",
      "  return _prepare_from_string(\" \".join(pjargs))\n",
      "/home/lucas/miniconda3/envs/geoml/lib/python3.7/site-packages/pyproj/crs/crs.py:55: FutureWarning: '+init=<authority>:<code>' syntax is deprecated. '<authority>:<code>' is the preferred initialization method. When making the change, be mindful of axis order changes: https://pyproj4.github.io/pyproj/stable/gotchas.html#axis-order-changes-in-proj-6\n",
      "  return _prepare_from_string(\" \".join(pjargs))\n"
     ]
    },
    {
     "name": "stdout",
     "output_type": "stream",
     "text": [
      "S2-V2-Secondary 100.0 {'iou': 0.00013033784295686285}\n"
     ]
    },
    {
     "name": "stderr",
     "output_type": "stream",
     "text": [
      "/home/lucas/miniconda3/envs/geoml/lib/python3.7/site-packages/pyproj/crs/crs.py:55: FutureWarning: '+init=<authority>:<code>' syntax is deprecated. '<authority>:<code>' is the preferred initialization method. When making the change, be mindful of axis order changes: https://pyproj4.github.io/pyproj/stable/gotchas.html#axis-order-changes-in-proj-6\n",
      "  return _prepare_from_string(\" \".join(pjargs))\n",
      "/home/lucas/miniconda3/envs/geoml/lib/python3.7/site-packages/pyproj/crs/crs.py:55: FutureWarning: '+init=<authority>:<code>' syntax is deprecated. '<authority>:<code>' is the preferred initialization method. When making the change, be mindful of axis order changes: https://pyproj4.github.io/pyproj/stable/gotchas.html#axis-order-changes-in-proj-6\n",
      "  return _prepare_from_string(\" \".join(pjargs))\n"
     ]
    },
    {
     "name": "stdout",
     "output_type": "stream",
     "text": [
      "S2-V2-Secondary 1000.0 {'iou': 0.04994825911492288}\n"
     ]
    },
    {
     "name": "stderr",
     "output_type": "stream",
     "text": [
      "/home/lucas/miniconda3/envs/geoml/lib/python3.7/site-packages/pyproj/crs/crs.py:55: FutureWarning: '+init=<authority>:<code>' syntax is deprecated. '<authority>:<code>' is the preferred initialization method. When making the change, be mindful of axis order changes: https://pyproj4.github.io/pyproj/stable/gotchas.html#axis-order-changes-in-proj-6\n",
      "  return _prepare_from_string(\" \".join(pjargs))\n",
      "/home/lucas/miniconda3/envs/geoml/lib/python3.7/site-packages/pyproj/crs/crs.py:55: FutureWarning: '+init=<authority>:<code>' syntax is deprecated. '<authority>:<code>' is the preferred initialization method. When making the change, be mindful of axis order changes: https://pyproj4.github.io/pyproj/stable/gotchas.html#axis-order-changes-in-proj-6\n",
      "  return _prepare_from_string(\" \".join(pjargs))\n"
     ]
    },
    {
     "name": "stdout",
     "output_type": "stream",
     "text": [
      "S2-V2-Secondary 10000.0 {'iou': 0.26483324892686544}\n"
     ]
    },
    {
     "name": "stderr",
     "output_type": "stream",
     "text": [
      "/home/lucas/miniconda3/envs/geoml/lib/python3.7/site-packages/pyproj/crs/crs.py:55: FutureWarning: '+init=<authority>:<code>' syntax is deprecated. '<authority>:<code>' is the preferred initialization method. When making the change, be mindful of axis order changes: https://pyproj4.github.io/pyproj/stable/gotchas.html#axis-order-changes-in-proj-6\n",
      "  return _prepare_from_string(\" \".join(pjargs))\n",
      "/home/lucas/miniconda3/envs/geoml/lib/python3.7/site-packages/pyproj/crs/crs.py:55: FutureWarning: '+init=<authority>:<code>' syntax is deprecated. '<authority>:<code>' is the preferred initialization method. When making the change, be mindful of axis order changes: https://pyproj4.github.io/pyproj/stable/gotchas.html#axis-order-changes-in-proj-6\n",
      "  return _prepare_from_string(\" \".join(pjargs))\n"
     ]
    },
    {
     "name": "stdout",
     "output_type": "stream",
     "text": [
      "S2-V2-Secondary 100000.0 {'iou': 0.3463247263440033}\n"
     ]
    },
    {
     "name": "stderr",
     "output_type": "stream",
     "text": [
      "/home/lucas/miniconda3/envs/geoml/lib/python3.7/site-packages/pyproj/crs/crs.py:55: FutureWarning: '+init=<authority>:<code>' syntax is deprecated. '<authority>:<code>' is the preferred initialization method. When making the change, be mindful of axis order changes: https://pyproj4.github.io/pyproj/stable/gotchas.html#axis-order-changes-in-proj-6\n",
      "  return _prepare_from_string(\" \".join(pjargs))\n",
      "/home/lucas/miniconda3/envs/geoml/lib/python3.7/site-packages/pyproj/crs/crs.py:55: FutureWarning: '+init=<authority>:<code>' syntax is deprecated. '<authority>:<code>' is the preferred initialization method. When making the change, be mindful of axis order changes: https://pyproj4.github.io/pyproj/stable/gotchas.html#axis-order-changes-in-proj-6\n",
      "  return _prepare_from_string(\" \".join(pjargs))\n"
     ]
    },
    {
     "name": "stdout",
     "output_type": "stream",
     "text": [
      "S2-V2-Secondary 1000000.0 {'iou': 0.3380914159406726}\n",
      "S2-V3-Deepstack 0 {'iou': 0}\n"
     ]
    },
    {
     "name": "stderr",
     "output_type": "stream",
     "text": [
      "/home/lucas/miniconda3/envs/geoml/lib/python3.7/site-packages/pyproj/crs/crs.py:55: FutureWarning: '+init=<authority>:<code>' syntax is deprecated. '<authority>:<code>' is the preferred initialization method. When making the change, be mindful of axis order changes: https://pyproj4.github.io/pyproj/stable/gotchas.html#axis-order-changes-in-proj-6\n",
      "  return _prepare_from_string(\" \".join(pjargs))\n",
      "/home/lucas/miniconda3/envs/geoml/lib/python3.7/site-packages/pyproj/crs/crs.py:55: FutureWarning: '+init=<authority>:<code>' syntax is deprecated. '<authority>:<code>' is the preferred initialization method. When making the change, be mindful of axis order changes: https://pyproj4.github.io/pyproj/stable/gotchas.html#axis-order-changes-in-proj-6\n",
      "  return _prepare_from_string(\" \".join(pjargs))\n"
     ]
    },
    {
     "name": "stdout",
     "output_type": "stream",
     "text": [
      "S2-V3-Deepstack 100.0 {'iou': 0.00014645965677867912}\n"
     ]
    },
    {
     "name": "stderr",
     "output_type": "stream",
     "text": [
      "/home/lucas/miniconda3/envs/geoml/lib/python3.7/site-packages/pyproj/crs/crs.py:55: FutureWarning: '+init=<authority>:<code>' syntax is deprecated. '<authority>:<code>' is the preferred initialization method. When making the change, be mindful of axis order changes: https://pyproj4.github.io/pyproj/stable/gotchas.html#axis-order-changes-in-proj-6\n",
      "  return _prepare_from_string(\" \".join(pjargs))\n",
      "/home/lucas/miniconda3/envs/geoml/lib/python3.7/site-packages/pyproj/crs/crs.py:55: FutureWarning: '+init=<authority>:<code>' syntax is deprecated. '<authority>:<code>' is the preferred initialization method. When making the change, be mindful of axis order changes: https://pyproj4.github.io/pyproj/stable/gotchas.html#axis-order-changes-in-proj-6\n",
      "  return _prepare_from_string(\" \".join(pjargs))\n"
     ]
    },
    {
     "name": "stdout",
     "output_type": "stream",
     "text": [
      "S2-V3-Deepstack 1000.0 {'iou': 0.026523989020220066}\n"
     ]
    },
    {
     "name": "stderr",
     "output_type": "stream",
     "text": [
      "/home/lucas/miniconda3/envs/geoml/lib/python3.7/site-packages/pyproj/crs/crs.py:55: FutureWarning: '+init=<authority>:<code>' syntax is deprecated. '<authority>:<code>' is the preferred initialization method. When making the change, be mindful of axis order changes: https://pyproj4.github.io/pyproj/stable/gotchas.html#axis-order-changes-in-proj-6\n",
      "  return _prepare_from_string(\" \".join(pjargs))\n",
      "/home/lucas/miniconda3/envs/geoml/lib/python3.7/site-packages/pyproj/crs/crs.py:55: FutureWarning: '+init=<authority>:<code>' syntax is deprecated. '<authority>:<code>' is the preferred initialization method. When making the change, be mindful of axis order changes: https://pyproj4.github.io/pyproj/stable/gotchas.html#axis-order-changes-in-proj-6\n",
      "  return _prepare_from_string(\" \".join(pjargs))\n"
     ]
    },
    {
     "name": "stdout",
     "output_type": "stream",
     "text": [
      "S2-V3-Deepstack 10000.0 {'iou': 0.2538674717770279}\n"
     ]
    },
    {
     "name": "stderr",
     "output_type": "stream",
     "text": [
      "/home/lucas/miniconda3/envs/geoml/lib/python3.7/site-packages/pyproj/crs/crs.py:55: FutureWarning: '+init=<authority>:<code>' syntax is deprecated. '<authority>:<code>' is the preferred initialization method. When making the change, be mindful of axis order changes: https://pyproj4.github.io/pyproj/stable/gotchas.html#axis-order-changes-in-proj-6\n",
      "  return _prepare_from_string(\" \".join(pjargs))\n",
      "/home/lucas/miniconda3/envs/geoml/lib/python3.7/site-packages/pyproj/crs/crs.py:55: FutureWarning: '+init=<authority>:<code>' syntax is deprecated. '<authority>:<code>' is the preferred initialization method. When making the change, be mindful of axis order changes: https://pyproj4.github.io/pyproj/stable/gotchas.html#axis-order-changes-in-proj-6\n",
      "  return _prepare_from_string(\" \".join(pjargs))\n"
     ]
    },
    {
     "name": "stdout",
     "output_type": "stream",
     "text": [
      "S2-V3-Deepstack 100000.0 {'iou': 0.34418893969466247}\n"
     ]
    },
    {
     "name": "stderr",
     "output_type": "stream",
     "text": [
      "/home/lucas/miniconda3/envs/geoml/lib/python3.7/site-packages/pyproj/crs/crs.py:55: FutureWarning: '+init=<authority>:<code>' syntax is deprecated. '<authority>:<code>' is the preferred initialization method. When making the change, be mindful of axis order changes: https://pyproj4.github.io/pyproj/stable/gotchas.html#axis-order-changes-in-proj-6\n",
      "  return _prepare_from_string(\" \".join(pjargs))\n",
      "/home/lucas/miniconda3/envs/geoml/lib/python3.7/site-packages/pyproj/crs/crs.py:55: FutureWarning: '+init=<authority>:<code>' syntax is deprecated. '<authority>:<code>' is the preferred initialization method. When making the change, be mindful of axis order changes: https://pyproj4.github.io/pyproj/stable/gotchas.html#axis-order-changes-in-proj-6\n",
      "  return _prepare_from_string(\" \".join(pjargs))\n"
     ]
    },
    {
     "name": "stdout",
     "output_type": "stream",
     "text": [
      "S2-V3-Deepstack 1000000.0 {'iou': 0.36418741350545997}\n",
      "S2-V4-Final 0 {'iou': 0}\n",
      "S2-V4-Final 100.0 {'iou': 0}\n"
     ]
    },
    {
     "name": "stderr",
     "output_type": "stream",
     "text": [
      "/home/lucas/miniconda3/envs/geoml/lib/python3.7/site-packages/pyproj/crs/crs.py:55: FutureWarning: '+init=<authority>:<code>' syntax is deprecated. '<authority>:<code>' is the preferred initialization method. When making the change, be mindful of axis order changes: https://pyproj4.github.io/pyproj/stable/gotchas.html#axis-order-changes-in-proj-6\n",
      "  return _prepare_from_string(\" \".join(pjargs))\n",
      "/home/lucas/miniconda3/envs/geoml/lib/python3.7/site-packages/pyproj/crs/crs.py:55: FutureWarning: '+init=<authority>:<code>' syntax is deprecated. '<authority>:<code>' is the preferred initialization method. When making the change, be mindful of axis order changes: https://pyproj4.github.io/pyproj/stable/gotchas.html#axis-order-changes-in-proj-6\n",
      "  return _prepare_from_string(\" \".join(pjargs))\n"
     ]
    },
    {
     "name": "stdout",
     "output_type": "stream",
     "text": [
      "S2-V4-Final 1000.0 {'iou': 0.010597805804867692}\n"
     ]
    },
    {
     "name": "stderr",
     "output_type": "stream",
     "text": [
      "/home/lucas/miniconda3/envs/geoml/lib/python3.7/site-packages/pyproj/crs/crs.py:55: FutureWarning: '+init=<authority>:<code>' syntax is deprecated. '<authority>:<code>' is the preferred initialization method. When making the change, be mindful of axis order changes: https://pyproj4.github.io/pyproj/stable/gotchas.html#axis-order-changes-in-proj-6\n",
      "  return _prepare_from_string(\" \".join(pjargs))\n",
      "/home/lucas/miniconda3/envs/geoml/lib/python3.7/site-packages/pyproj/crs/crs.py:55: FutureWarning: '+init=<authority>:<code>' syntax is deprecated. '<authority>:<code>' is the preferred initialization method. When making the change, be mindful of axis order changes: https://pyproj4.github.io/pyproj/stable/gotchas.html#axis-order-changes-in-proj-6\n",
      "  return _prepare_from_string(\" \".join(pjargs))\n"
     ]
    },
    {
     "name": "stdout",
     "output_type": "stream",
     "text": [
      "S2-V4-Final 10000.0 {'iou': 0.21697762323230407}\n"
     ]
    },
    {
     "name": "stderr",
     "output_type": "stream",
     "text": [
      "/home/lucas/miniconda3/envs/geoml/lib/python3.7/site-packages/pyproj/crs/crs.py:55: FutureWarning: '+init=<authority>:<code>' syntax is deprecated. '<authority>:<code>' is the preferred initialization method. When making the change, be mindful of axis order changes: https://pyproj4.github.io/pyproj/stable/gotchas.html#axis-order-changes-in-proj-6\n",
      "  return _prepare_from_string(\" \".join(pjargs))\n",
      "/home/lucas/miniconda3/envs/geoml/lib/python3.7/site-packages/pyproj/crs/crs.py:55: FutureWarning: '+init=<authority>:<code>' syntax is deprecated. '<authority>:<code>' is the preferred initialization method. When making the change, be mindful of axis order changes: https://pyproj4.github.io/pyproj/stable/gotchas.html#axis-order-changes-in-proj-6\n",
      "  return _prepare_from_string(\" \".join(pjargs))\n"
     ]
    },
    {
     "name": "stdout",
     "output_type": "stream",
     "text": [
      "S2-V4-Final 100000.0 {'iou': 0.3251610000423048}\n"
     ]
    },
    {
     "name": "stderr",
     "output_type": "stream",
     "text": [
      "/home/lucas/miniconda3/envs/geoml/lib/python3.7/site-packages/pyproj/crs/crs.py:55: FutureWarning: '+init=<authority>:<code>' syntax is deprecated. '<authority>:<code>' is the preferred initialization method. When making the change, be mindful of axis order changes: https://pyproj4.github.io/pyproj/stable/gotchas.html#axis-order-changes-in-proj-6\n",
      "  return _prepare_from_string(\" \".join(pjargs))\n",
      "/home/lucas/miniconda3/envs/geoml/lib/python3.7/site-packages/pyproj/crs/crs.py:55: FutureWarning: '+init=<authority>:<code>' syntax is deprecated. '<authority>:<code>' is the preferred initialization method. When making the change, be mindful of axis order changes: https://pyproj4.github.io/pyproj/stable/gotchas.html#axis-order-changes-in-proj-6\n",
      "  return _prepare_from_string(\" \".join(pjargs))\n"
     ]
    },
    {
     "name": "stdout",
     "output_type": "stream",
     "text": [
      "S2-V4-Final 1000000.0 {'iou': 0.34457205068514934}\n",
      "SPOT-V1-Vectorised 0 {'iou': 0}\n"
     ]
    },
    {
     "name": "stderr",
     "output_type": "stream",
     "text": [
      "/home/lucas/miniconda3/envs/geoml/lib/python3.7/site-packages/pyproj/crs/crs.py:55: FutureWarning: '+init=<authority>:<code>' syntax is deprecated. '<authority>:<code>' is the preferred initialization method. When making the change, be mindful of axis order changes: https://pyproj4.github.io/pyproj/stable/gotchas.html#axis-order-changes-in-proj-6\n",
      "  return _prepare_from_string(\" \".join(pjargs))\n",
      "/home/lucas/miniconda3/envs/geoml/lib/python3.7/site-packages/pyproj/crs/crs.py:55: FutureWarning: '+init=<authority>:<code>' syntax is deprecated. '<authority>:<code>' is the preferred initialization method. When making the change, be mindful of axis order changes: https://pyproj4.github.io/pyproj/stable/gotchas.html#axis-order-changes-in-proj-6\n",
      "  return _prepare_from_string(\" \".join(pjargs))\n"
     ]
    },
    {
     "name": "stdout",
     "output_type": "stream",
     "text": [
      "SPOT-V1-Vectorised 100.0 {'iou': 0.0010722983157028575}\n"
     ]
    },
    {
     "name": "stderr",
     "output_type": "stream",
     "text": [
      "/home/lucas/miniconda3/envs/geoml/lib/python3.7/site-packages/pyproj/crs/crs.py:55: FutureWarning: '+init=<authority>:<code>' syntax is deprecated. '<authority>:<code>' is the preferred initialization method. When making the change, be mindful of axis order changes: https://pyproj4.github.io/pyproj/stable/gotchas.html#axis-order-changes-in-proj-6\n",
      "  return _prepare_from_string(\" \".join(pjargs))\n",
      "/home/lucas/miniconda3/envs/geoml/lib/python3.7/site-packages/pyproj/crs/crs.py:55: FutureWarning: '+init=<authority>:<code>' syntax is deprecated. '<authority>:<code>' is the preferred initialization method. When making the change, be mindful of axis order changes: https://pyproj4.github.io/pyproj/stable/gotchas.html#axis-order-changes-in-proj-6\n",
      "  return _prepare_from_string(\" \".join(pjargs))\n"
     ]
    },
    {
     "name": "stdout",
     "output_type": "stream",
     "text": [
      "SPOT-V1-Vectorised 1000.0 {'iou': 0.08083197614917767}\n"
     ]
    },
    {
     "name": "stderr",
     "output_type": "stream",
     "text": [
      "/home/lucas/miniconda3/envs/geoml/lib/python3.7/site-packages/pyproj/crs/crs.py:55: FutureWarning: '+init=<authority>:<code>' syntax is deprecated. '<authority>:<code>' is the preferred initialization method. When making the change, be mindful of axis order changes: https://pyproj4.github.io/pyproj/stable/gotchas.html#axis-order-changes-in-proj-6\n",
      "  return _prepare_from_string(\" \".join(pjargs))\n",
      "/home/lucas/miniconda3/envs/geoml/lib/python3.7/site-packages/pyproj/crs/crs.py:55: FutureWarning: '+init=<authority>:<code>' syntax is deprecated. '<authority>:<code>' is the preferred initialization method. When making the change, be mindful of axis order changes: https://pyproj4.github.io/pyproj/stable/gotchas.html#axis-order-changes-in-proj-6\n",
      "  return _prepare_from_string(\" \".join(pjargs))\n"
     ]
    },
    {
     "name": "stdout",
     "output_type": "stream",
     "text": [
      "SPOT-V1-Vectorised 10000.0 {'iou': 0.2042919724027484}\n"
     ]
    },
    {
     "name": "stderr",
     "output_type": "stream",
     "text": [
      "/home/lucas/miniconda3/envs/geoml/lib/python3.7/site-packages/pyproj/crs/crs.py:55: FutureWarning: '+init=<authority>:<code>' syntax is deprecated. '<authority>:<code>' is the preferred initialization method. When making the change, be mindful of axis order changes: https://pyproj4.github.io/pyproj/stable/gotchas.html#axis-order-changes-in-proj-6\n",
      "  return _prepare_from_string(\" \".join(pjargs))\n",
      "/home/lucas/miniconda3/envs/geoml/lib/python3.7/site-packages/pyproj/crs/crs.py:55: FutureWarning: '+init=<authority>:<code>' syntax is deprecated. '<authority>:<code>' is the preferred initialization method. When making the change, be mindful of axis order changes: https://pyproj4.github.io/pyproj/stable/gotchas.html#axis-order-changes-in-proj-6\n",
      "  return _prepare_from_string(\" \".join(pjargs))\n"
     ]
    },
    {
     "name": "stdout",
     "output_type": "stream",
     "text": [
      "SPOT-V1-Vectorised 100000.0 {'iou': 0.2510751272995275}\n"
     ]
    },
    {
     "name": "stderr",
     "output_type": "stream",
     "text": [
      "/home/lucas/miniconda3/envs/geoml/lib/python3.7/site-packages/pyproj/crs/crs.py:55: FutureWarning: '+init=<authority>:<code>' syntax is deprecated. '<authority>:<code>' is the preferred initialization method. When making the change, be mindful of axis order changes: https://pyproj4.github.io/pyproj/stable/gotchas.html#axis-order-changes-in-proj-6\n",
      "  return _prepare_from_string(\" \".join(pjargs))\n",
      "/home/lucas/miniconda3/envs/geoml/lib/python3.7/site-packages/pyproj/crs/crs.py:55: FutureWarning: '+init=<authority>:<code>' syntax is deprecated. '<authority>:<code>' is the preferred initialization method. When making the change, be mindful of axis order changes: https://pyproj4.github.io/pyproj/stable/gotchas.html#axis-order-changes-in-proj-6\n",
      "  return _prepare_from_string(\" \".join(pjargs))\n"
     ]
    },
    {
     "name": "stdout",
     "output_type": "stream",
     "text": [
      "SPOT-V1-Vectorised 1000000.0 {'iou': 0.15877729607232258}\n",
      "SPOT-V2-Filtered 0 {'iou': 0}\n",
      "SPOT-V2-Filtered 100.0 {'iou': 0}\n"
     ]
    },
    {
     "name": "stderr",
     "output_type": "stream",
     "text": [
      "/home/lucas/miniconda3/envs/geoml/lib/python3.7/site-packages/pyproj/crs/crs.py:55: FutureWarning: '+init=<authority>:<code>' syntax is deprecated. '<authority>:<code>' is the preferred initialization method. When making the change, be mindful of axis order changes: https://pyproj4.github.io/pyproj/stable/gotchas.html#axis-order-changes-in-proj-6\n",
      "  return _prepare_from_string(\" \".join(pjargs))\n",
      "/home/lucas/miniconda3/envs/geoml/lib/python3.7/site-packages/pyproj/crs/crs.py:55: FutureWarning: '+init=<authority>:<code>' syntax is deprecated. '<authority>:<code>' is the preferred initialization method. When making the change, be mindful of axis order changes: https://pyproj4.github.io/pyproj/stable/gotchas.html#axis-order-changes-in-proj-6\n",
      "  return _prepare_from_string(\" \".join(pjargs))\n"
     ]
    },
    {
     "name": "stdout",
     "output_type": "stream",
     "text": [
      "SPOT-V2-Filtered 1000.0 {'iou': 0.09073842919416483}\n"
     ]
    },
    {
     "name": "stderr",
     "output_type": "stream",
     "text": [
      "/home/lucas/miniconda3/envs/geoml/lib/python3.7/site-packages/pyproj/crs/crs.py:55: FutureWarning: '+init=<authority>:<code>' syntax is deprecated. '<authority>:<code>' is the preferred initialization method. When making the change, be mindful of axis order changes: https://pyproj4.github.io/pyproj/stable/gotchas.html#axis-order-changes-in-proj-6\n",
      "  return _prepare_from_string(\" \".join(pjargs))\n",
      "/home/lucas/miniconda3/envs/geoml/lib/python3.7/site-packages/pyproj/crs/crs.py:55: FutureWarning: '+init=<authority>:<code>' syntax is deprecated. '<authority>:<code>' is the preferred initialization method. When making the change, be mindful of axis order changes: https://pyproj4.github.io/pyproj/stable/gotchas.html#axis-order-changes-in-proj-6\n",
      "  return _prepare_from_string(\" \".join(pjargs))\n"
     ]
    },
    {
     "name": "stdout",
     "output_type": "stream",
     "text": [
      "SPOT-V2-Filtered 10000.0 {'iou': 0.1293949334832582}\n"
     ]
    },
    {
     "name": "stderr",
     "output_type": "stream",
     "text": [
      "/home/lucas/miniconda3/envs/geoml/lib/python3.7/site-packages/pyproj/crs/crs.py:55: FutureWarning: '+init=<authority>:<code>' syntax is deprecated. '<authority>:<code>' is the preferred initialization method. When making the change, be mindful of axis order changes: https://pyproj4.github.io/pyproj/stable/gotchas.html#axis-order-changes-in-proj-6\n",
      "  return _prepare_from_string(\" \".join(pjargs))\n",
      "/home/lucas/miniconda3/envs/geoml/lib/python3.7/site-packages/pyproj/crs/crs.py:55: FutureWarning: '+init=<authority>:<code>' syntax is deprecated. '<authority>:<code>' is the preferred initialization method. When making the change, be mindful of axis order changes: https://pyproj4.github.io/pyproj/stable/gotchas.html#axis-order-changes-in-proj-6\n",
      "  return _prepare_from_string(\" \".join(pjargs))\n",
      "/home/lucas/miniconda3/envs/geoml/lib/python3.7/site-packages/pyproj/crs/crs.py:55: FutureWarning: '+init=<authority>:<code>' syntax is deprecated. '<authority>:<code>' is the preferred initialization method. When making the change, be mindful of axis order changes: https://pyproj4.github.io/pyproj/stable/gotchas.html#axis-order-changes-in-proj-6\n",
      "  return _prepare_from_string(\" \".join(pjargs))\n"
     ]
    },
    {
     "name": "stdout",
     "output_type": "stream",
     "text": [
      "SPOT-V2-Filtered 100000.0 {'iou': 0.16189535565364738}\n",
      "SPOT-V2-Filtered 1000000.0 {'iou': 0.1182578450426753}\n"
     ]
    },
    {
     "name": "stderr",
     "output_type": "stream",
     "text": [
      "/home/lucas/miniconda3/envs/geoml/lib/python3.7/site-packages/pyproj/crs/crs.py:55: FutureWarning: '+init=<authority>:<code>' syntax is deprecated. '<authority>:<code>' is the preferred initialization method. When making the change, be mindful of axis order changes: https://pyproj4.github.io/pyproj/stable/gotchas.html#axis-order-changes-in-proj-6\n",
      "  return _prepare_from_string(\" \".join(pjargs))\n"
     ]
    },
    {
     "name": "stdout",
     "output_type": "stream",
     "text": [
      "compiled_final 0 {'iou': 0}\n",
      "compiled_final 100.0 {'iou': 0}\n"
     ]
    },
    {
     "name": "stderr",
     "output_type": "stream",
     "text": [
      "/home/lucas/miniconda3/envs/geoml/lib/python3.7/site-packages/pyproj/crs/crs.py:55: FutureWarning: '+init=<authority>:<code>' syntax is deprecated. '<authority>:<code>' is the preferred initialization method. When making the change, be mindful of axis order changes: https://pyproj4.github.io/pyproj/stable/gotchas.html#axis-order-changes-in-proj-6\n",
      "  return _prepare_from_string(\" \".join(pjargs))\n",
      "/home/lucas/miniconda3/envs/geoml/lib/python3.7/site-packages/pyproj/crs/crs.py:55: FutureWarning: '+init=<authority>:<code>' syntax is deprecated. '<authority>:<code>' is the preferred initialization method. When making the change, be mindful of axis order changes: https://pyproj4.github.io/pyproj/stable/gotchas.html#axis-order-changes-in-proj-6\n",
      "  return _prepare_from_string(\" \".join(pjargs))\n"
     ]
    },
    {
     "name": "stdout",
     "output_type": "stream",
     "text": [
      "compiled_final 1000.0 {'iou': 0.06168309019793569}\n"
     ]
    },
    {
     "name": "stderr",
     "output_type": "stream",
     "text": [
      "/home/lucas/miniconda3/envs/geoml/lib/python3.7/site-packages/pyproj/crs/crs.py:55: FutureWarning: '+init=<authority>:<code>' syntax is deprecated. '<authority>:<code>' is the preferred initialization method. When making the change, be mindful of axis order changes: https://pyproj4.github.io/pyproj/stable/gotchas.html#axis-order-changes-in-proj-6\n",
      "  return _prepare_from_string(\" \".join(pjargs))\n",
      "/home/lucas/miniconda3/envs/geoml/lib/python3.7/site-packages/pyproj/crs/crs.py:55: FutureWarning: '+init=<authority>:<code>' syntax is deprecated. '<authority>:<code>' is the preferred initialization method. When making the change, be mindful of axis order changes: https://pyproj4.github.io/pyproj/stable/gotchas.html#axis-order-changes-in-proj-6\n",
      "  return _prepare_from_string(\" \".join(pjargs))\n"
     ]
    },
    {
     "name": "stdout",
     "output_type": "stream",
     "text": [
      "compiled_final 10000.0 {'iou': 0.3176283773378961}\n"
     ]
    },
    {
     "name": "stderr",
     "output_type": "stream",
     "text": [
      "/home/lucas/miniconda3/envs/geoml/lib/python3.7/site-packages/pyproj/crs/crs.py:55: FutureWarning: '+init=<authority>:<code>' syntax is deprecated. '<authority>:<code>' is the preferred initialization method. When making the change, be mindful of axis order changes: https://pyproj4.github.io/pyproj/stable/gotchas.html#axis-order-changes-in-proj-6\n",
      "  return _prepare_from_string(\" \".join(pjargs))\n",
      "/home/lucas/miniconda3/envs/geoml/lib/python3.7/site-packages/pyproj/crs/crs.py:55: FutureWarning: '+init=<authority>:<code>' syntax is deprecated. '<authority>:<code>' is the preferred initialization method. When making the change, be mindful of axis order changes: https://pyproj4.github.io/pyproj/stable/gotchas.html#axis-order-changes-in-proj-6\n",
      "  return _prepare_from_string(\" \".join(pjargs))\n"
     ]
    },
    {
     "name": "stdout",
     "output_type": "stream",
     "text": [
      "compiled_final 100000.0 {'iou': 0.47410073426891675}\n",
      "compiled_final 1000000.0 {'iou': 0.5187973369269772}\n"
     ]
    },
    {
     "name": "stderr",
     "output_type": "stream",
     "text": [
      "/home/lucas/miniconda3/envs/geoml/lib/python3.7/site-packages/pyproj/crs/crs.py:55: FutureWarning: '+init=<authority>:<code>' syntax is deprecated. '<authority>:<code>' is the preferred initialization method. When making the change, be mindful of axis order changes: https://pyproj4.github.io/pyproj/stable/gotchas.html#axis-order-changes-in-proj-6\n",
      "  return _prepare_from_string(\" \".join(pjargs))\n",
      "/home/lucas/miniconda3/envs/geoml/lib/python3.7/site-packages/pyproj/crs/crs.py:55: FutureWarning: '+init=<authority>:<code>' syntax is deprecated. '<authority>:<code>' is the preferred initialization method. When making the change, be mindful of axis order changes: https://pyproj4.github.io/pyproj/stable/gotchas.html#axis-order-changes-in-proj-6\n",
      "  return _prepare_from_string(\" \".join(pjargs))\n"
     ]
    }
   ],
   "source": [
    "# iou\n",
    "iou_dict = {}\n",
    "for kk,gdf in gdfs.items():\n",
    "    iou_dict[kk] = {}\n",
    "    #pipe_mp = geometry.MultiPolygon([geom for geom in gdf.unary_union.geoms])\n",
    "    for ii_a in range(len(area_bins)-1):\n",
    "        iou_dict[kk][ii_a] = {}\n",
    "        # iou = intersection / union\n",
    "        bindf_slice = gdf[(gdf.geoarea>=area_bins[ii_a]) & (gdf.geoarea<area_bins[ii_a+1])]\n",
    "        bindf_mp = geometry.MultiPolygon([geom for geom in bindf_slice.unary_union.geoms])\n",
    "        cv_slice = cv_polys[(cv_polys.geoarea>=area_bins[ii_a])&(cv_polys.geoarea<area_bins[ii_a+1])]\n",
    "        cv_mp = geometry.MultiPolygon([geom for geom in cv_slice.unary_union.geoms])\n",
    "        \n",
    "        intersection=bindf_mp.intersection(cv_mp)\n",
    "        union=bindf_mp.union(cv_mp)\n",
    "        \n",
    "\n",
    "        if not intersection.is_empty:\n",
    "            #print (intersection)\n",
    "        \n",
    "            if intersection.type=='Polygon':\n",
    "                \n",
    "                i_gdf = gpd.GeoDataFrame(geometry=[intersection], crs=crs)\n",
    "            else:\n",
    "                i_gdf = gpd.GeoDataFrame(geometry=list(intersection), crs=crs)\n",
    "\n",
    "            if union.type=='Polygon':\n",
    "                u_gdf = gpd.GeoDataFrame(geometry=list(union), crs=crs)\n",
    "            else:\n",
    "                u_gdf = gpd.GeoDataFrame(geometry=list(union), crs=crs)\n",
    "\n",
    "            i_gdf['geoarea'] = i_gdf.to_crs({'init': 'epsg:3857'}).area\n",
    "            u_gdf['geoarea'] = u_gdf.to_crs({'init': 'epsg:3857'}).area\n",
    "\n",
    "            iou_dict[kk][ii_a]['iou'] = i_gdf['geoarea'].sum() / u_gdf['geoarea'].sum()\n",
    "            \n",
    "        else:\n",
    "            iou_dict[kk][ii_a]['iou'] = 0\n",
    "        \n",
    "        \n",
    "        print (kk,area_bins[ii_a],iou_dict[kk][ii_a])"
   ]
  },
  {
   "cell_type": "code",
   "execution_count": 95,
   "metadata": {},
   "outputs": [
    {
     "name": "stdout",
     "output_type": "stream",
     "text": [
      "S2-V1-Primary 0 {'iou': 0, 'iou_pos': 0.6563800682850637, 'iou_neg': 0}\n"
     ]
    },
    {
     "name": "stderr",
     "output_type": "stream",
     "text": [
      "/home/lucas/miniconda3/envs/geoml/lib/python3.7/site-packages/pyproj/crs/crs.py:55: FutureWarning: '+init=<authority>:<code>' syntax is deprecated. '<authority>:<code>' is the preferred initialization method. When making the change, be mindful of axis order changes: https://pyproj4.github.io/pyproj/stable/gotchas.html#axis-order-changes-in-proj-6\n",
      "  return _prepare_from_string(\" \".join(pjargs))\n",
      "/home/lucas/miniconda3/envs/geoml/lib/python3.7/site-packages/pyproj/crs/crs.py:55: FutureWarning: '+init=<authority>:<code>' syntax is deprecated. '<authority>:<code>' is the preferred initialization method. When making the change, be mindful of axis order changes: https://pyproj4.github.io/pyproj/stable/gotchas.html#axis-order-changes-in-proj-6\n",
      "  return _prepare_from_string(\" \".join(pjargs))\n"
     ]
    },
    {
     "name": "stdout",
     "output_type": "stream",
     "text": [
      "S2-V1-Primary 100.0 {'iou': 0.000575957496241044, 'iou_pos': 0.6565955418276836, 'iou_neg': 0.0005787945344644309}\n"
     ]
    },
    {
     "name": "stderr",
     "output_type": "stream",
     "text": [
      "/home/lucas/miniconda3/envs/geoml/lib/python3.7/site-packages/pyproj/crs/crs.py:55: FutureWarning: '+init=<authority>:<code>' syntax is deprecated. '<authority>:<code>' is the preferred initialization method. When making the change, be mindful of axis order changes: https://pyproj4.github.io/pyproj/stable/gotchas.html#axis-order-changes-in-proj-6\n",
      "  return _prepare_from_string(\" \".join(pjargs))\n",
      "/home/lucas/miniconda3/envs/geoml/lib/python3.7/site-packages/pyproj/crs/crs.py:55: FutureWarning: '+init=<authority>:<code>' syntax is deprecated. '<authority>:<code>' is the preferred initialization method. When making the change, be mindful of axis order changes: https://pyproj4.github.io/pyproj/stable/gotchas.html#axis-order-changes-in-proj-6\n",
      "  return _prepare_from_string(\" \".join(pjargs))\n"
     ]
    },
    {
     "name": "stdout",
     "output_type": "stream",
     "text": [
      "S2-V1-Primary 1000.0 {'iou': 0.04458308022227081, 'iou_pos': 0.6573135120645237, 'iou_neg': 0.038873578276106074}\n"
     ]
    },
    {
     "name": "stderr",
     "output_type": "stream",
     "text": [
      "/home/lucas/miniconda3/envs/geoml/lib/python3.7/site-packages/pyproj/crs/crs.py:55: FutureWarning: '+init=<authority>:<code>' syntax is deprecated. '<authority>:<code>' is the preferred initialization method. When making the change, be mindful of axis order changes: https://pyproj4.github.io/pyproj/stable/gotchas.html#axis-order-changes-in-proj-6\n",
      "  return _prepare_from_string(\" \".join(pjargs))\n",
      "/home/lucas/miniconda3/envs/geoml/lib/python3.7/site-packages/pyproj/crs/crs.py:55: FutureWarning: '+init=<authority>:<code>' syntax is deprecated. '<authority>:<code>' is the preferred initialization method. When making the change, be mindful of axis order changes: https://pyproj4.github.io/pyproj/stable/gotchas.html#axis-order-changes-in-proj-6\n",
      "  return _prepare_from_string(\" \".join(pjargs))\n"
     ]
    },
    {
     "name": "stdout",
     "output_type": "stream",
     "text": [
      "S2-V1-Primary 10000.0 {'iou': 0.25633016597675484, 'iou_pos': 0.6601423430244804, 'iou_neg': 0.25495086636237196}\n"
     ]
    },
    {
     "name": "stderr",
     "output_type": "stream",
     "text": [
      "/home/lucas/miniconda3/envs/geoml/lib/python3.7/site-packages/pyproj/crs/crs.py:55: FutureWarning: '+init=<authority>:<code>' syntax is deprecated. '<authority>:<code>' is the preferred initialization method. When making the change, be mindful of axis order changes: https://pyproj4.github.io/pyproj/stable/gotchas.html#axis-order-changes-in-proj-6\n",
      "  return _prepare_from_string(\" \".join(pjargs))\n",
      "/home/lucas/miniconda3/envs/geoml/lib/python3.7/site-packages/pyproj/crs/crs.py:55: FutureWarning: '+init=<authority>:<code>' syntax is deprecated. '<authority>:<code>' is the preferred initialization method. When making the change, be mindful of axis order changes: https://pyproj4.github.io/pyproj/stable/gotchas.html#axis-order-changes-in-proj-6\n",
      "  return _prepare_from_string(\" \".join(pjargs))\n"
     ]
    },
    {
     "name": "stdout",
     "output_type": "stream",
     "text": [
      "S2-V1-Primary 100000.0 {'iou': 0.34174840993048716, 'iou_pos': 0.6440034887939549, 'iou_neg': 0.3707904485204816}\n"
     ]
    },
    {
     "name": "stderr",
     "output_type": "stream",
     "text": [
      "/home/lucas/miniconda3/envs/geoml/lib/python3.7/site-packages/pyproj/crs/crs.py:55: FutureWarning: '+init=<authority>:<code>' syntax is deprecated. '<authority>:<code>' is the preferred initialization method. When making the change, be mindful of axis order changes: https://pyproj4.github.io/pyproj/stable/gotchas.html#axis-order-changes-in-proj-6\n",
      "  return _prepare_from_string(\" \".join(pjargs))\n",
      "/home/lucas/miniconda3/envs/geoml/lib/python3.7/site-packages/pyproj/crs/crs.py:55: FutureWarning: '+init=<authority>:<code>' syntax is deprecated. '<authority>:<code>' is the preferred initialization method. When making the change, be mindful of axis order changes: https://pyproj4.github.io/pyproj/stable/gotchas.html#axis-order-changes-in-proj-6\n",
      "  return _prepare_from_string(\" \".join(pjargs))\n"
     ]
    },
    {
     "name": "stdout",
     "output_type": "stream",
     "text": [
      "S2-V1-Primary 1000000.0 {'iou': 0.33652392593238295, 'iou_pos': 0.33652392593238295, 'iou_neg': 0.6563800682850637}\n",
      "S2-V2-Secondary 0 {'iou': 0, 'iou_pos': 0.6582743554078028, 'iou_neg': 0}\n"
     ]
    },
    {
     "name": "stderr",
     "output_type": "stream",
     "text": [
      "/home/lucas/miniconda3/envs/geoml/lib/python3.7/site-packages/pyproj/crs/crs.py:55: FutureWarning: '+init=<authority>:<code>' syntax is deprecated. '<authority>:<code>' is the preferred initialization method. When making the change, be mindful of axis order changes: https://pyproj4.github.io/pyproj/stable/gotchas.html#axis-order-changes-in-proj-6\n",
      "  return _prepare_from_string(\" \".join(pjargs))\n",
      "/home/lucas/miniconda3/envs/geoml/lib/python3.7/site-packages/pyproj/crs/crs.py:55: FutureWarning: '+init=<authority>:<code>' syntax is deprecated. '<authority>:<code>' is the preferred initialization method. When making the change, be mindful of axis order changes: https://pyproj4.github.io/pyproj/stable/gotchas.html#axis-order-changes-in-proj-6\n",
      "  return _prepare_from_string(\" \".join(pjargs))\n"
     ]
    },
    {
     "name": "stdout",
     "output_type": "stream",
     "text": [
      "S2-V2-Secondary 100.0 {'iou': 0.00013033784295686285, 'iou_pos': 0.6584824566415236, 'iou_neg': 0.00020090324893347255}\n"
     ]
    },
    {
     "name": "stderr",
     "output_type": "stream",
     "text": [
      "/home/lucas/miniconda3/envs/geoml/lib/python3.7/site-packages/pyproj/crs/crs.py:55: FutureWarning: '+init=<authority>:<code>' syntax is deprecated. '<authority>:<code>' is the preferred initialization method. When making the change, be mindful of axis order changes: https://pyproj4.github.io/pyproj/stable/gotchas.html#axis-order-changes-in-proj-6\n",
      "  return _prepare_from_string(\" \".join(pjargs))\n",
      "/home/lucas/miniconda3/envs/geoml/lib/python3.7/site-packages/pyproj/crs/crs.py:55: FutureWarning: '+init=<authority>:<code>' syntax is deprecated. '<authority>:<code>' is the preferred initialization method. When making the change, be mindful of axis order changes: https://pyproj4.github.io/pyproj/stable/gotchas.html#axis-order-changes-in-proj-6\n",
      "  return _prepare_from_string(\" \".join(pjargs))\n"
     ]
    },
    {
     "name": "stdout",
     "output_type": "stream",
     "text": [
      "S2-V2-Secondary 1000.0 {'iou': 0.04994825911492288, 'iou_pos': 0.6591570460551603, 'iou_neg': 0.04454032450030452}\n"
     ]
    },
    {
     "name": "stderr",
     "output_type": "stream",
     "text": [
      "/home/lucas/miniconda3/envs/geoml/lib/python3.7/site-packages/pyproj/crs/crs.py:55: FutureWarning: '+init=<authority>:<code>' syntax is deprecated. '<authority>:<code>' is the preferred initialization method. When making the change, be mindful of axis order changes: https://pyproj4.github.io/pyproj/stable/gotchas.html#axis-order-changes-in-proj-6\n",
      "  return _prepare_from_string(\" \".join(pjargs))\n",
      "/home/lucas/miniconda3/envs/geoml/lib/python3.7/site-packages/pyproj/crs/crs.py:55: FutureWarning: '+init=<authority>:<code>' syntax is deprecated. '<authority>:<code>' is the preferred initialization method. When making the change, be mindful of axis order changes: https://pyproj4.github.io/pyproj/stable/gotchas.html#axis-order-changes-in-proj-6\n",
      "  return _prepare_from_string(\" \".join(pjargs))\n"
     ]
    },
    {
     "name": "stdout",
     "output_type": "stream",
     "text": [
      "S2-V2-Secondary 10000.0 {'iou': 0.26483324892686544, 'iou_pos': 0.6620476772423984, 'iou_neg': 0.2671084987063852}\n"
     ]
    },
    {
     "name": "stderr",
     "output_type": "stream",
     "text": [
      "/home/lucas/miniconda3/envs/geoml/lib/python3.7/site-packages/pyproj/crs/crs.py:55: FutureWarning: '+init=<authority>:<code>' syntax is deprecated. '<authority>:<code>' is the preferred initialization method. When making the change, be mindful of axis order changes: https://pyproj4.github.io/pyproj/stable/gotchas.html#axis-order-changes-in-proj-6\n",
      "  return _prepare_from_string(\" \".join(pjargs))\n",
      "/home/lucas/miniconda3/envs/geoml/lib/python3.7/site-packages/pyproj/crs/crs.py:55: FutureWarning: '+init=<authority>:<code>' syntax is deprecated. '<authority>:<code>' is the preferred initialization method. When making the change, be mindful of axis order changes: https://pyproj4.github.io/pyproj/stable/gotchas.html#axis-order-changes-in-proj-6\n",
      "  return _prepare_from_string(\" \".join(pjargs))\n"
     ]
    },
    {
     "name": "stdout",
     "output_type": "stream",
     "text": [
      "S2-V2-Secondary 100000.0 {'iou': 0.3463247263440033, 'iou_pos': 0.6464954092969896, 'iou_neg': 0.3759693290847255}\n"
     ]
    },
    {
     "name": "stderr",
     "output_type": "stream",
     "text": [
      "/home/lucas/miniconda3/envs/geoml/lib/python3.7/site-packages/pyproj/crs/crs.py:55: FutureWarning: '+init=<authority>:<code>' syntax is deprecated. '<authority>:<code>' is the preferred initialization method. When making the change, be mindful of axis order changes: https://pyproj4.github.io/pyproj/stable/gotchas.html#axis-order-changes-in-proj-6\n",
      "  return _prepare_from_string(\" \".join(pjargs))\n",
      "/home/lucas/miniconda3/envs/geoml/lib/python3.7/site-packages/pyproj/crs/crs.py:55: FutureWarning: '+init=<authority>:<code>' syntax is deprecated. '<authority>:<code>' is the preferred initialization method. When making the change, be mindful of axis order changes: https://pyproj4.github.io/pyproj/stable/gotchas.html#axis-order-changes-in-proj-6\n",
      "  return _prepare_from_string(\" \".join(pjargs))\n"
     ]
    },
    {
     "name": "stdout",
     "output_type": "stream",
     "text": [
      "S2-V2-Secondary 1000000.0 {'iou': 0.3380914159406726, 'iou_pos': 0.3380914159406726, 'iou_neg': 0.6582743554078028}\n",
      "S2-V3-Deepstack 0 {'iou': 0, 'iou_pos': 0.6314645374110316, 'iou_neg': 0}\n"
     ]
    },
    {
     "name": "stderr",
     "output_type": "stream",
     "text": [
      "/home/lucas/miniconda3/envs/geoml/lib/python3.7/site-packages/pyproj/crs/crs.py:55: FutureWarning: '+init=<authority>:<code>' syntax is deprecated. '<authority>:<code>' is the preferred initialization method. When making the change, be mindful of axis order changes: https://pyproj4.github.io/pyproj/stable/gotchas.html#axis-order-changes-in-proj-6\n",
      "  return _prepare_from_string(\" \".join(pjargs))\n",
      "/home/lucas/miniconda3/envs/geoml/lib/python3.7/site-packages/pyproj/crs/crs.py:55: FutureWarning: '+init=<authority>:<code>' syntax is deprecated. '<authority>:<code>' is the preferred initialization method. When making the change, be mindful of axis order changes: https://pyproj4.github.io/pyproj/stable/gotchas.html#axis-order-changes-in-proj-6\n",
      "  return _prepare_from_string(\" \".join(pjargs))\n"
     ]
    },
    {
     "name": "stdout",
     "output_type": "stream",
     "text": [
      "S2-V3-Deepstack 100.0 {'iou': 0.00014645965677867912, 'iou_pos': 0.6316433898157164, 'iou_neg': 0.0002263321361927507}\n"
     ]
    },
    {
     "name": "stderr",
     "output_type": "stream",
     "text": [
      "/home/lucas/miniconda3/envs/geoml/lib/python3.7/site-packages/pyproj/crs/crs.py:55: FutureWarning: '+init=<authority>:<code>' syntax is deprecated. '<authority>:<code>' is the preferred initialization method. When making the change, be mindful of axis order changes: https://pyproj4.github.io/pyproj/stable/gotchas.html#axis-order-changes-in-proj-6\n",
      "  return _prepare_from_string(\" \".join(pjargs))\n",
      "/home/lucas/miniconda3/envs/geoml/lib/python3.7/site-packages/pyproj/crs/crs.py:55: FutureWarning: '+init=<authority>:<code>' syntax is deprecated. '<authority>:<code>' is the preferred initialization method. When making the change, be mindful of axis order changes: https://pyproj4.github.io/pyproj/stable/gotchas.html#axis-order-changes-in-proj-6\n",
      "  return _prepare_from_string(\" \".join(pjargs))\n"
     ]
    },
    {
     "name": "stdout",
     "output_type": "stream",
     "text": [
      "S2-V3-Deepstack 1000.0 {'iou': 0.026523989020220066, 'iou_pos': 0.6322469835693977, 'iou_neg': 0.02242910610577691}\n"
     ]
    },
    {
     "name": "stderr",
     "output_type": "stream",
     "text": [
      "/home/lucas/miniconda3/envs/geoml/lib/python3.7/site-packages/pyproj/crs/crs.py:55: FutureWarning: '+init=<authority>:<code>' syntax is deprecated. '<authority>:<code>' is the preferred initialization method. When making the change, be mindful of axis order changes: https://pyproj4.github.io/pyproj/stable/gotchas.html#axis-order-changes-in-proj-6\n",
      "  return _prepare_from_string(\" \".join(pjargs))\n",
      "/home/lucas/miniconda3/envs/geoml/lib/python3.7/site-packages/pyproj/crs/crs.py:55: FutureWarning: '+init=<authority>:<code>' syntax is deprecated. '<authority>:<code>' is the preferred initialization method. When making the change, be mindful of axis order changes: https://pyproj4.github.io/pyproj/stable/gotchas.html#axis-order-changes-in-proj-6\n",
      "  return _prepare_from_string(\" \".join(pjargs))\n"
     ]
    },
    {
     "name": "stdout",
     "output_type": "stream",
     "text": [
      "S2-V3-Deepstack 10000.0 {'iou': 0.2538674717770279, 'iou_pos': 0.6349789967074572, 'iou_neg': 0.25198961171372053}\n"
     ]
    },
    {
     "name": "stderr",
     "output_type": "stream",
     "text": [
      "/home/lucas/miniconda3/envs/geoml/lib/python3.7/site-packages/pyproj/crs/crs.py:55: FutureWarning: '+init=<authority>:<code>' syntax is deprecated. '<authority>:<code>' is the preferred initialization method. When making the change, be mindful of axis order changes: https://pyproj4.github.io/pyproj/stable/gotchas.html#axis-order-changes-in-proj-6\n",
      "  return _prepare_from_string(\" \".join(pjargs))\n",
      "/home/lucas/miniconda3/envs/geoml/lib/python3.7/site-packages/pyproj/crs/crs.py:55: FutureWarning: '+init=<authority>:<code>' syntax is deprecated. '<authority>:<code>' is the preferred initialization method. When making the change, be mindful of axis order changes: https://pyproj4.github.io/pyproj/stable/gotchas.html#axis-order-changes-in-proj-6\n",
      "  return _prepare_from_string(\" \".join(pjargs))\n"
     ]
    },
    {
     "name": "stdout",
     "output_type": "stream",
     "text": [
      "S2-V3-Deepstack 100000.0 {'iou': 0.34418893969466247, 'iou_pos': 0.6175072826266965, 'iou_neg': 0.3709786551197132}\n"
     ]
    },
    {
     "name": "stderr",
     "output_type": "stream",
     "text": [
      "/home/lucas/miniconda3/envs/geoml/lib/python3.7/site-packages/pyproj/crs/crs.py:55: FutureWarning: '+init=<authority>:<code>' syntax is deprecated. '<authority>:<code>' is the preferred initialization method. When making the change, be mindful of axis order changes: https://pyproj4.github.io/pyproj/stable/gotchas.html#axis-order-changes-in-proj-6\n",
      "  return _prepare_from_string(\" \".join(pjargs))\n",
      "/home/lucas/miniconda3/envs/geoml/lib/python3.7/site-packages/pyproj/crs/crs.py:55: FutureWarning: '+init=<authority>:<code>' syntax is deprecated. '<authority>:<code>' is the preferred initialization method. When making the change, be mindful of axis order changes: https://pyproj4.github.io/pyproj/stable/gotchas.html#axis-order-changes-in-proj-6\n",
      "  return _prepare_from_string(\" \".join(pjargs))\n"
     ]
    },
    {
     "name": "stdout",
     "output_type": "stream",
     "text": [
      "S2-V3-Deepstack 1000000.0 {'iou': 0.36418741350545997, 'iou_pos': 0.36418741350545997, 'iou_neg': 0.6314645374110316}\n",
      "S2-V4-Final 0 {'iou': 0, 'iou_pos': 0.6181663423445196, 'iou_neg': 0}\n",
      "S2-V4-Final 100.0 {'iou': 0, 'iou_pos': 0.6183780011814288, 'iou_neg': 0}\n"
     ]
    },
    {
     "name": "stderr",
     "output_type": "stream",
     "text": [
      "/home/lucas/miniconda3/envs/geoml/lib/python3.7/site-packages/pyproj/crs/crs.py:55: FutureWarning: '+init=<authority>:<code>' syntax is deprecated. '<authority>:<code>' is the preferred initialization method. When making the change, be mindful of axis order changes: https://pyproj4.github.io/pyproj/stable/gotchas.html#axis-order-changes-in-proj-6\n",
      "  return _prepare_from_string(\" \".join(pjargs))\n",
      "/home/lucas/miniconda3/envs/geoml/lib/python3.7/site-packages/pyproj/crs/crs.py:55: FutureWarning: '+init=<authority>:<code>' syntax is deprecated. '<authority>:<code>' is the preferred initialization method. When making the change, be mindful of axis order changes: https://pyproj4.github.io/pyproj/stable/gotchas.html#axis-order-changes-in-proj-6\n",
      "  return _prepare_from_string(\" \".join(pjargs))\n"
     ]
    },
    {
     "name": "stdout",
     "output_type": "stream",
     "text": [
      "S2-V4-Final 1000.0 {'iou': 0.010597805804867692, 'iou_pos': 0.6192868158716925, 'iou_neg': 0.008583336525296244}\n"
     ]
    },
    {
     "name": "stderr",
     "output_type": "stream",
     "text": [
      "/home/lucas/miniconda3/envs/geoml/lib/python3.7/site-packages/pyproj/crs/crs.py:55: FutureWarning: '+init=<authority>:<code>' syntax is deprecated. '<authority>:<code>' is the preferred initialization method. When making the change, be mindful of axis order changes: https://pyproj4.github.io/pyproj/stable/gotchas.html#axis-order-changes-in-proj-6\n",
      "  return _prepare_from_string(\" \".join(pjargs))\n",
      "/home/lucas/miniconda3/envs/geoml/lib/python3.7/site-packages/pyproj/crs/crs.py:55: FutureWarning: '+init=<authority>:<code>' syntax is deprecated. '<authority>:<code>' is the preferred initialization method. When making the change, be mindful of axis order changes: https://pyproj4.github.io/pyproj/stable/gotchas.html#axis-order-changes-in-proj-6\n",
      "  return _prepare_from_string(\" \".join(pjargs))\n"
     ]
    },
    {
     "name": "stdout",
     "output_type": "stream",
     "text": [
      "S2-V4-Final 10000.0 {'iou': 0.21697762323230407, 'iou_pos': 0.6231999621351502, 'iou_neg': 0.20497949894599457}\n"
     ]
    },
    {
     "name": "stderr",
     "output_type": "stream",
     "text": [
      "/home/lucas/miniconda3/envs/geoml/lib/python3.7/site-packages/pyproj/crs/crs.py:55: FutureWarning: '+init=<authority>:<code>' syntax is deprecated. '<authority>:<code>' is the preferred initialization method. When making the change, be mindful of axis order changes: https://pyproj4.github.io/pyproj/stable/gotchas.html#axis-order-changes-in-proj-6\n",
      "  return _prepare_from_string(\" \".join(pjargs))\n",
      "/home/lucas/miniconda3/envs/geoml/lib/python3.7/site-packages/pyproj/crs/crs.py:55: FutureWarning: '+init=<authority>:<code>' syntax is deprecated. '<authority>:<code>' is the preferred initialization method. When making the change, be mindful of axis order changes: https://pyproj4.github.io/pyproj/stable/gotchas.html#axis-order-changes-in-proj-6\n",
      "  return _prepare_from_string(\" \".join(pjargs))\n"
     ]
    },
    {
     "name": "stdout",
     "output_type": "stream",
     "text": [
      "S2-V4-Final 100000.0 {'iou': 0.3251610000423048, 'iou_pos': 0.6057154492031507, 'iou_neg': 0.34717808412832657}\n"
     ]
    },
    {
     "name": "stderr",
     "output_type": "stream",
     "text": [
      "/home/lucas/miniconda3/envs/geoml/lib/python3.7/site-packages/pyproj/crs/crs.py:55: FutureWarning: '+init=<authority>:<code>' syntax is deprecated. '<authority>:<code>' is the preferred initialization method. When making the change, be mindful of axis order changes: https://pyproj4.github.io/pyproj/stable/gotchas.html#axis-order-changes-in-proj-6\n",
      "  return _prepare_from_string(\" \".join(pjargs))\n",
      "/home/lucas/miniconda3/envs/geoml/lib/python3.7/site-packages/pyproj/crs/crs.py:55: FutureWarning: '+init=<authority>:<code>' syntax is deprecated. '<authority>:<code>' is the preferred initialization method. When making the change, be mindful of axis order changes: https://pyproj4.github.io/pyproj/stable/gotchas.html#axis-order-changes-in-proj-6\n",
      "  return _prepare_from_string(\" \".join(pjargs))\n"
     ]
    },
    {
     "name": "stdout",
     "output_type": "stream",
     "text": [
      "S2-V4-Final 1000000.0 {'iou': 0.34457205068514934, 'iou_pos': 0.34457205068514934, 'iou_neg': 0.6181663423445196}\n",
      "SPOT-V1-Vectorised 0 {'iou': 0, 'iou_pos': 0.36967683216591196, 'iou_neg': 0}\n"
     ]
    },
    {
     "name": "stderr",
     "output_type": "stream",
     "text": [
      "/home/lucas/miniconda3/envs/geoml/lib/python3.7/site-packages/pyproj/crs/crs.py:55: FutureWarning: '+init=<authority>:<code>' syntax is deprecated. '<authority>:<code>' is the preferred initialization method. When making the change, be mindful of axis order changes: https://pyproj4.github.io/pyproj/stable/gotchas.html#axis-order-changes-in-proj-6\n",
      "  return _prepare_from_string(\" \".join(pjargs))\n",
      "/home/lucas/miniconda3/envs/geoml/lib/python3.7/site-packages/pyproj/crs/crs.py:55: FutureWarning: '+init=<authority>:<code>' syntax is deprecated. '<authority>:<code>' is the preferred initialization method. When making the change, be mindful of axis order changes: https://pyproj4.github.io/pyproj/stable/gotchas.html#axis-order-changes-in-proj-6\n",
      "  return _prepare_from_string(\" \".join(pjargs))\n"
     ]
    },
    {
     "name": "stdout",
     "output_type": "stream",
     "text": [
      "SPOT-V1-Vectorised 100.0 {'iou': 0.0010722983157028575, 'iou_pos': 0.3698028181274525, 'iou_neg': 0.0009370837797956577}\n"
     ]
    },
    {
     "name": "stderr",
     "output_type": "stream",
     "text": [
      "/home/lucas/miniconda3/envs/geoml/lib/python3.7/site-packages/pyproj/crs/crs.py:55: FutureWarning: '+init=<authority>:<code>' syntax is deprecated. '<authority>:<code>' is the preferred initialization method. When making the change, be mindful of axis order changes: https://pyproj4.github.io/pyproj/stable/gotchas.html#axis-order-changes-in-proj-6\n",
      "  return _prepare_from_string(\" \".join(pjargs))\n",
      "/home/lucas/miniconda3/envs/geoml/lib/python3.7/site-packages/pyproj/crs/crs.py:55: FutureWarning: '+init=<authority>:<code>' syntax is deprecated. '<authority>:<code>' is the preferred initialization method. When making the change, be mindful of axis order changes: https://pyproj4.github.io/pyproj/stable/gotchas.html#axis-order-changes-in-proj-6\n",
      "  return _prepare_from_string(\" \".join(pjargs))\n"
     ]
    },
    {
     "name": "stdout",
     "output_type": "stream",
     "text": [
      "SPOT-V1-Vectorised 1000.0 {'iou': 0.08083197614917767, 'iou_pos': 0.37015804318879225, 'iou_neg': 0.07480765979712506}\n"
     ]
    },
    {
     "name": "stderr",
     "output_type": "stream",
     "text": [
      "/home/lucas/miniconda3/envs/geoml/lib/python3.7/site-packages/pyproj/crs/crs.py:55: FutureWarning: '+init=<authority>:<code>' syntax is deprecated. '<authority>:<code>' is the preferred initialization method. When making the change, be mindful of axis order changes: https://pyproj4.github.io/pyproj/stable/gotchas.html#axis-order-changes-in-proj-6\n",
      "  return _prepare_from_string(\" \".join(pjargs))\n",
      "/home/lucas/miniconda3/envs/geoml/lib/python3.7/site-packages/pyproj/crs/crs.py:55: FutureWarning: '+init=<authority>:<code>' syntax is deprecated. '<authority>:<code>' is the preferred initialization method. When making the change, be mindful of axis order changes: https://pyproj4.github.io/pyproj/stable/gotchas.html#axis-order-changes-in-proj-6\n",
      "  return _prepare_from_string(\" \".join(pjargs))\n"
     ]
    },
    {
     "name": "stdout",
     "output_type": "stream",
     "text": [
      "SPOT-V1-Vectorised 10000.0 {'iou': 0.2042919724027484, 'iou_pos': 0.3695013576278666, 'iou_neg': 0.2131743281807967}\n"
     ]
    },
    {
     "name": "stderr",
     "output_type": "stream",
     "text": [
      "/home/lucas/miniconda3/envs/geoml/lib/python3.7/site-packages/pyproj/crs/crs.py:55: FutureWarning: '+init=<authority>:<code>' syntax is deprecated. '<authority>:<code>' is the preferred initialization method. When making the change, be mindful of axis order changes: https://pyproj4.github.io/pyproj/stable/gotchas.html#axis-order-changes-in-proj-6\n",
      "  return _prepare_from_string(\" \".join(pjargs))\n",
      "/home/lucas/miniconda3/envs/geoml/lib/python3.7/site-packages/pyproj/crs/crs.py:55: FutureWarning: '+init=<authority>:<code>' syntax is deprecated. '<authority>:<code>' is the preferred initialization method. When making the change, be mindful of axis order changes: https://pyproj4.github.io/pyproj/stable/gotchas.html#axis-order-changes-in-proj-6\n",
      "  return _prepare_from_string(\" \".join(pjargs))\n"
     ]
    },
    {
     "name": "stdout",
     "output_type": "stream",
     "text": [
      "SPOT-V1-Vectorised 100000.0 {'iou': 0.2510751272995275, 'iou_pos': 0.3411494214135542, 'iou_neg': 0.28199077091666935}\n"
     ]
    },
    {
     "name": "stderr",
     "output_type": "stream",
     "text": [
      "/home/lucas/miniconda3/envs/geoml/lib/python3.7/site-packages/pyproj/crs/crs.py:55: FutureWarning: '+init=<authority>:<code>' syntax is deprecated. '<authority>:<code>' is the preferred initialization method. When making the change, be mindful of axis order changes: https://pyproj4.github.io/pyproj/stable/gotchas.html#axis-order-changes-in-proj-6\n",
      "  return _prepare_from_string(\" \".join(pjargs))\n",
      "/home/lucas/miniconda3/envs/geoml/lib/python3.7/site-packages/pyproj/crs/crs.py:55: FutureWarning: '+init=<authority>:<code>' syntax is deprecated. '<authority>:<code>' is the preferred initialization method. When making the change, be mindful of axis order changes: https://pyproj4.github.io/pyproj/stable/gotchas.html#axis-order-changes-in-proj-6\n",
      "  return _prepare_from_string(\" \".join(pjargs))\n"
     ]
    },
    {
     "name": "stdout",
     "output_type": "stream",
     "text": [
      "SPOT-V1-Vectorised 1000000.0 {'iou': 0.15877729607232258, 'iou_pos': 0.15877729607232258, 'iou_neg': 0.36967683216591196}\n",
      "SPOT-V2-Filtered 0 {'iou': 0, 'iou_pos': 0.15876753036408528, 'iou_neg': 0}\n",
      "SPOT-V2-Filtered 100.0 {'iou': 0, 'iou_pos': 0.15883094411367074, 'iou_neg': 0}\n"
     ]
    },
    {
     "name": "stderr",
     "output_type": "stream",
     "text": [
      "/home/lucas/miniconda3/envs/geoml/lib/python3.7/site-packages/pyproj/crs/crs.py:55: FutureWarning: '+init=<authority>:<code>' syntax is deprecated. '<authority>:<code>' is the preferred initialization method. When making the change, be mindful of axis order changes: https://pyproj4.github.io/pyproj/stable/gotchas.html#axis-order-changes-in-proj-6\n",
      "  return _prepare_from_string(\" \".join(pjargs))\n",
      "/home/lucas/miniconda3/envs/geoml/lib/python3.7/site-packages/pyproj/crs/crs.py:55: FutureWarning: '+init=<authority>:<code>' syntax is deprecated. '<authority>:<code>' is the preferred initialization method. When making the change, be mindful of axis order changes: https://pyproj4.github.io/pyproj/stable/gotchas.html#axis-order-changes-in-proj-6\n",
      "  return _prepare_from_string(\" \".join(pjargs))\n"
     ]
    },
    {
     "name": "stdout",
     "output_type": "stream",
     "text": [
      "SPOT-V2-Filtered 1000.0 {'iou': 0.09073842919416483, 'iou_pos': 0.1589683788322504, 'iou_neg': 0.08075309067133665}\n"
     ]
    },
    {
     "name": "stderr",
     "output_type": "stream",
     "text": [
      "/home/lucas/miniconda3/envs/geoml/lib/python3.7/site-packages/pyproj/crs/crs.py:55: FutureWarning: '+init=<authority>:<code>' syntax is deprecated. '<authority>:<code>' is the preferred initialization method. When making the change, be mindful of axis order changes: https://pyproj4.github.io/pyproj/stable/gotchas.html#axis-order-changes-in-proj-6\n",
      "  return _prepare_from_string(\" \".join(pjargs))\n",
      "/home/lucas/miniconda3/envs/geoml/lib/python3.7/site-packages/pyproj/crs/crs.py:55: FutureWarning: '+init=<authority>:<code>' syntax is deprecated. '<authority>:<code>' is the preferred initialization method. When making the change, be mindful of axis order changes: https://pyproj4.github.io/pyproj/stable/gotchas.html#axis-order-changes-in-proj-6\n",
      "  return _prepare_from_string(\" \".join(pjargs))\n"
     ]
    },
    {
     "name": "stdout",
     "output_type": "stream",
     "text": [
      "SPOT-V2-Filtered 10000.0 {'iou': 0.1293949334832582, 'iou_pos': 0.1565628288469313, 'iou_neg': 0.14323632123539198}\n"
     ]
    },
    {
     "name": "stderr",
     "output_type": "stream",
     "text": [
      "/home/lucas/miniconda3/envs/geoml/lib/python3.7/site-packages/pyproj/crs/crs.py:55: FutureWarning: '+init=<authority>:<code>' syntax is deprecated. '<authority>:<code>' is the preferred initialization method. When making the change, be mindful of axis order changes: https://pyproj4.github.io/pyproj/stable/gotchas.html#axis-order-changes-in-proj-6\n",
      "  return _prepare_from_string(\" \".join(pjargs))\n",
      "/home/lucas/miniconda3/envs/geoml/lib/python3.7/site-packages/pyproj/crs/crs.py:55: FutureWarning: '+init=<authority>:<code>' syntax is deprecated. '<authority>:<code>' is the preferred initialization method. When making the change, be mindful of axis order changes: https://pyproj4.github.io/pyproj/stable/gotchas.html#axis-order-changes-in-proj-6\n",
      "  return _prepare_from_string(\" \".join(pjargs))\n"
     ]
    },
    {
     "name": "stdout",
     "output_type": "stream",
     "text": [
      "SPOT-V2-Filtered 100000.0 {'iou': 0.16189535565364738, 'iou_pos': 0.14612575499090605, 'iou_neg': 0.17775850237654597}\n"
     ]
    },
    {
     "name": "stderr",
     "output_type": "stream",
     "text": [
      "/home/lucas/miniconda3/envs/geoml/lib/python3.7/site-packages/pyproj/crs/crs.py:55: FutureWarning: '+init=<authority>:<code>' syntax is deprecated. '<authority>:<code>' is the preferred initialization method. When making the change, be mindful of axis order changes: https://pyproj4.github.io/pyproj/stable/gotchas.html#axis-order-changes-in-proj-6\n",
      "  return _prepare_from_string(\" \".join(pjargs))\n",
      "/home/lucas/miniconda3/envs/geoml/lib/python3.7/site-packages/pyproj/crs/crs.py:55: FutureWarning: '+init=<authority>:<code>' syntax is deprecated. '<authority>:<code>' is the preferred initialization method. When making the change, be mindful of axis order changes: https://pyproj4.github.io/pyproj/stable/gotchas.html#axis-order-changes-in-proj-6\n",
      "  return _prepare_from_string(\" \".join(pjargs))\n"
     ]
    },
    {
     "name": "stdout",
     "output_type": "stream",
     "text": [
      "SPOT-V2-Filtered 1000000.0 {'iou': 0.1182578450426753, 'iou_pos': 0.1182578450426753, 'iou_neg': 0.15876753036408528}\n",
      "compiled_final 0 {'iou': 0, 'iou_pos': 0.660817667864235, 'iou_neg': 0}\n",
      "compiled_final 100.0 {'iou': 0, 'iou_pos': 0.6610696421112114, 'iou_neg': 0}\n"
     ]
    },
    {
     "name": "stderr",
     "output_type": "stream",
     "text": [
      "/home/lucas/miniconda3/envs/geoml/lib/python3.7/site-packages/pyproj/crs/crs.py:55: FutureWarning: '+init=<authority>:<code>' syntax is deprecated. '<authority>:<code>' is the preferred initialization method. When making the change, be mindful of axis order changes: https://pyproj4.github.io/pyproj/stable/gotchas.html#axis-order-changes-in-proj-6\n",
      "  return _prepare_from_string(\" \".join(pjargs))\n",
      "/home/lucas/miniconda3/envs/geoml/lib/python3.7/site-packages/pyproj/crs/crs.py:55: FutureWarning: '+init=<authority>:<code>' syntax is deprecated. '<authority>:<code>' is the preferred initialization method. When making the change, be mindful of axis order changes: https://pyproj4.github.io/pyproj/stable/gotchas.html#axis-order-changes-in-proj-6\n",
      "  return _prepare_from_string(\" \".join(pjargs))\n"
     ]
    },
    {
     "name": "stdout",
     "output_type": "stream",
     "text": [
      "compiled_final 1000.0 {'iou': 0.06168309019793569, 'iou_pos': 0.6619465507861063, 'iou_neg': 0.05221621201875168}\n"
     ]
    },
    {
     "name": "stderr",
     "output_type": "stream",
     "text": [
      "/home/lucas/miniconda3/envs/geoml/lib/python3.7/site-packages/pyproj/crs/crs.py:55: FutureWarning: '+init=<authority>:<code>' syntax is deprecated. '<authority>:<code>' is the preferred initialization method. When making the change, be mindful of axis order changes: https://pyproj4.github.io/pyproj/stable/gotchas.html#axis-order-changes-in-proj-6\n",
      "  return _prepare_from_string(\" \".join(pjargs))\n",
      "/home/lucas/miniconda3/envs/geoml/lib/python3.7/site-packages/pyproj/crs/crs.py:55: FutureWarning: '+init=<authority>:<code>' syntax is deprecated. '<authority>:<code>' is the preferred initialization method. When making the change, be mindful of axis order changes: https://pyproj4.github.io/pyproj/stable/gotchas.html#axis-order-changes-in-proj-6\n",
      "  return _prepare_from_string(\" \".join(pjargs))\n"
     ]
    },
    {
     "name": "stdout",
     "output_type": "stream",
     "text": [
      "compiled_final 10000.0 {'iou': 0.3176283773378961, 'iou_pos': 0.6646446098512561, 'iou_neg': 0.30994891667903485}\n"
     ]
    },
    {
     "name": "stderr",
     "output_type": "stream",
     "text": [
      "/home/lucas/miniconda3/envs/geoml/lib/python3.7/site-packages/pyproj/crs/crs.py:55: FutureWarning: '+init=<authority>:<code>' syntax is deprecated. '<authority>:<code>' is the preferred initialization method. When making the change, be mindful of axis order changes: https://pyproj4.github.io/pyproj/stable/gotchas.html#axis-order-changes-in-proj-6\n",
      "  return _prepare_from_string(\" \".join(pjargs))\n",
      "/home/lucas/miniconda3/envs/geoml/lib/python3.7/site-packages/pyproj/crs/crs.py:55: FutureWarning: '+init=<authority>:<code>' syntax is deprecated. '<authority>:<code>' is the preferred initialization method. When making the change, be mindful of axis order changes: https://pyproj4.github.io/pyproj/stable/gotchas.html#axis-order-changes-in-proj-6\n",
      "  return _prepare_from_string(\" \".join(pjargs))\n"
     ]
    },
    {
     "name": "stdout",
     "output_type": "stream",
     "text": [
      "compiled_final 100000.0 {'iou': 0.47410073426891675, 'iou_pos': 0.6500586411565747, 'iou_neg': 0.4993791527774188}\n"
     ]
    },
    {
     "name": "stderr",
     "output_type": "stream",
     "text": [
      "/home/lucas/miniconda3/envs/geoml/lib/python3.7/site-packages/pyproj/crs/crs.py:55: FutureWarning: '+init=<authority>:<code>' syntax is deprecated. '<authority>:<code>' is the preferred initialization method. When making the change, be mindful of axis order changes: https://pyproj4.github.io/pyproj/stable/gotchas.html#axis-order-changes-in-proj-6\n",
      "  return _prepare_from_string(\" \".join(pjargs))\n",
      "/home/lucas/miniconda3/envs/geoml/lib/python3.7/site-packages/pyproj/crs/crs.py:55: FutureWarning: '+init=<authority>:<code>' syntax is deprecated. '<authority>:<code>' is the preferred initialization method. When making the change, be mindful of axis order changes: https://pyproj4.github.io/pyproj/stable/gotchas.html#axis-order-changes-in-proj-6\n",
      "  return _prepare_from_string(\" \".join(pjargs))\n"
     ]
    },
    {
     "name": "stdout",
     "output_type": "stream",
     "text": [
      "compiled_final 1000000.0 {'iou': 0.5187973369269772, 'iou_pos': 0.5187973369269772, 'iou_neg': 0.660817667864235}\n"
     ]
    }
   ],
   "source": [
    "for kk,gdf in gdfs.items():\n",
    "    #pipe_mp = geometry.MultiPolygon([geom for geom in gdf.unary_union.geoms])\n",
    "    for ii_a in range(len(area_bins)-1):\n",
    "        # iou = intersection / union\n",
    "        bindf_slice = gdf[gdf.geoarea<area_bins[ii_a+1]]\n",
    "        bindf_mp = geometry.MultiPolygon([geom for geom in bindf_slice.unary_union.geoms])\n",
    "        cv_slice = cv_polys[cv_polys.geoarea<area_bins[ii_a+1]]\n",
    "        cv_mp = geometry.MultiPolygon([geom for geom in cv_slice.unary_union.geoms])\n",
    "        \n",
    "        intersection=bindf_mp.intersection(cv_mp)\n",
    "        union=bindf_mp.union(cv_mp)\n",
    "        \n",
    "\n",
    "        if not intersection.is_empty:\n",
    "            #print (intersection)\n",
    "        \n",
    "            if intersection.type=='Polygon':\n",
    "                \n",
    "                i_gdf = gpd.GeoDataFrame(geometry=[intersection], crs=crs)\n",
    "            else:\n",
    "                i_gdf = gpd.GeoDataFrame(geometry=list(intersection), crs=crs)\n",
    "\n",
    "            if union.type=='Polygon':\n",
    "                u_gdf = gpd.GeoDataFrame(geometry=list(union), crs=crs)\n",
    "            else:\n",
    "                u_gdf = gpd.GeoDataFrame(geometry=list(union), crs=crs)\n",
    "\n",
    "            i_gdf['geoarea'] = i_gdf.to_crs({'init': 'epsg:3857'}).area\n",
    "            u_gdf['geoarea'] = u_gdf.to_crs({'init': 'epsg:3857'}).area\n",
    "\n",
    "            iou_dict[kk][ii_a]['iou_neg'] = i_gdf['geoarea'].sum() / u_gdf['geoarea'].sum()\n",
    "            \n",
    "        else:\n",
    "            iou_dict[kk][ii_a]['iou_neg'] = 0\n",
    "        \n",
    "        \n",
    "        print (kk,area_bins[ii_a],iou_dict[kk][ii_a])"
   ]
  },
  {
   "cell_type": "code",
   "execution_count": 101,
   "metadata": {},
   "outputs": [],
   "source": [
    "pickle.dump(iou_dict, open('../data/iou_dict.pickle','wb'))"
   ]
  },
  {
   "cell_type": "code",
   "execution_count": 100,
   "metadata": {},
   "outputs": [
    {
     "data": {
      "text/plain": [
       "{'S2-V1-Primary': {0: {'iou': 0, 'iou_pos': 0.6563800682850637, 'iou_neg': 0},\n",
       "  1: {'iou': 0.000575957496241044,\n",
       "   'iou_pos': 0.6565955418276836,\n",
       "   'iou_neg': 0.0005787945344644309},\n",
       "  2: {'iou': 0.04458308022227081,\n",
       "   'iou_pos': 0.6573135120645237,\n",
       "   'iou_neg': 0.038873578276106074},\n",
       "  3: {'iou': 0.25633016597675484,\n",
       "   'iou_pos': 0.6601423430244804,\n",
       "   'iou_neg': 0.25495086636237196},\n",
       "  4: {'iou': 0.34174840993048716,\n",
       "   'iou_pos': 0.6440034887939549,\n",
       "   'iou_neg': 0.3707904485204816},\n",
       "  5: {'iou': 0.33652392593238295,\n",
       "   'iou_pos': 0.33652392593238295,\n",
       "   'iou_neg': 0.6563800682850637},\n",
       "  'full': 0.6563800682850637},\n",
       " 'S2-V2-Secondary': {0: {'iou': 0,\n",
       "   'iou_pos': 0.6582743554078028,\n",
       "   'iou_neg': 0},\n",
       "  1: {'iou': 0.00013033784295686285,\n",
       "   'iou_pos': 0.6584824566415236,\n",
       "   'iou_neg': 0.00020090324893347255},\n",
       "  2: {'iou': 0.04994825911492288,\n",
       "   'iou_pos': 0.6591570460551603,\n",
       "   'iou_neg': 0.04454032450030452},\n",
       "  3: {'iou': 0.26483324892686544,\n",
       "   'iou_pos': 0.6620476772423984,\n",
       "   'iou_neg': 0.2671084987063852},\n",
       "  4: {'iou': 0.3463247263440033,\n",
       "   'iou_pos': 0.6464954092969896,\n",
       "   'iou_neg': 0.3759693290847255},\n",
       "  5: {'iou': 0.3380914159406726,\n",
       "   'iou_pos': 0.3380914159406726,\n",
       "   'iou_neg': 0.6582743554078028},\n",
       "  'full': 0.6582743554078028},\n",
       " 'S2-V3-Deepstack': {0: {'iou': 0,\n",
       "   'iou_pos': 0.6314645374110316,\n",
       "   'iou_neg': 0},\n",
       "  1: {'iou': 0.00014645965677867912,\n",
       "   'iou_pos': 0.6316433898157164,\n",
       "   'iou_neg': 0.0002263321361927507},\n",
       "  2: {'iou': 0.026523989020220066,\n",
       "   'iou_pos': 0.6322469835693977,\n",
       "   'iou_neg': 0.02242910610577691},\n",
       "  3: {'iou': 0.2538674717770279,\n",
       "   'iou_pos': 0.6349789967074572,\n",
       "   'iou_neg': 0.25198961171372053},\n",
       "  4: {'iou': 0.34418893969466247,\n",
       "   'iou_pos': 0.6175072826266965,\n",
       "   'iou_neg': 0.3709786551197132},\n",
       "  5: {'iou': 0.36418741350545997,\n",
       "   'iou_pos': 0.36418741350545997,\n",
       "   'iou_neg': 0.6314645374110316},\n",
       "  'full': 0.6314645374110316},\n",
       " 'S2-V4-Final': {0: {'iou': 0, 'iou_pos': 0.6181663423445196, 'iou_neg': 0},\n",
       "  1: {'iou': 0, 'iou_pos': 0.6183780011814288, 'iou_neg': 0},\n",
       "  2: {'iou': 0.010597805804867692,\n",
       "   'iou_pos': 0.6192868158716925,\n",
       "   'iou_neg': 0.008583336525296244},\n",
       "  3: {'iou': 0.21697762323230407,\n",
       "   'iou_pos': 0.6231999621351502,\n",
       "   'iou_neg': 0.20497949894599457},\n",
       "  4: {'iou': 0.3251610000423048,\n",
       "   'iou_pos': 0.6057154492031507,\n",
       "   'iou_neg': 0.34717808412832657},\n",
       "  5: {'iou': 0.34457205068514934,\n",
       "   'iou_pos': 0.34457205068514934,\n",
       "   'iou_neg': 0.6181663423445196},\n",
       "  'full': 0.6181663423445196},\n",
       " 'SPOT-V1-Vectorised': {0: {'iou': 0,\n",
       "   'iou_pos': 0.36967683216591196,\n",
       "   'iou_neg': 0},\n",
       "  1: {'iou': 0.0010722983157028575,\n",
       "   'iou_pos': 0.3698028181274525,\n",
       "   'iou_neg': 0.0009370837797956577},\n",
       "  2: {'iou': 0.08083197614917767,\n",
       "   'iou_pos': 0.37015804318879225,\n",
       "   'iou_neg': 0.07480765979712506},\n",
       "  3: {'iou': 0.2042919724027484,\n",
       "   'iou_pos': 0.3695013576278666,\n",
       "   'iou_neg': 0.2131743281807967},\n",
       "  4: {'iou': 0.2510751272995275,\n",
       "   'iou_pos': 0.3411494214135542,\n",
       "   'iou_neg': 0.28199077091666935},\n",
       "  5: {'iou': 0.15877729607232258,\n",
       "   'iou_pos': 0.15877729607232258,\n",
       "   'iou_neg': 0.36967683216591196},\n",
       "  'full': 0.36967683216591196},\n",
       " 'SPOT-V2-Filtered': {0: {'iou': 0,\n",
       "   'iou_pos': 0.15876753036408528,\n",
       "   'iou_neg': 0},\n",
       "  1: {'iou': 0, 'iou_pos': 0.15883094411367074, 'iou_neg': 0},\n",
       "  2: {'iou': 0.09073842919416483,\n",
       "   'iou_pos': 0.1589683788322504,\n",
       "   'iou_neg': 0.08075309067133665},\n",
       "  3: {'iou': 0.1293949334832582,\n",
       "   'iou_pos': 0.1565628288469313,\n",
       "   'iou_neg': 0.14323632123539198},\n",
       "  4: {'iou': 0.16189535565364738,\n",
       "   'iou_pos': 0.14612575499090605,\n",
       "   'iou_neg': 0.17775850237654597},\n",
       "  5: {'iou': 0.1182578450426753,\n",
       "   'iou_pos': 0.1182578450426753,\n",
       "   'iou_neg': 0.15876753036408528},\n",
       "  'full': 0.15876753036408528},\n",
       " 'compiled_final': {0: {'iou': 0, 'iou_pos': 0.660817667864235, 'iou_neg': 0},\n",
       "  1: {'iou': 0, 'iou_pos': 0.6610696421112114, 'iou_neg': 0},\n",
       "  2: {'iou': 0.06168309019793569,\n",
       "   'iou_pos': 0.6619465507861063,\n",
       "   'iou_neg': 0.05221621201875168},\n",
       "  3: {'iou': 0.3176283773378961,\n",
       "   'iou_pos': 0.6646446098512561,\n",
       "   'iou_neg': 0.30994891667903485},\n",
       "  4: {'iou': 0.47410073426891675,\n",
       "   'iou_pos': 0.6500586411565747,\n",
       "   'iou_neg': 0.4993791527774188},\n",
       "  5: {'iou': 0.5187973369269772,\n",
       "   'iou_pos': 0.5187973369269772,\n",
       "   'iou_neg': 0.660817667864235},\n",
       "  'full': 0.660817667864235}}"
      ]
     },
     "execution_count": 100,
     "metadata": {},
     "output_type": "execute_result"
    }
   ],
   "source": [
    "iou_dict"
   ]
  },
  {
   "cell_type": "markdown",
   "metadata": {},
   "source": [
    "### Plot Data"
   ]
  },
  {
   "cell_type": "code",
   "execution_count": 8,
   "metadata": {},
   "outputs": [],
   "source": [
    "res_dict = pickle.load(open('../data/res_dict.pkl','rb'))\n",
    "iou_dict = pickle.load(open('../data/iou_dict.pickle','rb'))"
   ]
  },
  {
   "cell_type": "code",
   "execution_count": 9,
   "metadata": {},
   "outputs": [],
   "source": [
    "for key, vv in res_dict.items():\n",
    "    for ar,vv2 in vv.items():\n",
    "        vv2['iou'] = iou_dict[key][ar]['iou']\n",
    "        vv2['iou_neg'] = iou_dict[key][ar]['iou_neg']\n",
    "        vv2['iou_pos'] = iou_dict[key][ar]['iou_pos']"
   ]
  },
  {
   "cell_type": "code",
   "execution_count": 10,
   "metadata": {},
   "outputs": [],
   "source": [
    "from matplotlib.collections import LineCollection"
   ]
  },
  {
   "cell_type": "code",
   "execution_count": 28,
   "metadata": {},
   "outputs": [],
   "source": [
    "title_dict = {'P':'Precision','R':'Recall','iou_neg':'Intersection-over-Union'}"
   ]
  },
  {
   "cell_type": "code",
   "execution_count": 50,
   "metadata": {},
   "outputs": [
    {
     "data": {
      "image/png": "[encoded data removed]",
      "text/plain": [
       "<Figure size 2880x1440 with 18 Axes>"
      ]
     },
     "metadata": {
      "needs_background": "light"
     },
     "output_type": "display_data"
    }
   ],
   "source": [
    "fig, axs = plt.subplots(len(area_bins)-1,3,figsize=(40,20),sharey=True, sharex=True)\n",
    "# plot P\n",
    "for ii_a in range(len(area_bins)-1):\n",
    "    \n",
    "    for ii_ax, M in enumerate(['P','R','iou_neg']):\n",
    "        full_bars= [res_dict[kk][ii_a][M] for kk in gdfs.keys()] \n",
    "\n",
    "        bars = [full_bars[0]] + \\\n",
    "            [(full_bars[ii] - full_bars[ii-1]) for ii in range(1,4)] + \\\n",
    "            [full_bars[4], full_bars[5]-full_bars[4]] +\\\n",
    "            [full_bars[6]]\n",
    "        bottoms = [0]+\\\n",
    "                    [full_bars[ii-1] for ii in range(1,4)] +\\\n",
    "                    [0,full_bars[4],0]\n",
    "        \n",
    "        lines_y = [el for el in full_bars for _ in (0,1)]\n",
    "        lines_x = [0] + [el for el in range(1,6) for _ in (0,1)] + [6]\n",
    "        segs = [[[lines_x[ii], lines_y[ii]],[lines_x[ii+1],lines_y[ii+1]]] for ii in range(0,12,2)]\n",
    "        \n",
    "        segs[3][1][0]=3.5\n",
    "        segs[5][1][0]=5.5\n",
    "        segs.append([segs[3][1],[segs[3][1][0],full_bars[6]]])\n",
    "        segs.append([[segs[3][1][0],full_bars[6]],[6,full_bars[6]]])\n",
    "        segs.append([segs[5][1],[segs[5][1][0],full_bars[6]]])\n",
    "        \n",
    "        \n",
    "        line_segments = LineCollection(segs, colors=['r']*4 + ['b']*2 + ['c']*3, alpha=0.5)\n",
    "        axs[ii_a,ii_ax].add_collection(line_segments)\n",
    "\n",
    "        colors = ['r']*4 + ['b']*2 + ['c']\n",
    "\n",
    "\n",
    "        axs[ii_a,ii_ax].bar(range(len(gdfs.keys())),bars, bottom=bottoms, edgecolor=colors, linewidth=2,color=colors)\n",
    "        \n",
    "        for ii in range(7):\n",
    "            H=0.05\n",
    "            if ((M=='R' and ii_a==0) or (M=='iou_neg' and ii_a)):\n",
    "                H=.1\n",
    "                \n",
    "            axs[ii_a,ii_ax].text(ii,H,f'{full_bars[ii]:.0%}', horizontalalignment='center')\n",
    "\n",
    "        \n",
    "        axs[ii_a,ii_ax].set_xticklabels(['','S1-V1','S1-V2','S1-V3','S1-V4','SPOT-V1','SPOT-V2','Final'])\n",
    "        \n",
    "        if ii_a==0:\n",
    "            axs[ii_a,ii_ax].set_title(title_dict[M],fontsize=24)\n",
    "            axs[ii_a,ii_ax].set_ylim([0,1])\n",
    "        \n",
    "    axs[ii_a,0].set_ylabel(f'{area_bins[ii_a]:,.0f} to {area_bins[ii_a+1]:,.0f} m$^2$')\n",
    "    \n",
    "fig.savefig('../analysis/P-R-iou.png')"
   ]
  },
  {
   "cell_type": "code",
   "execution_count": null,
   "metadata": {},
   "outputs": [],
   "source": []
  },
  {
   "cell_type": "code",
   "execution_count": null,
   "metadata": {},
   "outputs": [],
   "source": []
  },
  {
   "cell_type": "code",
   "execution_count": null,
   "metadata": {},
   "outputs": [],
   "source": []
  },
  {
   "cell_type": "code",
   "execution_count": 99,
   "metadata": {},
   "outputs": [
    {
     "name": "stderr",
     "output_type": "stream",
     "text": [
      "/home/lucas/miniconda3/envs/geoml/lib/python3.7/site-packages/pyproj/crs/crs.py:55: FutureWarning: '+init=<authority>:<code>' syntax is deprecated. '<authority>:<code>' is the preferred initialization method. When making the change, be mindful of axis order changes: https://pyproj4.github.io/pyproj/stable/gotchas.html#axis-order-changes-in-proj-6\n",
      "  return _prepare_from_string(\" \".join(pjargs))\n",
      "/home/lucas/miniconda3/envs/geoml/lib/python3.7/site-packages/pyproj/crs/crs.py:55: FutureWarning: '+init=<authority>:<code>' syntax is deprecated. '<authority>:<code>' is the preferred initialization method. When making the change, be mindful of axis order changes: https://pyproj4.github.io/pyproj/stable/gotchas.html#axis-order-changes-in-proj-6\n",
      "  return _prepare_from_string(\" \".join(pjargs))\n"
     ]
    },
    {
     "name": "stdout",
     "output_type": "stream",
     "text": [
      "S2-V1-Primary 0.6563800682850637\n"
     ]
    },
    {
     "name": "stderr",
     "output_type": "stream",
     "text": [
      "/home/lucas/miniconda3/envs/geoml/lib/python3.7/site-packages/pyproj/crs/crs.py:55: FutureWarning: '+init=<authority>:<code>' syntax is deprecated. '<authority>:<code>' is the preferred initialization method. When making the change, be mindful of axis order changes: https://pyproj4.github.io/pyproj/stable/gotchas.html#axis-order-changes-in-proj-6\n",
      "  return _prepare_from_string(\" \".join(pjargs))\n",
      "/home/lucas/miniconda3/envs/geoml/lib/python3.7/site-packages/pyproj/crs/crs.py:55: FutureWarning: '+init=<authority>:<code>' syntax is deprecated. '<authority>:<code>' is the preferred initialization method. When making the change, be mindful of axis order changes: https://pyproj4.github.io/pyproj/stable/gotchas.html#axis-order-changes-in-proj-6\n",
      "  return _prepare_from_string(\" \".join(pjargs))\n"
     ]
    },
    {
     "name": "stdout",
     "output_type": "stream",
     "text": [
      "S2-V2-Secondary 0.6582743554078028\n"
     ]
    },
    {
     "name": "stderr",
     "output_type": "stream",
     "text": [
      "/home/lucas/miniconda3/envs/geoml/lib/python3.7/site-packages/pyproj/crs/crs.py:55: FutureWarning: '+init=<authority>:<code>' syntax is deprecated. '<authority>:<code>' is the preferred initialization method. When making the change, be mindful of axis order changes: https://pyproj4.github.io/pyproj/stable/gotchas.html#axis-order-changes-in-proj-6\n",
      "  return _prepare_from_string(\" \".join(pjargs))\n",
      "/home/lucas/miniconda3/envs/geoml/lib/python3.7/site-packages/pyproj/crs/crs.py:55: FutureWarning: '+init=<authority>:<code>' syntax is deprecated. '<authority>:<code>' is the preferred initialization method. When making the change, be mindful of axis order changes: https://pyproj4.github.io/pyproj/stable/gotchas.html#axis-order-changes-in-proj-6\n",
      "  return _prepare_from_string(\" \".join(pjargs))\n"
     ]
    },
    {
     "name": "stdout",
     "output_type": "stream",
     "text": [
      "S2-V3-Deepstack 0.6314645374110316\n"
     ]
    },
    {
     "name": "stderr",
     "output_type": "stream",
     "text": [
      "/home/lucas/miniconda3/envs/geoml/lib/python3.7/site-packages/pyproj/crs/crs.py:55: FutureWarning: '+init=<authority>:<code>' syntax is deprecated. '<authority>:<code>' is the preferred initialization method. When making the change, be mindful of axis order changes: https://pyproj4.github.io/pyproj/stable/gotchas.html#axis-order-changes-in-proj-6\n",
      "  return _prepare_from_string(\" \".join(pjargs))\n",
      "/home/lucas/miniconda3/envs/geoml/lib/python3.7/site-packages/pyproj/crs/crs.py:55: FutureWarning: '+init=<authority>:<code>' syntax is deprecated. '<authority>:<code>' is the preferred initialization method. When making the change, be mindful of axis order changes: https://pyproj4.github.io/pyproj/stable/gotchas.html#axis-order-changes-in-proj-6\n",
      "  return _prepare_from_string(\" \".join(pjargs))\n"
     ]
    },
    {
     "name": "stdout",
     "output_type": "stream",
     "text": [
      "S2-V4-Final 0.6181663423445196\n"
     ]
    },
    {
     "name": "stderr",
     "output_type": "stream",
     "text": [
      "/home/lucas/miniconda3/envs/geoml/lib/python3.7/site-packages/pyproj/crs/crs.py:55: FutureWarning: '+init=<authority>:<code>' syntax is deprecated. '<authority>:<code>' is the preferred initialization method. When making the change, be mindful of axis order changes: https://pyproj4.github.io/pyproj/stable/gotchas.html#axis-order-changes-in-proj-6\n",
      "  return _prepare_from_string(\" \".join(pjargs))\n",
      "/home/lucas/miniconda3/envs/geoml/lib/python3.7/site-packages/pyproj/crs/crs.py:55: FutureWarning: '+init=<authority>:<code>' syntax is deprecated. '<authority>:<code>' is the preferred initialization method. When making the change, be mindful of axis order changes: https://pyproj4.github.io/pyproj/stable/gotchas.html#axis-order-changes-in-proj-6\n",
      "  return _prepare_from_string(\" \".join(pjargs))\n"
     ]
    },
    {
     "name": "stdout",
     "output_type": "stream",
     "text": [
      "SPOT-V1-Vectorised 0.36967683216591196\n"
     ]
    },
    {
     "name": "stderr",
     "output_type": "stream",
     "text": [
      "/home/lucas/miniconda3/envs/geoml/lib/python3.7/site-packages/pyproj/crs/crs.py:55: FutureWarning: '+init=<authority>:<code>' syntax is deprecated. '<authority>:<code>' is the preferred initialization method. When making the change, be mindful of axis order changes: https://pyproj4.github.io/pyproj/stable/gotchas.html#axis-order-changes-in-proj-6\n",
      "  return _prepare_from_string(\" \".join(pjargs))\n",
      "/home/lucas/miniconda3/envs/geoml/lib/python3.7/site-packages/pyproj/crs/crs.py:55: FutureWarning: '+init=<authority>:<code>' syntax is deprecated. '<authority>:<code>' is the preferred initialization method. When making the change, be mindful of axis order changes: https://pyproj4.github.io/pyproj/stable/gotchas.html#axis-order-changes-in-proj-6\n",
      "  return _prepare_from_string(\" \".join(pjargs))\n"
     ]
    },
    {
     "name": "stdout",
     "output_type": "stream",
     "text": [
      "SPOT-V2-Filtered 0.15876753036408528\n"
     ]
    },
    {
     "name": "stderr",
     "output_type": "stream",
     "text": [
      "/home/lucas/miniconda3/envs/geoml/lib/python3.7/site-packages/pyproj/crs/crs.py:55: FutureWarning: '+init=<authority>:<code>' syntax is deprecated. '<authority>:<code>' is the preferred initialization method. When making the change, be mindful of axis order changes: https://pyproj4.github.io/pyproj/stable/gotchas.html#axis-order-changes-in-proj-6\n",
      "  return _prepare_from_string(\" \".join(pjargs))\n",
      "/home/lucas/miniconda3/envs/geoml/lib/python3.7/site-packages/pyproj/crs/crs.py:55: FutureWarning: '+init=<authority>:<code>' syntax is deprecated. '<authority>:<code>' is the preferred initialization method. When making the change, be mindful of axis order changes: https://pyproj4.github.io/pyproj/stable/gotchas.html#axis-order-changes-in-proj-6\n",
      "  return _prepare_from_string(\" \".join(pjargs))\n"
     ]
    },
    {
     "name": "stdout",
     "output_type": "stream",
     "text": [
      "compiled_final 0.660817667864235\n"
     ]
    }
   ],
   "source": [
    "# big ious\n",
    "for kk,gdf in gdfs.items():\n",
    "    pipe_mp = geometry.MultiPolygon([geom for geom in gdf.unary_union.geoms])\n",
    "    cv_mp = geometry.MultiPolygon([geom for geom in cv_polys.unary_union.geoms])\n",
    "    \n",
    "        \n",
    "    intersection=pipe_mp.intersection(cv_mp)\n",
    "    union=pipe_mp.union(cv_mp)\n",
    "\n",
    "\n",
    "    if not intersection.is_empty:\n",
    "        #print (intersection)\n",
    "\n",
    "        if intersection.type=='Polygon':\n",
    "\n",
    "            i_gdf = gpd.GeoDataFrame(geometry=[intersection], crs=crs)\n",
    "        else:\n",
    "            i_gdf = gpd.GeoDataFrame(geometry=list(intersection), crs=crs)\n",
    "\n",
    "        if union.type=='Polygon':\n",
    "            u_gdf = gpd.GeoDataFrame(geometry=list(union), crs=crs)\n",
    "        else:\n",
    "            u_gdf = gpd.GeoDataFrame(geometry=list(union), crs=crs)\n",
    "\n",
    "        i_gdf['geoarea'] = i_gdf.to_crs({'init': 'epsg:3857'}).area\n",
    "        u_gdf['geoarea'] = u_gdf.to_crs({'init': 'epsg:3857'}).area\n",
    "\n",
    "        iou_dict[kk]['full'] = i_gdf['geoarea'].sum() / u_gdf['geoarea'].sum()\n",
    "\n",
    "    else:\n",
    "        iou_dict[kk]['full'] = 0\n",
    "\n",
    "\n",
    "    print (kk,iou_dict[kk]['full'])"
   ]
  },
  {
   "cell_type": "code",
   "execution_count": null,
   "metadata": {},
   "outputs": [],
   "source": []
  },
  {
   "cell_type": "code",
   "execution_count": 85,
   "metadata": {},
   "outputs": [],
   "source": [
    "import json, yaml, pickle\n",
    "from pyproj import CRS"
   ]
  },
  {
   "cell_type": "code",
   "execution_count": 69,
   "metadata": {},
   "outputs": [],
   "source": [
    "pickle.dump(res_dict, open('../data/res_dict.pkl','wb'))"
   ]
  },
  {
   "cell_type": "code",
   "execution_count": null,
   "metadata": {},
   "outputs": [],
   "source": []
  },
  {
   "cell_type": "code",
   "execution_count": 61,
   "metadata": {},
   "outputs": [],
   "source": [
    "precision=res_dict.copy()"
   ]
  },
  {
   "cell_type": "code",
   "execution_count": 27,
   "metadata": {},
   "outputs": [],
   "source": [
    "gfd = gdfs['S2-V1-Primary']\n"
   ]
  },
  {
   "cell_type": "code",
   "execution_count": 34,
   "metadata": {},
   "outputs": [
    {
     "data": {
      "text/plain": [
       "1000.0"
      ]
     },
     "execution_count": 34,
     "metadata": {},
     "output_type": "execute_result"
    }
   ],
   "source": [
    "area_bins[ii_a]"
   ]
  },
  {
   "cell_type": "code",
   "execution_count": 35,
   "metadata": {},
   "outputs": [
    {
     "data": {
      "text/plain": [
       "0      2.585502e-05\n",
       "1      1.081000e-09\n",
       "2      3.045175e-05\n",
       "3      4.835844e-05\n",
       "4      4.643077e-04\n",
       "           ...     \n",
       "889    4.231500e-09\n",
       "890    1.636115e-07\n",
       "891    1.636115e-07\n",
       "892    1.636115e-07\n",
       "893    1.636115e-07\n",
       "Length: 894, dtype: float64"
      ]
     },
     "execution_count": 35,
     "metadata": {},
     "output_type": "execute_result"
    }
   ],
   "source": [
    "gdf.area"
   ]
  },
  {
   "cell_type": "code",
   "execution_count": 36,
   "metadata": {},
   "outputs": [],
   "source": [
    "bin_slice = gdf[(gdf.geoarea>=area_bins[ii_a]) & (gdf.geoarea<area_bins[ii_a+1])]"
   ]
  },
  {
   "cell_type": "code",
   "execution_count": 37,
   "metadata": {},
   "outputs": [
    {
     "data": {
      "text/html": [
       "<div>\n",
       "<style scoped>\n",
       "    .dataframe tbody tr th:only-of-type {\n",
       "        vertical-align: middle;\n",
       "    }\n",
       "\n",
       "    .dataframe tbody tr th {\n",
       "        vertical-align: top;\n",
       "    }\n",
       "\n",
       "    .dataframe thead th {\n",
       "        text-align: right;\n",
       "    }\n",
       "</style>\n",
       "<table border=\"1\" class=\"dataframe\">\n",
       "  <thead>\n",
       "    <tr style=\"text-align: right;\">\n",
       "      <th></th>\n",
       "      <th>dltile</th>\n",
       "      <th>prediction</th>\n",
       "      <th>primary_id</th>\n",
       "      <th>sentinel-2:L1C:2018-10-01_30UYB_99_S2A_v1:M</th>\n",
       "      <th>sentinel-2:L1C:2018-10-01_30UYB_99_S2A_v1:P</th>\n",
       "      <th>sentinel-2:L1C:2018-10-01_30UYC_99_S2A_v1:M</th>\n",
       "      <th>sentinel-2:L1C:2018-10-01_30UYC_99_S2A_v1:P</th>\n",
       "      <th>sentinel-2:L1C:2018-10-01_31UCS_99_S2A_v1:M</th>\n",
       "      <th>sentinel-2:L1C:2018-10-01_31UCS_99_S2A_v1:P</th>\n",
       "      <th>sentinel-2:L1C:2018-10-01_31UCT_99_S2A_v1</th>\n",
       "      <th>...</th>\n",
       "      <th>sentinel-2:L1C:2018-10-23_42QXL_99_S2B_v1</th>\n",
       "      <th>sentinel-2:L1C:2018-10-23_42QYL_92_S2B_v1</th>\n",
       "      <th>sentinel-2:L1C:2018-10-09_30UXC_99_S2B_v1:M</th>\n",
       "      <th>sentinel-2:L1C:2018-10-09_30UXC_99_S2B_v1:P</th>\n",
       "      <th>sentinel-2:L1C:2018-10-19_30UXC_99_S2B_v1:M</th>\n",
       "      <th>sentinel-2:L1C:2018-10-19_30UXC_99_S2B_v1:P</th>\n",
       "      <th>sentinel-2:L1C:2018-10-22_30UXC_36_S2B_v1:M</th>\n",
       "      <th>sentinel-2:L1C:2018-10-22_30UXC_36_S2B_v1:P</th>\n",
       "      <th>geometry</th>\n",
       "      <th>geoarea</th>\n",
       "    </tr>\n",
       "  </thead>\n",
       "  <tbody>\n",
       "    <tr>\n",
       "      <th>7</th>\n",
       "      <td>2000:0:10.0:52:6:176</td>\n",
       "      <td>0.059459</td>\n",
       "      <td>2000:0:10.0:52:6:176_46</td>\n",
       "      <td>NaN</td>\n",
       "      <td>NaN</td>\n",
       "      <td>NaN</td>\n",
       "      <td>NaN</td>\n",
       "      <td>NaN</td>\n",
       "      <td>NaN</td>\n",
       "      <td>None</td>\n",
       "      <td>...</td>\n",
       "      <td>None</td>\n",
       "      <td>None</td>\n",
       "      <td>NaN</td>\n",
       "      <td>NaN</td>\n",
       "      <td>NaN</td>\n",
       "      <td>NaN</td>\n",
       "      <td>NaN</td>\n",
       "      <td>NaN</td>\n",
       "      <td>POLYGON ((130.37410 31.86241, 130.37347 31.862...</td>\n",
       "      <td>6481.661356</td>\n",
       "    </tr>\n",
       "    <tr>\n",
       "      <th>14</th>\n",
       "      <td>2000:0:10.0:54:-3:197</td>\n",
       "      <td>0.105064</td>\n",
       "      <td>2000:0:10.0:54:-3:197_241</td>\n",
       "      <td>NaN</td>\n",
       "      <td>NaN</td>\n",
       "      <td>NaN</td>\n",
       "      <td>NaN</td>\n",
       "      <td>NaN</td>\n",
       "      <td>NaN</td>\n",
       "      <td>None</td>\n",
       "      <td>...</td>\n",
       "      <td>None</td>\n",
       "      <td>None</td>\n",
       "      <td>NaN</td>\n",
       "      <td>NaN</td>\n",
       "      <td>NaN</td>\n",
       "      <td>NaN</td>\n",
       "      <td>NaN</td>\n",
       "      <td>NaN</td>\n",
       "      <td>POLYGON ((140.36194 35.76163, 140.36161 35.761...</td>\n",
       "      <td>6012.939588</td>\n",
       "    </tr>\n",
       "    <tr>\n",
       "      <th>21</th>\n",
       "      <td>2000:0:10.0:54:-8:200</td>\n",
       "      <td>0.033420</td>\n",
       "      <td>2000:0:10.0:54:-8:200_120</td>\n",
       "      <td>NaN</td>\n",
       "      <td>NaN</td>\n",
       "      <td>NaN</td>\n",
       "      <td>NaN</td>\n",
       "      <td>NaN</td>\n",
       "      <td>NaN</td>\n",
       "      <td>None</td>\n",
       "      <td>...</td>\n",
       "      <td>None</td>\n",
       "      <td>None</td>\n",
       "      <td>NaN</td>\n",
       "      <td>NaN</td>\n",
       "      <td>NaN</td>\n",
       "      <td>NaN</td>\n",
       "      <td>NaN</td>\n",
       "      <td>NaN</td>\n",
       "      <td>POLYGON ((139.44056 36.23281, 139.44000 36.232...</td>\n",
       "      <td>4499.910393</td>\n",
       "    </tr>\n",
       "    <tr>\n",
       "      <th>25</th>\n",
       "      <td>2000:0:10.0:11:-8:189</td>\n",
       "      <td>0.040859</td>\n",
       "      <td>2000:0:10.0:11:-8:189_14</td>\n",
       "      <td>NaN</td>\n",
       "      <td>NaN</td>\n",
       "      <td>NaN</td>\n",
       "      <td>NaN</td>\n",
       "      <td>NaN</td>\n",
       "      <td>NaN</td>\n",
       "      <td>None</td>\n",
       "      <td>...</td>\n",
       "      <td>None</td>\n",
       "      <td>None</td>\n",
       "      <td>NaN</td>\n",
       "      <td>NaN</td>\n",
       "      <td>NaN</td>\n",
       "      <td>NaN</td>\n",
       "      <td>NaN</td>\n",
       "      <td>NaN</td>\n",
       "      <td>POLYGON ((-118.59061 34.17171, -118.59063 34.1...</td>\n",
       "      <td>3076.255566</td>\n",
       "    </tr>\n",
       "    <tr>\n",
       "      <th>30</th>\n",
       "      <td>2000:0:10.0:54:-2:198</td>\n",
       "      <td>1.000000</td>\n",
       "      <td>2000:0:10.0:54:-2:198_74</td>\n",
       "      <td>NaN</td>\n",
       "      <td>NaN</td>\n",
       "      <td>NaN</td>\n",
       "      <td>NaN</td>\n",
       "      <td>NaN</td>\n",
       "      <td>NaN</td>\n",
       "      <td>None</td>\n",
       "      <td>...</td>\n",
       "      <td>None</td>\n",
       "      <td>None</td>\n",
       "      <td>NaN</td>\n",
       "      <td>NaN</td>\n",
       "      <td>NaN</td>\n",
       "      <td>NaN</td>\n",
       "      <td>NaN</td>\n",
       "      <td>NaN</td>\n",
       "      <td>POLYGON ((140.72122 35.86146, 140.72099 35.861...</td>\n",
       "      <td>4378.295917</td>\n",
       "    </tr>\n",
       "    <tr>\n",
       "      <th>...</th>\n",
       "      <td>...</td>\n",
       "      <td>...</td>\n",
       "      <td>...</td>\n",
       "      <td>...</td>\n",
       "      <td>...</td>\n",
       "      <td>...</td>\n",
       "      <td>...</td>\n",
       "      <td>...</td>\n",
       "      <td>...</td>\n",
       "      <td>...</td>\n",
       "      <td>...</td>\n",
       "      <td>...</td>\n",
       "      <td>...</td>\n",
       "      <td>...</td>\n",
       "      <td>...</td>\n",
       "      <td>...</td>\n",
       "      <td>...</td>\n",
       "      <td>...</td>\n",
       "      <td>...</td>\n",
       "      <td>...</td>\n",
       "      <td>...</td>\n",
       "    </tr>\n",
       "    <tr>\n",
       "      <th>882</th>\n",
       "      <td>2000:0:10.0:53:3:191</td>\n",
       "      <td>0.139969</td>\n",
       "      <td>2000:0:10.0:53:3:191_12</td>\n",
       "      <td>NaN</td>\n",
       "      <td>NaN</td>\n",
       "      <td>NaN</td>\n",
       "      <td>NaN</td>\n",
       "      <td>NaN</td>\n",
       "      <td>NaN</td>\n",
       "      <td>None</td>\n",
       "      <td>...</td>\n",
       "      <td>None</td>\n",
       "      <td>None</td>\n",
       "      <td>NaN</td>\n",
       "      <td>NaN</td>\n",
       "      <td>NaN</td>\n",
       "      <td>NaN</td>\n",
       "      <td>NaN</td>\n",
       "      <td>NaN</td>\n",
       "      <td>POLYGON ((136.02850 34.97693, 136.02847 34.976...</td>\n",
       "      <td>3282.064226</td>\n",
       "    </tr>\n",
       "    <tr>\n",
       "      <th>890</th>\n",
       "      <td>2000:0:10.0:30:5:285</td>\n",
       "      <td>0.053245</td>\n",
       "      <td>2000:0:10.0:30:5:285_19</td>\n",
       "      <td>NaN</td>\n",
       "      <td>NaN</td>\n",
       "      <td>NaN</td>\n",
       "      <td>NaN</td>\n",
       "      <td>NaN</td>\n",
       "      <td>NaN</td>\n",
       "      <td>None</td>\n",
       "      <td>...</td>\n",
       "      <td>None</td>\n",
       "      <td>None</td>\n",
       "      <td>0.096524</td>\n",
       "      <td>1.0</td>\n",
       "      <td>0.218361</td>\n",
       "      <td>1.0</td>\n",
       "      <td>0.0</td>\n",
       "      <td>0.0</td>\n",
       "      <td>POLYGON ((-1.55959 51.47730, -1.55973 51.47739...</td>\n",
       "      <td>3255.313720</td>\n",
       "    </tr>\n",
       "    <tr>\n",
       "      <th>891</th>\n",
       "      <td>2000:0:10.0:30:5:285</td>\n",
       "      <td>0.053245</td>\n",
       "      <td>2000:0:10.0:30:5:285_19</td>\n",
       "      <td>NaN</td>\n",
       "      <td>NaN</td>\n",
       "      <td>NaN</td>\n",
       "      <td>NaN</td>\n",
       "      <td>NaN</td>\n",
       "      <td>NaN</td>\n",
       "      <td>None</td>\n",
       "      <td>...</td>\n",
       "      <td>None</td>\n",
       "      <td>None</td>\n",
       "      <td>0.096524</td>\n",
       "      <td>1.0</td>\n",
       "      <td>0.218361</td>\n",
       "      <td>1.0</td>\n",
       "      <td>0.0</td>\n",
       "      <td>0.0</td>\n",
       "      <td>POLYGON ((-1.55959 51.47730, -1.55973 51.47739...</td>\n",
       "      <td>3255.313720</td>\n",
       "    </tr>\n",
       "    <tr>\n",
       "      <th>892</th>\n",
       "      <td>2000:0:10.0:30:5:285</td>\n",
       "      <td>0.053245</td>\n",
       "      <td>2000:0:10.0:30:5:285_19</td>\n",
       "      <td>NaN</td>\n",
       "      <td>NaN</td>\n",
       "      <td>NaN</td>\n",
       "      <td>NaN</td>\n",
       "      <td>NaN</td>\n",
       "      <td>NaN</td>\n",
       "      <td>None</td>\n",
       "      <td>...</td>\n",
       "      <td>None</td>\n",
       "      <td>None</td>\n",
       "      <td>0.096524</td>\n",
       "      <td>1.0</td>\n",
       "      <td>0.218361</td>\n",
       "      <td>1.0</td>\n",
       "      <td>0.0</td>\n",
       "      <td>0.0</td>\n",
       "      <td>POLYGON ((-1.55959 51.47730, -1.55973 51.47739...</td>\n",
       "      <td>3255.313720</td>\n",
       "    </tr>\n",
       "    <tr>\n",
       "      <th>893</th>\n",
       "      <td>2000:0:10.0:30:5:285</td>\n",
       "      <td>0.053245</td>\n",
       "      <td>2000:0:10.0:30:5:285_19</td>\n",
       "      <td>NaN</td>\n",
       "      <td>NaN</td>\n",
       "      <td>NaN</td>\n",
       "      <td>NaN</td>\n",
       "      <td>NaN</td>\n",
       "      <td>NaN</td>\n",
       "      <td>None</td>\n",
       "      <td>...</td>\n",
       "      <td>None</td>\n",
       "      <td>None</td>\n",
       "      <td>0.096524</td>\n",
       "      <td>1.0</td>\n",
       "      <td>0.218361</td>\n",
       "      <td>1.0</td>\n",
       "      <td>0.0</td>\n",
       "      <td>0.0</td>\n",
       "      <td>POLYGON ((-1.55959 51.47730, -1.55973 51.47739...</td>\n",
       "      <td>3255.313720</td>\n",
       "    </tr>\n",
       "  </tbody>\n",
       "</table>\n",
       "<p>80 rows × 2962 columns</p>\n",
       "</div>"
      ],
      "text/plain": [
       "                    dltile  prediction                 primary_id  \\\n",
       "7     2000:0:10.0:52:6:176    0.059459    2000:0:10.0:52:6:176_46   \n",
       "14   2000:0:10.0:54:-3:197    0.105064  2000:0:10.0:54:-3:197_241   \n",
       "21   2000:0:10.0:54:-8:200    0.033420  2000:0:10.0:54:-8:200_120   \n",
       "25   2000:0:10.0:11:-8:189    0.040859   2000:0:10.0:11:-8:189_14   \n",
       "30   2000:0:10.0:54:-2:198    1.000000   2000:0:10.0:54:-2:198_74   \n",
       "..                     ...         ...                        ...   \n",
       "882   2000:0:10.0:53:3:191    0.139969    2000:0:10.0:53:3:191_12   \n",
       "890   2000:0:10.0:30:5:285    0.053245    2000:0:10.0:30:5:285_19   \n",
       "891   2000:0:10.0:30:5:285    0.053245    2000:0:10.0:30:5:285_19   \n",
       "892   2000:0:10.0:30:5:285    0.053245    2000:0:10.0:30:5:285_19   \n",
       "893   2000:0:10.0:30:5:285    0.053245    2000:0:10.0:30:5:285_19   \n",
       "\n",
       "     sentinel-2:L1C:2018-10-01_30UYB_99_S2A_v1:M  \\\n",
       "7                                            NaN   \n",
       "14                                           NaN   \n",
       "21                                           NaN   \n",
       "25                                           NaN   \n",
       "30                                           NaN   \n",
       "..                                           ...   \n",
       "882                                          NaN   \n",
       "890                                          NaN   \n",
       "891                                          NaN   \n",
       "892                                          NaN   \n",
       "893                                          NaN   \n",
       "\n",
       "     sentinel-2:L1C:2018-10-01_30UYB_99_S2A_v1:P  \\\n",
       "7                                            NaN   \n",
       "14                                           NaN   \n",
       "21                                           NaN   \n",
       "25                                           NaN   \n",
       "30                                           NaN   \n",
       "..                                           ...   \n",
       "882                                          NaN   \n",
       "890                                          NaN   \n",
       "891                                          NaN   \n",
       "892                                          NaN   \n",
       "893                                          NaN   \n",
       "\n",
       "     sentinel-2:L1C:2018-10-01_30UYC_99_S2A_v1:M  \\\n",
       "7                                            NaN   \n",
       "14                                           NaN   \n",
       "21                                           NaN   \n",
       "25                                           NaN   \n",
       "30                                           NaN   \n",
       "..                                           ...   \n",
       "882                                          NaN   \n",
       "890                                          NaN   \n",
       "891                                          NaN   \n",
       "892                                          NaN   \n",
       "893                                          NaN   \n",
       "\n",
       "     sentinel-2:L1C:2018-10-01_30UYC_99_S2A_v1:P  \\\n",
       "7                                            NaN   \n",
       "14                                           NaN   \n",
       "21                                           NaN   \n",
       "25                                           NaN   \n",
       "30                                           NaN   \n",
       "..                                           ...   \n",
       "882                                          NaN   \n",
       "890                                          NaN   \n",
       "891                                          NaN   \n",
       "892                                          NaN   \n",
       "893                                          NaN   \n",
       "\n",
       "     sentinel-2:L1C:2018-10-01_31UCS_99_S2A_v1:M  \\\n",
       "7                                            NaN   \n",
       "14                                           NaN   \n",
       "21                                           NaN   \n",
       "25                                           NaN   \n",
       "30                                           NaN   \n",
       "..                                           ...   \n",
       "882                                          NaN   \n",
       "890                                          NaN   \n",
       "891                                          NaN   \n",
       "892                                          NaN   \n",
       "893                                          NaN   \n",
       "\n",
       "     sentinel-2:L1C:2018-10-01_31UCS_99_S2A_v1:P  \\\n",
       "7                                            NaN   \n",
       "14                                           NaN   \n",
       "21                                           NaN   \n",
       "25                                           NaN   \n",
       "30                                           NaN   \n",
       "..                                           ...   \n",
       "882                                          NaN   \n",
       "890                                          NaN   \n",
       "891                                          NaN   \n",
       "892                                          NaN   \n",
       "893                                          NaN   \n",
       "\n",
       "    sentinel-2:L1C:2018-10-01_31UCT_99_S2A_v1  ...  \\\n",
       "7                                        None  ...   \n",
       "14                                       None  ...   \n",
       "21                                       None  ...   \n",
       "25                                       None  ...   \n",
       "30                                       None  ...   \n",
       "..                                        ...  ...   \n",
       "882                                      None  ...   \n",
       "890                                      None  ...   \n",
       "891                                      None  ...   \n",
       "892                                      None  ...   \n",
       "893                                      None  ...   \n",
       "\n",
       "     sentinel-2:L1C:2018-10-23_42QXL_99_S2B_v1  \\\n",
       "7                                         None   \n",
       "14                                        None   \n",
       "21                                        None   \n",
       "25                                        None   \n",
       "30                                        None   \n",
       "..                                         ...   \n",
       "882                                       None   \n",
       "890                                       None   \n",
       "891                                       None   \n",
       "892                                       None   \n",
       "893                                       None   \n",
       "\n",
       "     sentinel-2:L1C:2018-10-23_42QYL_92_S2B_v1  \\\n",
       "7                                         None   \n",
       "14                                        None   \n",
       "21                                        None   \n",
       "25                                        None   \n",
       "30                                        None   \n",
       "..                                         ...   \n",
       "882                                       None   \n",
       "890                                       None   \n",
       "891                                       None   \n",
       "892                                       None   \n",
       "893                                       None   \n",
       "\n",
       "     sentinel-2:L1C:2018-10-09_30UXC_99_S2B_v1:M  \\\n",
       "7                                            NaN   \n",
       "14                                           NaN   \n",
       "21                                           NaN   \n",
       "25                                           NaN   \n",
       "30                                           NaN   \n",
       "..                                           ...   \n",
       "882                                          NaN   \n",
       "890                                     0.096524   \n",
       "891                                     0.096524   \n",
       "892                                     0.096524   \n",
       "893                                     0.096524   \n",
       "\n",
       "     sentinel-2:L1C:2018-10-09_30UXC_99_S2B_v1:P  \\\n",
       "7                                            NaN   \n",
       "14                                           NaN   \n",
       "21                                           NaN   \n",
       "25                                           NaN   \n",
       "30                                           NaN   \n",
       "..                                           ...   \n",
       "882                                          NaN   \n",
       "890                                          1.0   \n",
       "891                                          1.0   \n",
       "892                                          1.0   \n",
       "893                                          1.0   \n",
       "\n",
       "     sentinel-2:L1C:2018-10-19_30UXC_99_S2B_v1:M  \\\n",
       "7                                            NaN   \n",
       "14                                           NaN   \n",
       "21                                           NaN   \n",
       "25                                           NaN   \n",
       "30                                           NaN   \n",
       "..                                           ...   \n",
       "882                                          NaN   \n",
       "890                                     0.218361   \n",
       "891                                     0.218361   \n",
       "892                                     0.218361   \n",
       "893                                     0.218361   \n",
       "\n",
       "     sentinel-2:L1C:2018-10-19_30UXC_99_S2B_v1:P  \\\n",
       "7                                            NaN   \n",
       "14                                           NaN   \n",
       "21                                           NaN   \n",
       "25                                           NaN   \n",
       "30                                           NaN   \n",
       "..                                           ...   \n",
       "882                                          NaN   \n",
       "890                                          1.0   \n",
       "891                                          1.0   \n",
       "892                                          1.0   \n",
       "893                                          1.0   \n",
       "\n",
       "    sentinel-2:L1C:2018-10-22_30UXC_36_S2B_v1:M  \\\n",
       "7                                           NaN   \n",
       "14                                          NaN   \n",
       "21                                          NaN   \n",
       "25                                          NaN   \n",
       "30                                          NaN   \n",
       "..                                          ...   \n",
       "882                                         NaN   \n",
       "890                                         0.0   \n",
       "891                                         0.0   \n",
       "892                                         0.0   \n",
       "893                                         0.0   \n",
       "\n",
       "     sentinel-2:L1C:2018-10-22_30UXC_36_S2B_v1:P  \\\n",
       "7                                            NaN   \n",
       "14                                           NaN   \n",
       "21                                           NaN   \n",
       "25                                           NaN   \n",
       "30                                           NaN   \n",
       "..                                           ...   \n",
       "882                                          NaN   \n",
       "890                                          0.0   \n",
       "891                                          0.0   \n",
       "892                                          0.0   \n",
       "893                                          0.0   \n",
       "\n",
       "                                              geometry      geoarea  \n",
       "7    POLYGON ((130.37410 31.86241, 130.37347 31.862...  6481.661356  \n",
       "14   POLYGON ((140.36194 35.76163, 140.36161 35.761...  6012.939588  \n",
       "21   POLYGON ((139.44056 36.23281, 139.44000 36.232...  4499.910393  \n",
       "25   POLYGON ((-118.59061 34.17171, -118.59063 34.1...  3076.255566  \n",
       "30   POLYGON ((140.72122 35.86146, 140.72099 35.861...  4378.295917  \n",
       "..                                                 ...          ...  \n",
       "882  POLYGON ((136.02850 34.97693, 136.02847 34.976...  3282.064226  \n",
       "890  POLYGON ((-1.55959 51.47730, -1.55973 51.47739...  3255.313720  \n",
       "891  POLYGON ((-1.55959 51.47730, -1.55973 51.47739...  3255.313720  \n",
       "892  POLYGON ((-1.55959 51.47730, -1.55973 51.47739...  3255.313720  \n",
       "893  POLYGON ((-1.55959 51.47730, -1.55973 51.47739...  3255.313720  \n",
       "\n",
       "[80 rows x 2962 columns]"
      ]
     },
     "execution_count": 37,
     "metadata": {},
     "output_type": "execute_result"
    }
   ],
   "source": [
    "bin_slice"
   ]
  },
  {
   "cell_type": "code",
   "execution_count": null,
   "metadata": {},
   "outputs": [],
   "source": []
  }
 ],
 "metadata": {
  "kernelspec": {
   "display_name": "Python 3",
   "language": "python",
   "name": "python3"
  },
  "language_info": {
   "codemirror_mode": {
    "name": "ipython",
    "version": 3
   },
   "file_extension": ".py",
   "mimetype": "text/x-python",
   "name": "python",
   "nbconvert_exporter": "python",
   "pygments_lexer": "ipython3",
   "version": "3.7.6"
  }
 },
 "nbformat": 4,
 "nbformat_minor": 4
}
