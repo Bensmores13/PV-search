{
 "cells": [
  {
   "cell_type": "code",
   "execution_count": 1,
   "metadata": {},
   "outputs": [
    {
     "name": "stderr",
     "output_type": "stream",
     "text": [
      "/home/lucas/miniconda3/envs/sips/lib/python3.7/site-packages/geopandas/_compat.py:78: UserWarning: The Shapely GEOS version (3.8.0-CAPI-1.13.1 ) is incompatible with the GEOS version PyGEOS was compiled with (3.8.1-CAPI-1.13.3). Conversions between both will be slow.\n",
      "  shapely_geos_version, geos_capi_version_string\n"
     ]
    }
   ],
   "source": [
    "from shapely import geometry\n",
    "from pulp import *\n",
    "import pandas as pd\n",
    "import geopandas as gpd\n",
    "import numpy as np\n",
    "from geopy.distance import geodesic\n",
    "import matplotlib.pyplot as plt\n",
    "from matplotlib.collections import LineCollection\n",
    "import json\n",
    "from area import area\n",
    "import pickle\n",
    "\n",
    "from vincenty import *\n",
    "from shapely.strtree import STRtree\n",
    "\n",
    "import networkx as nx"
   ]
  },
  {
   "cell_type": "code",
   "execution_count": null,
   "metadata": {},
   "outputs": [],
   "source": [
    "pulp.pulpTestAll()"
   ]
  },
  {
   "cell_type": "code",
   "execution_count": 21,
   "metadata": {},
   "outputs": [],
   "source": [
    "dist = np.arange(0,10,0.1)\n",
    "mw = np.array([ii/10 for ii in range(10,0,-1)] + [ii/10 for ii in range(11)])"
   ]
  },
  {
   "cell_type": "code",
   "execution_count": 22,
   "metadata": {},
   "outputs": [
    {
     "data": {
      "text/plain": [
       "array([1. , 0.9, 0.8, 0.7, 0.6, 0.5, 0.4, 0.3, 0.2, 0.1, 0. , 0.1, 0.2,\n",
       "       0.3, 0.4, 0.5, 0.6, 0.7, 0.8, 0.9, 1. ])"
      ]
     },
     "execution_count": 22,
     "metadata": {},
     "output_type": "execute_result"
    }
   ],
   "source": [
    "mw"
   ]
  },
  {
   "cell_type": "code",
   "execution_count": 9,
   "metadata": {},
   "outputs": [],
   "source": [
    "dist2d = np.stack([dist]*mw.shape[0])\n",
    "mw2d = np.stack([mw]*dist.shape[0])"
   ]
  },
  {
   "cell_type": "code",
   "execution_count": 13,
   "metadata": {},
   "outputs": [],
   "source": [
    "Z = dist2d**2"
   ]
  },
  {
   "cell_type": "code",
   "execution_count": 15,
   "metadata": {},
   "outputs": [
    {
     "data": {
      "text/plain": [
       "array([[0. , 0.1, 0.2, ..., 1.7, 1.8, 1.9],\n",
       "       [0. , 0.1, 0.2, ..., 1.7, 1.8, 1.9],\n",
       "       [0. , 0.1, 0.2, ..., 1.7, 1.8, 1.9],\n",
       "       ...,\n",
       "       [0. , 0.1, 0.2, ..., 1.7, 1.8, 1.9],\n",
       "       [0. , 0.1, 0.2, ..., 1.7, 1.8, 1.9],\n",
       "       [0. , 0.1, 0.2, ..., 1.7, 1.8, 1.9]])"
      ]
     },
     "execution_count": 15,
     "metadata": {},
     "output_type": "execute_result"
    }
   ],
   "source": [
    "mw2d"
   ]
  },
  {
   "cell_type": "code",
   "execution_count": 16,
   "metadata": {},
   "outputs": [],
   "source": [
    "alpha=0.5"
   ]
  },
  {
   "cell_type": "code",
   "execution_count": null,
   "metadata": {},
   "outputs": [],
   "source": [
    "# case: B=1\n",
    "E_mw = mw2d"
   ]
  },
  {
   "cell_type": "code",
   "execution_count": null,
   "metadata": {},
   "outputs": [],
   "source": []
  },
  {
   "cell_type": "markdown",
   "metadata": {},
   "source": [
    "## Toy Model"
   ]
  },
  {
   "cell_type": "code",
   "execution_count": 23,
   "metadata": {},
   "outputs": [],
   "source": [
    "pts_A = np.random.rand(10*2).reshape(10,2)*10\n",
    "pts_B = np.random.rand(3*2).reshape(3,2)*10"
   ]
  },
  {
   "cell_type": "code",
   "execution_count": 24,
   "metadata": {},
   "outputs": [],
   "source": [
    "pts_A = [geometry.Point(pt[0],pt[1]) for pt in pts_A.tolist()]\n",
    "pts_B = [geometry.Point(pt[0],pt[1]) for pt in pts_B.tolist()]"
   ]
  },
  {
   "cell_type": "code",
   "execution_count": 25,
   "metadata": {},
   "outputs": [],
   "source": [
    "for ii_A,pt in enumerate(pts_A):\n",
    "    pt.MW = np.random.rand(1)*5\n",
    "    pt.name='A_'+str(ii_A)\n",
    "for ii_B,pt in enumerate(pts_B):\n",
    "    pt.MW = np.random.rand(1)*40\n",
    "    pt.name='B_'+str(ii_B)"
   ]
  },
  {
   "cell_type": "code",
   "execution_count": 26,
   "metadata": {},
   "outputs": [],
   "source": [
    "def milp_geodesic_network_satisficing(pts_A, pts_B, alpha,v=False):\n",
    "    pts_A_dict = {pt.name:pt for pt in pts_A}\n",
    "    pts_B_dict = {pt.name:pt for pt in pts_B}\n",
    "    \n",
    "    A_names = [pt.name for pt in pts_A]\n",
    "    B_names = [pt.name for pt in pts_B]\n",
    "    \n",
    "    Z = {pt.name:{} for pt in pts_A}\n",
    "    MW_A = {pt.name:pt.MW for pt in pts_A}\n",
    "    MW_B = {pt.name:pt.MW for pt in pts_B}\n",
    "    \n",
    "    if v:\n",
    "        print ('generating Z..')\n",
    "    for pt_A in pts_A:\n",
    "        for pt_B in pts_B:\n",
    "            \n",
    "            Z[pt_A.name][pt_B.name]=(geodesic([pt_A.y,pt_A.x], [pt_B.y,pt_B.x]).kilometers)**2\n",
    "            \n",
    "    sum_Z = sum([Z[A_name][B_name] for A_name in A_names for B_name in B_names])\n",
    "    \n",
    "    ### declare model\n",
    "    model = LpProblem(\"Network Satisficing Problem\",LpMinimize)\n",
    "    \n",
    "    ### Declare variables\n",
    "    # B -> Bipartite Network\n",
    "    B = LpVariable.dicts(\"Bipartite\",(A_names,B_names),0,1,LpInteger)\n",
    "    \n",
    "    # abs_diffs -> absolute value forcing variable\n",
    "    abs_diffs = LpVariable.dicts(\"abs_diffs\",B_names,cat='Continuous')\n",
    "    \n",
    "    ### Declare constraints\n",
    "    # Contstraint - abs diffs edges\n",
    "    for B_name in B_names:\n",
    "        model += abs_diffs[B_name] >= (MW_B[B_name] - lpSum([MW_A[A_name]*B[A_name][B_name] for A_name in A_names]))/MW_B[B_name],\"abs forcing pos {}\".format(B_name) \n",
    "        model += abs_diffs[B_name] >= -1 * (MW_B[B_name] - lpSum([MW_A[A_name]*B[A_name][B_name] for A_name in A_names]))/MW_B[B_name], \"abs forcing neg {}\".format(B_name)\n",
    "        \n",
    "    # Constraint - bipartite edges\n",
    "    for A_name in A_names:\n",
    "        model += lpSum([B[A_name][B_name] for B_name in B_names]) <= 1,\"Bipartite Edges {}\".format(A_name)\n",
    "        \n",
    "    ### Affine equations\n",
    "    # Impedence error\n",
    "    E_z = sum([Z[A_name][B_name]*B[A_name][B_name] for A_name in A_names for B_name in B_names])/sum_Z\n",
    "    \n",
    "    # mw error\n",
    "    E_mw = sum([abs_diffs[B_name] for B_name in B_names])/len(B_names)\n",
    "    \n",
    "    ### Objective function\n",
    "    model += E_z*alpha + (1-alpha)*E_mw, \"Loss\"\n",
    "    if v:\n",
    "        print ('solving model...')\n",
    "    \n",
    "    model.solve(pulp.GUROBI_CMD())\n",
    "    if v:\n",
    "        print(pulp.LpStatus[model.status])\n",
    "    \n",
    "    return model, B, E_z, E_mw, Z"
   ]
  },
  {
   "cell_type": "code",
   "execution_count": 27,
   "metadata": {},
   "outputs": [
    {
     "name": "stdout",
     "output_type": "stream",
     "text": [
      "generating Z..\n",
      "solving model...\n",
      "Optimal\n"
     ]
    }
   ],
   "source": [
    "model, B, E_z, E_mw, Z = milp_geodesic_network_satisficing(pts_A, pts_B, 0.5, v=True)"
   ]
  },
  {
   "cell_type": "code",
   "execution_count": 28,
   "metadata": {},
   "outputs": [],
   "source": [
    "pts_A_dict = {pt.name:pt for pt in pts_A}\n",
    "pts_B_dict = {pt.name:pt for pt in pts_B}"
   ]
  },
  {
   "cell_type": "code",
   "execution_count": 29,
   "metadata": {},
   "outputs": [
    {
     "data": {
      "text/plain": [
       "0.1226347562900856"
      ]
     },
     "execution_count": 29,
     "metadata": {},
     "output_type": "execute_result"
    }
   ],
   "source": [
    "E_z.value()"
   ]
  },
  {
   "cell_type": "code",
   "execution_count": 30,
   "metadata": {},
   "outputs": [
    {
     "name": "stdout",
     "output_type": "stream",
     "text": [
      "abs_diffs_B_0 0.99071771182126\n",
      "abs_diffs_B_1 0.47369939933999994\n",
      "abs_diffs_B_2 0.039891180645000024\n"
     ]
    }
   ],
   "source": [
    "for e in E_mw:\n",
    "    print (e.name, e.value())"
   ]
  },
  {
   "cell_type": "code",
   "execution_count": 36,
   "metadata": {},
   "outputs": [
    {
     "name": "stdout",
     "output_type": "stream",
     "text": [
      "A_0 B_0 0.0\n",
      "A_0 B_1 0.0\n",
      "A_0 B_2 1.0\n",
      "A_1 B_0 0.0\n",
      "A_1 B_1 0.0\n",
      "A_1 B_2 1.0\n",
      "A_2 B_0 0.0\n",
      "A_2 B_1 0.0\n",
      "A_2 B_2 1.0\n",
      "A_3 B_0 0.0\n",
      "A_3 B_1 0.0\n",
      "A_3 B_2 0.0\n",
      "A_4 B_0 0.0\n",
      "A_4 B_1 1.0\n",
      "A_4 B_2 0.0\n",
      "A_5 B_0 0.0\n",
      "A_5 B_1 1.0\n",
      "A_5 B_2 0.0\n",
      "A_6 B_0 1.0\n",
      "A_6 B_1 0.0\n",
      "A_6 B_2 0.0\n",
      "A_7 B_0 0.0\n",
      "A_7 B_1 1.0\n",
      "A_7 B_2 0.0\n",
      "A_8 B_0 0.0\n",
      "A_8 B_1 1.0\n",
      "A_8 B_2 0.0\n",
      "A_9 B_0 0.0\n",
      "A_9 B_1 1.0\n",
      "A_9 B_2 0.0\n"
     ]
    }
   ],
   "source": [
    "for kk, vv in B.items():\n",
    "    for kk2, vv2 in vv.items():\n",
    "        print (kk,kk2,vv2.value())"
   ]
  },
  {
   "cell_type": "code",
   "execution_count": 35,
   "metadata": {},
   "outputs": [
    {
     "data": {
      "image/png": "[encoded data removed]",
      "text/plain": [
       "<Figure size 864x864 with 1 Axes>"
      ]
     },
     "metadata": {
      "needs_background": "light"
     },
     "output_type": "display_data"
    }
   ],
   "source": [
    "### visualise\n",
    "fig, axs = plt.subplots(1,1,figsize=(12,12))\n",
    "for pt in pts_A:\n",
    "    axs.scatter(pt.x, pt.y, s=pt.MW*10,c='g')\n",
    "for pt in pts_B:\n",
    "    axs.scatter(pt.x,pt.y,s=pt.MW*10,c='r')\n",
    "    \n",
    "lines = []\n",
    "\n",
    "for k1, v in B.items():\n",
    "    for k2,v2 in v.items():\n",
    "        if v2.varValue>0:\n",
    "            lines.append([[pts_A_dict[k1].x,pts_A_dict[k1].y],[pts_B_dict[k2].x,pts_B_dict[k2].y]])\n",
    "\n",
    "lc = LineCollection(lines, color='grey')\n",
    "\n",
    "axs.add_collection(lc)\n",
    "\n",
    "\n",
    "\n",
    "plt.show()"
   ]
  },
  {
   "cell_type": "markdown",
   "metadata": {},
   "source": [
    "## To data"
   ]
  },
  {
   "cell_type": "markdown",
   "metadata": {},
   "source": [
    "### wrangle data"
   ]
  },
  {
   "cell_type": "code",
   "execution_count": null,
   "metadata": {},
   "outputs": [],
   "source": [
    "fts = json.load(open('./results_fcs_v1.3/ABCD_simplified.geojson','r'))"
   ]
  },
  {
   "cell_type": "code",
   "execution_count": null,
   "metadata": {},
   "outputs": [],
   "source": [
    "GB = json.load(open('GB_v1.3.geojson','r'))\n",
    "wri = pd.read_csv('global_power_plant_database.csv')\n",
    "ws = pd.read_csv('wri_mixin.csv')"
   ]
  },
  {
   "cell_type": "code",
   "execution_count": null,
   "metadata": {},
   "outputs": [],
   "source": [
    "GB_pts = []\n",
    "for ii_f,ft in enumerate(GB['features']):\n",
    "    poly = geometry.shape(ft['geometry'])\n",
    "    pp = poly.representative_point()\n",
    "    pp.MW = area(geometry.mapping(poly))*54/1000/1000\n",
    "    if ft['properties']['SPOT_ids_0']=='':\n",
    "        pp.name=str(ii_f)+'_'+str(ft['properties']['S2_ids_0'])\n",
    "    else:\n",
    "        pp.name=str(ii_f)+'_'+str(ft['properties']['SPOT_ids_0'])\n",
    "    GB_pts.append(pp)\n",
    "    "
   ]
  },
  {
   "cell_type": "code",
   "execution_count": null,
   "metadata": {},
   "outputs": [],
   "source": [
    "wri.fuel1.unique()"
   ]
  },
  {
   "cell_type": "code",
   "execution_count": null,
   "metadata": {},
   "outputs": [],
   "source": [
    "wri_records = wri[(wri.country=='GBR')&(wri.fuel1=='Solar')][['capacity_mw', 'name','latitude','longitude']].to_dict('records')"
   ]
  },
  {
   "cell_type": "code",
   "execution_count": null,
   "metadata": {},
   "outputs": [],
   "source": [
    "for ii_r,r in enumerate(wri_records):\n",
    "    r['MW'] = r['capacity_mw']\n",
    "    r['pt'] = geometry.Point(r['longitude'],r['latitude'])\n",
    "    r['name'] = str(ii_r)+'_'+str(r['name'])"
   ]
  },
  {
   "cell_type": "code",
   "execution_count": null,
   "metadata": {},
   "outputs": [],
   "source": [
    "ws_records = ws[ws.iso2=='GB'][['WS Coords','MW','WS Name']].to_dict('records')"
   ]
  },
  {
   "cell_type": "code",
   "execution_count": null,
   "metadata": {},
   "outputs": [],
   "source": [
    "for r in ws_records:\n",
    "    r['WS Coords'] = r['WS Coords'].replace(' E','')\n",
    "    r['pt'] = geometry.Point(float(r['WS Coords'].split(',')[-1]),float(r['WS Coords'].split(',')[0]))\n",
    "    r['name'] = r['WS Name']"
   ]
  },
  {
   "cell_type": "code",
   "execution_count": null,
   "metadata": {},
   "outputs": [],
   "source": [
    "records = wri_records + ws_records"
   ]
  },
  {
   "cell_type": "code",
   "execution_count": null,
   "metadata": {},
   "outputs": [],
   "source": [
    "country_shps = json.load(open('/home/lucaskruitwagen/DPHIL/DPHIL_CLASSIFICATION/Solar_PV/NE/ne_10m_admin_0_countries.geojson','r'))\n",
    "GB_shp = [ft for ft in country_shps['features'] if ft['properties']['ISO_A2']=='GB']"
   ]
  },
  {
   "cell_type": "code",
   "execution_count": null,
   "metadata": {},
   "outputs": [],
   "source": [
    "R_pts = []\n",
    "for r in records:\n",
    "    pp = r['pt']\n",
    "    pp.MW =r['MW']\n",
    "    pp.name=r['name']\n",
    "    R_pts.append(pp)"
   ]
  },
  {
   "cell_type": "markdown",
   "metadata": {},
   "source": [
    "### Get components with threshold"
   ]
  },
  {
   "cell_type": "code",
   "execution_count": null,
   "metadata": {},
   "outputs": [],
   "source": [
    "def get_matches_treenx(A_polys,P_polys):\n",
    "    ### return a list of matches. both polys need a property which is primary_id\n",
    "    \n",
    "    P_tree = STRtree(P_polys)\n",
    "    G = nx.Graph()\n",
    "    \n",
    "    for pp_A in A_polys:\n",
    "        t_result = P_tree.query(pp_A)\n",
    "        t_result = [pp for pp in t_result if pp.intersects(pp_A)]\n",
    "        if len(t_result)>0:\n",
    "            for r in t_result:\n",
    "                G.add_edge(pp_A.name,r.name)\n",
    "                \n",
    "    return list(nx.connected_components(G))"
   ]
  },
  {
   "cell_type": "code",
   "execution_count": null,
   "metadata": {},
   "outputs": [],
   "source": [
    "buffer_dist = 1500 #m"
   ]
  },
  {
   "cell_type": "code",
   "execution_count": null,
   "metadata": {},
   "outputs": [],
   "source": [
    "GB_polys = []\n",
    "for pt in GB_pts:\n",
    "    pp = pt.buffer(V_dir([pt.y,pt.x],buffer_dist,0)[0][0]-pt.y)\n",
    "    pp.name = pt.name\n",
    "    GB_polys.append(pp)\n",
    "    \n",
    "R_polys = []\n",
    "for pt in R_pts:\n",
    "    pp = pt.buffer(V_dir([pt.y,pt.x],buffer_dist,0)[0][0]-pt.y)\n",
    "    pp.name = pt.name\n",
    "    R_polys.append(pp)"
   ]
  },
  {
   "cell_type": "code",
   "execution_count": null,
   "metadata": {},
   "outputs": [],
   "source": [
    "components = get_matches_treenx(GB_polys,R_polys)\n"
   ]
  },
  {
   "cell_type": "code",
   "execution_count": null,
   "metadata": {},
   "outputs": [],
   "source": [
    "len(components)"
   ]
  },
  {
   "cell_type": "code",
   "execution_count": null,
   "metadata": {},
   "outputs": [],
   "source": [
    "### visualise components\n",
    "fig, axs = plt.subplots(1,1,figsize=(16,16))\n",
    "for shp_ft in GB_shp[1:2]:\n",
    "    geom = geometry.shape(shp_ft['geometry'])\n",
    "    if geom.type=='Polygon':\n",
    "        xs,ys = geom.exterior.xy\n",
    "        axs.plot(xs,ys,c='grey')\n",
    "    if geom.type=='MultiPolygon':\n",
    "        for subgeom in geom:\n",
    "            xs,ys = subgeom.exterior.xy\n",
    "            axs.plot(xs,ys,c='grey')\n",
    "\n",
    "for c in components:\n",
    "    pts = [pt for pt in GB_pts if pt.name in c]\n",
    "    pts += [pt for pt in R_pts if pt.name in c]\n",
    "    rnd_col = np.random.rand(3,)\n",
    "    axs.scatter([pt.x for pt in pts], [pt.y for pt in pts],c=[rnd_col]*len(pts))\n",
    "\n",
    "plt.show()\n",
    "                "
   ]
  },
  {
   "cell_type": "code",
   "execution_count": null,
   "metadata": {},
   "outputs": [],
   "source": [
    "alpha = 0.15"
   ]
  },
  {
   "cell_type": "code",
   "execution_count": null,
   "metadata": {},
   "outputs": [],
   "source": [
    "B_dict = {}"
   ]
  },
  {
   "cell_type": "code",
   "execution_count": null,
   "metadata": {},
   "outputs": [],
   "source": [
    "E_z_all = 0\n",
    "E_mw_all = 0\n",
    "\n",
    "for ii_c, component in enumerate(components):\n",
    "    if ii_c % 100==0:\n",
    "        print (ii_c)\n",
    "    pts_A = [pt for pt in GB_pts if pt.name in component]\n",
    "    pts_B = [pt for pt in R_pts if pt.name in component]\n",
    "    #print (len(pts_A),len(pts_B))\n",
    "    model, B, E_z, E_mw, Z = milp_geodesic_network_satisficing(pts_A, pts_B, alpha)\n",
    "    E_z_all += E_z.value()\n",
    "    E_mw_all += E_mw.value()\n",
    "    B_dict[ii_c] = B\n",
    "    #print (Z)\n",
    "    #for k1, v in B.items():\n",
    "    #    for k2,v2 in v.items():\n",
    "    #        if v2.varValue>0:\n",
    "    #            print (k1,k2,v2,11)\n",
    "print ('E_z', E_z_all, 'E_mw',E_mw_all)"
   ]
  },
  {
   "cell_type": "code",
   "execution_count": null,
   "metadata": {
    "scrolled": false
   },
   "outputs": [],
   "source": [
    "### visualise results\n",
    "fig, axs = plt.subplots(1,1,figsize=(72,72))\n",
    "for shp_ft in GB_shp[1:2]:\n",
    "    geom = geometry.shape(shp_ft['geometry'])\n",
    "    if geom.type=='Polygon':\n",
    "        xs,ys = geom.exterior.xy\n",
    "        axs.plot(xs,ys,c='grey')\n",
    "    if geom.type=='MultiPolygon':\n",
    "        for subgeom in geom:\n",
    "            xs,ys = subgeom.exterior.xy\n",
    "            axs.plot(xs,ys,c='grey')\n",
    "            \n",
    "            \n",
    "### cyan and purple - unmatched outside of components\n",
    "            \n",
    "for ii_c, component in enumerate(components):\n",
    "\n",
    "    pts_A = [pt for pt in GB_pts if pt.name in component]\n",
    "    pts_B = [pt for pt in R_pts if pt.name in component]\n",
    "    pts_A_dict = {pt.name:pt for pt in pts_A}\n",
    "    pts_B_dict = {pt.name:pt for pt in pts_B}\n",
    "    \n",
    "    \n",
    "    lines = []\n",
    "    pts_recs = []\n",
    "    pts_obs = []\n",
    "    done_As = []\n",
    "    done_Bs = []\n",
    "    #print (B_dict[ii_c])\n",
    "\n",
    "    for k1, v in B_dict[ii_c].items():\n",
    "        #k1 - cluster\n",
    "        for k2,v2 in v.items():\n",
    "            #k2 - \n",
    "            #print (k1,k2,v2, v2.varValue)\n",
    "            if v2.varValue>0:\n",
    "                #matches observations\n",
    "                pts_obs.append([pts_A_dict[k1].x,pts_A_dict[k1].y,pts_A_dict[k1].MW])\n",
    "                done_As.append(k1)\n",
    "                \n",
    "                #mathes dataset\n",
    "                pts_recs.append([pts_B_dict[k2].x,pts_B_dict[k2].y,pts_B_dict[k2].MW])\n",
    "                done_Bs.append(k2)\n",
    "                \n",
    "                #match lines\n",
    "                lines.append([[pts_A_dict[k1].x,pts_A_dict[k1].y],[pts_B_dict[k2].x,pts_B_dict[k2].y]])\n",
    "    #print (ii_c,len(component),len(pts_A),len(pts_B),len(lines))\n",
    "    lc = LineCollection(lines, color='grey')\n",
    "    \n",
    "    ### pink and green for matched\n",
    "    axs.scatter([pt[0] for pt in pts_obs],[pt[1] for pt in pts_obs],s=[pt[2] for pt in pts_obs],c='green')\n",
    "        \n",
    "\n",
    "    axs.scatter([pt[0] for pt in pts_recs],[pt[1] for pt in pts_recs],s=[pt[2] for pt in pts_recs],c='pink')\n",
    "    \n",
    "    for name,pt in pts_A_dict.items():\n",
    "        if name not in done_As:\n",
    "            axs.scatter(pt.x,pt.y,s=pt.MW,c='b')\n",
    "        \n",
    "    for name,pt in pts_B_dict.items():\n",
    "        if name not in done_Bs:\n",
    "            axs.scatter(pt.x,pt.y,s=pt.MW,c='r')\n",
    "\n",
    "    axs.add_collection(lc)\n",
    "    \n",
    "axs.set_xlim([-6,-4])\n",
    "axs.set_ylim([49,51])\n",
    "\n",
    "\n",
    "\n",
    "plt.show()"
   ]
  },
  {
   "cell_type": "markdown",
   "metadata": {},
   "source": [
    "### get impedence network"
   ]
  },
  {
   "cell_type": "code",
   "execution_count": null,
   "metadata": {},
   "outputs": [],
   "source": [
    "pts_R_dict = {pt.name:pt for pt in R_pts}\n",
    "pts_GB_dict = {pt.name:pt for pt in GB_pts}"
   ]
  },
  {
   "cell_type": "code",
   "execution_count": null,
   "metadata": {},
   "outputs": [],
   "source": [
    "R_names = [pt.name for pt in R_pts]\n",
    "GB_names = [pt.name for pt in GB_pts]"
   ]
  },
  {
   "cell_type": "code",
   "execution_count": null,
   "metadata": {},
   "outputs": [],
   "source": [
    "Z = {pt.name:{} for pt in GB_pts}\n",
    "MW_GB = {pt.name:pt.MW for pt in GB_pts}\n",
    "MW_R = {pt.name:pt.MW for pt in R_pts}"
   ]
  },
  {
   "cell_type": "code",
   "execution_count": null,
   "metadata": {},
   "outputs": [],
   "source": [
    "len(GB_pts), len(R_pts)"
   ]
  },
  {
   "cell_type": "code",
   "execution_count": null,
   "metadata": {},
   "outputs": [],
   "source": [
    "for ii_A,pt_A in enumerate(GB_pts):\n",
    "    if ii_A % 100 ==0:\n",
    "            print ('ii_A',ii_A)\n",
    "    for pt_B in R_pts:\n",
    "        \n",
    "        #print (pt_A.name, pt_B.name)\n",
    "        Z[pt_A.name][pt_B.name]=geodesic([pt_A.x,pt_A.y], [pt_B.x,pt_B.y]).kilometers"
   ]
  },
  {
   "cell_type": "code",
   "execution_count": null,
   "metadata": {},
   "outputs": [],
   "source": [
    "pickle.dump(Z,open('Z.pickle','wb'))"
   ]
  },
  {
   "cell_type": "code",
   "execution_count": null,
   "metadata": {},
   "outputs": [],
   "source": [
    "Z= pickle.load(open('Z.pickle','rb'))"
   ]
  },
  {
   "cell_type": "markdown",
   "metadata": {},
   "source": [
    "### Set up problem"
   ]
  },
  {
   "cell_type": "markdown",
   "metadata": {},
   "source": [
    "#### Define problem"
   ]
  },
  {
   "cell_type": "code",
   "execution_count": null,
   "metadata": {},
   "outputs": [],
   "source": [
    "model = LpProblem(\"Network Satisficing Problem\",LpMinimize)"
   ]
  },
  {
   "cell_type": "markdown",
   "metadata": {},
   "source": [
    "#### Define Variables"
   ]
  },
  {
   "cell_type": "code",
   "execution_count": null,
   "metadata": {},
   "outputs": [],
   "source": [
    "# B -> bipartite \n",
    "B = LpVariable.dicts(\"Bipartite\",(GB_names,R_names),0,1,LpInteger)"
   ]
  },
  {
   "cell_type": "code",
   "execution_count": null,
   "metadata": {},
   "outputs": [],
   "source": [
    "# Differences between MW and MW in (needs variable to ensure absolute value)\n",
    "abs_diffs = LpVariable.dicts(\"abs_diffs\",R_names,cat='Continuous')"
   ]
  },
  {
   "cell_type": "markdown",
   "metadata": {},
   "source": [
    "#### Define Constraints"
   ]
  },
  {
   "cell_type": "code",
   "execution_count": null,
   "metadata": {},
   "outputs": [],
   "source": [
    "# Contstraint - abs diffs edges\n",
    "for R_name in R_names:\n",
    "    model += abs_diffs[R_name] >= (MW_R[R_name] - lpSum([MW_GB[GB_name]*B[GB_name][R_name] for GB_name in GB_names]))/MW_R[R_name],\"abs forcing pos {}\".format(R_name) \n",
    "    model += abs_diffs[R_name] >= -1 * (MW_R[R_name] - lpSum([MW_GB[GB_name]*B[GB_name][R_name] for GB_name in GB_names]))/MW_R[R_name], \"abs forcing neg {}\".format(R_name)"
   ]
  },
  {
   "cell_type": "code",
   "execution_count": null,
   "metadata": {},
   "outputs": [],
   "source": [
    "# Contstraint - bipartite edges\n",
    "for GB_name in GB_names:\n",
    "    model += lpSum([B[GB_name][R_name] for R_name in R_names]) <= 1,\"Bipartite Edges {}\".format(GB_name) "
   ]
  },
  {
   "cell_type": "markdown",
   "metadata": {},
   "source": [
    "#### Define constants and affine equations"
   ]
  },
  {
   "cell_type": "code",
   "execution_count": null,
   "metadata": {},
   "outputs": [],
   "source": [
    "alpha = 0.5"
   ]
  },
  {
   "cell_type": "code",
   "execution_count": null,
   "metadata": {},
   "outputs": [],
   "source": [
    "sum_Z = sum([Z[GB_name][R_name] for GB_name in GB_names for R_name in R_names])"
   ]
  },
  {
   "cell_type": "code",
   "execution_count": null,
   "metadata": {},
   "outputs": [],
   "source": [
    "E_z = sum([Z[GB_name][R_name]*B[GB_name][R_name] for GB_name in GB_names for R_name in R_names])/sum_Z"
   ]
  },
  {
   "cell_type": "code",
   "execution_count": null,
   "metadata": {},
   "outputs": [],
   "source": [
    "E_mw = sum([abs_diffs[R_name] for R_name in R_names])/len(R_names)"
   ]
  },
  {
   "cell_type": "markdown",
   "metadata": {},
   "source": [
    "#### Defin Objective Function"
   ]
  },
  {
   "cell_type": "code",
   "execution_count": null,
   "metadata": {},
   "outputs": [],
   "source": [
    "# Objective function\n",
    "model += E_z*alpha + (1-alpha)*E_mw, \"Loss\""
   ]
  },
  {
   "cell_type": "code",
   "execution_count": null,
   "metadata": {},
   "outputs": [],
   "source": [
    "model.solve()\n",
    "pulp.LpStatus[model.status]"
   ]
  },
  {
   "cell_type": "code",
   "execution_count": null,
   "metadata": {},
   "outputs": [],
   "source": [
    "E_z.value()"
   ]
  },
  {
   "cell_type": "code",
   "execution_count": null,
   "metadata": {},
   "outputs": [],
   "source": [
    "for e in E_mw:\n",
    "    print (e.name, e.value())"
   ]
  },
  {
   "cell_type": "code",
   "execution_count": null,
   "metadata": {},
   "outputs": [],
   "source": [
    "### visualise\n",
    "fig, axs = plt.subplots(1,1,figsize=(12,12))\n",
    "for pt in pts_A:\n",
    "    axs.scatter(pt.x, pt.y, s=pt.MW*10,c='g')\n",
    "for pt in pts_B:\n",
    "    axs.scatter(pt.x,pt.y,s=pt.MW*10,c='r')\n",
    "    \n",
    "lines = []\n",
    "\n",
    "for k1, v in B.items():\n",
    "    for k2,v2 in v.items():\n",
    "        if v2.varValue>0:\n",
    "            lines.append([[pts_A_dict[k1].x,pts_A_dict[k1].y],[pts_B_dict[k2].x,pts_B_dict[k2].y]])\n",
    "\n",
    "lc = LineCollection(lines, color='grey')\n",
    "\n",
    "axs.add_collection(lc)\n",
    "\n",
    "\n",
    "\n",
    "plt.show()"
   ]
  },
  {
   "cell_type": "code",
   "execution_count": null,
   "metadata": {},
   "outputs": [],
   "source": []
  },
  {
   "cell_type": "code",
   "execution_count": null,
   "metadata": {},
   "outputs": [],
   "source": []
  },
  {
   "cell_type": "code",
   "execution_count": null,
   "metadata": {},
   "outputs": [],
   "source": []
  },
  {
   "cell_type": "markdown",
   "metadata": {},
   "source": [
    "## Demo"
   ]
  },
  {
   "cell_type": "code",
   "execution_count": null,
   "metadata": {},
   "outputs": [],
   "source": [
    "model = LpProblem(\"Profit maximising problem\", pulp.LpMaximize)"
   ]
  },
  {
   "cell_type": "code",
   "execution_count": null,
   "metadata": {},
   "outputs": [],
   "source": [
    "A = LpVariable('A', lowBound=0, cat='Integer')\n",
    "B = LpVariable('B', lowBound=0, cat='Integer')"
   ]
  },
  {
   "cell_type": "code",
   "execution_count": null,
   "metadata": {},
   "outputs": [],
   "source": [
    "profit = 3000 * A + 45000 * B"
   ]
  },
  {
   "cell_type": "code",
   "execution_count": null,
   "metadata": {},
   "outputs": [],
   "source": [
    "# Objective function\n",
    "model += profit, \"Profit\"\n",
    "\n",
    "# Constraints\n",
    "model += 3 * A + 4 * B <= 30\n",
    "model += 5 * A + 6 * B <= 60\n",
    "model += 1.5 * A + 3 * B <= 21"
   ]
  },
  {
   "cell_type": "code",
   "execution_count": null,
   "metadata": {},
   "outputs": [],
   "source": [
    "model.solve()\n",
    "pulp.LpStatus[model.status]"
   ]
  },
  {
   "cell_type": "code",
   "execution_count": null,
   "metadata": {},
   "outputs": [],
   "source": [
    "print (\"Production of Car A = {}\".format(A.varValue))\n",
    "print (\"Production of Car B = {}\".format(B.varValue))"
   ]
  },
  {
   "cell_type": "markdown",
   "metadata": {},
   "source": [
    "## Archive"
   ]
  },
  {
   "cell_type": "code",
   "execution_count": null,
   "metadata": {},
   "outputs": [],
   "source": [
    "E_z_1 = LpVariable.dicts('E_z_1', (A_names,B_names),lowBound=0, cat='Continuous')"
   ]
  },
  {
   "cell_type": "code",
   "execution_count": null,
   "metadata": {},
   "outputs": [],
   "source": [
    "E_z_0 = LpVariable.dicts('E_z_0',A_names, lowBound=0, cat='Continuous')"
   ]
  },
  {
   "cell_type": "code",
   "execution_count": null,
   "metadata": {},
   "outputs": [],
   "source": [
    "E_z_t = LpVariable('E_z_t',lowBound = 0, cat='Continuous')"
   ]
  },
  {
   "cell_type": "code",
   "execution_count": null,
   "metadata": {},
   "outputs": [],
   "source": [
    "for A_name in A_names:\n",
    "    for B_name in B_names:\n",
    "        model+= E_z_1 == bipartite[A_name][B_name] * Z[A_name][B_name]"
   ]
  },
  {
   "cell_type": "code",
   "execution_count": null,
   "metadata": {},
   "outputs": [],
   "source": [
    "for A_name in A_names:\n",
    "    model += E_z_0[A_name] == lpSum([E_z_1[A_name][B_name] for B_name in B_names])"
   ]
  },
  {
   "cell_type": "code",
   "execution_count": null,
   "metadata": {},
   "outputs": [],
   "source": []
  }
 ],
 "metadata": {
  "kernelspec": {
   "display_name": "Python 3",
   "language": "python",
   "name": "python3"
  },
  "language_info": {
   "codemirror_mode": {
    "name": "ipython",
    "version": 3
   },
   "file_extension": ".py",
   "mimetype": "text/x-python",
   "name": "python",
   "nbconvert_exporter": "python",
   "pygments_lexer": "ipython3",
   "version": "3.7.6"
  }
 },
 "nbformat": 4,
 "nbformat_minor": 1
}
