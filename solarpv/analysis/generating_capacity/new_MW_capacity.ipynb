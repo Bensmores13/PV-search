{
 "cells": [
  {
   "cell_type": "code",
   "execution_count": null,
   "metadata": {},
   "outputs": [],
   "source": [
    "import os"
   ]
  },
  {
   "cell_type": "code",
   "execution_count": null,
   "metadata": {},
   "outputs": [],
   "source": [
    "import geopandas as gpd\n",
    "gpd.options.use_pygeos=True\n",
    "import pandas as pd"
   ]
  },
  {
   "cell_type": "code",
   "execution_count": null,
   "metadata": {},
   "outputs": [],
   "source": [
    "import numpy as np"
   ]
  },
  {
   "cell_type": "code",
   "execution_count": null,
   "metadata": {},
   "outputs": [],
   "source": [
    "import scipy.stats as stats  "
   ]
  },
  {
   "cell_type": "code",
   "execution_count": null,
   "metadata": {},
   "outputs": [],
   "source": [
    "os.getcwd()"
   ]
  },
  {
   "cell_type": "code",
   "execution_count": null,
   "metadata": {},
   "outputs": [],
   "source": [
    "root = os.path.abspath(os.path.join(os.getcwd(),'..','..','..'))"
   ]
  },
  {
   "cell_type": "code",
   "execution_count": null,
   "metadata": {},
   "outputs": [],
   "source": [
    "gdf = gpd.read_file(os.path.join(root,'data','SPV_newmw.gpkg'))"
   ]
  },
  {
   "cell_type": "code",
   "execution_count": null,
   "metadata": {},
   "outputs": [],
   "source": [
    "gdf['capacity_mw'].sum()/1000/107.4-1"
   ]
  },
  {
   "cell_type": "code",
   "execution_count": null,
   "metadata": {},
   "outputs": [],
   "source": [
    "gdf[['capacity_mw','iso-3166-1']].groupby('iso-3166-1').sum().sort_values('capacity_mw',ascending=False).loc['JP','capacity_mw']/1000/6.0-1"
   ]
  },
  {
   "cell_type": "code",
   "execution_count": null,
   "metadata": {},
   "outputs": [],
   "source": [
    "table_out = gdf[['capacity_mw','iso-3166-1']].groupby('iso-3166-1').sum().sort_values('capacity_mw',ascending=False).iloc[0:91]"
   ]
  },
  {
   "cell_type": "code",
   "execution_count": null,
   "metadata": {},
   "outputs": [],
   "source": [
    "table_out = table_out.loc[table_out.index!='',:]"
   ]
  },
  {
   "cell_type": "code",
   "execution_count": null,
   "metadata": {},
   "outputs": [],
   "source": [
    "table_out['N_installations'] = gdf[['unique_id','iso-3166-1']].groupby('iso-3166-1').size()"
   ]
  },
  {
   "cell_type": "code",
   "execution_count": null,
   "metadata": {},
   "outputs": [],
   "source": [
    "table_out['mean_size'] = gdf[['capacity_mw','iso-3166-1']].groupby('iso-3166-1').mean()"
   ]
  },
  {
   "cell_type": "code",
   "execution_count": null,
   "metadata": {},
   "outputs": [],
   "source": [
    "table_out['capacity_mw'] = table_out['capacity_mw'].apply(lambda el: f'{el:,.0f}')\n",
    "table_out['N_installations'] = table_out['N_installations'].apply(lambda el: f'{el:,.0f}')\n",
    "table_out['mean_size'] = table_out['mean_size'].apply(lambda el: f'{el:,.2f}')"
   ]
  },
  {
   "cell_type": "code",
   "execution_count": null,
   "metadata": {},
   "outputs": [],
   "source": [
    "table_out"
   ]
  },
  {
   "cell_type": "code",
   "execution_count": null,
   "metadata": {},
   "outputs": [],
   "source": [
    "table_out.to_csv(os.path.join(root,'data','summary_table.csv'))"
   ]
  },
  {
   "cell_type": "code",
   "execution_count": null,
   "metadata": {},
   "outputs": [],
   "source": []
  },
  {
   "cell_type": "code",
   "execution_count": null,
   "metadata": {},
   "outputs": [],
   "source": [
    "gdf['capacity_mw'].sum()/1000- 107.4"
   ]
  },
  {
   "cell_type": "code",
   "execution_count": null,
   "metadata": {},
   "outputs": [],
   "source": []
  },
  {
   "cell_type": "code",
   "execution_count": null,
   "metadata": {},
   "outputs": [],
   "source": [
    "bins = {\n",
    "    0:{'min':10**2,'max':10**3,'recall':.18},\n",
    "    1:{'min':10**3,'max':10**4,'recall':.25},\n",
    "    2:{'min':10**4,'max':10**5,'recall':.71},\n",
    "    3:{'min':10**5,'max':10**6,'recall':.82},\n",
    "    4:{'min':10**6,'max':10**10,'recall':.88},\n",
    "}"
   ]
  },
  {
   "cell_type": "code",
   "execution_count": null,
   "metadata": {},
   "outputs": [],
   "source": [
    "for kk,vv in bins.items():\n",
    "    gdf.loc[(gdf['area']>=vv['min'])&(gdf['area']<vv['max']),'capacity_mw'] = gdf.loc[(gdf['area']>=vv['min'])&(gdf['area']<vv['max']),'capacity_mw'] /vv['recall']"
   ]
  },
  {
   "cell_type": "code",
   "execution_count": null,
   "metadata": {},
   "outputs": [],
   "source": [
    "gdf['capacity_mw'].sum()"
   ]
  },
  {
   "cell_type": "code",
   "execution_count": null,
   "metadata": {},
   "outputs": [],
   "source": []
  },
  {
   "cell_type": "code",
   "execution_count": null,
   "metadata": {},
   "outputs": [],
   "source": []
  },
  {
   "cell_type": "code",
   "execution_count": null,
   "metadata": {},
   "outputs": [],
   "source": []
  },
  {
   "cell_type": "code",
   "execution_count": null,
   "metadata": {},
   "outputs": [],
   "source": [
    "#eia = pd.read_csv(os.path.join(root,'data','eia_powerstations','february_generator2020.csv'))\n",
    "eia = pd.read_csv(os.path.join(root,'data','tabula-NREL.csv'))"
   ]
  },
  {
   "cell_type": "code",
   "execution_count": null,
   "metadata": {},
   "outputs": [],
   "source": [
    "eia.loc[~eia['Module efficiency'].isna(),'Module efficiency'] = eia.loc[~eia['Module efficiency'].isna(),'Module efficiency'].str.replace('%','').astype(float)/100"
   ]
  },
  {
   "cell_type": "code",
   "execution_count": null,
   "metadata": {},
   "outputs": [],
   "source": [
    "eff_alpha, eff_loc, eff_beta = stats.gamma.fit(eia.loc[~eia['Module efficiency'].isna(),'Module efficiency'].values.tolist())"
   ]
  },
  {
   "cell_type": "code",
   "execution_count": null,
   "metadata": {},
   "outputs": [],
   "source": [
    "ilr_alpha, ilr_loc, ilr_beta = stats.gamma.fit(eia.loc[(~eia['ILR'].isna()) & (eia['ILR']!=1) & (eia['ILR']<1.7),'ILR'].astype(float).values.tolist())"
   ]
  },
  {
   "cell_type": "code",
   "execution_count": null,
   "metadata": {},
   "outputs": [],
   "source": [
    "import matplotlib.pyplot as plt"
   ]
  },
  {
   "cell_type": "code",
   "execution_count": null,
   "metadata": {},
   "outputs": [],
   "source": [
    "from scipy.optimize import curve_fit"
   ]
  },
  {
   "cell_type": "code",
   "execution_count": null,
   "metadata": {},
   "outputs": [],
   "source": [
    "def fitgamma(xdata, alpha, loc, beta):\n",
    "    data = sorted(stats.gamma.rvs(alpha, loc=loc, scale=beta, size=10000))\n",
    "    mean, var, skew, kurt = stats.gamma.stats(alpha, loc=loc, scale=beta, moments='mvsk')\n",
    "    return [data[2500],mean,data[5000],data[7500]]"
   ]
  },
  {
   "cell_type": "code",
   "execution_count": null,
   "metadata": {},
   "outputs": [],
   "source": [
    "curve_fit(fitgamma,5,[.44, .47, .51, .58], p0=[2,0,0.25])"
   ]
  },
  {
   "cell_type": "code",
   "execution_count": null,
   "metadata": {},
   "outputs": [],
   "source": [
    "stats.gamma.cdf(.75, 1, loc=0, scale=1)"
   ]
  },
  {
   "cell_type": "code",
   "execution_count": null,
   "metadata": {},
   "outputs": [],
   "source": [
    "targets = {'25':.44,'50':.47,'mean':.51,'75':.58}\n",
    "arr = np.zeros((50,50))\n",
    "x_off, x_step = 0.01, 0.001\n",
    "y_off, y_step = 18, 0.1\n",
    "for x in [x for x in range(50)]:\n",
    "    for y in [y for y in range(50)]:\n",
    "        loc = x_off+x*x_step\n",
    "        alpha = y_off+y*y_step\n",
    "        beta =(.51-loc)/alpha\n",
    "        mean, var, skew, kurt = stats.gamma.stats(alpha, loc=loc, scale=beta, moments='mvsk')\n",
    "        data = sorted(stats.gamma.rvs(alpha, loc=loc, scale=beta, size=10000))\n",
    "        res = {'25':data[2500],'50':data[5000],'mean':mean,'75':data[7500]}\n",
    "        err = sum([(res[kk]-targets[kk])**2 for kk in targets.keys()])\n",
    "        arr[x,y] = err\n",
    "        #print (loc, alpha, err)"
   ]
  },
  {
   "cell_type": "code",
   "execution_count": null,
   "metadata": {},
   "outputs": [],
   "source": [
    "arr[16,21]"
   ]
  },
  {
   "cell_type": "code",
   "execution_count": null,
   "metadata": {},
   "outputs": [],
   "source": [
    "plt.imshow(arr)"
   ]
  },
  {
   "cell_type": "code",
   "execution_count": null,
   "metadata": {},
   "outputs": [],
   "source": [
    "np.where(arr<0.0009)"
   ]
  },
  {
   "cell_type": "code",
   "execution_count": null,
   "metadata": {},
   "outputs": [],
   "source": [
    "fig, ax = plt.subplots(1,1,figsize=(4,6))\n",
    "alpha = 19.5 #20.1\n",
    "loc = 0.030#26\n",
    "beta =(.51-loc)/alpha\n",
    "mean, var, skew, kurt = stats.gamma.stats(alpha, loc=loc, scale=beta, moments='mvsk')\n",
    "data = sorted(stats.gamma.rvs(alpha, loc=loc, scale=beta, size=10000))\n",
    "ax.hist(data, bins=30)\n",
    "plt.show()\n",
    "targets = {'25':.44,'50':.47,'mean':.51,'75':.58}\n",
    "res = {'25':data[2500],'50':data[5000],'mean':mean,'75':data[7500]}\n",
    "for kk in targets.keys():\n",
    "    print (kk, targets[kk],res[kk])"
   ]
  },
  {
   "cell_type": "code",
   "execution_count": null,
   "metadata": {},
   "outputs": [],
   "source": [
    "import numpy as np"
   ]
  },
  {
   "cell_type": "code",
   "execution_count": null,
   "metadata": {},
   "outputs": [],
   "source": [
    "gdf['cap_test'] = gdf['area'] * gdf['GCR'] * gdf['gti'] * gdf['eff'] / gdf['pvout'] / gdf['ILR']"
   ]
  },
  {
   "cell_type": "code",
   "execution_count": null,
   "metadata": {},
   "outputs": [],
   "source": [
    "compiled_final 30 {'P': nan, 'P_TP': 0, 'P_FP': 0, 'R': 0.021739130434782608, 'R_TP': 2, 'R_FN': 90}\n",
    "compiled_final 100.0 {'P': 0.9666666666666667, 'P_TP': 87, 'P_FP': 3, 'R': 0.0385739333722969, 'R_TP': 66, 'R_FN': 1645}\n",
    "compiled_final 1000.0 {'P': 0.959917780061665, 'P_TP': 934, 'P_FP': 39, 'R': 0.42683881064162754, 'R_TP': 1091, 'R_FN': 1465}\n",
    "compiled_final 10000.0 {'P': 0.9893858984078847, 'P_TP': 1305, 'P_FP': 14, 'R': 0.8830097087378641, 'R_TP': 1819, 'R_FN': 241}\n",
    "compiled_final 100000.0 {'P': 0.9811676082862524, 'P_TP': 521, 'P_FP': 10, 'R': 0.9650959860383944, 'R_TP': 553, 'R_FN': 20}\n",
    "compiled_final 1000000.0 {'P': 0.9722222222222222, 'P_TP': 70, 'P_FP': 2, 'R': 0.9393939393939394, 'R_TP': 62, 'R_FN': 4}"
   ]
  },
  {
   "cell_type": "code",
   "execution_count": null,
   "metadata": {},
   "outputs": [],
   "source": [
    "0 1.1543370313553463 0.0 2\n",
    "1 0.37701015880980093 0.6370519408706289 66\n",
    "2 0.1994739505469657 0.7217854444253359 1091\n",
    "3 0.10893815502345362 0.5129571834277274 1819\n",
    "4 -0.012558514210915256 0.28063800305152226 553\n",
    "5 -0.024982255186530276 0.20184961361379802 62"
   ]
  },
  {
   "cell_type": "code",
   "execution_count": null,
   "metadata": {},
   "outputs": [],
   "source": [
    "bins = {\n",
    "    0:{'min':10**2,'max':10**3,'recall_T':66, 'recall_F':1645, 'precision_T':87,'precision_F':3, 'area_mu':0.37701015880980093, 'area_std': 0.6370519408706289},\n",
    "    1:{'min':10**3,'max':10**4,'recall_T':1091, 'recall_F':1465, 'precision_T':934,'precision_F':39, 'area_mu':0.1994739505469657,'area_std': 0.7217854444253359},\n",
    "    2:{'min':10**4,'max':10**5,'recall_T':1819, 'recall_F':241, 'precision_T':1305,'precision_F':14, 'area_mu':0.10893815502345362,'area_std': 0.5129571834277274},\n",
    "    3:{'min':10**5,'max':10**6,'recall_T':553, 'recall_F':20, 'precision_T':521,'precision_F':10, 'area_mu':-0.012558514210915256, 'area_std': 0.28063800305152226},\n",
    "    4:{'min':10**6,'max':10**10,'recall_T':62, 'recall_F':4, 'precision_T':70,'precision_F':2, 'area_mu':-0.024982255186530276, 'area_std': 0.20184961361379802},\n",
    "}"
   ]
  },
  {
   "cell_type": "code",
   "execution_count": null,
   "metadata": {},
   "outputs": [],
   "source": [
    "gcr_alpha = 19.5 #20.1\n",
    "gcr_loc = 0.030#26\n",
    "gcr_beta =(.51-loc)/alpha"
   ]
  },
  {
   "cell_type": "code",
   "execution_count": null,
   "metadata": {},
   "outputs": [],
   "source": [
    "gcr_beta"
   ]
  },
  {
   "cell_type": "code",
   "execution_count": null,
   "metadata": {},
   "outputs": [],
   "source": [
    "data = sorted(stats.gamma.rvs(gcr_alpha, loc=gcr_loc, scale=gcr_beta, size=10000))\n",
    "plt.hist(np.array(data)+0.15, bins=30)"
   ]
  },
  {
   "cell_type": "code",
   "execution_count": null,
   "metadata": {},
   "outputs": [],
   "source": [
    "print (f'gcr,{gcr_alpha:.2f}, {gcr_loc:.5f}, {gcr_beta:.7f}')\n",
    "print (f'eff,{eff_alpha:.2f}, {eff_loc:.5f}, {eff_beta:.7f}')\n",
    "print (f'ilr,{ilr_alpha:.2f}, {ilr_loc:.5f},{ilr_beta:.7f}')"
   ]
  },
  {
   "cell_type": "code",
   "execution_count": null,
   "metadata": {},
   "outputs": [],
   "source": [
    "best_est = []\n",
    "simple_est = []\n",
    "vals = []\n",
    "\n",
    "# sample precision and recall using binomial distibrution.\n",
    "N = 1000\n",
    "\n",
    "# stats.binom.rvs(n=200,p=0.97,size=10) \n",
    "# prepopulate recalls and precisions\n",
    "\n",
    "pm_gcr = 0.2\n",
    "\n",
    "gdf['area_error'] = 1 # default to 1\n",
    "recalls = {}\n",
    "precisions = {}\n",
    "area_errors = {}\n",
    "for kk,vv in bins.items():\n",
    "    recalls[kk] = (stats.binom.rvs(n=(vv['recall_T']+vv['recall_F']),p=vv['recall_T']/(vv['recall_T']+vv['recall_F']),size=N)/(vv['recall_T']+vv['recall_F'])).clip(0,1)\n",
    "    precisions[kk] = stats.binom.rvs(n=(vv['precision_T']+vv['precision_F']),p=vv['precision_T']/(vv['precision_T']+vv['precision_F']),size=N)/(vv['precision_T']+vv['precision_F'])\n",
    "    area_errors[kk] = stats.norm.rvs(vv['area_mu'],vv['area_std'],size=N)\n",
    "    \n",
    "for ii in range(N):\n",
    "    if ii % 100 == 0:\n",
    "        print (ii)\n",
    "    # add GCR area error\n",
    "    for kk,vv in bins.items():\n",
    "        size = gdf.loc[((gdf['area']>=vv['min'])&(gdf['area']<vv['max'])),'area_error'].size\n",
    "        gdf.loc[((gdf['area']>=vv['min'])&(gdf['area']<vv['max'])),'area_error'] = 1 + stats.norm.rvs(vv['area_mu'],vv['area_std'],size=size).clip(-1,None)\n",
    "        #gdf.loc[((gdf['area']>=vv['min'])&(gdf['area']<vv['max'])),'area_error'] = 1 + area_errors[kk][ii]\n",
    "    \n",
    "    gdf['GCR'] = stats.gamma.rvs(gcr_alpha, loc=gcr_loc, scale=gcr_beta, size=len(gdf))\n",
    "    #for iso2 in gdf['iso-3166-1'].unique():\n",
    "    #    size = len(gdf.loc[gdf['iso-3166-1']==iso2,:])\n",
    "    #    gcr_err = np.random.rand()*2*pm_gcr - pm_gcr if iso2!='US' else 0\n",
    "    #    gdf.loc[gdf['iso-3166-1']==iso2,'GCR'] = np.array(stats.gamma.rvs(gcr_alpha, loc=gcr_loc, scale=gcr_beta, size=size))+gcr_err\n",
    "    \n",
    "    gdf['eff'] = stats.gamma.rvs(eff_alpha, loc=eff_loc, scale=eff_beta, size=len(gdf))\n",
    "    gdf['ILR'] = stats.gamma.rvs(ilr_alpha, loc=ilr_loc, scale=ilr_beta, size=len(gdf))\n",
    "    gdf['cap_test'] = gdf['area'] * gdf['area_error'] * gdf['GCR'] * gdf['gti'] * gdf['eff'] / gdf['pvout'] / gdf['ILR']\n",
    "    mw_test = gdf['cap_test'].sum()/1000\n",
    "    el = 0\n",
    "    for kk, vv in bins.items():\n",
    "        #print (vv,((gdf['area']>=vv['min'])&(gdf['area']<vv['max'])).sum())\n",
    "        el += gdf.loc[((gdf['area']>=vv['min'])&(gdf['area']<vv['max'])),'cap_test'].sum()*precisions[kk][ii]/recalls[kk][ii]\n",
    "        \n",
    "    vals.append(gdf['cap_test'].values.copy())\n",
    "    best_est.append(el)\n",
    "    simple_est.append(mw_test)"
   ]
  },
  {
   "cell_type": "code",
   "execution_count": null,
   "metadata": {},
   "outputs": [],
   "source": [
    "gdf['area_error'].hist(bins=50)"
   ]
  },
  {
   "cell_type": "code",
   "execution_count": null,
   "metadata": {},
   "outputs": [],
   "source": [
    "gdf['area_error'].min(), gdf['area_error'].max()"
   ]
  },
  {
   "cell_type": "code",
   "execution_count": null,
   "metadata": {},
   "outputs": [],
   "source": [
    "vals = np.array(vals)"
   ]
  },
  {
   "cell_type": "code",
   "execution_count": null,
   "metadata": {},
   "outputs": [],
   "source": [
    "vals.shape"
   ]
  },
  {
   "cell_type": "code",
   "execution_count": null,
   "metadata": {},
   "outputs": [],
   "source": [
    "vals[0,:]"
   ]
  },
  {
   "cell_type": "code",
   "execution_count": null,
   "metadata": {},
   "outputs": [],
   "source": [
    "vals[900,:]"
   ]
  },
  {
   "cell_type": "code",
   "execution_count": null,
   "metadata": {},
   "outputs": [],
   "source": [
    "vals = np.sort(vals,axis=0)"
   ]
  },
  {
   "cell_type": "code",
   "execution_count": null,
   "metadata": {},
   "outputs": [],
   "source": [
    "vals[25,:].sum(), vals[975,:].sum(), vals[500,:].sum()"
   ]
  },
  {
   "cell_type": "code",
   "execution_count": null,
   "metadata": {},
   "outputs": [],
   "source": [
    "import pickle"
   ]
  },
  {
   "cell_type": "code",
   "execution_count": null,
   "metadata": {},
   "outputs": [],
   "source": [
    "pickle.dump(best_est, open('./best_est.pickle','wb'))"
   ]
  },
  {
   "cell_type": "code",
   "execution_count": null,
   "metadata": {},
   "outputs": [],
   "source": [
    "pd.read_csv(os.path.join(root,'data','tabula-irena.csv')).set_index('iso2')"
   ]
  },
  {
   "cell_type": "code",
   "execution_count": null,
   "metadata": {},
   "outputs": [],
   "source": [
    "import matplotlib.pyplot as plt"
   ]
  },
  {
   "cell_type": "code",
   "execution_count": null,
   "metadata": {},
   "outputs": [],
   "source": [
    "np.quantile(np.array(sorted(best_est))/1000/1000,[0.025,0.975]), (np.array(sorted(best_est))/1000/1000).mean()"
   ]
  },
  {
   "cell_type": "code",
   "execution_count": null,
   "metadata": {},
   "outputs": [],
   "source": [
    "np.quantile(np.array(sorted(best_est))/1000/1000,[0.025,0.975]) - (np.array(sorted(best_est))/1000/1000).mean()"
   ]
  },
  {
   "cell_type": "code",
   "execution_count": null,
   "metadata": {},
   "outputs": [],
   "source": [
    "np.quantile(np.array(sorted(simple_est))/1000,[0.025,0.975]), (np.array(sorted(simple_est))/1000).mean()"
   ]
  },
  {
   "cell_type": "code",
   "execution_count": null,
   "metadata": {},
   "outputs": [],
   "source": [
    "plt.hist(best_est, bins=20)"
   ]
  },
  {
   "cell_type": "code",
   "execution_count": null,
   "metadata": {},
   "outputs": [],
   "source": [
    "GCR_mean, var, skew, kurt = stats.gamma.stats(gcr_alpha, loc=gcr_loc, scale=gcr_beta, moments='mvsk')\n",
    "eff_mean, var, skew, kurt = stats.gamma.stats(eff_alpha, loc=eff_loc, scale=eff_beta, moments='mvsk')\n",
    "ilr_mean, var, skew, kurt = stats.gamma.stats(ilr_alpha, loc=ilr_loc, scale=ilr_beta, moments='mvsk')"
   ]
  },
  {
   "cell_type": "code",
   "execution_count": null,
   "metadata": {},
   "outputs": [],
   "source": [
    "gdf['GCR'] = GCR_mean\n",
    "gdf['eff'] = eff_mean\n",
    "gdf['ILR'] = ilr_mean\n",
    "for kk,vv in bins.items():\n",
    "        gdf.loc[((gdf['area']>=vv['min'])&(gdf['area']<vv['max'])),'area_error'] = 1 + vv['area_mu']\n",
    "gdf['capacity_mw'] = gdf['area'] * gdf['area_error'] * gdf['GCR'] * gdf['gti'] * gdf['eff'] / gdf['pvout'] / gdf['ILR'] / 1000"
   ]
  },
  {
   "cell_type": "code",
   "execution_count": null,
   "metadata": {},
   "outputs": [],
   "source": [
    "gdf.to_file(os.path.join(root,'data','SPV_newmw.gpkg'),driver='GPKG')"
   ]
  },
  {
   "cell_type": "code",
   "execution_count": null,
   "metadata": {},
   "outputs": [],
   "source": [
    "gdf['capacity_mw'].sum()/1000"
   ]
  },
  {
   "cell_type": "code",
   "execution_count": null,
   "metadata": {},
   "outputs": [],
   "source": [
    "gdf"
   ]
  },
  {
   "cell_type": "code",
   "execution_count": null,
   "metadata": {},
   "outputs": [],
   "source": [
    "eia[eia['Technology']=='Solar Photovoltaic'].to_csv(os.path.join(root,'data','eia_powerstations','pv_only.csv'))"
   ]
  },
  {
   "cell_type": "code",
   "execution_count": null,
   "metadata": {},
   "outputs": [],
   "source": [
    "np.random.choice(10,5, replace=False)"
   ]
  },
  {
   "cell_type": "code",
   "execution_count": null,
   "metadata": {},
   "outputs": [],
   "source": [
    "gdf.columns"
   ]
  },
  {
   "cell_type": "code",
   "execution_count": null,
   "metadata": {},
   "outputs": [],
   "source": []
  },
  {
   "cell_type": "code",
   "execution_count": null,
   "metadata": {},
   "outputs": [],
   "source": [
    "stats.binom.rvs(n=200,p=0.97,size=10) # n successes"
   ]
  },
  {
   "cell_type": "code",
   "execution_count": null,
   "metadata": {},
   "outputs": [],
   "source": [
    "stats.norm.rvs(5,0.2,size=10)"
   ]
  },
  {
   "cell_type": "code",
   "execution_count": null,
   "metadata": {},
   "outputs": [],
   "source": []
  },
  {
   "cell_type": "code",
   "execution_count": null,
   "metadata": {},
   "outputs": [],
   "source": []
  },
  {
   "cell_type": "code",
   "execution_count": null,
   "metadata": {},
   "outputs": [],
   "source": []
  },
  {
   "cell_type": "code",
   "execution_count": null,
   "metadata": {},
   "outputs": [],
   "source": []
  },
  {
   "cell_type": "markdown",
   "metadata": {},
   "source": [
    "### dep"
   ]
  },
  {
   "cell_type": "code",
   "execution_count": null,
   "metadata": {},
   "outputs": [],
   "source": [
    "bins = {\n",
    "    0:{'min':10**2,'max':10**3,'recall_n':.18, 'recall_p':, 'precision_n':,'precision_p':, 'area_mu': ,'area_std':},\n",
    "    1:{'min':10**3,'max':10**4,'recall':.25},\n",
    "    2:{'min':10**4,'max':10**5,'recall':.71},\n",
    "    3:{'min':10**5,'max':10**6,'recall':.82},\n",
    "    4:{'min':10**6,'max':10**10,'recall':.88},\n",
    "}"
   ]
  }
 ],
 "metadata": {
  "kernelspec": {
   "display_name": "Python 3",
   "language": "python",
   "name": "python3"
  },
  "language_info": {
   "codemirror_mode": {
    "name": "ipython",
    "version": 3
   },
   "file_extension": ".py",
   "mimetype": "text/x-python",
   "name": "python",
   "nbconvert_exporter": "python",
   "pygments_lexer": "ipython3",
   "version": "3.8.5"
  }
 },
 "nbformat": 4,
 "nbformat_minor": 4
}
