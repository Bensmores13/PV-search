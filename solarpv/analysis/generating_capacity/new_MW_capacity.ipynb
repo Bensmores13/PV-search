{
 "cells": [
  {
   "cell_type": "code",
   "execution_count": 1,
   "metadata": {},
   "outputs": [],
   "source": [
    "import os"
   ]
  },
  {
   "cell_type": "code",
   "execution_count": 2,
   "metadata": {},
   "outputs": [],
   "source": [
    "import geopandas as gpd\n",
    "gpd.options.use_pygeos=True\n",
    "import pandas as pd"
   ]
  },
  {
   "cell_type": "code",
   "execution_count": 3,
   "metadata": {},
   "outputs": [],
   "source": [
    "import scipy.stats as stats  "
   ]
  },
  {
   "cell_type": "code",
   "execution_count": 4,
   "metadata": {},
   "outputs": [
    {
     "data": {
      "text/plain": [
       "'/home/lucas/repos/solar-pv-global-inventory/solarpv/analysis/generating_capacity'"
      ]
     },
     "execution_count": 4,
     "metadata": {},
     "output_type": "execute_result"
    }
   ],
   "source": [
    "os.getcwd()"
   ]
  },
  {
   "cell_type": "code",
   "execution_count": 5,
   "metadata": {},
   "outputs": [],
   "source": [
    "root = os.path.abspath(os.path.join(os.getcwd(),'..','..','..'))"
   ]
  },
  {
   "cell_type": "code",
   "execution_count": 6,
   "metadata": {},
   "outputs": [],
   "source": [
    "gdf = gpd.read_file(os.path.join(root,'data','SPV_newmw.gpkg'))"
   ]
  },
  {
   "cell_type": "code",
   "execution_count": 9,
   "metadata": {},
   "outputs": [
    {
     "data": {
      "text/plain": [
       "2.5321368929205894"
      ]
     },
     "execution_count": 9,
     "metadata": {},
     "output_type": "execute_result"
    }
   ],
   "source": [
    "gdf['capacity_mw'].sum()/1000/107.4-1"
   ]
  },
  {
   "cell_type": "code",
   "execution_count": 26,
   "metadata": {},
   "outputs": [
    {
     "data": {
      "text/plain": [
       "1.7789591505097433"
      ]
     },
     "execution_count": 26,
     "metadata": {},
     "output_type": "execute_result"
    }
   ],
   "source": [
    "gdf[['capacity_mw','iso-3166-1']].groupby('iso-3166-1').sum().sort_values('capacity_mw',ascending=False).loc['JP','capacity_mw']/1000/6.0-1"
   ]
  },
  {
   "cell_type": "code",
   "execution_count": 52,
   "metadata": {},
   "outputs": [],
   "source": [
    "table_out = gdf[['capacity_mw','iso-3166-1']].groupby('iso-3166-1').sum().sort_values('capacity_mw',ascending=False).iloc[0:91]"
   ]
  },
  {
   "cell_type": "code",
   "execution_count": 56,
   "metadata": {},
   "outputs": [],
   "source": [
    "table_out = table_out.loc[table_out.index!='',:]"
   ]
  },
  {
   "cell_type": "code",
   "execution_count": 57,
   "metadata": {},
   "outputs": [
    {
     "name": "stderr",
     "output_type": "stream",
     "text": [
      "/home/lucas/miniconda3/envs/p36/lib/python3.6/site-packages/ipykernel_launcher.py:1: SettingWithCopyWarning: \n",
      "A value is trying to be set on a copy of a slice from a DataFrame.\n",
      "Try using .loc[row_indexer,col_indexer] = value instead\n",
      "\n",
      "See the caveats in the documentation: https://pandas.pydata.org/pandas-docs/stable/user_guide/indexing.html#returning-a-view-versus-a-copy\n",
      "  \"\"\"Entry point for launching an IPython kernel.\n"
     ]
    }
   ],
   "source": [
    "table_out['N_installations'] = gdf[['unique_id','iso-3166-1']].groupby('iso-3166-1').size()"
   ]
  },
  {
   "cell_type": "code",
   "execution_count": 58,
   "metadata": {},
   "outputs": [
    {
     "name": "stderr",
     "output_type": "stream",
     "text": [
      "/home/lucas/miniconda3/envs/p36/lib/python3.6/site-packages/ipykernel_launcher.py:1: SettingWithCopyWarning: \n",
      "A value is trying to be set on a copy of a slice from a DataFrame.\n",
      "Try using .loc[row_indexer,col_indexer] = value instead\n",
      "\n",
      "See the caveats in the documentation: https://pandas.pydata.org/pandas-docs/stable/user_guide/indexing.html#returning-a-view-versus-a-copy\n",
      "  \"\"\"Entry point for launching an IPython kernel.\n"
     ]
    }
   ],
   "source": [
    "table_out['mean_size'] = gdf[['capacity_mw','iso-3166-1']].groupby('iso-3166-1').mean()"
   ]
  },
  {
   "cell_type": "code",
   "execution_count": 59,
   "metadata": {},
   "outputs": [
    {
     "name": "stderr",
     "output_type": "stream",
     "text": [
      "/home/lucas/miniconda3/envs/p36/lib/python3.6/site-packages/ipykernel_launcher.py:1: SettingWithCopyWarning: \n",
      "A value is trying to be set on a copy of a slice from a DataFrame.\n",
      "Try using .loc[row_indexer,col_indexer] = value instead\n",
      "\n",
      "See the caveats in the documentation: https://pandas.pydata.org/pandas-docs/stable/user_guide/indexing.html#returning-a-view-versus-a-copy\n",
      "  \"\"\"Entry point for launching an IPython kernel.\n",
      "/home/lucas/miniconda3/envs/p36/lib/python3.6/site-packages/ipykernel_launcher.py:2: SettingWithCopyWarning: \n",
      "A value is trying to be set on a copy of a slice from a DataFrame.\n",
      "Try using .loc[row_indexer,col_indexer] = value instead\n",
      "\n",
      "See the caveats in the documentation: https://pandas.pydata.org/pandas-docs/stable/user_guide/indexing.html#returning-a-view-versus-a-copy\n",
      "  \n",
      "/home/lucas/miniconda3/envs/p36/lib/python3.6/site-packages/ipykernel_launcher.py:3: SettingWithCopyWarning: \n",
      "A value is trying to be set on a copy of a slice from a DataFrame.\n",
      "Try using .loc[row_indexer,col_indexer] = value instead\n",
      "\n",
      "See the caveats in the documentation: https://pandas.pydata.org/pandas-docs/stable/user_guide/indexing.html#returning-a-view-versus-a-copy\n",
      "  This is separate from the ipykernel package so we can avoid doing imports until\n"
     ]
    }
   ],
   "source": [
    "table_out['capacity_mw'] = table_out['capacity_mw'].apply(lambda el: f'{el:,.0f}')\n",
    "table_out['N_installations'] = table_out['N_installations'].apply(lambda el: f'{el:,.0f}')\n",
    "table_out['mean_size'] = table_out['mean_size'].apply(lambda el: f'{el:,.2f}')"
   ]
  },
  {
   "cell_type": "code",
   "execution_count": 60,
   "metadata": {},
   "outputs": [
    {
     "data": {
      "text/html": [
       "<div>\n",
       "<style scoped>\n",
       "    .dataframe tbody tr th:only-of-type {\n",
       "        vertical-align: middle;\n",
       "    }\n",
       "\n",
       "    .dataframe tbody tr th {\n",
       "        vertical-align: top;\n",
       "    }\n",
       "\n",
       "    .dataframe thead th {\n",
       "        text-align: right;\n",
       "    }\n",
       "</style>\n",
       "<table border=\"1\" class=\"dataframe\">\n",
       "  <thead>\n",
       "    <tr style=\"text-align: right;\">\n",
       "      <th></th>\n",
       "      <th>capacity_mw</th>\n",
       "      <th>N_installations</th>\n",
       "      <th>mean_size</th>\n",
       "    </tr>\n",
       "    <tr>\n",
       "      <th>iso-3166-1</th>\n",
       "      <th></th>\n",
       "      <th></th>\n",
       "      <th></th>\n",
       "    </tr>\n",
       "  </thead>\n",
       "  <tbody>\n",
       "    <tr>\n",
       "      <th>CN</th>\n",
       "      <td>167,698</td>\n",
       "      <td>18,449</td>\n",
       "      <td>9.09</td>\n",
       "    </tr>\n",
       "    <tr>\n",
       "      <th>US</th>\n",
       "      <td>53,727</td>\n",
       "      <td>7,638</td>\n",
       "      <td>7.03</td>\n",
       "    </tr>\n",
       "    <tr>\n",
       "      <th>IN</th>\n",
       "      <td>31,503</td>\n",
       "      <td>2,277</td>\n",
       "      <td>13.84</td>\n",
       "    </tr>\n",
       "    <tr>\n",
       "      <th>JP</th>\n",
       "      <td>16,674</td>\n",
       "      <td>10,504</td>\n",
       "      <td>1.59</td>\n",
       "    </tr>\n",
       "    <tr>\n",
       "      <th>DE</th>\n",
       "      <td>15,651</td>\n",
       "      <td>4,702</td>\n",
       "      <td>3.33</td>\n",
       "    </tr>\n",
       "    <tr>\n",
       "      <th>...</th>\n",
       "      <td>...</td>\n",
       "      <td>...</td>\n",
       "      <td>...</td>\n",
       "    </tr>\n",
       "    <tr>\n",
       "      <th>GH</th>\n",
       "      <td>23</td>\n",
       "      <td>3</td>\n",
       "      <td>7.74</td>\n",
       "    </tr>\n",
       "    <tr>\n",
       "      <th>BW</th>\n",
       "      <td>22</td>\n",
       "      <td>4</td>\n",
       "      <td>5.61</td>\n",
       "    </tr>\n",
       "    <tr>\n",
       "      <th>MG</th>\n",
       "      <td>21</td>\n",
       "      <td>1</td>\n",
       "      <td>21.35</td>\n",
       "    </tr>\n",
       "    <tr>\n",
       "      <th>NI</th>\n",
       "      <td>21</td>\n",
       "      <td>5</td>\n",
       "      <td>4.25</td>\n",
       "    </tr>\n",
       "    <tr>\n",
       "      <th>AF</th>\n",
       "      <td>20</td>\n",
       "      <td>7</td>\n",
       "      <td>2.92</td>\n",
       "    </tr>\n",
       "  </tbody>\n",
       "</table>\n",
       "<p>90 rows × 3 columns</p>\n",
       "</div>"
      ],
      "text/plain": [
       "           capacity_mw N_installations mean_size\n",
       "iso-3166-1                                      \n",
       "CN             167,698          18,449      9.09\n",
       "US              53,727           7,638      7.03\n",
       "IN              31,503           2,277     13.84\n",
       "JP              16,674          10,504      1.59\n",
       "DE              15,651           4,702      3.33\n",
       "...                ...             ...       ...\n",
       "GH                  23               3      7.74\n",
       "BW                  22               4      5.61\n",
       "MG                  21               1     21.35\n",
       "NI                  21               5      4.25\n",
       "AF                  20               7      2.92\n",
       "\n",
       "[90 rows x 3 columns]"
      ]
     },
     "execution_count": 60,
     "metadata": {},
     "output_type": "execute_result"
    }
   ],
   "source": [
    "table_out"
   ]
  },
  {
   "cell_type": "code",
   "execution_count": 61,
   "metadata": {},
   "outputs": [],
   "source": [
    "table_out.to_csv(os.path.join(root,'data','summary_table.csv'))"
   ]
  },
  {
   "cell_type": "code",
   "execution_count": null,
   "metadata": {},
   "outputs": [],
   "source": []
  },
  {
   "cell_type": "code",
   "execution_count": 21,
   "metadata": {},
   "outputs": [
    {
     "data": {
      "text/plain": [
       "271.95150229967135"
      ]
     },
     "execution_count": 21,
     "metadata": {},
     "output_type": "execute_result"
    }
   ],
   "source": [
    "gdf['capacity_mw'].sum()/1000- 107.4"
   ]
  },
  {
   "cell_type": "code",
   "execution_count": null,
   "metadata": {},
   "outputs": [],
   "source": []
  },
  {
   "cell_type": "code",
   "execution_count": 7,
   "metadata": {},
   "outputs": [],
   "source": [
    "bins = {\n",
    "    0:{'min':10**2,'max':10**3,'recall':.18},\n",
    "    1:{'min':10**3,'max':10**4,'recall':.25},\n",
    "    2:{'min':10**4,'max':10**5,'recall':.71},\n",
    "    3:{'min':10**5,'max':10**6,'recall':.82},\n",
    "    4:{'min':10**6,'max':10**10,'recall':.88},\n",
    "}"
   ]
  },
  {
   "cell_type": "code",
   "execution_count": 8,
   "metadata": {},
   "outputs": [],
   "source": [
    "for kk,vv in bins.items():\n",
    "    gdf.loc[(gdf['area']>=vv['min'])&(gdf['area']<vv['max']),'capacity_mw'] = gdf.loc[(gdf['area']>=vv['min'])&(gdf['area']<vv['max']),'capacity_mw'] /vv['recall']"
   ]
  },
  {
   "cell_type": "code",
   "execution_count": 9,
   "metadata": {},
   "outputs": [
    {
     "data": {
      "text/plain": [
       "494403.0784710179"
      ]
     },
     "execution_count": 9,
     "metadata": {},
     "output_type": "execute_result"
    }
   ],
   "source": [
    "gdf['capacity_mw'].sum()"
   ]
  },
  {
   "cell_type": "code",
   "execution_count": null,
   "metadata": {},
   "outputs": [],
   "source": []
  },
  {
   "cell_type": "code",
   "execution_count": null,
   "metadata": {},
   "outputs": [],
   "source": []
  },
  {
   "cell_type": "code",
   "execution_count": null,
   "metadata": {},
   "outputs": [],
   "source": []
  },
  {
   "cell_type": "code",
   "execution_count": 41,
   "metadata": {},
   "outputs": [],
   "source": [
    "#eia = pd.read_csv(os.path.join(root,'data','eia_powerstations','february_generator2020.csv'))\n",
    "eia = pd.read_csv(os.path.join(root,'data','tabula-NREL.csv'))"
   ]
  },
  {
   "cell_type": "code",
   "execution_count": 42,
   "metadata": {},
   "outputs": [],
   "source": [
    "eia.loc[~eia['Module efficiency'].isna(),'Module efficiency'] = eia.loc[~eia['Module efficiency'].isna(),'Module efficiency'].str.replace('%','').astype(float)/100"
   ]
  },
  {
   "cell_type": "code",
   "execution_count": 138,
   "metadata": {},
   "outputs": [],
   "source": [
    "eff_alpha, eff_loc, eff_beta = stats.gamma.fit(eia.loc[~eia['Module efficiency'].isna(),'Module efficiency'].values.tolist())"
   ]
  },
  {
   "cell_type": "code",
   "execution_count": 154,
   "metadata": {},
   "outputs": [],
   "source": [
    "ilr_alpha, ilr_loc, ilr_beta = stats.gamma.fit(eia.loc[(~eia['ILR'].isna()) & (eia['ILR']!=1) & (eia['ILR']<1.7),'ILR'].astype(float).values.tolist())"
   ]
  },
  {
   "cell_type": "code",
   "execution_count": 156,
   "metadata": {},
   "outputs": [],
   "source": [
    "import matplotlib.pyplot as plt"
   ]
  },
  {
   "cell_type": "code",
   "execution_count": 169,
   "metadata": {},
   "outputs": [],
   "source": [
    "from scipy.optimize import curve_fit"
   ]
  },
  {
   "cell_type": "code",
   "execution_count": 209,
   "metadata": {},
   "outputs": [],
   "source": [
    "def fitgamma(xdata, alpha, loc, beta):\n",
    "    data = sorted(stats.gamma.rvs(alpha, loc=loc, scale=beta, size=10000))\n",
    "    mean, var, skew, kurt = stats.gamma.stats(alpha, loc=loc, scale=beta, moments='mvsk')\n",
    "    return [data[2500],mean,data[5000],data[7500]]"
   ]
  },
  {
   "cell_type": "code",
   "execution_count": 212,
   "metadata": {},
   "outputs": [
    {
     "data": {
      "text/plain": [
       "(array([2.  , 0.  , 0.25]),\n",
       " array([[ 6.01146036e-13,  2.67472921e-13, -2.15498680e-15],\n",
       "        [ 2.67472921e-13,  4.78974437e-13, -9.36265190e-14],\n",
       "        [-2.15498680e-15, -9.36265190e-14,  4.17159345e-14]]))"
      ]
     },
     "execution_count": 212,
     "metadata": {},
     "output_type": "execute_result"
    }
   ],
   "source": [
    "curve_fit(fitgamma,5,[.44, .47, .51, .58], p0=[2,0,0.25])"
   ]
  },
  {
   "cell_type": "code",
   "execution_count": 189,
   "metadata": {},
   "outputs": [
    {
     "data": {
      "text/plain": [
       "0.5276334472589851"
      ]
     },
     "execution_count": 189,
     "metadata": {},
     "output_type": "execute_result"
    }
   ],
   "source": [
    "stats.gamma.cdf(.75, 1, loc=0, scale=1)"
   ]
  },
  {
   "cell_type": "code",
   "execution_count": 258,
   "metadata": {},
   "outputs": [],
   "source": [
    "targets = {'25':.44,'50':.47,'mean':.51,'75':.58}\n",
    "arr = np.zeros((50,50))\n",
    "x_off, x_step = 0.01, 0.001\n",
    "y_off, y_step = 18, 0.1\n",
    "for x in [x for x in range(50)]:\n",
    "    for y in [y for y in range(50)]:\n",
    "        loc = x_off+x*x_step\n",
    "        alpha = y_off+y*y_step\n",
    "        beta =(.51-loc)/alpha\n",
    "        mean, var, skew, kurt = stats.gamma.stats(alpha, loc=loc, scale=beta, moments='mvsk')\n",
    "        data = sorted(stats.gamma.rvs(alpha, loc=loc, scale=beta, size=10000))\n",
    "        res = {'25':data[2500],'50':data[5000],'mean':mean,'75':data[7500]}\n",
    "        err = sum([(res[kk]-targets[kk])**2 for kk in targets.keys()])\n",
    "        arr[x,y] = err\n",
    "        #print (loc, alpha, err)"
   ]
  },
  {
   "cell_type": "code",
   "execution_count": 266,
   "metadata": {},
   "outputs": [
    {
     "data": {
      "text/plain": [
       "0.0008907956589904518"
      ]
     },
     "execution_count": 266,
     "metadata": {},
     "output_type": "execute_result"
    }
   ],
   "source": [
    "arr[16,21]"
   ]
  },
  {
   "cell_type": "code",
   "execution_count": 259,
   "metadata": {},
   "outputs": [
    {
     "data": {
      "text/plain": [
       "<matplotlib.image.AxesImage at 0x7f1bf8589e48>"
      ]
     },
     "execution_count": 259,
     "metadata": {},
     "output_type": "execute_result"
    },
    {
     "data": {
      "image/png": "[encoded data removed]",
      "text/plain": [
       "<Figure size 432x288 with 1 Axes>"
      ]
     },
     "metadata": {
      "needs_background": "light"
     },
     "output_type": "display_data"
    }
   ],
   "source": [
    "plt.imshow(arr)"
   ]
  },
  {
   "cell_type": "code",
   "execution_count": 271,
   "metadata": {},
   "outputs": [
    {
     "data": {
      "text/plain": [
       "(array([16, 20]), array([21, 15]))"
      ]
     },
     "execution_count": 271,
     "metadata": {},
     "output_type": "execute_result"
    }
   ],
   "source": [
    "np.where(arr<0.0009)"
   ]
  },
  {
   "cell_type": "code",
   "execution_count": 272,
   "metadata": {},
   "outputs": [
    {
     "data": {
      "image/png": "[encoded data removed]",
      "text/plain": [
       "<Figure size 288x432 with 1 Axes>"
      ]
     },
     "metadata": {
      "needs_background": "light"
     },
     "output_type": "display_data"
    },
    {
     "name": "stdout",
     "output_type": "stream",
     "text": [
      "25 0.44 0.43298550795290325\n",
      "50 0.47 0.5040432422727469\n",
      "mean 0.51 0.51\n",
      "75 0.58 0.5777619441614498\n"
     ]
    }
   ],
   "source": [
    "fig, ax = plt.subplots(1,1,figsize=(4,6))\n",
    "alpha = 19.5 #20.1\n",
    "loc = 0.030#26\n",
    "beta =(.51-loc)/alpha\n",
    "mean, var, skew, kurt = stats.gamma.stats(alpha, loc=loc, scale=beta, moments='mvsk')\n",
    "data = sorted(stats.gamma.rvs(alpha, loc=loc, scale=beta, size=10000))\n",
    "ax.hist(data, bins=30)\n",
    "plt.show()\n",
    "targets = {'25':.44,'50':.47,'mean':.51,'75':.58}\n",
    "res = {'25':data[2500],'50':data[5000],'mean':mean,'75':data[7500]}\n",
    "for kk in targets.keys():\n",
    "    print (kk, targets[kk],res[kk])"
   ]
  },
  {
   "cell_type": "code",
   "execution_count": 64,
   "metadata": {},
   "outputs": [],
   "source": [
    "import numpy as np"
   ]
  },
  {
   "cell_type": "code",
   "execution_count": 71,
   "metadata": {},
   "outputs": [],
   "source": [
    "gdf['cap_test'] = gdf['area'] * gdf['GCR'] * gdf['gti'] * gdf['eff'] / gdf['pvout'] / gdf['ILR']"
   ]
  },
  {
   "cell_type": "code",
   "execution_count": 72,
   "metadata": {},
   "outputs": [
    {
     "data": {
      "text/plain": [
       "356009935.39428663"
      ]
     },
     "execution_count": 72,
     "metadata": {},
     "output_type": "execute_result"
    }
   ],
   "source": [
    "gdf['cap_test'].sum()"
   ]
  },
  {
   "cell_type": "code",
   "execution_count": 81,
   "metadata": {},
   "outputs": [],
   "source": [
    "bins = {\n",
    "    0:{'min':10**2,'max':10**3,'recall':.18},\n",
    "    1:{'min':10**3,'max':10**4,'recall':.25},\n",
    "    2:{'min':10**4,'max':10**5,'recall':.71},\n",
    "    3:{'min':10**5,'max':10**6,'recall':.82},\n",
    "    4:{'min':10**6,'max':10**10,'recall':.88},\n",
    "}"
   ]
  },
  {
   "cell_type": "code",
   "execution_count": 288,
   "metadata": {},
   "outputs": [
    {
     "name": "stdout",
     "output_type": "stream",
     "text": [
      "gcr,19.50, 0.03000, 0.0246154\n",
      "eff,1.82, 0.08744, 0.0323441\n",
      "ilr,26.32, 0.68294,0.0183012\n"
     ]
    }
   ],
   "source": [
    "print (f'gcr,{gcr_alpha:.2f}, {gcr_loc:.5f}, {gcr_beta:.7f}')\n",
    "print (f'eff,{eff_alpha:.2f}, {eff_loc:.5f}, {eff_beta:.7f}')\n",
    "print (f'ilr,{ilr_alpha:.2f}, {ilr_loc:.5f},{ilr_beta:.7f}')"
   ]
  },
  {
   "cell_type": "code",
   "execution_count": 273,
   "metadata": {},
   "outputs": [],
   "source": [
    "best_est = []\n",
    "simple_est = []\n",
    "\n",
    "gcr_alpha = 19.5 #20.1\n",
    "gcr_loc = 0.030#26\n",
    "gcr_beta =(.51-loc)/alpha\n",
    "\n",
    "for _ in range(1000):\n",
    "    gdf['GCR'] = stats.gamma.rvs(gcr_alpha, loc=gcr_loc, scale=gcr_beta, size=len(gdf))\n",
    "    gdf['eff'] = stats.gamma.rvs(eff_alpha, loc=eff_loc, scale=eff_beta, size=len(gdf))\n",
    "    gdf['ILR'] = stats.gamma.rvs(ilr_alpha, loc=ilr_loc, scale=ilr_beta, size=len(gdf))\n",
    "    gdf['cap_test'] = gdf['area'] * gdf['GCR'] * gdf['gti'] * gdf['eff'] / gdf['pvout'] / gdf['ILR']\n",
    "    mw_test = gdf['cap_test'].sum()/1000\n",
    "    el = 0\n",
    "    for kk, vv in bins.items():\n",
    "        #print (vv,((gdf['area']>=vv['min'])&(gdf['area']<vv['max'])).sum())\n",
    "        el += gdf.loc[((gdf['area']>=vv['min'])&(gdf['area']<vv['max'])),'cap_test'].sum()/vv['recall']\n",
    "        \n",
    "    best_est.append(el)\n",
    "    simple_est.append(mw_test)"
   ]
  },
  {
   "cell_type": "code",
   "execution_count": 86,
   "metadata": {},
   "outputs": [],
   "source": [
    "import matplotlib.pyplot as plt"
   ]
  },
  {
   "cell_type": "code",
   "execution_count": 274,
   "metadata": {},
   "outputs": [
    {
     "data": {
      "text/plain": [
       "(array([491.73178332, 503.76027381]), 497.5955790225119)"
      ]
     },
     "execution_count": 274,
     "metadata": {},
     "output_type": "execute_result"
    }
   ],
   "source": [
    "np.quantile(np.array(sorted(best_est))/1000/1000,[0.025,0.975]), (np.array(sorted(best_est))/1000/1000).mean()"
   ]
  },
  {
   "cell_type": "code",
   "execution_count": 276,
   "metadata": {},
   "outputs": [
    {
     "data": {
      "text/plain": [
       "(-5.863795702511936, 6.164694787488088)"
      ]
     },
     "execution_count": 276,
     "metadata": {},
     "output_type": "execute_result"
    }
   ],
   "source": [
    "491.73178332 - 497.5955790225119, 503.76027381 - 497.5955790225119"
   ]
  },
  {
   "cell_type": "code",
   "execution_count": 277,
   "metadata": {},
   "outputs": [
    {
     "data": {
      "text/plain": [
       "(array([376.76603617, 387.15172976]), 381.80327804035784)"
      ]
     },
     "execution_count": 277,
     "metadata": {},
     "output_type": "execute_result"
    }
   ],
   "source": [
    "np.quantile(np.array(sorted(simple_est))/1000,[0.025,0.975]), (np.array(sorted(simple_est))/1000).mean()"
   ]
  },
  {
   "cell_type": "code",
   "execution_count": 278,
   "metadata": {},
   "outputs": [
    {
     "data": {
      "text/plain": [
       "(array([  1.,   1.,   0.,   7.,  22.,  51.,  77., 117., 141., 139., 149.,\n",
       "        114.,  72.,  58.,  29.,  13.,   5.,   1.,   0.,   3.]),\n",
       " array([4.86016144e+08, 4.87215253e+08, 4.88414362e+08, 4.89613471e+08,\n",
       "        4.90812579e+08, 4.92011688e+08, 4.93210797e+08, 4.94409906e+08,\n",
       "        4.95609015e+08, 4.96808123e+08, 4.98007232e+08, 4.99206341e+08,\n",
       "        5.00405450e+08, 5.01604558e+08, 5.02803667e+08, 5.04002776e+08,\n",
       "        5.05201885e+08, 5.06400994e+08, 5.07600102e+08, 5.08799211e+08,\n",
       "        5.09998320e+08]),\n",
       " <BarContainer object of 20 artists>)"
      ]
     },
     "execution_count": 278,
     "metadata": {},
     "output_type": "execute_result"
    },
    {
     "data": {
      "image/png": "[encoded data removed]",
      "text/plain": [
       "<Figure size 432x288 with 1 Axes>"
      ]
     },
     "metadata": {
      "needs_background": "light"
     },
     "output_type": "display_data"
    }
   ],
   "source": [
    "plt.hist(best_est, bins=20)"
   ]
  },
  {
   "cell_type": "code",
   "execution_count": 279,
   "metadata": {},
   "outputs": [],
   "source": [
    "GCR_mean, var, skew, kurt = stats.gamma.stats(gcr_alpha, loc=gcr_loc, scale=gcr_beta, moments='mvsk')\n",
    "eff_mean, var, skew, kurt = stats.gamma.stats(eff_alpha, loc=eff_loc, scale=eff_beta, moments='mvsk')\n",
    "ilr_mean, var, skew, kurt = stats.gamma.stats(ilr_alpha, loc=ilr_loc, scale=ilr_beta, moments='mvsk')"
   ]
  },
  {
   "cell_type": "code",
   "execution_count": 280,
   "metadata": {},
   "outputs": [],
   "source": [
    "gdf['GCR'] = GCR_mean\n",
    "gdf['eff'] = eff_mean\n",
    "gdf['ILR'] = ilr_mean\n",
    "gdf['capacity_mw'] = gdf['area'] * gdf['GCR'] * gdf['gti'] * gdf['eff'] / gdf['pvout'] / gdf['ILR'] / 1000"
   ]
  },
  {
   "cell_type": "code",
   "execution_count": 282,
   "metadata": {},
   "outputs": [],
   "source": [
    "gdf.to_file(os.path.join(root,'data','SPV_newmw.gpkg'),driver='GPKG')"
   ]
  },
  {
   "cell_type": "code",
   "execution_count": 281,
   "metadata": {},
   "outputs": [
    {
     "data": {
      "text/plain": [
       "379.3515022996713"
      ]
     },
     "execution_count": 281,
     "metadata": {},
     "output_type": "execute_result"
    }
   ],
   "source": [
    "gdf['capacity_mw'].sum()/1000"
   ]
  },
  {
   "cell_type": "code",
   "execution_count": 14,
   "metadata": {},
   "outputs": [],
   "source": [
    "eia[eia['Technology']=='Solar Photovoltaic'].to_csv(os.path.join(root,'data','eia_powerstations','pv_only.csv'))"
   ]
  },
  {
   "cell_type": "code",
   "execution_count": 120,
   "metadata": {},
   "outputs": [
    {
     "data": {
      "text/plain": [
       "array([9, 1, 0, 3, 7])"
      ]
     },
     "execution_count": 120,
     "metadata": {},
     "output_type": "execute_result"
    }
   ],
   "source": [
    "np.random.choice(10,5, replace=False)"
   ]
  },
  {
   "cell_type": "code",
   "execution_count": 8,
   "metadata": {},
   "outputs": [
    {
     "data": {
      "text/plain": [
       "Index(['unique_id', 'area', 'confidence', 'install_date', 'install_date_ints',\n",
       "       'iso-3166-1', 'iso-3166-2', 'gti', 'pvout', 'capacity_mw', 'match_id',\n",
       "       'WDPA_proximity', 'LC_CLC300_1992', 'LC_CLC300_1993', 'LC_CLC300_1994',\n",
       "       'LC_CLC300_1995', 'LC_CLC300_1996', 'LC_CLC300_1997', 'LC_CLC300_1998',\n",
       "       'LC_CLC300_1999', 'LC_CLC300_2000', 'LC_CLC300_2001', 'LC_CLC300_2002',\n",
       "       'LC_CLC300_2003', 'LC_CLC300_2004', 'LC_CLC300_2005', 'LC_CLC300_2006',\n",
       "       'LC_CLC300_2007', 'LC_CLC300_2008', 'LC_CLC300_2009', 'LC_CLC300_2010',\n",
       "       'LC_CLC300_2011', 'LC_CLC300_2012', 'LC_CLC300_2013', 'LC_CLC300_2014',\n",
       "       'LC_CLC300_2015', 'LC_CLC300_2016', 'LC_CLC300_2017', 'LC_CLC300_2018',\n",
       "       'mean_ai', 'lc_mode', 'lc_arid', 'lc_vis', 'geometry'],\n",
       "      dtype='object')"
      ]
     },
     "execution_count": 8,
     "metadata": {},
     "output_type": "execute_result"
    }
   ],
   "source": [
    "gdf.columns"
   ]
  },
  {
   "cell_type": "code",
   "execution_count": null,
   "metadata": {},
   "outputs": [],
   "source": []
  }
 ],
 "metadata": {
  "kernelspec": {
   "display_name": "Python 3",
   "language": "python",
   "name": "python3"
  },
  "language_info": {
   "codemirror_mode": {
    "name": "ipython",
    "version": 3
   },
   "file_extension": ".py",
   "mimetype": "text/x-python",
   "name": "python",
   "nbconvert_exporter": "python",
   "pygments_lexer": "ipython3",
   "version": "3.6.10"
  }
 },
 "nbformat": 4,
 "nbformat_minor": 4
}
