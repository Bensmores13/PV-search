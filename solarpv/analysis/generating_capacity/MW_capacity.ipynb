{
 "cells": [
  {
   "cell_type": "markdown",
   "metadata": {},
   "source": [
    "# Add MW capacity and basic post-processing"
   ]
  },
  {
   "cell_type": "code",
   "execution_count": 1,
   "metadata": {},
   "outputs": [
    {
     "name": "stderr",
     "output_type": "stream",
     "text": [
      "/home/lucas/miniconda3/envs/sips/lib/python3.7/site-packages/geopandas/_compat.py:78: UserWarning: The Shapely GEOS version (3.8.0-CAPI-1.13.1 ) is incompatible with the GEOS version PyGEOS was compiled with (3.8.1-CAPI-1.13.3). Conversions between both will be slow.\n",
      "  shapely_geos_version, geos_capi_version_string\n"
     ]
    }
   ],
   "source": [
    "import os, json, geojson, sys\n",
    "from shapely import geometry\n",
    "from area import area\n",
    "\n",
    "import geopandas as gpd\n",
    "import georasters as gr\n",
    "import numpy as np\n",
    "import itertools"
   ]
  },
  {
   "cell_type": "markdown",
   "metadata": {},
   "source": [
    "### constants for MW conversion"
   ]
  },
  {
   "cell_type": "code",
   "execution_count": null,
   "metadata": {},
   "outputs": [],
   "source": [
    "GCR = 0.35 # ground coverage ratio\n",
    "ILR = 1.1 # inverter loading ratio\n",
    "EFF = 0.15 # panel efficiency"
   ]
  },
  {
   "cell_type": "markdown",
   "metadata": {},
   "source": [
    "### IO"
   ]
  },
  {
   "cell_type": "code",
   "execution_count": 3,
   "metadata": {},
   "outputs": [],
   "source": [
    "root = '/home/lucas/repos/solar-pv-global-inventory'"
   ]
  },
  {
   "cell_type": "code",
   "execution_count": 5,
   "metadata": {},
   "outputs": [],
   "source": [
    "gdf = gpd.read_file(os.path.join(root,'data','ABCD_lccapacity.geojson'))"
   ]
  },
  {
   "cell_type": "code",
   "execution_count": 6,
   "metadata": {},
   "outputs": [
    {
     "data": {
      "text/plain": [
       "Index(['area', 'confidence', 'install_date', 'install_date_ints', 'SPOT_ids_0',\n",
       "       'S2_ids_0', 'iso-3166-1', 'iso-3166-2', 'land_cover_CORINE_2006',\n",
       "       'land_cover_CORINE_2012', 'land_cover_CORINE_2018',\n",
       "       'land_cover_MODIS_2006', 'land_cover_MODIS_2007',\n",
       "       'land_cover_MODIS_2008', 'land_cover_MODIS_2009',\n",
       "       'land_cover_MODIS_2010', 'land_cover_MODIS_2011',\n",
       "       'land_cover_MODIS_2012', 'land_cover_MODIS_2013',\n",
       "       'land_cover_MODIS_2014', 'land_cover_MODIS_2015',\n",
       "       'land_cover_MODIS_2016', 'land_cover_MODIS_2017',\n",
       "       'land_cover_MODIS_2018', 'SPOT_ids_1', 'SPOT_ids_2', 'S2_ids_1',\n",
       "       'SPOT_ids_3', 'SPOT_ids_4', 'SPOT_ids_5', 'SPOT_ids_6', 'SPOT_ids_7',\n",
       "       'SPOT_ids_8', 'land_cover_CDL_2006', 'land_cover_CDL_2007',\n",
       "       'land_cover_CDL_2008', 'land_cover_CDL_2009', 'land_cover_CDL_2010',\n",
       "       'land_cover_CDL_2011', 'land_cover_CDL_2012', 'land_cover_CDL_2013',\n",
       "       'land_cover_CDL_2014', 'land_cover_CDL_2015', 'land_cover_CDL_2016',\n",
       "       'land_cover_CDL_2017', 'land_cover_CDL_2018', 'SPOT_ids_9',\n",
       "       'SPOT_ids_10', 'SPOT_ids_11', 'SPOT_ids_12', 'gti', 'pvout',\n",
       "       'capacity_mw', 'geometry'],\n",
       "      dtype='object')"
      ]
     },
     "execution_count": 6,
     "metadata": {},
     "output_type": "execute_result"
    }
   ],
   "source": [
    "gdf.columns"
   ]
  },
  {
   "cell_type": "code",
   "execution_count": null,
   "metadata": {},
   "outputs": [],
   "source": []
  },
  {
   "cell_type": "code",
   "execution_count": null,
   "metadata": {},
   "outputs": [],
   "source": [
    "rast_pvout = gr.load_tiff(os.path.join(root,'data','irradiance_maps','PVOUT.tif'))"
   ]
  },
  {
   "cell_type": "code",
   "execution_count": null,
   "metadata": {},
   "outputs": [],
   "source": [
    "rast_gti = gr.load_tiff(os.path.join(root,'data','irradiance_maps','GTI.tif'))"
   ]
  },
  {
   "cell_type": "code",
   "execution_count": null,
   "metadata": {},
   "outputs": [],
   "source": [
    "NDV, xsize, ysize, GeoT, Projection, DataType = gr.get_geo_info(os.path.join(root,'data','irradiance_maps','PVOUT.tif'))\n",
    "meta_pvout = {'NVD':NDV, 'xsize':xsize,'ysize':ysize,'GeoT':GeoT,'Projection':Projection,'DataType':DataType}"
   ]
  },
  {
   "cell_type": "code",
   "execution_count": null,
   "metadata": {},
   "outputs": [],
   "source": [
    "NDV, xsize, ysize, GeoT, Projection, DataType = gr.get_geo_info(os.path.join(root,'data','irradiance_maps','GTI.tif'))\n",
    "meta_gti = {'NVD':NDV, 'xsize':xsize,'ysize':ysize,'GeoT':GeoT,'Projection':Projection,'DataType':DataType}"
   ]
  },
  {
   "cell_type": "markdown",
   "metadata": {},
   "source": [
    "### Remap Area"
   ]
  },
  {
   "cell_type": "code",
   "execution_count": null,
   "metadata": {},
   "outputs": [],
   "source": [
    "gdf['area'] = gdf.apply(lambda row: area(geometry.mapping(row['geometry'])), axis=1)"
   ]
  },
  {
   "cell_type": "markdown",
   "metadata": {},
   "source": [
    "### Drop Tinies"
   ]
  },
  {
   "cell_type": "code",
   "execution_count": null,
   "metadata": {},
   "outputs": [],
   "source": [
    "gdf = gdf[gdf['area']>1]"
   ]
  },
  {
   "cell_type": "markdown",
   "metadata": {},
   "source": [
    "### map GTI and PVOUT"
   ]
  },
  {
   "cell_type": "markdown",
   "metadata": {},
   "source": [
    "**GTI** -> solar irradiance in kWh/m^2\n",
    "\n",
    "**PVOUT** -> unit kWh production in kWh/kWp_dc"
   ]
  },
  {
   "cell_type": "code",
   "execution_count": null,
   "metadata": {},
   "outputs": [],
   "source": [
    "def _map_gti(el):\n",
    "    pt = el.geometry.representative_point()\n",
    "    x = pt.x\n",
    "    y = pt.y\n",
    "    col, row = gr.map_pixel(x,y,meta_gti['GeoT'][1],meta_gti['GeoT'][-1], meta_gti['GeoT'][0],meta_gti['GeoT'][3])\n",
    "    val = rast_gti[col,row]\n",
    "    if not val==np.nan:\n",
    "        return val\n",
    "    else:\n",
    "        ii=1\n",
    "        while val==np.nan:\n",
    "            print (ii),\n",
    "            new_inds = list(itertools.product([col-1,col,col+1],[row-1,row,row+1]))\n",
    "            vals = [rast_gti[c,r] for c,r in new_inds]\n",
    "            val = np.nanmean(vals)\n",
    "            ii+=1\n",
    "        \n",
    "        return val"
   ]
  },
  {
   "cell_type": "code",
   "execution_count": null,
   "metadata": {},
   "outputs": [],
   "source": [
    "def _map_pvout(el):\n",
    "    pt = el.geometry.representative_point()\n",
    "    x = pt.x\n",
    "    y = pt.y\n",
    "    col, row = gr.map_pixel(x,y,meta_gti['GeoT'][1],meta_gti['GeoT'][-1], meta_gti['GeoT'][0],meta_gti['GeoT'][3])\n",
    "    val = rast_pvout[col,row]\n",
    "    if not val==np.nan:\n",
    "        return val\n",
    "    else:\n",
    "        ii=1\n",
    "        while val==np.nan:\n",
    "            print (ii),\n",
    "            new_inds = list(itertools.product([col-1,col,col+1],[row-1,row,row+1]))\n",
    "            vals = [rast_pvout[c,r] for c,r in new_inds]\n",
    "            val = np.nanmean(vals)\n",
    "            ii+=1\n",
    "        \n",
    "        return val"
   ]
  },
  {
   "cell_type": "code",
   "execution_count": null,
   "metadata": {},
   "outputs": [],
   "source": [
    "gdf['gti'] = gdf.apply(lambda el: _map_gti(el), axis=1)"
   ]
  },
  {
   "cell_type": "code",
   "execution_count": null,
   "metadata": {},
   "outputs": [],
   "source": [
    "gdf['gti'] = gdf['gti'] * 365.25"
   ]
  },
  {
   "cell_type": "code",
   "execution_count": null,
   "metadata": {},
   "outputs": [],
   "source": [
    "gdf['pvout'] = gdf.apply(lambda el: _map_pvout(el), axis=1)"
   ]
  },
  {
   "cell_type": "code",
   "execution_count": null,
   "metadata": {},
   "outputs": [],
   "source": [
    "gdf['pvout'] = gdf['pvout'] * 365.25"
   ]
  },
  {
   "cell_type": "code",
   "execution_count": null,
   "metadata": {},
   "outputs": [],
   "source": [
    "gdf['capacity_mw'] = gdf['area'] * gdf['gti'] * GCR / gdf['pvout'] / ILR * EFF / 1000"
   ]
  },
  {
   "cell_type": "code",
   "execution_count": null,
   "metadata": {},
   "outputs": [],
   "source": [
    "for test_GCR in [0.3,0.35,0.4]:\n",
    "    \n",
    "    test_MW = gdf['area'] * gdf['gti'] * test_GCR / gdf['pvout'] / ILR * EFF / 1000\n",
    "    print (test_GCR, test_MW.sum(), test_MW.sum()/gdf['capacity_mw'].sum())\n",
    "for test_ILR in [1.05,1.1,1.15]:\n",
    "    test_MW = gdf['area'] * gdf['gti'] * GCR / gdf['pvout'] / test_ILR * EFF / 1000\n",
    "    print (test_ILR, test_MW.sum(), test_MW.sum()/gdf['capacity_mw'].sum())\n",
    "for test_EFF in [0.12,0.15,0.18]:\n",
    "    test_MW = gdf['area'] * gdf['gti'] * GCR / gdf['pvout'] / ILR * test_EFF / 1000\n",
    "    print (test_EFF, test_MW.sum(), test_MW.sum()/gdf['capacity_mw'].sum())"
   ]
  },
  {
   "cell_type": "code",
   "execution_count": null,
   "metadata": {},
   "outputs": [],
   "source": [
    "1.142*1.048*1.2"
   ]
  },
  {
   "cell_type": "code",
   "execution_count": null,
   "metadata": {},
   "outputs": [],
   "source": [
    "0.857*0.957*0.8"
   ]
  },
  {
   "cell_type": "code",
   "execution_count": null,
   "metadata": {},
   "outputs": [],
   "source": [
    "-> +- 44%"
   ]
  },
  {
   "cell_type": "code",
   "execution_count": null,
   "metadata": {},
   "outputs": [],
   "source": []
  },
  {
   "cell_type": "code",
   "execution_count": null,
   "metadata": {},
   "outputs": [],
   "source": [
    "gdf['capacity_mw'] = gdf['area'] * gdf['gti'] * GCR / gdf['pvout'] / ILR * EFF / 1000 # m^2 * kwh/m^2 * GCR / (kwh/kwp) / ILR\n",
    "gdf['capacity_mw_big'] = gdf['area'] * gdf['gti'] * .40 / gdf['pvout'] / 1.05 * .18 / 1000 # m^2 * kwh/m^2 * GCR / (kwh/kwp) / ILR\n",
    "gdf['capacity_mw_small'] = gdf['area'] * gdf['gti'] * .30 / gdf['pvout'] / 1.15 * .12 / 1000 # m^2 * kwh/m^2 * GCR / (kwh/kwp) / ILR"
   ]
  },
  {
   "cell_type": "code",
   "execution_count": null,
   "metadata": {},
   "outputs": [],
   "source": [
    "gdf['big_capacity_mw'] = gdf['area'] * gdf['gti'] * 0.5 / gdf['pvout'] / 1.05 * .18 / 1000 # m^2 * kwh/m^2 * GCR / (kwh/kwp) / ILR"
   ]
  },
  {
   "cell_type": "code",
   "execution_count": null,
   "metadata": {},
   "outputs": [],
   "source": [
    "gdf['dummy_mw'] = gdf['area']*44.2 /1000 /1000"
   ]
  },
  {
   "cell_type": "code",
   "execution_count": null,
   "metadata": {},
   "outputs": [],
   "source": [
    "gdf[['iso-3166-1','capacity_mw', 'capacity_mw_big','capacity_mw_small']].groupby('iso-3166-1').sum().sort_values('capacity_mw', ascending=False).head(21)"
   ]
  },
  {
   "cell_type": "code",
   "execution_count": null,
   "metadata": {},
   "outputs": [],
   "source": [
    "gdf['capacity_mw'].sum()"
   ]
  },
  {
   "cell_type": "code",
   "execution_count": null,
   "metadata": {},
   "outputs": [],
   "source": [
    "gdf['dummy_mw'].sum()"
   ]
  },
  {
   "cell_type": "code",
   "execution_count": null,
   "metadata": {},
   "outputs": [],
   "source": [
    "for iso2 in ['CN','JP','US','DE','IT']:\n",
    "    print (iso2,gdf[gdf['iso-3166-1']==iso2].capacity_mw.sum())"
   ]
  },
  {
   "cell_type": "code",
   "execution_count": null,
   "metadata": {},
   "outputs": [],
   "source": [
    "for iso2 in ['CN','JP','US','DE','IT']:\n",
    "    print (iso2,gdf[gdf['iso-3166-1']==iso2].big_capacity_mw.sum())"
   ]
  },
  {
   "cell_type": "code",
   "execution_count": null,
   "metadata": {},
   "outputs": [],
   "source": [
    "for iso2 in ['CN','JP','US','DE','IT']:\n",
    "    print (iso2,gdf[gdf['iso-3166-1']==iso2].dummy_mw.sum())"
   ]
  },
  {
   "cell_type": "code",
   "execution_count": null,
   "metadata": {},
   "outputs": [],
   "source": [
    "125.0 / 173.5, 12.4/ 46.5, 40.0/40.2, 11.7/38.7, 8.7/15.9"
   ]
  },
  {
   "cell_type": "markdown",
   "metadata": {},
   "source": [
    "### Example"
   ]
  },
  {
   "cell_type": "code",
   "execution_count": null,
   "metadata": {},
   "outputs": [],
   "source": [
    "for ii in range(20):\n",
    "    row=ii//2\n",
    "    col = int(2*(ii%2)) #+ ii%2\n",
    "    print (row, col)\n",
    "    print (row, col+1)"
   ]
  },
  {
   "cell_type": "code",
   "execution_count": null,
   "metadata": {},
   "outputs": [],
   "source": []
  },
  {
   "cell_type": "code",
   "execution_count": null,
   "metadata": {},
   "outputs": [],
   "source": []
  },
  {
   "cell_type": "code",
   "execution_count": null,
   "metadata": {},
   "outputs": [],
   "source": [
    "mean_pvout = rast_pvout[rast_pvout>0].mean()"
   ]
  },
  {
   "cell_type": "code",
   "execution_count": null,
   "metadata": {},
   "outputs": [],
   "source": [
    "mean_pvout"
   ]
  },
  {
   "cell_type": "code",
   "execution_count": null,
   "metadata": {},
   "outputs": [],
   "source": [
    "mean_gti = rast_gti[rast_gti>0].mean()"
   ]
  },
  {
   "cell_type": "code",
   "execution_count": null,
   "metadata": {},
   "outputs": [],
   "source": [
    "mean_gti"
   ]
  },
  {
   "cell_type": "code",
   "execution_count": null,
   "metadata": {},
   "outputs": [],
   "source": [
    "10000 * mean_gti*365.25 * GCR / mean_pvout/365.25 / ILR * EFF "
   ]
  },
  {
   "cell_type": "code",
   "execution_count": null,
   "metadata": {},
   "outputs": [],
   "source": [
    "10000*44.2/1000"
   ]
  },
  {
   "cell_type": "code",
   "execution_count": null,
   "metadata": {},
   "outputs": [],
   "source": [
    "45.2-6.5"
   ]
  },
  {
   "cell_type": "markdown",
   "metadata": {},
   "source": [
    "### IO"
   ]
  },
  {
   "cell_type": "code",
   "execution_count": null,
   "metadata": {},
   "outputs": [],
   "source": [
    "gdf = gdf.drop(columns=['dummy_mw','big_capacity_mw'])"
   ]
  },
  {
   "cell_type": "code",
   "execution_count": null,
   "metadata": {},
   "outputs": [],
   "source": [
    "gdf.to_file(os.path.join(root,'data','ABCD_lccapacity.geojson'), driver='GeoJSON')"
   ]
  },
  {
   "cell_type": "code",
   "execution_count": null,
   "metadata": {},
   "outputs": [],
   "source": []
  }
 ],
 "metadata": {
  "kernelspec": {
   "display_name": "Python 3",
   "language": "python",
   "name": "python3"
  },
  "language_info": {
   "codemirror_mode": {
    "name": "ipython",
    "version": 3
   },
   "file_extension": ".py",
   "mimetype": "text/x-python",
   "name": "python",
   "nbconvert_exporter": "python",
   "pygments_lexer": "ipython3",
   "version": "3.6.10"
  }
 },
 "nbformat": 4,
 "nbformat_minor": 4
}
