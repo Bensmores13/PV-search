{
 "cells": [
  {
   "cell_type": "code",
   "execution_count": 2,
   "metadata": {},
   "outputs": [],
   "source": [
    "import geojson\n",
    "import geopandas as gpd\n",
    "import descarteslabs as dl\n",
    "import pandas as pd\n",
    "from shapely import geometry\n",
    "from shapely.ops import cascaded_union\n",
    "import numpy as np\n",
    "import json\n",
    "import yaml\n",
    "import pickle\n",
    "import matplotlib.pyplot as plt\n",
    "gpd.options.use_pygeos=False"
   ]
  },
  {
   "cell_type": "markdown",
   "metadata": {},
   "source": [
    "- Combine airbus and cv polygons\n",
    "- get S2-shaped tiles for all polygons\n",
    "- filter those tiles for only those within airbus tiles"
   ]
  },
  {
   "cell_type": "code",
   "execution_count": 13,
   "metadata": {},
   "outputs": [],
   "source": [
    "cv_tiles = gpd.read_file('../../data/cv_all_tiles.geojson')\n",
    "cv_polys = gpd.read_file('../../data/cv_all_polys.geojson')"
   ]
  },
  {
   "cell_type": "code",
   "execution_count": 14,
   "metadata": {},
   "outputs": [],
   "source": [
    "cv_polys_mp = geometry.MultiPolygon([geom for geom in cv_polys.unary_union.geoms])"
   ]
  },
  {
   "cell_type": "code",
   "execution_count": 15,
   "metadata": {},
   "outputs": [],
   "source": [
    "cv_tiles_mp =geometry.MultiPolygon([geom for geom in cv_tiles.unary_union.geoms])"
   ]
  },
  {
   "cell_type": "markdown",
   "metadata": {},
   "source": [
    "### Download pipeline interim features"
   ]
  },
  {
   "cell_type": "code",
   "execution_count": 3,
   "metadata": {},
   "outputs": [],
   "source": [
    "config = yaml.safe_load(open('../../cloud_products_exec.yaml','r'))"
   ]
  },
  {
   "cell_type": "code",
   "execution_count": 8,
   "metadata": {},
   "outputs": [
    {
     "name": "stdout",
     "output_type": "stream",
     "text": [
      "ba611607613832ad7bb8fa9dc2bafb71f693bd6a:v1-solar-pv-20190521-combined-final\n",
      "ba611607613832ad7bb8fa9dc2bafb71f693bd6a:solar_pv_S2_v3_20190306_primary\n",
      "ba611607613832ad7bb8fa9dc2bafb71f693bd6a:solar_pv:s2:v3_20190327:secondary\n",
      "ba611607613832ad7bb8fa9dc2bafb71f693bd6a:V1-solar_pv-S2-20190308-primary_pass\n",
      "ba611607613832ad7bb8fa9dc2bafb71f693bd6a:V2-solar_pv-S2-20190327-secondary_filter\n",
      "ba611607613832ad7bb8fa9dc2bafb71f693bd6a:V3-solar_pv-S2-20190328-deepstack\n",
      "ba611607613832ad7bb8fa9dc2bafb71f693bd6a:v4-solar_pv-s2-20190322_final\n",
      "8514dad6c277e007cedb6fb8e829a23c8975fca4:solar_pv:airbus:spot:v5_0111\n",
      "ba611607613832ad7bb8fa9dc2bafb71f693bd6a:v1b-solar-pv-spot\n",
      "ba611607613832ad7bb8fa9dc2bafb71f693bd6a:v1-solar_pv-spot-20200317-postfilter\n"
     ]
    }
   ],
   "source": [
    "for kk in config.keys():\n",
    "    print (config[kk]['cloud_id'])"
   ]
  },
  {
   "cell_type": "code",
   "execution_count": 4,
   "metadata": {},
   "outputs": [],
   "source": [
    "vector_keys = [kk for kk in config.keys() if kk.split('-')[1][0]=='V']"
   ]
  },
  {
   "cell_type": "code",
   "execution_count": 5,
   "metadata": {},
   "outputs": [],
   "source": [
    "vector_keys=vector_keys[1:]"
   ]
  },
  {
   "cell_type": "code",
   "execution_count": 6,
   "metadata": {},
   "outputs": [
    {
     "data": {
      "text/plain": [
       "['S2-V1-Primary',\n",
       " 'S2-V2-Secondary',\n",
       " 'S2-V3-Deepstack',\n",
       " 'S2-V4-Final',\n",
       " 'SPOT-V1-Vectorised',\n",
       " 'SPOT-V2-Filtered']"
      ]
     },
     "execution_count": 6,
     "metadata": {},
     "output_type": "execute_result"
    }
   ],
   "source": [
    "vector_keys"
   ]
  },
  {
   "cell_type": "code",
   "execution_count": 55,
   "metadata": {},
   "outputs": [
    {
     "name": "stdout",
     "output_type": "stream",
     "text": [
      "S2-V1-Primary 2365\n",
      "S2-V2-Secondary 2311\n",
      "S2-V3-Deepstack 882\n",
      "S2-V4-Final 449\n",
      "SPOT-V1-Vectorised 1095\n",
      "SPOT-V2-Filtered 398\n"
     ]
    }
   ],
   "source": [
    "for kk in vector_keys:\n",
    "    fc = dl.vectors.FeatureCollection(config[kk]['cloud_id'])\n",
    "    fts = [geojson.Feature(geometry=f.geometry, properties=f.properties) for f in fc.filter(cv_tiles_mp).features()]\n",
    "    print (kk, len(fts))\n",
    "    json.dump(geojson.FeatureCollection(fts),open('../data/crossvalidation/'+kk+'.geojson','w'))"
   ]
  },
  {
   "cell_type": "markdown",
   "metadata": {},
   "source": [
    "### Get final product"
   ]
  },
  {
   "cell_type": "code",
   "execution_count": 5,
   "metadata": {},
   "outputs": [],
   "source": [
    "final_polys=gpd.read_file('../data/ABCD_simplified.geojson')"
   ]
  },
  {
   "cell_type": "code",
   "execution_count": 7,
   "metadata": {},
   "outputs": [],
   "source": [
    "final_polys = final_polys[final_polys.intersects(cv_mp)]"
   ]
  },
  {
   "cell_type": "code",
   "execution_count": 45,
   "metadata": {},
   "outputs": [],
   "source": [
    "final_polys.to_file('../data/crossvalidation/compile_final.geojson',driver='GeoJSON')"
   ]
  },
  {
   "cell_type": "markdown",
   "metadata": {},
   "source": [
    "### Load downloaded features"
   ]
  },
  {
   "cell_type": "code",
   "execution_count": 7,
   "metadata": {},
   "outputs": [],
   "source": [
    "gdfs = {}\n",
    "for kk in vector_keys:\n",
    "    gdfs[kk] = gpd.read_file('../../data/crossvalidation/'+kk+'.geojson')\n",
    "gdfs['compiled_final']=gpd.read_file('../../data/crossvalidation/compile_final.geojson')"
   ]
  },
  {
   "cell_type": "markdown",
   "metadata": {},
   "source": [
    "#### Get Area"
   ]
  },
  {
   "cell_type": "code",
   "execution_count": 16,
   "metadata": {},
   "outputs": [],
   "source": [
    "cv_polys['geoarea'] = cv_polys.to_crs({'init': 'epsg:3857'}).area"
   ]
  },
  {
   "cell_type": "code",
   "execution_count": 8,
   "metadata": {},
   "outputs": [
    {
     "name": "stderr",
     "output_type": "stream",
     "text": [
      "/home/lucas/miniconda3/envs/sips/lib/python3.7/site-packages/pyproj/crs/crs.py:53: FutureWarning: '+init=<authority>:<code>' syntax is deprecated. '<authority>:<code>' is the preferred initialization method. When making the change, be mindful of axis order changes: https://pyproj4.github.io/pyproj/stable/gotchas.html#axis-order-changes-in-proj-6\n",
      "  return _prepare_from_string(\" \".join(pjargs))\n"
     ]
    }
   ],
   "source": [
    "for kk in gdfs.keys():\n",
    "    gdfs[kk]['geoarea'] = gdfs[kk].to_crs({'init': 'epsg:3857'}).area"
   ]
  },
  {
   "cell_type": "markdown",
   "metadata": {},
   "source": [
    "#### Some filters on S2: >30m^2; cascade-union-reset"
   ]
  },
  {
   "cell_type": "code",
   "execution_count": 30,
   "metadata": {},
   "outputs": [
    {
     "data": {
      "text/plain": [
       "<matplotlib.axes._subplots.AxesSubplot at 0x7ff837e7d6d0>"
      ]
     },
     "execution_count": 30,
     "metadata": {},
     "output_type": "execute_result"
    },
    {
     "data": {
      "image/png": "[encoded data removed]",
      "text/plain": [
       "<Figure size 432x288 with 1 Axes>"
      ]
     },
     "metadata": {},
     "output_type": "display_data"
    }
   ],
   "source": [
    "np.log10(gdfs['S2-V2-Secondary']['geoarea']).hist(bins=50)"
   ]
  },
  {
   "cell_type": "code",
   "execution_count": 31,
   "metadata": {},
   "outputs": [],
   "source": [
    "res = np.histogram(np.log10(gdfs['S2-V2-Secondary']['geoarea']), bins=50)"
   ]
  },
  {
   "cell_type": "code",
   "execution_count": 32,
   "metadata": {},
   "outputs": [
    {
     "name": "stdout",
     "output_type": "stream",
     "text": [
      "[(5.674730474538771, 11), (7.640726897427891, 191), (10.287837948078597, 371), (13.852034114915817, 137), (18.651037282000335, 46), (25.112643299079867, 0), (33.812856836409885, 0), (45.52723796628138, 65), (61.30003764149516, 90), (82.53728499039997, 51), (111.13212447646303, 45), (149.6335758086609, 34), (201.4737603079688, 50), (271.27384928993587, 46), (365.25600751230024, 50), (491.7980534173634, 25), (662.180280051828, 24), (891.5910102584322, 33), (1200.4805239917946, 32), (1616.3840504245206, 26), (2176.376331187056, 25), (2930.376561008026, 46), (3945.59831691497, 38), (5312.541154467555, 45), (7153.057977776832, 36), (9631.217330035897, 48), (12967.92889790243, 58), (17460.63598592121, 47), (23509.830400300918, 52), (31654.75334899443, 61), (42621.464830850105, 53), (57387.5665464661, 49), (77269.34790240515, 55), (104039.12353433961, 49), (140083.22212664405, 72), (188614.7100701572, 47), (253959.8127082406, 41), (341943.56551943894, 33), (460409.0732043322, 30), (619916.6648065532, 28), (834685.269406774, 19), (1123859.929111705, 13), (1513218.4388022684, 4), (2037469.2470271166, 4), (2743345.459011872, 8), (3693770.7494050395, 4), (4973468.545253743, 13), (6696514.496632636, 3), (9016505.482156029, 0), (12140251.641451763, 3)]\n"
     ]
    }
   ],
   "source": [
    "print (list(zip(10**res[1],res[0])))"
   ]
  },
  {
   "cell_type": "code",
   "execution_count": 9,
   "metadata": {},
   "outputs": [
    {
     "name": "stdout",
     "output_type": "stream",
     "text": [
      "S2-V1-Primary 1103\n",
      "S2-V2-Secondary 986\n",
      "S2-V3-Deepstack 546\n",
      "S2-V4-Final 309\n"
     ]
    }
   ],
   "source": [
    "for key in ['S2-V1-Primary','S2-V2-Secondary', 'S2-V3-Deepstack', 'S2-V4-Final']:\n",
    "    gdfs[key] = gdfs[key][gdfs[key]['geoarea']>30]\n",
    "    mp = cascaded_union( gdfs[key].geometry.values)\n",
    "    print (key, len(list(mp)))\n",
    "    gdfs[key] = gpd.GeoDataFrame(geometry=list(mp), crs={'init': 'epsg:4326'})\n",
    "    gdfs[key]['geoarea'] = gdfs[key].to_crs({'init': 'epsg:3857'}).area"
   ]
  },
  {
   "cell_type": "markdown",
   "metadata": {},
   "source": [
    "### precision / recall"
   ]
  },
  {
   "cell_type": "code",
   "execution_count": 35,
   "metadata": {},
   "outputs": [],
   "source": [
    "area_bins = [30,1e2,1e3,1e4,1e5,1e6,1e10]"
   ]
  },
  {
   "cell_type": "code",
   "execution_count": 37,
   "metadata": {},
   "outputs": [],
   "source": [
    "area_bins = [1e4, 1e10]"
   ]
  },
  {
   "cell_type": "code",
   "execution_count": 38,
   "metadata": {},
   "outputs": [],
   "source": [
    "res_dict= {}"
   ]
  },
  {
   "cell_type": "code",
   "execution_count": 39,
   "metadata": {},
   "outputs": [
    {
     "name": "stdout",
     "output_type": "stream",
     "text": [
      "S2-V1-Primary 10000.0 {'P': 0.8069815195071869, 'P_TP': 393, 'P_FP': 94, 'R': 0.9435707678075855, 'R_TP': 1020, 'R_FN': 61}\n",
      "S2-V2-Secondary 10000.0 {'P': 0.8045267489711934, 'P_TP': 391, 'P_FP': 95, 'R': 0.938945420906568, 'R_TP': 1015, 'R_FN': 66}\n",
      "S2-V3-Deepstack 10000.0 {'P': 0.8459657701711492, 'P_TP': 346, 'P_FP': 63, 'R': 0.8825161887141536, 'R_TP': 954, 'R_FN': 127}\n",
      "S2-V4-Final 10000.0 {'P': 0.9417808219178082, 'P_TP': 275, 'P_FP': 17, 'R': 0.782608695652174, 'R_TP': 846, 'R_FN': 235}\n",
      "SPOT-V1-Vectorised 10000.0 {'P': 0.7962616822429907, 'P_TP': 426, 'P_FP': 109, 'R': 0.6623496762257169, 'R_TP': 716, 'R_FN': 365}\n",
      "SPOT-V2-Filtered 10000.0 {'P': 0.8817204301075269, 'P_TP': 164, 'P_FP': 22, 'R': 0.28862164662349676, 'R_TP': 312, 'R_FN': 769}\n",
      "compiled_final 10000.0 {'P': 0.9366812227074236, 'P_TP': 429, 'P_FP': 29, 'R': 0.7641073080481036, 'R_TP': 826, 'R_FN': 255}\n"
     ]
    }
   ],
   "source": [
    "\n",
    "for kk,gdf in gdfs.items():\n",
    "    res_dict[kk] = {}\n",
    "    pipe_mp = geometry.MultiPolygon([geom for geom in gdf.unary_union.geoms])\n",
    "    for ii_a in range(len(area_bins)-1):\n",
    "        res_dict[kk][ii_a] = {}\n",
    "        # precision = TP/(TP+FP)\n",
    "        bin_slice = gdf[(gdf.geoarea>=area_bins[ii_a]) & (gdf.geoarea<area_bins[ii_a+1])]\n",
    "        intersects = bin_slice.intersects(cv_polys_mp)\n",
    "        TP = np.sum(intersects)\n",
    "        FP = np.sum(~intersects)\n",
    "        res_dict[kk][ii_a]['P']=TP/(TP+FP)\n",
    "        res_dict[kk][ii_a]['P_TP'] = TP\n",
    "        res_dict[kk][ii_a]['P_FP'] = FP\n",
    "        \n",
    "        # recall = TP / (TP+FN)\n",
    "        cv_slice = cv_polys[(cv_polys.geoarea>=area_bins[ii_a])&(cv_polys.geoarea<area_bins[ii_a+1])]\n",
    "        intersects = cv_slice.intersects(pipe_mp)\n",
    "        TP = np.sum(intersects)\n",
    "        FN = np.sum(~intersects)\n",
    "        res_dict[kk][ii_a]['R']=TP/(TP+FN)\n",
    "        res_dict[kk][ii_a]['R_TP'] = TP\n",
    "        res_dict[kk][ii_a]['R_FN'] = FN\n",
    "        \n",
    "        \n",
    "        print (kk,area_bins[ii_a],res_dict[kk][ii_a])\n"
   ]
  },
  {
   "cell_type": "code",
   "execution_count": 40,
   "metadata": {},
   "outputs": [],
   "source": [
    "pickle.dump(res_dict, open('./res_dict_gt10k.pickle','wb'))"
   ]
  },
  {
   "cell_type": "code",
   "execution_count": 18,
   "metadata": {},
   "outputs": [],
   "source": [
    "crs ={'init': 'epsg:4326'}"
   ]
  },
  {
   "cell_type": "markdown",
   "metadata": {},
   "source": [
    "**IOU**"
   ]
  },
  {
   "cell_type": "code",
   "execution_count": 19,
   "metadata": {},
   "outputs": [
    {
     "name": "stdout",
     "output_type": "stream",
     "text": [
      "S2-V1-Primary 10000.0 {'iou': 0.6601138239508704}\n",
      "S2-V2-Secondary 10000.0 {'iou': 0.6620037659918535}\n",
      "S2-V3-Deepstack 10000.0 {'iou': 0.6349789967074572}\n",
      "S2-V4-Final 10000.0 {'iou': 0.6231999621351502}\n",
      "SPOT-V1-Vectorised 10000.0 {'iou': 0.3695013576278666}\n",
      "SPOT-V2-Filtered 10000.0 {'iou': 0.1565628288469313}\n",
      "compiled_final 10000.0 {'iou': 0.6646446098512562}\n"
     ]
    }
   ],
   "source": [
    "# iou\n",
    "iou_dict = {}\n",
    "for kk,gdf in gdfs.items():\n",
    "    iou_dict[kk] = {}\n",
    "    #pipe_mp = geometry.MultiPolygon([geom for geom in gdf.unary_union.geoms])\n",
    "    for ii_a in range(len(area_bins)-1):\n",
    "        iou_dict[kk][ii_a] = {}\n",
    "        # iou = intersection / union\n",
    "        bindf_slice = gdf[(gdf.geoarea>=area_bins[ii_a]) & (gdf.geoarea<area_bins[ii_a+1])]\n",
    "        bindf_mp = geometry.MultiPolygon([geom for geom in bindf_slice.unary_union.geoms])\n",
    "        cv_slice = cv_polys[(cv_polys.geoarea>=area_bins[ii_a])&(cv_polys.geoarea<area_bins[ii_a+1])]\n",
    "        cv_mp = geometry.MultiPolygon([geom for geom in cv_slice.unary_union.geoms])\n",
    "        \n",
    "        intersection=bindf_mp.intersection(cv_mp)\n",
    "        union=bindf_mp.union(cv_mp)\n",
    "        \n",
    "\n",
    "        if not intersection.is_empty:\n",
    "            #print (intersection)\n",
    "        \n",
    "            if intersection.type=='Polygon':\n",
    "                \n",
    "                i_gdf = gpd.GeoDataFrame(geometry=[intersection], crs=crs)\n",
    "            else:\n",
    "                i_gdf = gpd.GeoDataFrame(geometry=list(intersection), crs=crs)\n",
    "\n",
    "            if union.type=='Polygon':\n",
    "                u_gdf = gpd.GeoDataFrame(geometry=list(union), crs=crs)\n",
    "            else:\n",
    "                u_gdf = gpd.GeoDataFrame(geometry=list(union), crs=crs)\n",
    "\n",
    "            i_gdf['geoarea'] = i_gdf.to_crs({'init': 'epsg:3857'}).area\n",
    "            u_gdf['geoarea'] = u_gdf.to_crs({'init': 'epsg:3857'}).area\n",
    "\n",
    "            iou_dict[kk][ii_a]['iou'] = i_gdf['geoarea'].sum() / u_gdf['geoarea'].sum()\n",
    "            \n",
    "        else:\n",
    "            iou_dict[kk][ii_a]['iou'] = 0\n",
    "        \n",
    "        \n",
    "        print (kk,area_bins[ii_a],iou_dict[kk][ii_a])"
   ]
  },
  {
   "cell_type": "code",
   "execution_count": 20,
   "metadata": {},
   "outputs": [
    {
     "name": "stdout",
     "output_type": "stream",
     "text": [
      "S2-V1-Primary 10000.0 {'iou': 0.6601138239508704, 'iou_neg': 0.6563951137408393}\n",
      "S2-V2-Secondary 10000.0 {'iou': 0.6620037659918535, 'iou_neg': 0.6582870498190418}\n",
      "S2-V3-Deepstack 10000.0 {'iou': 0.6349789967074572, 'iou_neg': 0.6314677164262166}\n",
      "S2-V4-Final 10000.0 {'iou': 0.6231999621351502, 'iou_neg': 0.6181659415927192}\n",
      "SPOT-V1-Vectorised 10000.0 {'iou': 0.3695013576278666, 'iou_neg': 0.36967683216591196}\n",
      "SPOT-V2-Filtered 10000.0 {'iou': 0.1565628288469313, 'iou_neg': 0.15876753036408528}\n",
      "compiled_final 10000.0 {'iou': 0.6646446098512562, 'iou_neg': 0.660817667864235}\n"
     ]
    }
   ],
   "source": [
    "for kk,gdf in gdfs.items():\n",
    "    #pipe_mp = geometry.MultiPolygon([geom for geom in gdf.unary_union.geoms])\n",
    "    for ii_a in range(len(area_bins)-1):\n",
    "        # iou = intersection / union\n",
    "        bindf_slice = gdf[gdf.geoarea<area_bins[ii_a+1]]\n",
    "        bindf_mp = geometry.MultiPolygon([geom for geom in bindf_slice.unary_union.geoms])\n",
    "        cv_slice = cv_polys[cv_polys.geoarea<area_bins[ii_a+1]]\n",
    "        cv_mp = geometry.MultiPolygon([geom for geom in cv_slice.unary_union.geoms])\n",
    "        \n",
    "        intersection=bindf_mp.intersection(cv_mp)\n",
    "        union=bindf_mp.union(cv_mp)\n",
    "        \n",
    "\n",
    "        if not intersection.is_empty:\n",
    "            #print (intersection)\n",
    "        \n",
    "            if intersection.type=='Polygon':\n",
    "                \n",
    "                i_gdf = gpd.GeoDataFrame(geometry=[intersection], crs=crs)\n",
    "            else:\n",
    "                i_gdf = gpd.GeoDataFrame(geometry=list(intersection), crs=crs)\n",
    "\n",
    "            if union.type=='Polygon':\n",
    "                u_gdf = gpd.GeoDataFrame(geometry=list(union), crs=crs)\n",
    "            else:\n",
    "                u_gdf = gpd.GeoDataFrame(geometry=list(union), crs=crs)\n",
    "\n",
    "            i_gdf['geoarea'] = i_gdf.to_crs({'init': 'epsg:3857'}).area\n",
    "            u_gdf['geoarea'] = u_gdf.to_crs({'init': 'epsg:3857'}).area\n",
    "\n",
    "            iou_dict[kk][ii_a]['iou_neg'] = i_gdf['geoarea'].sum() / u_gdf['geoarea'].sum()\n",
    "            \n",
    "        else:\n",
    "            iou_dict[kk][ii_a]['iou_neg'] = 0\n",
    "        \n",
    "        \n",
    "        print (kk,area_bins[ii_a],iou_dict[kk][ii_a])"
   ]
  },
  {
   "cell_type": "code",
   "execution_count": 21,
   "metadata": {},
   "outputs": [],
   "source": [
    "pickle.dump(iou_dict, open('./iou_dict_gt10k.pickle','wb'))"
   ]
  },
  {
   "cell_type": "code",
   "execution_count": 22,
   "metadata": {},
   "outputs": [
    {
     "data": {
      "text/plain": [
       "{'S2-V1-Primary': {0: {'iou': 0.6601138239508704,\n",
       "   'iou_neg': 0.6563951137408393}},\n",
       " 'S2-V2-Secondary': {0: {'iou': 0.6620037659918535,\n",
       "   'iou_neg': 0.6582870498190418}},\n",
       " 'S2-V3-Deepstack': {0: {'iou': 0.6349789967074572,\n",
       "   'iou_neg': 0.6314677164262166}},\n",
       " 'S2-V4-Final': {0: {'iou': 0.6231999621351502,\n",
       "   'iou_neg': 0.6181659415927192}},\n",
       " 'SPOT-V1-Vectorised': {0: {'iou': 0.3695013576278666,\n",
       "   'iou_neg': 0.36967683216591196}},\n",
       " 'SPOT-V2-Filtered': {0: {'iou': 0.1565628288469313,\n",
       "   'iou_neg': 0.15876753036408528}},\n",
       " 'compiled_final': {0: {'iou': 0.6646446098512562,\n",
       "   'iou_neg': 0.660817667864235}}}"
      ]
     },
     "execution_count": 22,
     "metadata": {},
     "output_type": "execute_result"
    }
   ],
   "source": [
    "iou_dict"
   ]
  },
  {
   "cell_type": "markdown",
   "metadata": {},
   "source": [
    "### Plot Data"
   ]
  },
  {
   "cell_type": "code",
   "execution_count": 24,
   "metadata": {},
   "outputs": [],
   "source": [
    "res_dict = pickle.load(open('./res_dict_2020-04-07.pkl','rb'))# open('../../data/res_dict.pkl','rb'))\n",
    "iou_dict = pickle.load(open('./iou_dict_2020-04-07.pickle','rb'))# open('../../data/iou_dict.pickle','rb'))"
   ]
  },
  {
   "cell_type": "code",
   "execution_count": 25,
   "metadata": {},
   "outputs": [],
   "source": [
    "for key, vv in res_dict.items():\n",
    "    for ar,vv2 in vv.items():\n",
    "        vv2['iou'] = iou_dict[key][ar]['iou']\n",
    "        vv2['iou_neg'] = iou_dict[key][ar]['iou_neg']\n",
    "        #vv2['iou_pos'] = iou_dict[key][ar]['iou_pos']"
   ]
  },
  {
   "cell_type": "code",
   "execution_count": 26,
   "metadata": {},
   "outputs": [
    {
     "data": {
      "text/plain": [
       "{'S2-V1-Primary': {0: {'P': 0.11904761904761904,\n",
       "   'P_TP': 20,\n",
       "   'P_FP': 148,\n",
       "   'R': 0.054901960784313725,\n",
       "   'R_TP': 112,\n",
       "   'R_FN': 1928,\n",
       "   'iou': 0,\n",
       "   'iou_neg': 0},\n",
       "  1: {'P': 0.17391304347826086,\n",
       "   'P_TP': 44,\n",
       "   'P_FP': 209,\n",
       "   'R': 0.25051334702258726,\n",
       "   'R_TP': 488,\n",
       "   'R_FN': 1460,\n",
       "   'iou': 0,\n",
       "   'iou_neg': 0},\n",
       "  2: {'P': 0.3076923076923077,\n",
       "   'P_TP': 60,\n",
       "   'P_FP': 135,\n",
       "   'R': 0.34299516908212563,\n",
       "   'R_TP': 284,\n",
       "   'R_FN': 544,\n",
       "   'iou': 0.04842197089545483,\n",
       "   'iou_neg': 0.043142154608858625},\n",
       "  3: {'P': 0.740072202166065,\n",
       "   'P_TP': 205,\n",
       "   'P_FP': 72,\n",
       "   'R': 0.9115191986644408,\n",
       "   'R_TP': 546,\n",
       "   'R_FN': 53,\n",
       "   'iou': 0.2653663715828194,\n",
       "   'iou_neg': 0.26777552884348144},\n",
       "  4: {'P': 0.8857142857142857,\n",
       "   'P_TP': 155,\n",
       "   'P_FP': 20,\n",
       "   'R': 0.9814385150812065,\n",
       "   'R_TP': 423,\n",
       "   'R_FN': 8,\n",
       "   'iou': 0.3455823731445,\n",
       "   'iou_neg': 0.37640851232499656},\n",
       "  5: {'P': 0.9428571428571428,\n",
       "   'P_TP': 33,\n",
       "   'P_FP': 2,\n",
       "   'R': 1.0,\n",
       "   'R_TP': 51,\n",
       "   'R_FN': 0,\n",
       "   'iou': 0.3364447117616685,\n",
       "   'iou_neg': 0.6563951137408393}},\n",
       " 'S2-V2-Secondary': {0: {'P': 0.14285714285714285,\n",
       "   'P_TP': 18,\n",
       "   'P_FP': 108,\n",
       "   'R': 0.05392156862745098,\n",
       "   'R_TP': 110,\n",
       "   'R_FN': 1930,\n",
       "   'iou': 0,\n",
       "   'iou_neg': 0},\n",
       "  1: {'P': 0.20526315789473684,\n",
       "   'P_TP': 39,\n",
       "   'P_FP': 151,\n",
       "   'R': 0.2464065708418891,\n",
       "   'R_TP': 480,\n",
       "   'R_FN': 1468,\n",
       "   'iou': 0.00013033784295686285,\n",
       "   'iou_neg': 0.00020296686060219615},\n",
       "  2: {'P': 0.32065217391304346,\n",
       "   'P_TP': 59,\n",
       "   'P_FP': 125,\n",
       "   'R': 0.3393719806763285,\n",
       "   'R_TP': 281,\n",
       "   'R_FN': 547,\n",
       "   'iou': 0.04944479718399239,\n",
       "   'iou_neg': 0.04413879313336705},\n",
       "  3: {'P': 0.737410071942446,\n",
       "   'P_TP': 205,\n",
       "   'P_FP': 73,\n",
       "   'R': 0.9031719532554258,\n",
       "   'R_TP': 541,\n",
       "   'R_FN': 58,\n",
       "   'iou': 0.2646407461855996,\n",
       "   'iou_neg': 0.2671610611766822},\n",
       "  4: {'P': 0.884393063583815,\n",
       "   'P_TP': 153,\n",
       "   'P_FP': 20,\n",
       "   'R': 0.9814385150812065,\n",
       "   'R_TP': 423,\n",
       "   'R_FN': 8,\n",
       "   'iou': 0.3463247263440033,\n",
       "   'iou_neg': 0.3759812001682425},\n",
       "  5: {'P': 0.9428571428571428,\n",
       "   'P_TP': 33,\n",
       "   'P_FP': 2,\n",
       "   'R': 1.0,\n",
       "   'R_TP': 51,\n",
       "   'R_FN': 0,\n",
       "   'iou': 0.3380914159406726,\n",
       "   'iou_neg': 0.6582870498190418}},\n",
       " 'S2-V3-Deepstack': {0: {'P': 0.2631578947368421,\n",
       "   'P_TP': 10,\n",
       "   'P_FP': 28,\n",
       "   'R': 0.05392156862745098,\n",
       "   'R_TP': 110,\n",
       "   'R_FN': 1930,\n",
       "   'iou': 0,\n",
       "   'iou_neg': 0},\n",
       "  1: {'P': 0.375,\n",
       "   'P_TP': 15,\n",
       "   'P_FP': 25,\n",
       "   'R': 0.23049281314168377,\n",
       "   'R_TP': 449,\n",
       "   'R_FN': 1499,\n",
       "   'iou': 0.00014645965677867912,\n",
       "   'iou_neg': 0.00022717857947077066},\n",
       "  2: {'P': 0.4067796610169492,\n",
       "   'P_TP': 24,\n",
       "   'P_FP': 35,\n",
       "   'R': 0.2632850241545894,\n",
       "   'R_TP': 218,\n",
       "   'R_FN': 610,\n",
       "   'iou': 0.026523989020220066,\n",
       "   'iou_neg': 0.02244462009212811},\n",
       "  3: {'P': 0.7914691943127962,\n",
       "   'P_TP': 167,\n",
       "   'P_FP': 44,\n",
       "   'R': 0.8297161936560935,\n",
       "   'R_TP': 497,\n",
       "   'R_FN': 102,\n",
       "   'iou': 0.2538674717770279,\n",
       "   'iou_neg': 0.2520082874548917},\n",
       "  4: {'P': 0.896969696969697,\n",
       "   'P_TP': 148,\n",
       "   'P_FP': 17,\n",
       "   'R': 0.9419953596287703,\n",
       "   'R_TP': 406,\n",
       "   'R_FN': 25,\n",
       "   'iou': 0.3441889396946624,\n",
       "   'iou_neg': 0.3709815456159544},\n",
       "  5: {'P': 0.9393939393939394,\n",
       "   'P_TP': 31,\n",
       "   'P_FP': 2,\n",
       "   'R': 1.0,\n",
       "   'R_TP': 51,\n",
       "   'R_FN': 0,\n",
       "   'iou': 0.36418741350545997,\n",
       "   'iou_neg': 0.6314677164262166}},\n",
       " 'S2-V4-Final': {0: {'P': 0.75,\n",
       "   'P_TP': 3,\n",
       "   'P_FP': 1,\n",
       "   'R': 0.000980392156862745,\n",
       "   'R_TP': 2,\n",
       "   'R_FN': 2038,\n",
       "   'iou': 0,\n",
       "   'iou_neg': 0},\n",
       "  1: {'P': 0.8,\n",
       "   'P_TP': 4,\n",
       "   'P_FP': 1,\n",
       "   'R': 0.12833675564681724,\n",
       "   'R_TP': 250,\n",
       "   'R_FN': 1698,\n",
       "   'iou': 0,\n",
       "   'iou_neg': 0},\n",
       "  2: {'P': 1.0,\n",
       "   'P_TP': 8,\n",
       "   'P_FP': 0,\n",
       "   'R': 0.1497584541062802,\n",
       "   'R_TP': 124,\n",
       "   'R_FN': 704,\n",
       "   'iou': 0.010597805804867692,\n",
       "   'iou_neg': 0.008583808762841531},\n",
       "  3: {'P': 0.9173553719008265,\n",
       "   'P_TP': 111,\n",
       "   'P_FP': 10,\n",
       "   'R': 0.6978297161936561,\n",
       "   'R_TP': 418,\n",
       "   'R_FN': 181,\n",
       "   'iou': 0.21697762323230407,\n",
       "   'iou_neg': 0.20498000497792412},\n",
       "  4: {'P': 0.958041958041958,\n",
       "   'P_TP': 137,\n",
       "   'P_FP': 6,\n",
       "   'R': 0.888631090487239,\n",
       "   'R_TP': 383,\n",
       "   'R_FN': 48,\n",
       "   'iou': 0.32516100004230475,\n",
       "   'iou_neg': 0.3471773262280123},\n",
       "  5: {'P': 0.9642857142857143,\n",
       "   'P_TP': 27,\n",
       "   'P_FP': 1,\n",
       "   'R': 0.8823529411764706,\n",
       "   'R_TP': 45,\n",
       "   'R_FN': 6,\n",
       "   'iou': 0.34457205068514923,\n",
       "   'iou_neg': 0.6181659415927192}},\n",
       " 'SPOT-V1-Vectorised': {0: {'P': nan,\n",
       "   'P_TP': 0,\n",
       "   'P_FP': 0,\n",
       "   'R': 0.0392156862745098,\n",
       "   'R_TP': 80,\n",
       "   'R_FN': 1960,\n",
       "   'iou': 0,\n",
       "   'iou_neg': 0},\n",
       "  1: {'P': 0.38461538461538464,\n",
       "   'P_TP': 20,\n",
       "   'P_FP': 32,\n",
       "   'R': 0.17813141683778233,\n",
       "   'R_TP': 347,\n",
       "   'R_FN': 1601,\n",
       "   'iou': 0.0010722983157028575,\n",
       "   'iou_neg': 0.0009370837797956577},\n",
       "  2: {'P': 0.49015748031496065,\n",
       "   'P_TP': 249,\n",
       "   'P_FP': 259,\n",
       "   'R': 0.36835748792270534,\n",
       "   'R_TP': 305,\n",
       "   'R_FN': 523,\n",
       "   'iou': 0.08083197614917767,\n",
       "   'iou_neg': 0.07480765979712506},\n",
       "  3: {'P': 0.7549857549857549,\n",
       "   'P_TP': 265,\n",
       "   'P_FP': 86,\n",
       "   'R': 0.6477462437395659,\n",
       "   'R_TP': 388,\n",
       "   'R_FN': 211,\n",
       "   'iou': 0.2042919724027484,\n",
       "   'iou_neg': 0.2131743281807967},\n",
       "  4: {'P': 0.8819875776397516,\n",
       "   'P_TP': 142,\n",
       "   'P_FP': 19,\n",
       "   'R': 0.6890951276102089,\n",
       "   'R_TP': 297,\n",
       "   'R_FN': 134,\n",
       "   'iou': 0.2510751272995275,\n",
       "   'iou_neg': 0.28199077091666935},\n",
       "  5: {'P': 0.8260869565217391,\n",
       "   'P_TP': 19,\n",
       "   'P_FP': 4,\n",
       "   'R': 0.6078431372549019,\n",
       "   'R_TP': 31,\n",
       "   'R_FN': 20,\n",
       "   'iou': 0.15877729607232258,\n",
       "   'iou_neg': 0.36967683216591196}},\n",
       " 'SPOT-V2-Filtered': {0: {'P': nan,\n",
       "   'P_TP': 0,\n",
       "   'P_FP': 0,\n",
       "   'R': 0.012745098039215686,\n",
       "   'R_TP': 26,\n",
       "   'R_FN': 2014,\n",
       "   'iou': 0,\n",
       "   'iou_neg': 0},\n",
       "  1: {'P': 0.5625,\n",
       "   'P_TP': 9,\n",
       "   'P_FP': 7,\n",
       "   'R': 0.09034907597535935,\n",
       "   'R_TP': 176,\n",
       "   'R_FN': 1772,\n",
       "   'iou': 0,\n",
       "   'iou_neg': 0},\n",
       "  2: {'P': 0.7653061224489796,\n",
       "   'P_TP': 150,\n",
       "   'P_FP': 46,\n",
       "   'R': 0.2560386473429952,\n",
       "   'R_TP': 212,\n",
       "   'R_FN': 616,\n",
       "   'iou': 0.09073842919416483,\n",
       "   'iou_neg': 0.08075309067133665},\n",
       "  3: {'P': 0.8740740740740741,\n",
       "   'P_TP': 118,\n",
       "   'P_FP': 17,\n",
       "   'R': 0.2988313856427379,\n",
       "   'R_TP': 179,\n",
       "   'R_FN': 420,\n",
       "   'iou': 0.1293949334832582,\n",
       "   'iou_neg': 0.14323632123539198},\n",
       "  4: {'P': 0.9148936170212766,\n",
       "   'P_TP': 43,\n",
       "   'P_FP': 4,\n",
       "   'R': 0.2900232018561485,\n",
       "   'R_TP': 125,\n",
       "   'R_FN': 306,\n",
       "   'iou': 0.16189535565364738,\n",
       "   'iou_neg': 0.17775850237654597},\n",
       "  5: {'P': 0.75,\n",
       "   'P_TP': 3,\n",
       "   'P_FP': 1,\n",
       "   'R': 0.1568627450980392,\n",
       "   'R_TP': 8,\n",
       "   'R_FN': 43,\n",
       "   'iou': 0.1182578450426753,\n",
       "   'iou_neg': 0.15876753036408528}},\n",
       " 'compiled_final': {0: {'P': nan,\n",
       "   'P_TP': 0,\n",
       "   'P_FP': 0,\n",
       "   'R': 0.012745098039215686,\n",
       "   'R_TP': 26,\n",
       "   'R_FN': 2014,\n",
       "   'iou': 0,\n",
       "   'iou_neg': 0},\n",
       "  1: {'P': 1.0,\n",
       "   'P_TP': 7,\n",
       "   'P_FP': 0,\n",
       "   'R': 0.18326488706365504,\n",
       "   'R_TP': 357,\n",
       "   'R_FN': 1591,\n",
       "   'iou': 0,\n",
       "   'iou_neg': 0},\n",
       "  2: {'P': 0.9,\n",
       "   'P_TP': 90,\n",
       "   'P_FP': 10,\n",
       "   'R': 0.2536231884057971,\n",
       "   'R_TP': 210,\n",
       "   'R_FN': 618,\n",
       "   'iou': 0.06168309019793704,\n",
       "   'iou_neg': 0.0522162120187528},\n",
       "  3: {'P': 0.9354838709677419,\n",
       "   'P_TP': 232,\n",
       "   'P_FP': 16,\n",
       "   'R': 0.7145242070116862,\n",
       "   'R_TP': 428,\n",
       "   'R_FN': 171,\n",
       "   'iou': 0.3176283773378882,\n",
       "   'iou_neg': 0.30994891667902785},\n",
       "  4: {'P': 0.9344262295081968,\n",
       "   'P_TP': 171,\n",
       "   'P_FP': 12,\n",
       "   'R': 0.8190255220417634,\n",
       "   'R_TP': 353,\n",
       "   'R_FN': 78,\n",
       "   'iou': 0.4741007342689167,\n",
       "   'iou_neg': 0.49937915277741773},\n",
       "  5: {'P': 0.9629629629629629,\n",
       "   'P_TP': 26,\n",
       "   'P_FP': 1,\n",
       "   'R': 0.8823529411764706,\n",
       "   'R_TP': 45,\n",
       "   'R_FN': 6,\n",
       "   'iou': 0.5187973369269772,\n",
       "   'iou_neg': 0.660817667864235}}}"
      ]
     },
     "execution_count": 26,
     "metadata": {},
     "output_type": "execute_result"
    }
   ],
   "source": [
    "res_dict"
   ]
  },
  {
   "cell_type": "code",
   "execution_count": 27,
   "metadata": {},
   "outputs": [
    {
     "data": {
      "text/plain": [
       "{'S2-V1-Primary': {0: {'iou': 0, 'iou_neg': 0},\n",
       "  1: {'iou': 0, 'iou_neg': 0},\n",
       "  2: {'iou': 0.04842197089545483, 'iou_neg': 0.043142154608858625},\n",
       "  3: {'iou': 0.2653663715828194, 'iou_neg': 0.26777552884348144},\n",
       "  4: {'iou': 0.3455823731445, 'iou_neg': 0.37640851232499656},\n",
       "  5: {'iou': 0.3364447117616685, 'iou_neg': 0.6563951137408393}},\n",
       " 'S2-V2-Secondary': {0: {'iou': 0, 'iou_neg': 0},\n",
       "  1: {'iou': 0.00013033784295686285, 'iou_neg': 0.00020296686060219615},\n",
       "  2: {'iou': 0.04944479718399239, 'iou_neg': 0.04413879313336705},\n",
       "  3: {'iou': 0.2646407461855996, 'iou_neg': 0.2671610611766822},\n",
       "  4: {'iou': 0.3463247263440033, 'iou_neg': 0.3759812001682425},\n",
       "  5: {'iou': 0.3380914159406726, 'iou_neg': 0.6582870498190418}},\n",
       " 'S2-V3-Deepstack': {0: {'iou': 0, 'iou_neg': 0},\n",
       "  1: {'iou': 0.00014645965677867912, 'iou_neg': 0.00022717857947077066},\n",
       "  2: {'iou': 0.026523989020220066, 'iou_neg': 0.02244462009212811},\n",
       "  3: {'iou': 0.2538674717770279, 'iou_neg': 0.2520082874548917},\n",
       "  4: {'iou': 0.3441889396946624, 'iou_neg': 0.3709815456159544},\n",
       "  5: {'iou': 0.36418741350545997, 'iou_neg': 0.6314677164262166}},\n",
       " 'S2-V4-Final': {0: {'iou': 0, 'iou_neg': 0},\n",
       "  1: {'iou': 0, 'iou_neg': 0},\n",
       "  2: {'iou': 0.010597805804867692, 'iou_neg': 0.008583808762841531},\n",
       "  3: {'iou': 0.21697762323230407, 'iou_neg': 0.20498000497792412},\n",
       "  4: {'iou': 0.32516100004230475, 'iou_neg': 0.3471773262280123},\n",
       "  5: {'iou': 0.34457205068514923, 'iou_neg': 0.6181659415927192}},\n",
       " 'SPOT-V1-Vectorised': {0: {'iou': 0, 'iou_neg': 0},\n",
       "  1: {'iou': 0.0010722983157028575, 'iou_neg': 0.0009370837797956577},\n",
       "  2: {'iou': 0.08083197614917767, 'iou_neg': 0.07480765979712506},\n",
       "  3: {'iou': 0.2042919724027484, 'iou_neg': 0.2131743281807967},\n",
       "  4: {'iou': 0.2510751272995275, 'iou_neg': 0.28199077091666935},\n",
       "  5: {'iou': 0.15877729607232258, 'iou_neg': 0.36967683216591196}},\n",
       " 'SPOT-V2-Filtered': {0: {'iou': 0, 'iou_neg': 0},\n",
       "  1: {'iou': 0, 'iou_neg': 0},\n",
       "  2: {'iou': 0.09073842919416483, 'iou_neg': 0.08075309067133665},\n",
       "  3: {'iou': 0.1293949334832582, 'iou_neg': 0.14323632123539198},\n",
       "  4: {'iou': 0.16189535565364738, 'iou_neg': 0.17775850237654597},\n",
       "  5: {'iou': 0.1182578450426753, 'iou_neg': 0.15876753036408528}},\n",
       " 'compiled_final': {0: {'iou': 0, 'iou_neg': 0},\n",
       "  1: {'iou': 0, 'iou_neg': 0},\n",
       "  2: {'iou': 0.06168309019793704, 'iou_neg': 0.0522162120187528},\n",
       "  3: {'iou': 0.3176283773378882, 'iou_neg': 0.30994891667902785},\n",
       "  4: {'iou': 0.4741007342689167, 'iou_neg': 0.49937915277741773},\n",
       "  5: {'iou': 0.5187973369269772, 'iou_neg': 0.660817667864235}}}"
      ]
     },
     "execution_count": 27,
     "metadata": {},
     "output_type": "execute_result"
    }
   ],
   "source": [
    "iou_dict"
   ]
  },
  {
   "cell_type": "code",
   "execution_count": 28,
   "metadata": {},
   "outputs": [],
   "source": [
    "from matplotlib.collections import LineCollection"
   ]
  },
  {
   "cell_type": "code",
   "execution_count": 29,
   "metadata": {},
   "outputs": [],
   "source": [
    "title_dict = {'P':'Precision','R':'Recall','iou_neg':'Intersection-over-Union'}"
   ]
  },
  {
   "cell_type": "code",
   "execution_count": 30,
   "metadata": {},
   "outputs": [],
   "source": [
    "plt.style.use('ggplot')"
   ]
  },
  {
   "cell_type": "code",
   "execution_count": 31,
   "metadata": {},
   "outputs": [],
   "source": [
    "def hex2rgb(h):\n",
    "    h = h.lstrip('#')\n",
    "    return [int(h[i:i+2], 16) for i in (0, 2, 4)]"
   ]
  },
  {
   "cell_type": "code",
   "execution_count": 32,
   "metadata": {},
   "outputs": [],
   "source": [
    "gg_colors = [tuple(ih/255 for ih in hex2rgb(ii['color'])) for ii in list(plt.rcParams['axes.prop_cycle'])[0:3]]"
   ]
  },
  {
   "cell_type": "code",
   "execution_count": 33,
   "metadata": {},
   "outputs": [
    {
     "data": {
      "text/plain": [
       "[(0.8862745098039215, 0.2901960784313726, 0.2),\n",
       " (0.20392156862745098, 0.5411764705882353, 0.7411764705882353),\n",
       " (0.596078431372549, 0.5568627450980392, 0.8352941176470589)]"
      ]
     },
     "execution_count": 33,
     "metadata": {},
     "output_type": "execute_result"
    }
   ],
   "source": [
    "gg_colors"
   ]
  },
  {
   "cell_type": "code",
   "execution_count": 36,
   "metadata": {},
   "outputs": [
    {
     "data": {
      "image/png": "[encoded data removed]",
      "text/plain": [
       "<Figure size 2880x1440 with 18 Axes>"
      ]
     },
     "metadata": {},
     "output_type": "display_data"
    }
   ],
   "source": [
    "fig, axs = plt.subplots(len(area_bins)-1,3,figsize=(40,20),sharey=True, sharex=True)\n",
    "# plot P\n",
    "for ii_a in range(len(area_bins)-1):\n",
    "    \n",
    "    for ii_ax, M in enumerate(['P','R','iou_neg']):\n",
    "        full_bars= [res_dict[kk][ii_a][M] for kk in gdfs.keys()] \n",
    "\n",
    "        bars = [full_bars[0]] + \\\n",
    "            [(full_bars[ii] - full_bars[ii-1]) for ii in range(1,4)] + \\\n",
    "            [full_bars[4], full_bars[5]-full_bars[4]] +\\\n",
    "            [full_bars[6]]\n",
    "        bottoms = [0]+\\\n",
    "                    [full_bars[ii-1] for ii in range(1,4)] +\\\n",
    "                    [0,full_bars[4],0]\n",
    "        \n",
    "        lines_y = [el for el in full_bars for _ in (0,1)]\n",
    "        lines_x = [0] + [el for el in range(1,6) for _ in (0,1)] + [6]\n",
    "        segs = [[[lines_x[ii], lines_y[ii]],[lines_x[ii+1],lines_y[ii+1]]] for ii in range(0,12,2)]\n",
    "        \n",
    "        segs[3][1][0]=3.5\n",
    "        segs[5][1][0]=5.5\n",
    "        segs.append([segs[3][1],[segs[3][1][0],full_bars[6]]])\n",
    "        segs.append([[segs[3][1][0],full_bars[6]],[6,full_bars[6]]])\n",
    "        segs.append([segs[5][1],[segs[5][1][0],full_bars[6]]])\n",
    "        \n",
    "        \n",
    "        line_segments = LineCollection(segs, colors=[gg_colors[0]]*4 + [gg_colors[1]]*2 + [gg_colors[2]]*3, alpha=0.5)\n",
    "        axs[ii_a,ii_ax].add_collection(line_segments)\n",
    "\n",
    "        colors = [gg_colors[0]]*4 + [gg_colors[1]]*2 + [gg_colors[2]]\n",
    "\n",
    "\n",
    "        axs[ii_a,ii_ax].bar(range(len(gdfs.keys())),bars, bottom=bottoms, edgecolor=colors, linewidth=2,color=colors)\n",
    "        \n",
    "        for ii in range(7):\n",
    "            H=0.05\n",
    "            if ((M=='R' and ii_a==0) or (M=='iou_neg' and ii_a)):\n",
    "                H=.1\n",
    "                \n",
    "            axs[ii_a,ii_ax].text(ii,H,f'{full_bars[ii]:.0%}', horizontalalignment='center')\n",
    "\n",
    "        \n",
    "        axs[ii_a,ii_ax].set_xticklabels(['','S1-V1','S1-V2','S1-V3','S1-V4','SPOT-V1','SPOT-V2','Final'])\n",
    "        \n",
    "        if ii_a==0:\n",
    "            axs[ii_a,ii_ax].set_title(title_dict[M],fontsize=24)\n",
    "            axs[ii_a,ii_ax].set_ylim([0,1])\n",
    "        \n",
    "    axs[ii_a,0].set_ylabel(f'{area_bins[ii_a]:,.0f} to {area_bins[ii_a+1]:,.0f} m$^2$')\n",
    "    \n",
    "fig.savefig('../analysis/P-R-iou.png')"
   ]
  },
  {
   "cell_type": "code",
   "execution_count": null,
   "metadata": {},
   "outputs": [],
   "source": []
  },
  {
   "cell_type": "markdown",
   "metadata": {},
   "source": [
    "### Single measure 10k+"
   ]
  },
  {
   "cell_type": "code",
   "execution_count": 42,
   "metadata": {},
   "outputs": [],
   "source": [
    "res_dict = pickle.load(open('./res_dict_gt10k.pickle','rb'))# open('../../data/res_dict.pkl','rb'))\n",
    "iou_dict = pickle.load(open('./iou_dict_gt10k.pickle','rb'))# open('../../data/iou_dict.pickle','rb'))"
   ]
  },
  {
   "cell_type": "code",
   "execution_count": 43,
   "metadata": {},
   "outputs": [],
   "source": [
    "for key, vv in res_dict.items():\n",
    "    for ar,vv2 in vv.items():\n",
    "        vv2['iou'] = iou_dict[key][ar]['iou']\n",
    "        vv2['iou_neg'] = iou_dict[key][ar]['iou_neg']\n",
    "        #vv2['iou_pos'] = iou_dict[key][ar]['iou_pos']"
   ]
  },
  {
   "cell_type": "code",
   "execution_count": 44,
   "metadata": {},
   "outputs": [
    {
     "data": {
      "text/plain": [
       "{'S2-V1-Primary': {0: {'P': 0.8069815195071869,\n",
       "   'P_TP': 393,\n",
       "   'P_FP': 94,\n",
       "   'R': 0.9435707678075855,\n",
       "   'R_TP': 1020,\n",
       "   'R_FN': 61,\n",
       "   'iou': 0.6601138239508704,\n",
       "   'iou_neg': 0.6563951137408393}},\n",
       " 'S2-V2-Secondary': {0: {'P': 0.8045267489711934,\n",
       "   'P_TP': 391,\n",
       "   'P_FP': 95,\n",
       "   'R': 0.938945420906568,\n",
       "   'R_TP': 1015,\n",
       "   'R_FN': 66,\n",
       "   'iou': 0.6620037659918535,\n",
       "   'iou_neg': 0.6582870498190418}},\n",
       " 'S2-V3-Deepstack': {0: {'P': 0.8459657701711492,\n",
       "   'P_TP': 346,\n",
       "   'P_FP': 63,\n",
       "   'R': 0.8825161887141536,\n",
       "   'R_TP': 954,\n",
       "   'R_FN': 127,\n",
       "   'iou': 0.6349789967074572,\n",
       "   'iou_neg': 0.6314677164262166}},\n",
       " 'S2-V4-Final': {0: {'P': 0.9417808219178082,\n",
       "   'P_TP': 275,\n",
       "   'P_FP': 17,\n",
       "   'R': 0.782608695652174,\n",
       "   'R_TP': 846,\n",
       "   'R_FN': 235,\n",
       "   'iou': 0.6231999621351502,\n",
       "   'iou_neg': 0.6181659415927192}},\n",
       " 'SPOT-V1-Vectorised': {0: {'P': 0.7962616822429907,\n",
       "   'P_TP': 426,\n",
       "   'P_FP': 109,\n",
       "   'R': 0.6623496762257169,\n",
       "   'R_TP': 716,\n",
       "   'R_FN': 365,\n",
       "   'iou': 0.3695013576278666,\n",
       "   'iou_neg': 0.36967683216591196}},\n",
       " 'SPOT-V2-Filtered': {0: {'P': 0.8817204301075269,\n",
       "   'P_TP': 164,\n",
       "   'P_FP': 22,\n",
       "   'R': 0.28862164662349676,\n",
       "   'R_TP': 312,\n",
       "   'R_FN': 769,\n",
       "   'iou': 0.1565628288469313,\n",
       "   'iou_neg': 0.15876753036408528}},\n",
       " 'compiled_final': {0: {'P': 0.9366812227074236,\n",
       "   'P_TP': 429,\n",
       "   'P_FP': 29,\n",
       "   'R': 0.7641073080481036,\n",
       "   'R_TP': 826,\n",
       "   'R_FN': 255,\n",
       "   'iou': 0.6646446098512562,\n",
       "   'iou_neg': 0.660817667864235}}}"
      ]
     },
     "execution_count": 44,
     "metadata": {},
     "output_type": "execute_result"
    }
   ],
   "source": [
    "res_dict"
   ]
  },
  {
   "cell_type": "code",
   "execution_count": 45,
   "metadata": {},
   "outputs": [
    {
     "data": {
      "text/plain": [
       "{'S2-V1-Primary': {0: {'iou': 0.6601138239508704,\n",
       "   'iou_neg': 0.6563951137408393}},\n",
       " 'S2-V2-Secondary': {0: {'iou': 0.6620037659918535,\n",
       "   'iou_neg': 0.6582870498190418}},\n",
       " 'S2-V3-Deepstack': {0: {'iou': 0.6349789967074572,\n",
       "   'iou_neg': 0.6314677164262166}},\n",
       " 'S2-V4-Final': {0: {'iou': 0.6231999621351502,\n",
       "   'iou_neg': 0.6181659415927192}},\n",
       " 'SPOT-V1-Vectorised': {0: {'iou': 0.3695013576278666,\n",
       "   'iou_neg': 0.36967683216591196}},\n",
       " 'SPOT-V2-Filtered': {0: {'iou': 0.1565628288469313,\n",
       "   'iou_neg': 0.15876753036408528}},\n",
       " 'compiled_final': {0: {'iou': 0.6646446098512562,\n",
       "   'iou_neg': 0.660817667864235}}}"
      ]
     },
     "execution_count": 45,
     "metadata": {},
     "output_type": "execute_result"
    }
   ],
   "source": [
    "iou_dict"
   ]
  },
  {
   "cell_type": "code",
   "execution_count": 62,
   "metadata": {},
   "outputs": [],
   "source": [
    "from matplotlib.collections import LineCollection\n",
    "import matplotlib.ticker as mtick"
   ]
  },
  {
   "cell_type": "code",
   "execution_count": 47,
   "metadata": {},
   "outputs": [],
   "source": [
    "title_dict = {'P':'Precision','R':'Recall','iou_neg':'Intersection-over-Union'}"
   ]
  },
  {
   "cell_type": "code",
   "execution_count": 48,
   "metadata": {},
   "outputs": [],
   "source": [
    "plt.style.use('ggplot')"
   ]
  },
  {
   "cell_type": "code",
   "execution_count": 49,
   "metadata": {},
   "outputs": [],
   "source": [
    "def hex2rgb(h):\n",
    "    h = h.lstrip('#')\n",
    "    return [int(h[i:i+2], 16) for i in (0, 2, 4)]"
   ]
  },
  {
   "cell_type": "code",
   "execution_count": 50,
   "metadata": {},
   "outputs": [],
   "source": [
    "gg_colors = [tuple(ih/255 for ih in hex2rgb(ii['color'])) for ii in list(plt.rcParams['axes.prop_cycle'])[0:3]]"
   ]
  },
  {
   "cell_type": "code",
   "execution_count": 51,
   "metadata": {},
   "outputs": [
    {
     "data": {
      "text/plain": [
       "[(0.8862745098039215, 0.2901960784313726, 0.2),\n",
       " (0.20392156862745098, 0.5411764705882353, 0.7411764705882353),\n",
       " (0.596078431372549, 0.5568627450980392, 0.8352941176470589)]"
      ]
     },
     "execution_count": 51,
     "metadata": {},
     "output_type": "execute_result"
    }
   ],
   "source": [
    "gg_colors"
   ]
  },
  {
   "cell_type": "code",
   "execution_count": 65,
   "metadata": {},
   "outputs": [
    {
     "data": {
      "image/png": "[encoded data removed]",
      "text/plain": [
       "<Figure size 1296x288 with 3 Axes>"
      ]
     },
     "metadata": {},
     "output_type": "display_data"
    }
   ],
   "source": [
    "fig, axs = plt.subplots(len(area_bins)-1,3,figsize=(18,4),sharey=True, sharex=True)\n",
    "axs = axs.reshape((1,-1))\n",
    "# plot P\n",
    "for ii_a in range(len(area_bins)-1):\n",
    "    \n",
    "    for ii_ax, M in enumerate(['P','R','iou_neg']):\n",
    "        full_bars= [res_dict[kk][ii_a][M] for kk in gdfs.keys()] \n",
    "\n",
    "        bars = [full_bars[0]] + \\\n",
    "            [(full_bars[ii] - full_bars[ii-1]) for ii in range(1,4)] + \\\n",
    "            [full_bars[4], full_bars[5]-full_bars[4]] +\\\n",
    "            [full_bars[6]]\n",
    "        bottoms = [0]+\\\n",
    "                    [full_bars[ii-1] for ii in range(1,4)] +\\\n",
    "                    [0,full_bars[4],0]\n",
    "        \n",
    "        lines_y = [el for el in full_bars for _ in (0,1)]\n",
    "        lines_x = [0] + [el for el in range(1,6) for _ in (0,1)] + [6]\n",
    "        segs = [[[lines_x[ii], lines_y[ii]],[lines_x[ii+1],lines_y[ii+1]]] for ii in range(0,12,2)]\n",
    "        \n",
    "        segs[3][1][0]=3.5\n",
    "        segs[5][1][0]=5.5\n",
    "        segs.append([segs[3][1],[segs[3][1][0],full_bars[6]]])\n",
    "        segs.append([[segs[3][1][0],full_bars[6]],[6,full_bars[6]]])\n",
    "        segs.append([segs[5][1],[segs[5][1][0],full_bars[6]]])\n",
    "        \n",
    "        \n",
    "        line_segments = LineCollection(segs, colors=[gg_colors[0]]*4 + [gg_colors[1]]*2 + [gg_colors[2]]*3, alpha=0.5)\n",
    "        axs[ii_a,ii_ax].add_collection(line_segments)\n",
    "\n",
    "        colors = [gg_colors[0]]*4 + [gg_colors[1]]*2 + [gg_colors[2]]\n",
    "\n",
    "\n",
    "        axs[ii_a,ii_ax].bar(range(len(gdfs.keys())),bars, bottom=bottoms, edgecolor=colors, linewidth=2,color=colors)\n",
    "        \n",
    "        for ii in range(7):\n",
    "            H=0.05\n",
    "            if ((M=='R' and ii_a==0) or (M=='iou_neg' and ii_a)):\n",
    "                H=.1\n",
    "                \n",
    "            axs[ii_a,ii_ax].text(ii,H,f'{full_bars[ii]:.0%}', horizontalalignment='center')\n",
    "\n",
    "        \n",
    "        axs[ii_a,ii_ax].set_xticklabels(['','S1-V1','S1-V2','S1-V3','S1-V4','SPOT-V1','SPOT-V2','Final'])\n",
    "        \n",
    "        if ii_a==0:\n",
    "            axs[ii_a,ii_ax].set_title(title_dict[M],fontsize=24)\n",
    "            axs[ii_a,ii_ax].set_ylim([0,1])\n",
    "            \n",
    "\n",
    "\n",
    "    axs[ii_a,0].yaxis.set_major_formatter(mtick.PercentFormatter(1))\n",
    "        \n",
    "    #axs[ii_a,0].set_ylabel(f'Installation area > 10,000m$^2$')\n",
    "    \n",
    "fig.savefig('../analysis/P-R-iou_single.png')"
   ]
  },
  {
   "cell_type": "code",
   "execution_count": null,
   "metadata": {},
   "outputs": [],
   "source": []
  }
 ],
 "metadata": {
  "kernelspec": {
   "display_name": "Python 3",
   "language": "python",
   "name": "python3"
  },
  "language_info": {
   "codemirror_mode": {
    "name": "ipython",
    "version": 3
   },
   "file_extension": ".py",
   "mimetype": "text/x-python",
   "name": "python",
   "nbconvert_exporter": "python",
   "pygments_lexer": "ipython3",
   "version": "3.7.6"
  }
 },
 "nbformat": 4,
 "nbformat_minor": 4
}
