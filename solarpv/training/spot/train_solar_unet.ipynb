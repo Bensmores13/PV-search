{
 "cells": [
  {
   "cell_type": "markdown",
   "metadata": {},
   "source": [
    "# Train solar models"
   ]
  },
  {
   "cell_type": "code",
   "execution_count": null,
   "metadata": {},
   "outputs": [],
   "source": [
    "# import packages\n",
    "import json\n",
    "import logging\n",
    "import matplotlib.pyplot as plt\n",
    "import matplotlib.image as mpimg\n",
    "%matplotlib inline\n",
    "import imp\n",
    "import numpy as np\n",
    "import os\n",
    "import random\n",
    "import rasterio\n",
    "import shapely\n",
    "import tensorflow as tf\n",
    "\n",
    "import descarteslabs as dl"
   ]
  },
  {
   "cell_type": "code",
   "execution_count": null,
   "metadata": {},
   "outputs": [],
   "source": [
    "# Import local modules\n",
    "import train\n",
    "import generator\n",
    "import transforms"
   ]
  },
  {
   "cell_type": "code",
   "execution_count": null,
   "metadata": {},
   "outputs": [],
   "source": [
    "# Define parameters\n",
    "# Note, setting epochs, steps to 2 for demonstration\n",
    "\n",
    "# For full training, use:\n",
    "# params = train.params\n",
    "\n",
    "# For testing, define the parameters here\n",
    "params = {\n",
    "    'seed': 21,  # for train/val data split                                                                                                                                                                                \n",
    "\n",
    "    # Training data specifications                                                                                                                                                                                         \n",
    "    # DATASET METADATA #                                                                                                                                                                                                   \n",
    "    'data_metadata': {\n",
    "        'products': ['airbus:oneatlas:spot:v2'],\n",
    "        'bands': ['red', 'green', 'blue', 'nir'],\n",
    "        'resolution': 1.5,\n",
    "        'start_datetime': '2016-01-01',\n",
    "        'end_datetime': '2018-12-31',\n",
    "        'tilesize': 512,\n",
    "        'pad': 0,\n",
    "    },\n",
    "\n",
    "    # GLOBAL METADATA #                                                                                                                                                                                                    \n",
    "    'global_metadata': {\n",
    "        'local_ground': 'ground/', # directory containing image-target pairs                                                                                                                                               \n",
    "        'local_model': 'model/', # directory to write this model                                                                                                                                                               \n",
    "    },\n",
    "\n",
    "    # MODEL METADATA                                                                                                                                                                                                       \n",
    "    'model_name': 'solar_pv_airbus_spot_rgbn_v5',\n",
    "\n",
    "    # TRAINING METADATA #                                                                                                                                                                                                  \n",
    "    # Metadata to define the training stage                                                                                                                                                                                \n",
    "    'training_kwargs': {\n",
    "        'datalist': 'train_keys.txt',\n",
    "        'batchsize': 16,\n",
    "        'val_datalist': 'val_keys.txt',\n",
    "        'val_batchsize': 16,\n",
    "        'epochs': 1, #150,\n",
    "        'steps_per_epoch': 2,\n",
    "        'image_dim': (512, 512, 4) # This is the size of the training images                                                                                                                                               \n",
    "    },\n",
    "    'transforms': [\n",
    "        transforms.CastTransform(feature_type='float32', target_type='bool'),\n",
    "        transforms.SquareImageTransform(),\n",
    "        transforms.AdditiveNoiseTransform(additive_noise=30.),\n",
    "        transforms.MultiplicativeNoiseTransform(multiplicative_noise=0.3),\n",
    "        transforms.NormalizeFeatureTransform(mean=128., std=1.),\n",
    "        transforms.FlipFeatureTargetTransform(),\n",
    "    ],\n",
    "}\n"
   ]
  },
  {
   "cell_type": "code",
   "execution_count": null,
   "metadata": {},
   "outputs": [],
   "source": [
    "print(params['training_kwargs'])"
   ]
  },
  {
   "cell_type": "code",
   "execution_count": null,
   "metadata": {},
   "outputs": [],
   "source": [
    "# Train the model\n",
    "train.train_from_document(params=params)"
   ]
  },
  {
   "cell_type": "code",
   "execution_count": null,
   "metadata": {},
   "outputs": [],
   "source": [
    "!cat 'model/train_solar_pv_airbus_spot_rgbn_v5.log'"
   ]
  },
  {
   "cell_type": "markdown",
   "metadata": {},
   "source": [
    "## Load the model and predict on one training image"
   ]
  },
  {
   "cell_type": "code",
   "execution_count": null,
   "metadata": {},
   "outputs": [],
   "source": [
    "model = tf.keras.models.load_model('model/solar_pv_airbus_spot_rgbn_v5.hdf5')"
   ]
  },
  {
   "cell_type": "code",
   "execution_count": null,
   "metadata": {},
   "outputs": [],
   "source": [
    "trf = [\n",
    "    transforms.CastTransform(feature_type='float32', target_type='bool'),\n",
    "    transforms.SquareImageTransform(),\n",
    "    transforms.NormalizeFeatureTransform(mean=128., std=1.),\n",
    "]"
   ]
  },
  {
   "cell_type": "code",
   "execution_count": null,
   "metadata": {},
   "outputs": [],
   "source": [
    "kw_train = params['training_kwargs']\n",
    "data_list = os.path.join(params['global_metadata']['local_ground'], kw_train['datalist'])\n",
    "\n",
    "trn_generator = generator.DataGenerator(data_list, batch_size=2, dim=(512,512, 4),\n",
    "                              shuffle=False, augment=True,\n",
    "                              transforms=trf,\n",
    "                             )"
   ]
  },
  {
   "cell_type": "code",
   "execution_count": null,
   "metadata": {},
   "outputs": [],
   "source": [
    "img, trg = trn_generator.__getitem__(0)"
   ]
  },
  {
   "cell_type": "code",
   "execution_count": null,
   "metadata": {},
   "outputs": [],
   "source": [
    "def img_plt(img):\n",
    "    return np.clip((img+128).astype('uint8'), 0, 255)\n",
    "\n",
    "ii=0\n",
    "fig, ax = plt.subplots(1,2, figsize=(10,8))\n",
    "ax[0].imshow(img_plt(img[ii,:,:,:3]))\n",
    "ax[1].imshow(img_plt(trg[ii,:,:,:].squeeze()))"
   ]
  },
  {
   "cell_type": "code",
   "execution_count": null,
   "metadata": {},
   "outputs": [],
   "source": [
    "proba = model.predict(img)"
   ]
  },
  {
   "cell_type": "code",
   "execution_count": null,
   "metadata": {},
   "outputs": [],
   "source": [
    "proba.shape"
   ]
  },
  {
   "cell_type": "code",
   "execution_count": null,
   "metadata": {},
   "outputs": [],
   "source": [
    "plt.imshow(proba[0,...,0].squeeze())"
   ]
  },
  {
   "cell_type": "code",
   "execution_count": null,
   "metadata": {},
   "outputs": [],
   "source": []
  }
 ],
 "metadata": {
  "kernelspec": {
   "display_name": "Python 3",
   "language": "python",
   "name": "python3"
  },
  "language_info": {
   "codemirror_mode": {
    "name": "ipython",
    "version": 3
   },
   "file_extension": ".py",
   "mimetype": "text/x-python",
   "name": "python",
   "nbconvert_exporter": "python",
   "pygments_lexer": "ipython3",
   "version": "3.6.7"
  }
 },
 "nbformat": 4,
 "nbformat_minor": 4
}
